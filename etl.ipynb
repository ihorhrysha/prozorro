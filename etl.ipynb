{
 "cells": [
  {
   "cell_type": "code",
   "execution_count": 1,
   "metadata": {},
   "outputs": [],
   "source": [
    "import requests \n",
    "import pandas as pd \n",
    "from datetime import date \n",
    "import seaborn as sns\n",
    "import matplotlib.pyplot as plt\n",
    "from datetime import datetime\n",
    "\n",
    "import os\n",
    "import numpy as np\n",
    "\n",
    "import pymongo\n",
    "from pymongo import MongoClient\n",
    "from IPython.display import clear_output \n",
    "\n",
    "from utils.misc import subcollection_to_df, read_mongo\n",
    "\n",
    "%matplotlib inline"
   ]
  },
  {
   "cell_type": "code",
   "execution_count": 2,
   "metadata": {},
   "outputs": [],
   "source": [
    "client = MongoClient()\n",
    "db = client['prozorro']\n",
    "collection='etenders'\n",
    "\n",
    "\n",
    "df = read_mongo(db, collection='etenders')\n"
   ]
  },
  {
   "cell_type": "code",
   "execution_count": 3,
   "metadata": {},
   "outputs": [],
   "source": [
    "# change dtypes\n",
    "df.id = df.id.astype('string')\n",
    "df.date = pd.to_datetime(df.date, utc=True)\n",
    "df.dateModified = pd.to_datetime(df.dateModified, utc=True)\n",
    "df.tenderID = df.tenderID.astype('string')\n",
    "df.owner = df.owner.astype('category')\n",
    "df.procurementMethod = df.procurementMethod.astype('category')\n",
    "df.submissionMethod = df.submissionMethod.astype('category')\n",
    "df.numberOfBids = df.numberOfBids.fillna(0).astype(int)\n",
    "df.status = df.status.astype('category')\n",
    "df.procurementMethodType = df.procurementMethodType.astype('category')\n",
    "df.mainProcurementCategory = df.mainProcurementCategory.astype('category')\n",
    "\n",
    "df=df[~df.value.isna()].reindex()"
   ]
  },
  {
   "cell_type": "code",
   "execution_count": 4,
   "metadata": {},
   "outputs": [],
   "source": [
    "df['procuringEntity_name'] = df.procuringEntity.apply(lambda value: value['name']).astype(\"string\")\n",
    "df['procuringEntity_kind'] = df.procuringEntity.apply(lambda value: value['name']).astype(\"category\")\n",
    "df['procuringEntity_identifier'] = df.procuringEntity.apply(lambda value: value['identifier'])\n",
    "df['procuringEntity_identifier_id'] = df['procuringEntity_identifier'].apply(lambda value: value['id']).astype(\"string\")\n",
    "df['procuringEntity_identifier_scheme'] = df['procuringEntity_identifier'].apply(lambda value: value['scheme']).astype(\"category\")\n",
    "df['procuringEntity_address'] = df.procuringEntity.apply(lambda value: value['address'])\n",
    "df['procuringEntity_contactPoint'] = df.procuringEntity.apply(lambda value: value['contactPoint'])\n",
    "df['procuringEntity_contactPoint_email'] = df['procuringEntity_contactPoint'].apply(lambda value: value.get('email',pd.NA)).astype(\"string\")\n",
    "df['procuringEntity_contactPoint_name'] = df['procuringEntity_contactPoint'].apply(lambda value: value['name']).astype(\"string\")\n",
    "df['procuringEntity_contactPoint_telephone'] = df['procuringEntity_contactPoint'].apply(lambda value: value.get('telephone',pd.NA)).astype(\"string\")\n",
    "df['procuringEntity_kind'] = df['procuringEntity'].apply(lambda value:  value.get('kind',pd.NA)).astype(\"category\")\n",
    "df['num_lots'] = df.lots.apply(lambda x: len(x) if isinstance(x, list) else 0)\n",
    "\n",
    "## "
   ]
  },
  {
   "cell_type": "code",
   "execution_count": 5,
   "metadata": {},
   "outputs": [
    {
     "data": {
      "text/plain": [
       "0        {'streetAddress': 'вул. Промислова, 133', 'loc...\n",
       "1        {'streetAddress': 'вул. Студентська, буд. 2', ...\n",
       "2        {'streetAddress': 'вул. Матросова 75', 'locali...\n",
       "3        {'streetAddress': 'вул. М. Грушевського, 12/2,...\n",
       "4        {'streetAddress': 'вул. С.Петлюри, 25, м. Київ...\n",
       "                               ...                        \n",
       "28994    {'streetAddress': 'вул. Ярослава Мудрого, 9', ...\n",
       "28995    {'streetAddress': 'вул. Промислова, 9б', 'loca...\n",
       "28996    {'streetAddress': '71701, м. Токмак, Запорізьк...\n",
       "28997    {'streetAddress': 'вул. Матросова 75', 'locali...\n",
       "28998    {'streetAddress': 'вул. Миколи Боровського, 28...\n",
       "Name: procuringEntity_address, Length: 28967, dtype: object"
      ]
     },
     "execution_count": 5,
     "metadata": {},
     "output_type": "execute_result"
    }
   ],
   "source": [
    "df['procuringEntity_address']"
   ]
  },
  {
   "cell_type": "code",
   "execution_count": 7,
   "metadata": {},
   "outputs": [],
   "source": [
    "#PE geolocation\n",
    "from utils.geolocation import CachedGeolocator, region_fixer, locality_fixer, countryName_fixer, address_to_location\n",
    "from functools import partial\n",
    "fixers = {\n",
    "    'locality': locality_fixer,\n",
    "    'region': region_fixer,\n",
    "    'countryName': countryName_fixer\n",
    "}\n",
    "geolocator = CachedGeolocator(cache_dir='./data/geo_cache', bad_cache_dir='./data/geo_cache_bad', verbose=False)\n",
    "\n",
    "get_location = partial(address_to_location, geolocator=geolocator, fixers=fixers)\n",
    "df['procuringEntity_geo'] = df.procuringEntity_address.apply(lambda address:get_location(address))\n",
    "# tenderers_df['tenderer_point'] = tenderers_df.address.apply(lambda addr:get_location(addr))\n",
    "\n",
    "\n",
    "geolocator.close()"
   ]
  },
  {
   "cell_type": "code",
   "execution_count": 16,
   "metadata": {},
   "outputs": [
    {
     "data": {
      "text/plain": [
       "id                                                     string\n",
       "date                                      datetime64[ns, UTC]\n",
       "dateModified                              datetime64[ns, UTC]\n",
       "tenderID                                               string\n",
       "owner                                                category\n",
       "procurementMethod                                    category\n",
       "submissionMethod                                     category\n",
       "numberOfBids                                            int64\n",
       "status                                               category\n",
       "procurementMethodType                                category\n",
       "value                                                  object\n",
       "lots                                                   object\n",
       "mainProcurementCategory                              category\n",
       "procuringEntity_name                                   string\n",
       "procuringEntity_kind                                 category\n",
       "procuringEntity_identifier_id                          string\n",
       "procuringEntity_identifier_scheme                    category\n",
       "procuringEntity_contactPoint_email                     string\n",
       "procuringEntity_contactPoint_name                      string\n",
       "procuringEntity_contactPoint_telephone                 string\n",
       "num_lots                                                int64\n",
       "procuringEntity_geo                                    object\n",
       "dtype: object"
      ]
     },
     "execution_count": 16,
     "metadata": {},
     "output_type": "execute_result"
    }
   ],
   "source": [
    "bids_df = df[['id', 'bids']]\n",
    "awards_df = df[['id', 'awards']]\n",
    "items_df = df[['id', 'items']]\n",
    "\n",
    "df.drop(columns=['procuringEntity_contactPoint', 'procuringEntity_identifier', 'procuringEntity', 'procuringEntity_address', 'bids', 'awards', 'items'], inplace=True)\n",
    "df.dtypes"
   ]
  },
  {
   "cell_type": "code",
   "execution_count": 17,
   "metadata": {},
   "outputs": [],
   "source": [
    "\n",
    "\n",
    "# tenders with and without lots need to be processed defferently\n",
    "df_w_lots = df[~df.lots.isna()]\n",
    "df_wo_lots = df[df.lots.isna()]"
   ]
  },
  {
   "cell_type": "markdown",
   "metadata": {},
   "source": [
    "### processing value"
   ]
  },
  {
   "cell_type": "code",
   "execution_count": 18,
   "metadata": {},
   "outputs": [],
   "source": [
    "lots_df = subcollection_to_df(df, 'lots')\n",
    "lots_df = lots_df[['id','status', 'value', 'tender_id']].rename(columns={'id':'lots_id', 'status':'lots_status', 'value':'lots_value'})\n",
    "df_w_lots = df_w_lots.merge(lots_df, left_on=\"id\", right_on=\"tender_id\", suffixes=('','_'))\n",
    "\n",
    "# value from lots\n",
    "df_w_lots['value_amount'] = df_w_lots.lots_value.apply(lambda value: value['amount'])\n",
    "df_w_lots['value_currency'] = df_w_lots.lots_value.apply(lambda value: value['currency']).astype('category')\n",
    "df_w_lots['value_valueAddedTaxIncluded'] = df_w_lots.lots_value.apply(lambda value: value['valueAddedTaxIncluded']).astype(bool)"
   ]
  },
  {
   "cell_type": "code",
   "execution_count": 20,
   "metadata": {},
   "outputs": [
    {
     "name": "stderr",
     "output_type": "stream",
     "text": [
      "/tmp/ipykernel_20048/703009612.py:2: SettingWithCopyWarning: \n",
      "A value is trying to be set on a copy of a slice from a DataFrame.\n",
      "Try using .loc[row_indexer,col_indexer] = value instead\n",
      "\n",
      "See the caveats in the documentation: https://pandas.pydata.org/pandas-docs/stable/user_guide/indexing.html#returning-a-view-versus-a-copy\n",
      "  df_wo_lots['lots_id'] = WITHOUT_LOTS\n",
      "/tmp/ipykernel_20048/703009612.py:5: SettingWithCopyWarning: \n",
      "A value is trying to be set on a copy of a slice from a DataFrame.\n",
      "Try using .loc[row_indexer,col_indexer] = value instead\n",
      "\n",
      "See the caveats in the documentation: https://pandas.pydata.org/pandas-docs/stable/user_guide/indexing.html#returning-a-view-versus-a-copy\n",
      "  df_wo_lots['value_amount'] = df_wo_lots.value.apply(lambda value: value['amount'])\n",
      "/tmp/ipykernel_20048/703009612.py:6: SettingWithCopyWarning: \n",
      "A value is trying to be set on a copy of a slice from a DataFrame.\n",
      "Try using .loc[row_indexer,col_indexer] = value instead\n",
      "\n",
      "See the caveats in the documentation: https://pandas.pydata.org/pandas-docs/stable/user_guide/indexing.html#returning-a-view-versus-a-copy\n",
      "  df_wo_lots['value_currency'] = df_wo_lots.value.apply(lambda value: value['currency']).astype('category')\n",
      "/tmp/ipykernel_20048/703009612.py:7: SettingWithCopyWarning: \n",
      "A value is trying to be set on a copy of a slice from a DataFrame.\n",
      "Try using .loc[row_indexer,col_indexer] = value instead\n",
      "\n",
      "See the caveats in the documentation: https://pandas.pydata.org/pandas-docs/stable/user_guide/indexing.html#returning-a-view-versus-a-copy\n",
      "  df_wo_lots['value_valueAddedTaxIncluded'] = df_wo_lots.value.apply(lambda value: value['valueAddedTaxIncluded']).astype(bool)\n"
     ]
    }
   ],
   "source": [
    "WITHOUT_LOTS = 'WITHOUT LOTS'\n",
    "df_wo_lots['lots_id'] = WITHOUT_LOTS\n",
    "\n",
    "# value from top-level\n",
    "df_wo_lots['value_amount'] = df_wo_lots.value.apply(lambda value: value['amount'])\n",
    "df_wo_lots['value_currency'] = df_wo_lots.value.apply(lambda value: value['currency']).astype('category')\n",
    "df_wo_lots['value_valueAddedTaxIncluded'] = df_wo_lots.value.apply(lambda value: value['valueAddedTaxIncluded']).astype(bool)"
   ]
  },
  {
   "cell_type": "code",
   "execution_count": 21,
   "metadata": {},
   "outputs": [],
   "source": [
    "df = pd.concat([df_w_lots, df_wo_lots])\n",
    "df.drop(columns=['tender_id','lots_value', 'lots', 'value'], inplace=True)\n",
    "\n",
    "del df_wo_lots\n",
    "del df_w_lots"
   ]
  },
  {
   "cell_type": "code",
   "execution_count": 27,
   "metadata": {},
   "outputs": [],
   "source": [
    "del lots_df\n",
    "\n",
    "df['lots_id'] = df['lots_id'].astype('string')\n",
    "df['lots_status'] = df['lots_status'].astype('category')\n",
    "df['value_currency'] = df['value_currency'].astype('category')\n"
   ]
  },
  {
   "cell_type": "markdown",
   "metadata": {},
   "source": [
    "### Bids"
   ]
  },
  {
   "cell_type": "code",
   "execution_count": 17,
   "metadata": {},
   "outputs": [
    {
     "data": {
      "text/html": [
       "<div>\n",
       "<style scoped>\n",
       "    .dataframe tbody tr th:only-of-type {\n",
       "        vertical-align: middle;\n",
       "    }\n",
       "\n",
       "    .dataframe tbody tr th {\n",
       "        vertical-align: top;\n",
       "    }\n",
       "\n",
       "    .dataframe thead th {\n",
       "        text-align: right;\n",
       "    }\n",
       "</style>\n",
       "<table border=\"1\" class=\"dataframe\">\n",
       "  <thead>\n",
       "    <tr style=\"text-align: right;\">\n",
       "      <th></th>\n",
       "      <th>id</th>\n",
       "      <th>bids</th>\n",
       "    </tr>\n",
       "  </thead>\n",
       "  <tbody>\n",
       "    <tr>\n",
       "      <th>0</th>\n",
       "      <td>54c44b64ee504474afaf1183c410b36c</td>\n",
       "      <td>[{'tenderers': [{'name': 'ТОВ ФІРМА \"СОФТПРО\"'...</td>\n",
       "    </tr>\n",
       "    <tr>\n",
       "      <th>1</th>\n",
       "      <td>4edb5e732a6743d29382e62995cf9ad7</td>\n",
       "      <td>[{'tenderers': [{'name': 'Товариство з обмежен...</td>\n",
       "    </tr>\n",
       "    <tr>\n",
       "      <th>2</th>\n",
       "      <td>79d1b3f60ca64f6ea425c22ad0fc90f9</td>\n",
       "      <td>[{'tenderers': [{'name': 'Рекмістренко Валерій...</td>\n",
       "    </tr>\n",
       "    <tr>\n",
       "      <th>3</th>\n",
       "      <td>9be27fbba9614e89b38a508bafe61a7b</td>\n",
       "      <td>[{'tenderers': [{'name': 'Товариство з обмежен...</td>\n",
       "    </tr>\n",
       "    <tr>\n",
       "      <th>4</th>\n",
       "      <td>2acab13b39564fc4bc184d89e1225cbe</td>\n",
       "      <td>[{'tenderers': [{'name': 'ТОВ ТВК Вектор-ВС', ...</td>\n",
       "    </tr>\n",
       "    <tr>\n",
       "      <th>...</th>\n",
       "      <td>...</td>\n",
       "      <td>...</td>\n",
       "    </tr>\n",
       "    <tr>\n",
       "      <th>28994</th>\n",
       "      <td>52d8a15c55dd4f2ca9232f40c89bfa82</td>\n",
       "      <td>[{'tenderers': [{'name': 'ТОВ СМКД', 'identifi...</td>\n",
       "    </tr>\n",
       "    <tr>\n",
       "      <th>28995</th>\n",
       "      <td>2cf090528c064f439c6ed2e678636a27</td>\n",
       "      <td>[{'tenderers': [{'name': 'ФОП Бобровський Ігор...</td>\n",
       "    </tr>\n",
       "    <tr>\n",
       "      <th>28996</th>\n",
       "      <td>6a0585fcfb05471796bb2b6a1d379f9b</td>\n",
       "      <td>NaN</td>\n",
       "    </tr>\n",
       "    <tr>\n",
       "      <th>28997</th>\n",
       "      <td>d1c74ec8bb9143d5b49e7ef32202f51c</td>\n",
       "      <td>[{'tenderers': [{'name': 'Фізична особа-підпри...</td>\n",
       "    </tr>\n",
       "    <tr>\n",
       "      <th>28998</th>\n",
       "      <td>a3ec49c5b3e847fca2a1c215a2b69f8d</td>\n",
       "      <td>[{'tenderers': [{'name': 'ТОВАРИСТВО З ОБМЕЖЕН...</td>\n",
       "    </tr>\n",
       "  </tbody>\n",
       "</table>\n",
       "<p>28967 rows × 2 columns</p>\n",
       "</div>"
      ],
      "text/plain": [
       "                                     id  \\\n",
       "0      54c44b64ee504474afaf1183c410b36c   \n",
       "1      4edb5e732a6743d29382e62995cf9ad7   \n",
       "2      79d1b3f60ca64f6ea425c22ad0fc90f9   \n",
       "3      9be27fbba9614e89b38a508bafe61a7b   \n",
       "4      2acab13b39564fc4bc184d89e1225cbe   \n",
       "...                                 ...   \n",
       "28994  52d8a15c55dd4f2ca9232f40c89bfa82   \n",
       "28995  2cf090528c064f439c6ed2e678636a27   \n",
       "28996  6a0585fcfb05471796bb2b6a1d379f9b   \n",
       "28997  d1c74ec8bb9143d5b49e7ef32202f51c   \n",
       "28998  a3ec49c5b3e847fca2a1c215a2b69f8d   \n",
       "\n",
       "                                                    bids  \n",
       "0      [{'tenderers': [{'name': 'ТОВ ФІРМА \"СОФТПРО\"'...  \n",
       "1      [{'tenderers': [{'name': 'Товариство з обмежен...  \n",
       "2      [{'tenderers': [{'name': 'Рекмістренко Валерій...  \n",
       "3      [{'tenderers': [{'name': 'Товариство з обмежен...  \n",
       "4      [{'tenderers': [{'name': 'ТОВ ТВК Вектор-ВС', ...  \n",
       "...                                                  ...  \n",
       "28994  [{'tenderers': [{'name': 'ТОВ СМКД', 'identifi...  \n",
       "28995  [{'tenderers': [{'name': 'ФОП Бобровський Ігор...  \n",
       "28996                                                NaN  \n",
       "28997  [{'tenderers': [{'name': 'Фізична особа-підпри...  \n",
       "28998  [{'tenderers': [{'name': 'ТОВАРИСТВО З ОБМЕЖЕН...  \n",
       "\n",
       "[28967 rows x 2 columns]"
      ]
     },
     "execution_count": 17,
     "metadata": {},
     "output_type": "execute_result"
    }
   ],
   "source": [
    "\n",
    "bids_df"
   ]
  },
  {
   "cell_type": "code",
   "execution_count": 29,
   "metadata": {},
   "outputs": [],
   "source": [
    "bids_subdf = subcollection_to_df(bids_df, 'bids')\n",
    "bids_subdf = bids_subdf[~bids_subdf.tenderers.isna()]"
   ]
  },
  {
   "cell_type": "code",
   "execution_count": 39,
   "metadata": {},
   "outputs": [],
   "source": [
    "tenderers_subdf = subcollection_to_df(bids_subdf, 'tenderers')[[\n",
    "'address',\n",
    "'parent_id',\n",
    "'contactPoint',\n",
    "'identifier',\n",
    "'name',\n",
    "]]"
   ]
  },
  {
   "cell_type": "code",
   "execution_count": 41,
   "metadata": {},
   "outputs": [
    {
     "data": {
      "text/html": [
       "<div>\n",
       "<style scoped>\n",
       "    .dataframe tbody tr th:only-of-type {\n",
       "        vertical-align: middle;\n",
       "    }\n",
       "\n",
       "    .dataframe tbody tr th {\n",
       "        vertical-align: top;\n",
       "    }\n",
       "\n",
       "    .dataframe thead th {\n",
       "        text-align: right;\n",
       "    }\n",
       "</style>\n",
       "<table border=\"1\" class=\"dataframe\">\n",
       "  <thead>\n",
       "    <tr style=\"text-align: right;\">\n",
       "      <th></th>\n",
       "      <th>address</th>\n",
       "      <th>parent_id</th>\n",
       "      <th>bids_tenderers_name</th>\n",
       "      <th>bids_tenderers_identifier_id</th>\n",
       "      <th>bids_tenderers_identifier_scheme</th>\n",
       "      <th>bids_tenderers_contactPoint_email</th>\n",
       "      <th>bids_tenderers_contactPoint_name</th>\n",
       "      <th>bids_tenderers_contactPoint_telephone</th>\n",
       "    </tr>\n",
       "  </thead>\n",
       "  <tbody>\n",
       "    <tr>\n",
       "      <th>0</th>\n",
       "      <td>{'streetAddress': 'проспект Гагаріна, б. 13', ...</td>\n",
       "      <td>575755ff2ab14506860d6cc5665628ae</td>\n",
       "      <td>ТОВ ФІРМА \"СОФТПРО\"</td>\n",
       "      <td>14112174</td>\n",
       "      <td>UA-EDR</td>\n",
       "      <td>altiy@wgsoftpro.com</td>\n",
       "      <td>Землицький Альтій Юхимович</td>\n",
       "      <td>+380577602925</td>\n",
       "    </tr>\n",
       "    <tr>\n",
       "      <th>1</th>\n",
       "      <td>{'streetAddress': 'вул,Жовтнева,66', 'locality...</td>\n",
       "      <td>185913a23d834953b6521fc9e0d10de9</td>\n",
       "      <td>ТОВ ІНФОСВІТ ІТ СЕРВІС</td>\n",
       "      <td>37061252</td>\n",
       "      <td>UA-EDR</td>\n",
       "      <td>bond@infoservis.pl.ua</td>\n",
       "      <td>Бондаренко Олег Михайлович</td>\n",
       "      <td>+380503040299</td>\n",
       "    </tr>\n",
       "    <tr>\n",
       "      <th>2</th>\n",
       "      <td>{'streetAddress': 'вул. Ломоносова, 26', 'loca...</td>\n",
       "      <td>e038b7528c7644b9880f6cf1f2d2551b</td>\n",
       "      <td>Товариство з обмеженою відповідальністю \"Торго...</td>\n",
       "      <td>32358958</td>\n",
       "      <td>UA-EDR</td>\n",
       "      <td>tdmsopm@kmk.kharkov.ua</td>\n",
       "      <td>Ганжа Роман Віталійович</td>\n",
       "      <td>+38 (050) 402-1259</td>\n",
       "    </tr>\n",
       "    <tr>\n",
       "      <th>3</th>\n",
       "      <td>{'streetAddress': '61129, Харківська обл., міс...</td>\n",
       "      <td>9f9741c316b4419697b0b5b78cb01390</td>\n",
       "      <td>ТОВАРИСТВО З ОБМЕЖЕНОЮ ВІДПОВІДАЛЬНІСТЮ \"ФУДСНАБ\"</td>\n",
       "      <td>38385713</td>\n",
       "      <td>UA-EDR</td>\n",
       "      <td>ev.mironenko11@gmail.com</td>\n",
       "      <td>ТОВАРИСТВО З ОБМЕЖЕНОЮ ВІДПОВІДАЛЬНІСТЮ \"ФУДСНАБ\"</td>\n",
       "      <td>0960345308</td>\n",
       "    </tr>\n",
       "    <tr>\n",
       "      <th>4</th>\n",
       "      <td>{'streetAddress': 'ВУЛИЦЯ БУЧМИ, будинок 32Б, ...</td>\n",
       "      <td>3bde3a9d385946cebbd99f9e7441769b</td>\n",
       "      <td>ФОП Юркевич Антон Ігорович</td>\n",
       "      <td>3159106257</td>\n",
       "      <td>UA-EDR</td>\n",
       "      <td>antonur@meta.ua</td>\n",
       "      <td>Юркевич Антон</td>\n",
       "      <td>380508030906, 380508030906</td>\n",
       "    </tr>\n",
       "    <tr>\n",
       "      <th>...</th>\n",
       "      <td>...</td>\n",
       "      <td>...</td>\n",
       "      <td>...</td>\n",
       "      <td>...</td>\n",
       "      <td>...</td>\n",
       "      <td>...</td>\n",
       "      <td>...</td>\n",
       "      <td>...</td>\n",
       "    </tr>\n",
       "    <tr>\n",
       "      <th>42796</th>\n",
       "      <td>{'streetAddress': 'с. Суховоля', 'locality': '...</td>\n",
       "      <td>e696cbb55928462c932d39d88a1ff218</td>\n",
       "      <td>ФОП Лепецький Володимир Ігорович</td>\n",
       "      <td>2600304558</td>\n",
       "      <td>UA-EDR</td>\n",
       "      <td>klasikinterier@gmail.com</td>\n",
       "      <td>Лепецький Володимир Ігорович</td>\n",
       "      <td>+380674230908</td>\n",
       "    </tr>\n",
       "    <tr>\n",
       "      <th>42797</th>\n",
       "      <td>{'streetAddress': 'ж/м Тополя-3, буд.20, корпу...</td>\n",
       "      <td>18859547e7a54d7f979e418dcec9bab6</td>\n",
       "      <td>Фізична особа-підприємець Воробйова Ольга Мико...</td>\n",
       "      <td>2810900040</td>\n",
       "      <td>UA-EDR</td>\n",
       "      <td>FOPVorobyovaOlga@ukr.net</td>\n",
       "      <td>Воробйова Ольга Миколаївна</td>\n",
       "      <td>380669821034, 380669821034</td>\n",
       "    </tr>\n",
       "    <tr>\n",
       "      <th>42798</th>\n",
       "      <td>{'streetAddress': 'вул. Зоотехнічна, 2', 'loca...</td>\n",
       "      <td>9bbc1bbf354646bda2eb862acf07bca2</td>\n",
       "      <td>ТОВ ФУД ПОСТАЧ</td>\n",
       "      <td>41505858</td>\n",
       "      <td>UA-EDR</td>\n",
       "      <td>41505858@ukr.net</td>\n",
       "      <td>Ільїн Владислав Олександрович</td>\n",
       "      <td>+380675588677</td>\n",
       "    </tr>\n",
       "    <tr>\n",
       "      <th>42799</th>\n",
       "      <td>{'streetAddress': '65031, Одеська обл., місто ...</td>\n",
       "      <td>6a03cd140e2e42d3a361255a5cc8058b</td>\n",
       "      <td>ТОВАРИСТВО З ОБМЕЖЕНОЮ ВІДПОВІДАЛЬНІСТЮ \"СТАР ...</td>\n",
       "      <td>40806547</td>\n",
       "      <td>UA-EDR</td>\n",
       "      <td>star-mital@ukr.net</td>\n",
       "      <td>ТОВАРИСТВО З ОБМЕЖЕНОЮ ВІДПОВІДАЛЬНІСТЮ \"СТАР ...</td>\n",
       "      <td>+380681205182</td>\n",
       "    </tr>\n",
       "    <tr>\n",
       "      <th>42800</th>\n",
       "      <td>{'streetAddress': '65033, Одеська обл., місто ...</td>\n",
       "      <td>5ae19f03c6974e25af8f0153d8dc0094</td>\n",
       "      <td>ТОВАРИСТВО З ОБМЕЖЕНОЮ ВІДПОВІДАЛЬНІСТЮ \"ЮНАЙТ...</td>\n",
       "      <td>40457924</td>\n",
       "      <td>UA-EDR</td>\n",
       "      <td>unitedsteel.ukraine@gmail.com</td>\n",
       "      <td>ТОВАРИСТВО З ОБМЕЖЕНОЮ ВІДПОВІДАЛЬНІСТЮ \"ЮНАЙТ...</td>\n",
       "      <td>+380958818790</td>\n",
       "    </tr>\n",
       "  </tbody>\n",
       "</table>\n",
       "<p>42801 rows × 8 columns</p>\n",
       "</div>"
      ],
      "text/plain": [
       "                                                 address  \\\n",
       "0      {'streetAddress': 'проспект Гагаріна, б. 13', ...   \n",
       "1      {'streetAddress': 'вул,Жовтнева,66', 'locality...   \n",
       "2      {'streetAddress': 'вул. Ломоносова, 26', 'loca...   \n",
       "3      {'streetAddress': '61129, Харківська обл., міс...   \n",
       "4      {'streetAddress': 'ВУЛИЦЯ БУЧМИ, будинок 32Б, ...   \n",
       "...                                                  ...   \n",
       "42796  {'streetAddress': 'с. Суховоля', 'locality': '...   \n",
       "42797  {'streetAddress': 'ж/м Тополя-3, буд.20, корпу...   \n",
       "42798  {'streetAddress': 'вул. Зоотехнічна, 2', 'loca...   \n",
       "42799  {'streetAddress': '65031, Одеська обл., місто ...   \n",
       "42800  {'streetAddress': '65033, Одеська обл., місто ...   \n",
       "\n",
       "                              parent_id  \\\n",
       "0      575755ff2ab14506860d6cc5665628ae   \n",
       "1      185913a23d834953b6521fc9e0d10de9   \n",
       "2      e038b7528c7644b9880f6cf1f2d2551b   \n",
       "3      9f9741c316b4419697b0b5b78cb01390   \n",
       "4      3bde3a9d385946cebbd99f9e7441769b   \n",
       "...                                 ...   \n",
       "42796  e696cbb55928462c932d39d88a1ff218   \n",
       "42797  18859547e7a54d7f979e418dcec9bab6   \n",
       "42798  9bbc1bbf354646bda2eb862acf07bca2   \n",
       "42799  6a03cd140e2e42d3a361255a5cc8058b   \n",
       "42800  5ae19f03c6974e25af8f0153d8dc0094   \n",
       "\n",
       "                                     bids_tenderers_name  \\\n",
       "0                                    ТОВ ФІРМА \"СОФТПРО\"   \n",
       "1                                 ТОВ ІНФОСВІТ ІТ СЕРВІС   \n",
       "2      Товариство з обмеженою відповідальністю \"Торго...   \n",
       "3      ТОВАРИСТВО З ОБМЕЖЕНОЮ ВІДПОВІДАЛЬНІСТЮ \"ФУДСНАБ\"   \n",
       "4                             ФОП Юркевич Антон Ігорович   \n",
       "...                                                  ...   \n",
       "42796                   ФОП Лепецький Володимир Ігорович   \n",
       "42797  Фізична особа-підприємець Воробйова Ольга Мико...   \n",
       "42798                                     ТОВ ФУД ПОСТАЧ   \n",
       "42799  ТОВАРИСТВО З ОБМЕЖЕНОЮ ВІДПОВІДАЛЬНІСТЮ \"СТАР ...   \n",
       "42800  ТОВАРИСТВО З ОБМЕЖЕНОЮ ВІДПОВІДАЛЬНІСТЮ \"ЮНАЙТ...   \n",
       "\n",
       "      bids_tenderers_identifier_id bids_tenderers_identifier_scheme  \\\n",
       "0                         14112174                           UA-EDR   \n",
       "1                         37061252                           UA-EDR   \n",
       "2                         32358958                           UA-EDR   \n",
       "3                         38385713                           UA-EDR   \n",
       "4                       3159106257                           UA-EDR   \n",
       "...                            ...                              ...   \n",
       "42796                   2600304558                           UA-EDR   \n",
       "42797                   2810900040                           UA-EDR   \n",
       "42798                     41505858                           UA-EDR   \n",
       "42799                     40806547                           UA-EDR   \n",
       "42800                     40457924                           UA-EDR   \n",
       "\n",
       "      bids_tenderers_contactPoint_email  \\\n",
       "0                   altiy@wgsoftpro.com   \n",
       "1                 bond@infoservis.pl.ua   \n",
       "2                tdmsopm@kmk.kharkov.ua   \n",
       "3              ev.mironenko11@gmail.com   \n",
       "4                       antonur@meta.ua   \n",
       "...                                 ...   \n",
       "42796          klasikinterier@gmail.com   \n",
       "42797          FOPVorobyovaOlga@ukr.net   \n",
       "42798                  41505858@ukr.net   \n",
       "42799                star-mital@ukr.net   \n",
       "42800     unitedsteel.ukraine@gmail.com   \n",
       "\n",
       "                        bids_tenderers_contactPoint_name  \\\n",
       "0                             Землицький Альтій Юхимович   \n",
       "1                             Бондаренко Олег Михайлович   \n",
       "2                                Ганжа Роман Віталійович   \n",
       "3      ТОВАРИСТВО З ОБМЕЖЕНОЮ ВІДПОВІДАЛЬНІСТЮ \"ФУДСНАБ\"   \n",
       "4                                          Юркевич Антон   \n",
       "...                                                  ...   \n",
       "42796                       Лепецький Володимир Ігорович   \n",
       "42797                         Воробйова Ольга Миколаївна   \n",
       "42798                      Ільїн Владислав Олександрович   \n",
       "42799  ТОВАРИСТВО З ОБМЕЖЕНОЮ ВІДПОВІДАЛЬНІСТЮ \"СТАР ...   \n",
       "42800  ТОВАРИСТВО З ОБМЕЖЕНОЮ ВІДПОВІДАЛЬНІСТЮ \"ЮНАЙТ...   \n",
       "\n",
       "      bids_tenderers_contactPoint_telephone  \n",
       "0                             +380577602925  \n",
       "1                             +380503040299  \n",
       "2                        +38 (050) 402-1259  \n",
       "3                                0960345308  \n",
       "4                380508030906, 380508030906  \n",
       "...                                     ...  \n",
       "42796                         +380674230908  \n",
       "42797            380669821034, 380669821034  \n",
       "42798                         +380675588677  \n",
       "42799                         +380681205182  \n",
       "42800                         +380958818790  \n",
       "\n",
       "[42801 rows x 8 columns]"
      ]
     },
     "execution_count": 41,
     "metadata": {},
     "output_type": "execute_result"
    }
   ],
   "source": [
    "tenderers_subdf['bids_tenderers_identifier_id'] = tenderers_subdf['identifier'].apply(lambda value: value['id']).astype(\"string\")\n",
    "tenderers_subdf['bids_tenderers_identifier_scheme'] = tenderers_subdf['identifier'].apply(lambda value: value['scheme']).astype(\"category\")\n",
    "\n",
    "tenderers_subdf['bids_tenderers_contactPoint_email'] = tenderers_subdf['contactPoint'].apply(lambda value: value.get('email',pd.NA)).astype(\"string\")\n",
    "tenderers_subdf['bids_tenderers_contactPoint_name'] = tenderers_subdf['contactPoint'].apply(lambda value: value['name']).astype(\"string\")\n",
    "tenderers_subdf['bids_tenderers_contactPoint_telephone'] = tenderers_subdf['contactPoint'].apply(lambda value: value.get('telephone',pd.NA)).astype(\"string\")"
   ]
  },
  {
   "cell_type": "code",
   "execution_count": 42,
   "metadata": {},
   "outputs": [],
   "source": [
    "geolocator = CachedGeolocator(cache_dir='./data/geo_cache', bad_cache_dir='./data/geo_cache_bad', verbose=False)\n",
    "# get_location = partial(address_to_location, geolocator=geolocator, fixers=fixers)\n",
    "\n",
    "tenderers_subdf['bids_tenderers_geo'] = tenderers_subdf.address.apply(lambda addr:get_location(addr))\n",
    "geolocator.close()"
   ]
  },
  {
   "cell_type": "code",
   "execution_count": 56,
   "metadata": {},
   "outputs": [],
   "source": [
    "tenderers_subdf = tenderers_subdf.rename(columns={'name':'bids_tenderers_name'}).drop(columns=['identifier','contactPoint', 'address'])"
   ]
  },
  {
   "cell_type": "code",
   "execution_count": 58,
   "metadata": {},
   "outputs": [
    {
     "data": {
      "text/plain": [
       "(42801, 8)"
      ]
     },
     "execution_count": 58,
     "metadata": {},
     "output_type": "execute_result"
    }
   ],
   "source": [
    "tenderers_subdf.shape"
   ]
  },
  {
   "cell_type": "code",
   "execution_count": 60,
   "metadata": {},
   "outputs": [],
   "source": [
    "bids_subdf = bids_subdf.merge(tenderers_subdf, left_on='id', right_on='parent_id')"
   ]
  },
  {
   "cell_type": "code",
   "execution_count": 66,
   "metadata": {},
   "outputs": [],
   "source": [
    "bids_subdf = bids_subdf.rename(columns = {\n",
    "    'date':'bids_date',\n",
    "    'status':'bids_status'\n",
    "})[[\n",
    "'bids_date',\n",
    "'bids_id',\n",
    "'value',\n",
    "'lotValues',\n",
    "'bids_status',\n",
    "'tender_id',\n",
    "'bids_tenderers_name',                       \n",
    "'bids_tenderers_identifier_id',               \n",
    "'bids_tenderers_identifier_scheme',        \n",
    "'bids_tenderers_contactPoint_email',       \n",
    "'bids_tenderers_contactPoint_name',        \n",
    "'bids_tenderers_contactPoint_telephone',\n",
    "'bids_tenderers_geo',\n",
    "]]"
   ]
  },
  {
   "cell_type": "code",
   "execution_count": 70,
   "metadata": {},
   "outputs": [],
   "source": [
    "bids_subdf = bids_subdf.rename(columns = {\n",
    "    'bids_id':'id'\n",
    "})"
   ]
  },
  {
   "cell_type": "code",
   "execution_count": 71,
   "metadata": {},
   "outputs": [],
   "source": [
    "# separate bids subcollection\n",
    "bids_w_lots_df = bids_subdf[~bids_subdf.lotValues.isna()]\n",
    "bids_wo_lots_df = bids_subdf[bids_subdf.lotValues.isna()]\n",
    "\n",
    "# del bids_subdf\n",
    "# del bids_df"
   ]
  },
  {
   "cell_type": "code",
   "execution_count": 72,
   "metadata": {},
   "outputs": [],
   "source": [
    "# nested bid values from lots\n",
    "bids_lotValues_df = subcollection_to_df(bids_w_lots_df, 'lotValues')\n",
    "bids_lotValues_df['bids_value_amount'] = bids_lotValues_df.value.apply(lambda value: value['amount'])\n",
    "bids_lotValues_df['bids_value_currency'] = bids_lotValues_df.value.apply(lambda value: value['currency']).astype('category')\n",
    "bids_lotValues_df['bids_value_valueAddedTaxIncluded'] = bids_lotValues_df.value.apply(lambda value: value['valueAddedTaxIncluded']).astype(bool)\n",
    "\n",
    "\n",
    "bids_lotValues_df = bids_lotValues_df[['relatedLot', 'parent_id', 'bids_value_amount', 'bids_value_currency', 'bids_value_valueAddedTaxIncluded']]\n",
    "\n",
    "bids_w_lots_df = bids_w_lots_df.merge(bids_lotValues_df, left_on=\"id\", right_on=\"parent_id\", suffixes=('','_'))\n",
    "\n",
    "del bids_lotValues_df\n"
   ]
  },
  {
   "cell_type": "code",
   "execution_count": 75,
   "metadata": {},
   "outputs": [],
   "source": [
    "bids_wo_lots_df = bids_wo_lots_df[~bids_wo_lots_df.value.isna()]\n",
    "\n",
    "bids_wo_lots_df['bids_value_amount'] = bids_wo_lots_df.value.apply(lambda value: value['amount'])\n",
    "bids_wo_lots_df['bids_value_currency'] = bids_wo_lots_df.value.apply(lambda value: value['currency']).astype('category')\n",
    "bids_wo_lots_df['bids_value_valueAddedTaxIncluded'] = bids_wo_lots_df.value.apply(lambda value: value['valueAddedTaxIncluded']).astype(bool)\n",
    "\n",
    "bids_wo_lots_df['relatedLot'] = WITHOUT_LOTS"
   ]
  },
  {
   "cell_type": "code",
   "execution_count": 86,
   "metadata": {},
   "outputs": [],
   "source": [
    "ddddd_df = pd.concat([bids_w_lots_df, bids_wo_lots_df])"
   ]
  },
  {
   "cell_type": "code",
   "execution_count": 87,
   "metadata": {},
   "outputs": [],
   "source": [
    "ddddd_df = ddddd_df.drop(columns=['value', 'lotValues']).rename(columns={'relatedLot':'lots_id', 'id':'bids_id'})"
   ]
  },
  {
   "cell_type": "code",
   "execution_count": 90,
   "metadata": {},
   "outputs": [],
   "source": [
    "df_merged = df.merge(ddddd_df, left_on=('id', 'lots_id'), right_on=('tender_id', 'lots_id'), suffixes=('','_bids'), how='left').reindex()\n",
    "\n",
    "df_merged = df_merged.drop(columns=['parent_id', 'tender_id'])"
   ]
  },
  {
   "cell_type": "code",
   "execution_count": 93,
   "metadata": {},
   "outputs": [
    {
     "data": {
      "text/plain": [
       "id                                                     object\n",
       "date                                      datetime64[ns, UTC]\n",
       "dateModified                              datetime64[ns, UTC]\n",
       "tenderID                                               string\n",
       "owner                                                category\n",
       "procurementMethod                                    category\n",
       "submissionMethod                                     category\n",
       "numberOfBids                                            int64\n",
       "status                                               category\n",
       "procurementMethodType                                category\n",
       "mainProcurementCategory                              category\n",
       "procuringEntity_name                                   string\n",
       "procuringEntity_kind                                 category\n",
       "procuringEntity_identifier_id                          string\n",
       "procuringEntity_identifier_scheme                    category\n",
       "procuringEntity_contactPoint_email                     string\n",
       "procuringEntity_contactPoint_name                      string\n",
       "procuringEntity_contactPoint_telephone                 string\n",
       "num_lots                                                int64\n",
       "procuringEntity_geo                                    object\n",
       "lots_id                                                object\n",
       "lots_status                                          category\n",
       "value_amount                                          float64\n",
       "value_currency                                       category\n",
       "value_valueAddedTaxIncluded                              bool\n",
       "bids_date                                              object\n",
       "bids_id                                                object\n",
       "bids_status                                            object\n",
       "bids_tenderers_name                                    object\n",
       "bids_tenderers_identifier_id                           string\n",
       "bids_tenderers_identifier_scheme                     category\n",
       "bids_tenderers_contactPoint_email                      string\n",
       "bids_tenderers_contactPoint_name                       string\n",
       "bids_tenderers_contactPoint_telephone                  string\n",
       "bids_tenderers_geo                                     object\n",
       "bids_value_amount                                     float64\n",
       "bids_value_currency                                    object\n",
       "bids_value_valueAddedTaxIncluded                       object\n",
       "dtype: object"
      ]
     },
     "execution_count": 93,
     "metadata": {},
     "output_type": "execute_result"
    }
   ],
   "source": [
    "df_merged.dtypes"
   ]
  },
  {
   "cell_type": "markdown",
   "metadata": {},
   "source": [
    "### Awards"
   ]
  },
  {
   "cell_type": "code",
   "execution_count": 100,
   "metadata": {},
   "outputs": [],
   "source": [
    "awards_subdf = subcollection_to_df(awards_df, 'awards')\n",
    "\n",
    "awards_subdf = awards_subdf.rename(columns={\n",
    "    'id':'awards_id',\n",
    "    'date':'awards_date',\n",
    "    'status':'awards_status',\n",
    "    'lotID': 'lots_id',\n",
    "    'bid_id':'bids_id'\n",
    "})[[\n",
    "    'awards_id', 'awards_date', 'awards_status', 'bids_id', 'tender_id', 'lots_id', 'value'\n",
    "]]\n",
    "\n",
    "awards_subdf['awards_value_amount'] = awards_subdf.value.apply(lambda value: value['amount'])\n",
    "awards_subdf['awards_value_currency'] = awards_subdf.value.apply(lambda value: value['currency']).astype('category')\n",
    "awards_subdf['awards_value_valueAddedTaxIncluded'] = awards_subdf.value.apply(lambda value: value['valueAddedTaxIncluded']).astype(bool)\n",
    "\n",
    "\n",
    "awards_subdf = awards_subdf.drop(columns=['value'])\n",
    "\n",
    "awards_subdf.lots_id.fillna(WITHOUT_LOTS, inplace=True)"
   ]
  },
  {
   "cell_type": "code",
   "execution_count": null,
   "metadata": {},
   "outputs": [],
   "source": [
    "del awards_subdf\n",
    "del awards_df"
   ]
  },
  {
   "cell_type": "code",
   "execution_count": 102,
   "metadata": {},
   "outputs": [],
   "source": [
    "df_merged = df_merged.merge(awards_subdf, left_on=('id', 'lots_id', 'bids_id'), right_on=('tender_id', 'lots_id', 'bids_id'), suffixes=('','_awards'), how='left').reindex()"
   ]
  },
  {
   "cell_type": "code",
   "execution_count": 106,
   "metadata": {},
   "outputs": [],
   "source": [
    "df_merged = df_merged.drop(columns=['tender_id'])"
   ]
  },
  {
   "cell_type": "markdown",
   "metadata": {},
   "source": [
    "### Items"
   ]
  },
  {
   "cell_type": "code",
   "execution_count": 107,
   "metadata": {},
   "outputs": [],
   "source": [
    "items_subdf = subcollection_to_df(items_df, 'items')"
   ]
  },
  {
   "cell_type": "code",
   "execution_count": 109,
   "metadata": {},
   "outputs": [],
   "source": [
    "items_subdf['code'] = items_subdf.classification.apply(lambda x: x.get('id',''))\n",
    "items_subdf.relatedLot.fillna(WITHOUT_LOTS, inplace=True)\n",
    "\n",
    "items_subdf = items_subdf.rename(columns={\n",
    "    'relatedLot': 'lots_id'\n",
    "})\n",
    "\n",
    "items_subdf = items_subdf[[\n",
    "    'tender_id', 'lots_id', 'code'\n",
    "]]\n"
   ]
  },
  {
   "cell_type": "code",
   "execution_count": 110,
   "metadata": {},
   "outputs": [],
   "source": [
    "# first from items, in most cases items came from the same category\n",
    "items_subdf = items_subdf.groupby(['tender_id','lots_id']).agg(lambda x: list(x)[0]).reset_index()"
   ]
  },
  {
   "cell_type": "code",
   "execution_count": 111,
   "metadata": {},
   "outputs": [],
   "source": [
    "from utils.dk021 import DK021\n",
    "\n",
    "classifier = DK021.load('./data/dk021.csv')\n",
    "\n",
    "items_subdf['items_classification_l0'] = items_subdf.code.apply(lambda code: classifier.get_level_category(code=code, level=1).code)\n",
    "items_subdf['items_classification_l1'] = items_subdf.code.apply(lambda code: classifier.get_level_category(code=code, level=2).code)\n",
    "items_subdf['items_classification_l2'] = items_subdf.code.apply(lambda code: classifier.get_level_category(code=code, level=3).code)"
   ]
  },
  {
   "cell_type": "code",
   "execution_count": 114,
   "metadata": {},
   "outputs": [],
   "source": [
    "df_merged = df_merged.merge(items_subdf, left_on=('id', 'lots_id'), right_on=('tender_id', 'lots_id'), suffixes=('','_itemss'), how='left').reindex()"
   ]
  },
  {
   "cell_type": "code",
   "execution_count": 116,
   "metadata": {},
   "outputs": [],
   "source": [
    "df_merged = df_merged.drop(columns=['tender_id'])"
   ]
  },
  {
   "cell_type": "code",
   "execution_count": 122,
   "metadata": {},
   "outputs": [
    {
     "data": {
      "text/plain": [
       "id                                                     object\n",
       "date                                      datetime64[ns, UTC]\n",
       "dateModified                              datetime64[ns, UTC]\n",
       "tenderID                                               string\n",
       "owner                                                category\n",
       "procurementMethod                                    category\n",
       "submissionMethod                                     category\n",
       "numberOfBids                                            int64\n",
       "status                                               category\n",
       "procurementMethodType                                category\n",
       "mainProcurementCategory                              category\n",
       "procuringEntity_name                                   string\n",
       "procuringEntity_kind                                 category\n",
       "procuringEntity_identifier_id                          string\n",
       "procuringEntity_identifier_scheme                    category\n",
       "procuringEntity_contactPoint_email                     string\n",
       "procuringEntity_contactPoint_name                      string\n",
       "procuringEntity_contactPoint_telephone                 string\n",
       "num_lots                                                int64\n",
       "procuringEntity_geo                                    object\n",
       "lots_id                                                object\n",
       "lots_status                                          category\n",
       "value_amount                                          float64\n",
       "value_currency                                       category\n",
       "value_valueAddedTaxIncluded                              bool\n",
       "bids_date                                              object\n",
       "bids_id                                                object\n",
       "bids_status                                            object\n",
       "bids_tenderers_name                                    object\n",
       "bids_tenderers_identifier_id                           string\n",
       "bids_tenderers_identifier_scheme                     category\n",
       "bids_tenderers_contactPoint_email                      string\n",
       "bids_tenderers_contactPoint_name                       string\n",
       "bids_tenderers_contactPoint_telephone                  string\n",
       "bids_tenderers_geo                                     object\n",
       "bids_value_amount                                     float64\n",
       "bids_value_currency                                    object\n",
       "bids_value_valueAddedTaxIncluded                       object\n",
       "awards_id                                              object\n",
       "awards_date                                            object\n",
       "awards_status                                          object\n",
       "awards_value_amount                                   float64\n",
       "awards_value_currency                                category\n",
       "awards_value_valueAddedTaxIncluded                     object\n",
       "code                                                   object\n",
       "items_classification_l0                                object\n",
       "items_classification_l1                                object\n",
       "items_classification_l2                                object\n",
       "dtype: object"
      ]
     },
     "execution_count": 122,
     "metadata": {},
     "output_type": "execute_result"
    }
   ],
   "source": [
    "df_merged.dtypes"
   ]
  },
  {
   "cell_type": "code",
   "execution_count": 124,
   "metadata": {},
   "outputs": [],
   "source": [
    "df_merged.bids_date = pd.to_datetime(df_merged.bids_date, utc=True)\n",
    "df_merged.id = df_merged.id.astype('string')\n",
    "df_merged.bids_status = df_merged.bids_status.astype('category')\n",
    "df_merged.bids_tenderers_name = df_merged.bids_tenderers_name.astype('category')\n",
    "df_merged.bids_value_currency = df_merged.bids_value_currency.astype('category')\n",
    "df_merged.bids_value_valueAddedTaxIncluded = df_merged.bids_value_valueAddedTaxIncluded.astype(bool)\n",
    "df_merged.awards_id = df_merged.awards_id.astype('string')\n",
    "df_merged.awards_date = pd.to_datetime(df_merged.awards_date, utc=True)\n",
    "df_merged.awards_value_valueAddedTaxIncluded = df_merged.awards_value_valueAddedTaxIncluded.astype(bool)\n",
    "df_merged.awards_id = df_merged.awards_id.astype('string')\n",
    "df_merged.code = df_merged.code.astype('category')\n",
    "df_merged.items_classification_l0 = df_merged.items_classification_l0.astype('category')\n",
    "df_merged.items_classification_l1 = df_merged.items_classification_l1.astype('category')\n",
    "df_merged.items_classification_l2 = df_merged.items_classification_l2.astype('category')\n"
   ]
  },
  {
   "cell_type": "code",
   "execution_count": 127,
   "metadata": {},
   "outputs": [],
   "source": [
    "df_merged.to_parquet('df.parquet.gzip', compression='gzip') "
   ]
  },
  {
   "cell_type": "code",
   "execution_count": 129,
   "metadata": {},
   "outputs": [
    {
     "data": {
      "text/plain": [
       "(56877, 48)"
      ]
     },
     "execution_count": 129,
     "metadata": {},
     "output_type": "execute_result"
    }
   ],
   "source": [
    "df_restored.shape"
   ]
  },
  {
   "cell_type": "code",
   "execution_count": 128,
   "metadata": {},
   "outputs": [
    {
     "data": {
      "text/plain": [
       "id                                                     string\n",
       "date                                      datetime64[ns, UTC]\n",
       "dateModified                              datetime64[ns, UTC]\n",
       "tenderID                                               string\n",
       "owner                                                category\n",
       "procurementMethod                                    category\n",
       "submissionMethod                                     category\n",
       "numberOfBids                                            int64\n",
       "status                                               category\n",
       "procurementMethodType                                category\n",
       "mainProcurementCategory                              category\n",
       "procuringEntity_name                                   string\n",
       "procuringEntity_kind                                 category\n",
       "procuringEntity_identifier_id                          string\n",
       "procuringEntity_identifier_scheme                    category\n",
       "procuringEntity_contactPoint_email                     string\n",
       "procuringEntity_contactPoint_name                      string\n",
       "procuringEntity_contactPoint_telephone                 string\n",
       "num_lots                                                int64\n",
       "procuringEntity_geo                                    object\n",
       "lots_id                                                object\n",
       "lots_status                                          category\n",
       "value_amount                                          float64\n",
       "value_currency                                       category\n",
       "value_valueAddedTaxIncluded                              bool\n",
       "bids_date                                 datetime64[ns, UTC]\n",
       "bids_id                                                object\n",
       "bids_status                                          category\n",
       "bids_tenderers_name                                  category\n",
       "bids_tenderers_identifier_id                           string\n",
       "bids_tenderers_identifier_scheme                     category\n",
       "bids_tenderers_contactPoint_email                      string\n",
       "bids_tenderers_contactPoint_name                       string\n",
       "bids_tenderers_contactPoint_telephone                  string\n",
       "bids_tenderers_geo                                     object\n",
       "bids_value_amount                                     float64\n",
       "bids_value_currency                                  category\n",
       "bids_value_valueAddedTaxIncluded                         bool\n",
       "awards_id                                              string\n",
       "awards_date                               datetime64[ns, UTC]\n",
       "awards_status                                          object\n",
       "awards_value_amount                                   float64\n",
       "awards_value_currency                                category\n",
       "awards_value_valueAddedTaxIncluded                       bool\n",
       "code                                                 category\n",
       "items_classification_l0                              category\n",
       "items_classification_l1                              category\n",
       "items_classification_l2                              category\n",
       "dtype: object"
      ]
     },
     "execution_count": 128,
     "metadata": {},
     "output_type": "execute_result"
    }
   ],
   "source": [
    "df_restored = pd.read_parquet('df.parquet.gzip')\n",
    "\n"
   ]
  },
  {
   "cell_type": "code",
   "execution_count": 119,
   "metadata": {},
   "outputs": [
    {
     "data": {
      "text/plain": [
       "id                                                     object\n",
       "date                                      datetime64[ns, UTC]\n",
       "dateModified                              datetime64[ns, UTC]\n",
       "tenderID                                               string\n",
       "owner                                                category\n",
       "procurementMethod                                    category\n",
       "submissionMethod                                     category\n",
       "numberOfBids                                            int64\n",
       "status                                               category\n",
       "procurementMethodType                                category\n",
       "mainProcurementCategory                              category\n",
       "procuringEntity_name                                   string\n",
       "procuringEntity_kind                                 category\n",
       "procuringEntity_identifier_id                          string\n",
       "procuringEntity_identifier_scheme                    category\n",
       "procuringEntity_contactPoint_email                     string\n",
       "procuringEntity_contactPoint_name                      string\n",
       "procuringEntity_contactPoint_telephone                 string\n",
       "num_lots                                                int64\n",
       "procuringEntity_geo                                    object\n",
       "lots_id                                                object\n",
       "lots_status                                          category\n",
       "value_amount                                          float64\n",
       "value_currency                                       category\n",
       "value_valueAddedTaxIncluded                              bool\n",
       "bids_date                                              object\n",
       "bids_id                                                object\n",
       "bids_status                                            object\n",
       "bids_tenderers_name                                    object\n",
       "bids_tenderers_identifier_id                           string\n",
       "bids_tenderers_identifier_scheme                     category\n",
       "bids_tenderers_contactPoint_email                      string\n",
       "bids_tenderers_contactPoint_name                       string\n",
       "bids_tenderers_contactPoint_telephone                  string\n",
       "bids_tenderers_geo                                     object\n",
       "bids_value_amount                                     float64\n",
       "bids_value_currency                                    object\n",
       "bids_value_valueAddedTaxIncluded                       object\n",
       "awards_id                                              object\n",
       "awards_date                                            object\n",
       "awards_status                                          object\n",
       "awards_value_amount                                   float64\n",
       "awards_value_currency                                category\n",
       "awards_value_valueAddedTaxIncluded                     object\n",
       "code                                                   object\n",
       "items_classification_l0                                object\n",
       "items_classification_l1                                object\n",
       "items_classification_l2                                object\n",
       "dtype: object"
      ]
     },
     "execution_count": 119,
     "metadata": {},
     "output_type": "execute_result"
    }
   ],
   "source": [
    "df_merged.dtypes"
   ]
  },
  {
   "cell_type": "code",
   "execution_count": 118,
   "metadata": {},
   "outputs": [
    {
     "ename": "ValueError",
     "evalue": "A single number has been passed to the Point constructor. This is probably a mistake, because constructing a Point with just a latitude seems senseless. If this is exactly what was meant, then pass the zero longitude explicitly to get rid of this error.",
     "output_type": "error",
     "traceback": [
      "\u001b[0;31m---------------------------------------------------------------------------\u001b[0m",
      "\u001b[0;31mValueError\u001b[0m                                Traceback (most recent call last)",
      "\u001b[0;32m/tmp/ipykernel_20048/3952660917.py\u001b[0m in \u001b[0;36m<module>\u001b[0;34m\u001b[0m\n\u001b[1;32m      1\u001b[0m \u001b[0;32mfrom\u001b[0m \u001b[0mgeopy\u001b[0m \u001b[0;32mimport\u001b[0m \u001b[0mdistance\u001b[0m\u001b[0;34m\u001b[0m\u001b[0;34m\u001b[0m\u001b[0m\n\u001b[0;32m----> 2\u001b[0;31m \u001b[0mdf_merged\u001b[0m\u001b[0;34m[\u001b[0m\u001b[0;34m'geo_distance'\u001b[0m\u001b[0;34m]\u001b[0m\u001b[0;34m=\u001b[0m\u001b[0mdf_merged\u001b[0m\u001b[0;34m.\u001b[0m\u001b[0mapply\u001b[0m\u001b[0;34m(\u001b[0m\u001b[0;32mlambda\u001b[0m \u001b[0mx\u001b[0m\u001b[0;34m:\u001b[0m \u001b[0mdistance\u001b[0m\u001b[0;34m.\u001b[0m\u001b[0mdistance\u001b[0m\u001b[0;34m(\u001b[0m\u001b[0mx\u001b[0m\u001b[0;34m.\u001b[0m\u001b[0mprocuringEntity_geo\u001b[0m\u001b[0;34m,\u001b[0m \u001b[0mx\u001b[0m\u001b[0;34m.\u001b[0m\u001b[0mbids_tenderers_geo\u001b[0m\u001b[0;34m)\u001b[0m\u001b[0;34m.\u001b[0m\u001b[0mkm\u001b[0m \u001b[0;34m,\u001b[0m \u001b[0maxis\u001b[0m\u001b[0;34m=\u001b[0m\u001b[0;36m1\u001b[0m\u001b[0;34m)\u001b[0m\u001b[0;34m\u001b[0m\u001b[0;34m\u001b[0m\u001b[0m\n\u001b[0m\u001b[1;32m      3\u001b[0m \u001b[0;31m# df_merged['geo_distance'].plot.hist();\u001b[0m\u001b[0;34m\u001b[0m\u001b[0;34m\u001b[0m\u001b[0;34m\u001b[0m\u001b[0m\n",
      "\u001b[0;32m/opt/anaconda3/envs/env/lib/python3.8/site-packages/pandas/core/frame.py\u001b[0m in \u001b[0;36mapply\u001b[0;34m(self, func, axis, raw, result_type, args, **kwds)\u001b[0m\n\u001b[1;32m   7766\u001b[0m             \u001b[0mkwds\u001b[0m\u001b[0;34m=\u001b[0m\u001b[0mkwds\u001b[0m\u001b[0;34m,\u001b[0m\u001b[0;34m\u001b[0m\u001b[0;34m\u001b[0m\u001b[0m\n\u001b[1;32m   7767\u001b[0m         )\n\u001b[0;32m-> 7768\u001b[0;31m         \u001b[0;32mreturn\u001b[0m \u001b[0mop\u001b[0m\u001b[0;34m.\u001b[0m\u001b[0mget_result\u001b[0m\u001b[0;34m(\u001b[0m\u001b[0;34m)\u001b[0m\u001b[0;34m\u001b[0m\u001b[0;34m\u001b[0m\u001b[0m\n\u001b[0m\u001b[1;32m   7769\u001b[0m \u001b[0;34m\u001b[0m\u001b[0m\n\u001b[1;32m   7770\u001b[0m     \u001b[0;32mdef\u001b[0m \u001b[0mapplymap\u001b[0m\u001b[0;34m(\u001b[0m\u001b[0mself\u001b[0m\u001b[0;34m,\u001b[0m \u001b[0mfunc\u001b[0m\u001b[0;34m,\u001b[0m \u001b[0mna_action\u001b[0m\u001b[0;34m:\u001b[0m \u001b[0mOptional\u001b[0m\u001b[0;34m[\u001b[0m\u001b[0mstr\u001b[0m\u001b[0;34m]\u001b[0m \u001b[0;34m=\u001b[0m \u001b[0;32mNone\u001b[0m\u001b[0;34m)\u001b[0m \u001b[0;34m->\u001b[0m \u001b[0mDataFrame\u001b[0m\u001b[0;34m:\u001b[0m\u001b[0;34m\u001b[0m\u001b[0;34m\u001b[0m\u001b[0m\n",
      "\u001b[0;32m/opt/anaconda3/envs/env/lib/python3.8/site-packages/pandas/core/apply.py\u001b[0m in \u001b[0;36mget_result\u001b[0;34m(self)\u001b[0m\n\u001b[1;32m    183\u001b[0m             \u001b[0;32mreturn\u001b[0m \u001b[0mself\u001b[0m\u001b[0;34m.\u001b[0m\u001b[0mapply_raw\u001b[0m\u001b[0;34m(\u001b[0m\u001b[0;34m)\u001b[0m\u001b[0;34m\u001b[0m\u001b[0;34m\u001b[0m\u001b[0m\n\u001b[1;32m    184\u001b[0m \u001b[0;34m\u001b[0m\u001b[0m\n\u001b[0;32m--> 185\u001b[0;31m         \u001b[0;32mreturn\u001b[0m \u001b[0mself\u001b[0m\u001b[0;34m.\u001b[0m\u001b[0mapply_standard\u001b[0m\u001b[0;34m(\u001b[0m\u001b[0;34m)\u001b[0m\u001b[0;34m\u001b[0m\u001b[0;34m\u001b[0m\u001b[0m\n\u001b[0m\u001b[1;32m    186\u001b[0m \u001b[0;34m\u001b[0m\u001b[0m\n\u001b[1;32m    187\u001b[0m     \u001b[0;32mdef\u001b[0m \u001b[0mapply_empty_result\u001b[0m\u001b[0;34m(\u001b[0m\u001b[0mself\u001b[0m\u001b[0;34m)\u001b[0m\u001b[0;34m:\u001b[0m\u001b[0;34m\u001b[0m\u001b[0;34m\u001b[0m\u001b[0m\n",
      "\u001b[0;32m/opt/anaconda3/envs/env/lib/python3.8/site-packages/pandas/core/apply.py\u001b[0m in \u001b[0;36mapply_standard\u001b[0;34m(self)\u001b[0m\n\u001b[1;32m    274\u001b[0m \u001b[0;34m\u001b[0m\u001b[0m\n\u001b[1;32m    275\u001b[0m     \u001b[0;32mdef\u001b[0m \u001b[0mapply_standard\u001b[0m\u001b[0;34m(\u001b[0m\u001b[0mself\u001b[0m\u001b[0;34m)\u001b[0m\u001b[0;34m:\u001b[0m\u001b[0;34m\u001b[0m\u001b[0;34m\u001b[0m\u001b[0m\n\u001b[0;32m--> 276\u001b[0;31m         \u001b[0mresults\u001b[0m\u001b[0;34m,\u001b[0m \u001b[0mres_index\u001b[0m \u001b[0;34m=\u001b[0m \u001b[0mself\u001b[0m\u001b[0;34m.\u001b[0m\u001b[0mapply_series_generator\u001b[0m\u001b[0;34m(\u001b[0m\u001b[0;34m)\u001b[0m\u001b[0;34m\u001b[0m\u001b[0;34m\u001b[0m\u001b[0m\n\u001b[0m\u001b[1;32m    277\u001b[0m \u001b[0;34m\u001b[0m\u001b[0m\n\u001b[1;32m    278\u001b[0m         \u001b[0;31m# wrap results\u001b[0m\u001b[0;34m\u001b[0m\u001b[0;34m\u001b[0m\u001b[0;34m\u001b[0m\u001b[0m\n",
      "\u001b[0;32m/opt/anaconda3/envs/env/lib/python3.8/site-packages/pandas/core/apply.py\u001b[0m in \u001b[0;36mapply_series_generator\u001b[0;34m(self)\u001b[0m\n\u001b[1;32m    288\u001b[0m             \u001b[0;32mfor\u001b[0m \u001b[0mi\u001b[0m\u001b[0;34m,\u001b[0m \u001b[0mv\u001b[0m \u001b[0;32min\u001b[0m \u001b[0menumerate\u001b[0m\u001b[0;34m(\u001b[0m\u001b[0mseries_gen\u001b[0m\u001b[0;34m)\u001b[0m\u001b[0;34m:\u001b[0m\u001b[0;34m\u001b[0m\u001b[0;34m\u001b[0m\u001b[0m\n\u001b[1;32m    289\u001b[0m                 \u001b[0;31m# ignore SettingWithCopy here in case the user mutates\u001b[0m\u001b[0;34m\u001b[0m\u001b[0;34m\u001b[0m\u001b[0;34m\u001b[0m\u001b[0m\n\u001b[0;32m--> 290\u001b[0;31m                 \u001b[0mresults\u001b[0m\u001b[0;34m[\u001b[0m\u001b[0mi\u001b[0m\u001b[0;34m]\u001b[0m \u001b[0;34m=\u001b[0m \u001b[0mself\u001b[0m\u001b[0;34m.\u001b[0m\u001b[0mf\u001b[0m\u001b[0;34m(\u001b[0m\u001b[0mv\u001b[0m\u001b[0;34m)\u001b[0m\u001b[0;34m\u001b[0m\u001b[0;34m\u001b[0m\u001b[0m\n\u001b[0m\u001b[1;32m    291\u001b[0m                 \u001b[0;32mif\u001b[0m \u001b[0misinstance\u001b[0m\u001b[0;34m(\u001b[0m\u001b[0mresults\u001b[0m\u001b[0;34m[\u001b[0m\u001b[0mi\u001b[0m\u001b[0;34m]\u001b[0m\u001b[0;34m,\u001b[0m \u001b[0mABCSeries\u001b[0m\u001b[0;34m)\u001b[0m\u001b[0;34m:\u001b[0m\u001b[0;34m\u001b[0m\u001b[0;34m\u001b[0m\u001b[0m\n\u001b[1;32m    292\u001b[0m                     \u001b[0;31m# If we have a view on v, we need to make a copy because\u001b[0m\u001b[0;34m\u001b[0m\u001b[0;34m\u001b[0m\u001b[0;34m\u001b[0m\u001b[0m\n",
      "\u001b[0;32m/tmp/ipykernel_20048/3952660917.py\u001b[0m in \u001b[0;36m<lambda>\u001b[0;34m(x)\u001b[0m\n\u001b[1;32m      1\u001b[0m \u001b[0;32mfrom\u001b[0m \u001b[0mgeopy\u001b[0m \u001b[0;32mimport\u001b[0m \u001b[0mdistance\u001b[0m\u001b[0;34m\u001b[0m\u001b[0;34m\u001b[0m\u001b[0m\n\u001b[0;32m----> 2\u001b[0;31m \u001b[0mdf_merged\u001b[0m\u001b[0;34m[\u001b[0m\u001b[0;34m'geo_distance'\u001b[0m\u001b[0;34m]\u001b[0m\u001b[0;34m=\u001b[0m\u001b[0mdf_merged\u001b[0m\u001b[0;34m.\u001b[0m\u001b[0mapply\u001b[0m\u001b[0;34m(\u001b[0m\u001b[0;32mlambda\u001b[0m \u001b[0mx\u001b[0m\u001b[0;34m:\u001b[0m \u001b[0mdistance\u001b[0m\u001b[0;34m.\u001b[0m\u001b[0mdistance\u001b[0m\u001b[0;34m(\u001b[0m\u001b[0mx\u001b[0m\u001b[0;34m.\u001b[0m\u001b[0mprocuringEntity_geo\u001b[0m\u001b[0;34m,\u001b[0m \u001b[0mx\u001b[0m\u001b[0;34m.\u001b[0m\u001b[0mbids_tenderers_geo\u001b[0m\u001b[0;34m)\u001b[0m\u001b[0;34m.\u001b[0m\u001b[0mkm\u001b[0m \u001b[0;34m,\u001b[0m \u001b[0maxis\u001b[0m\u001b[0;34m=\u001b[0m\u001b[0;36m1\u001b[0m\u001b[0;34m)\u001b[0m\u001b[0;34m\u001b[0m\u001b[0;34m\u001b[0m\u001b[0m\n\u001b[0m\u001b[1;32m      3\u001b[0m \u001b[0;31m# df_merged['geo_distance'].plot.hist();\u001b[0m\u001b[0;34m\u001b[0m\u001b[0;34m\u001b[0m\u001b[0;34m\u001b[0m\u001b[0m\n",
      "\u001b[0;32m/opt/anaconda3/envs/env/lib/python3.8/site-packages/geopy/distance.py\u001b[0m in \u001b[0;36m__init__\u001b[0;34m(self, *args, **kwargs)\u001b[0m\n\u001b[1;32m    520\u001b[0m         \u001b[0mself\u001b[0m\u001b[0;34m.\u001b[0m\u001b[0mset_ellipsoid\u001b[0m\u001b[0;34m(\u001b[0m\u001b[0mkwargs\u001b[0m\u001b[0;34m.\u001b[0m\u001b[0mpop\u001b[0m\u001b[0;34m(\u001b[0m\u001b[0;34m'ellipsoid'\u001b[0m\u001b[0;34m,\u001b[0m \u001b[0;34m'WGS-84'\u001b[0m\u001b[0;34m)\u001b[0m\u001b[0;34m)\u001b[0m\u001b[0;34m\u001b[0m\u001b[0;34m\u001b[0m\u001b[0m\n\u001b[1;32m    521\u001b[0m         \u001b[0mmajor\u001b[0m\u001b[0;34m,\u001b[0m \u001b[0mminor\u001b[0m\u001b[0;34m,\u001b[0m \u001b[0mf\u001b[0m \u001b[0;34m=\u001b[0m \u001b[0mself\u001b[0m\u001b[0;34m.\u001b[0m\u001b[0mELLIPSOID\u001b[0m\u001b[0;34m\u001b[0m\u001b[0;34m\u001b[0m\u001b[0m\n\u001b[0;32m--> 522\u001b[0;31m         \u001b[0msuper\u001b[0m\u001b[0;34m(\u001b[0m\u001b[0;34m)\u001b[0m\u001b[0;34m.\u001b[0m\u001b[0m__init__\u001b[0m\u001b[0;34m(\u001b[0m\u001b[0;34m*\u001b[0m\u001b[0margs\u001b[0m\u001b[0;34m,\u001b[0m \u001b[0;34m**\u001b[0m\u001b[0mkwargs\u001b[0m\u001b[0;34m)\u001b[0m\u001b[0;34m\u001b[0m\u001b[0;34m\u001b[0m\u001b[0m\n\u001b[0m\u001b[1;32m    523\u001b[0m \u001b[0;34m\u001b[0m\u001b[0m\n\u001b[1;32m    524\u001b[0m     \u001b[0;32mdef\u001b[0m \u001b[0mset_ellipsoid\u001b[0m\u001b[0;34m(\u001b[0m\u001b[0mself\u001b[0m\u001b[0;34m,\u001b[0m \u001b[0mellipsoid\u001b[0m\u001b[0;34m)\u001b[0m\u001b[0;34m:\u001b[0m\u001b[0;34m\u001b[0m\u001b[0;34m\u001b[0m\u001b[0m\n",
      "\u001b[0;32m/opt/anaconda3/envs/env/lib/python3.8/site-packages/geopy/distance.py\u001b[0m in \u001b[0;36m__init__\u001b[0;34m(self, *args, **kwargs)\u001b[0m\n\u001b[1;32m    274\u001b[0m         \u001b[0;32melif\u001b[0m \u001b[0mlen\u001b[0m\u001b[0;34m(\u001b[0m\u001b[0margs\u001b[0m\u001b[0;34m)\u001b[0m \u001b[0;34m>\u001b[0m \u001b[0;36m1\u001b[0m\u001b[0;34m:\u001b[0m\u001b[0;34m\u001b[0m\u001b[0;34m\u001b[0m\u001b[0m\n\u001b[1;32m    275\u001b[0m             \u001b[0;32mfor\u001b[0m \u001b[0ma\u001b[0m\u001b[0;34m,\u001b[0m \u001b[0mb\u001b[0m \u001b[0;32min\u001b[0m \u001b[0mutil\u001b[0m\u001b[0;34m.\u001b[0m\u001b[0mpairwise\u001b[0m\u001b[0;34m(\u001b[0m\u001b[0margs\u001b[0m\u001b[0;34m)\u001b[0m\u001b[0;34m:\u001b[0m\u001b[0;34m\u001b[0m\u001b[0;34m\u001b[0m\u001b[0m\n\u001b[0;32m--> 276\u001b[0;31m                 \u001b[0mkilometers\u001b[0m \u001b[0;34m+=\u001b[0m \u001b[0mself\u001b[0m\u001b[0;34m.\u001b[0m\u001b[0mmeasure\u001b[0m\u001b[0;34m(\u001b[0m\u001b[0ma\u001b[0m\u001b[0;34m,\u001b[0m \u001b[0mb\u001b[0m\u001b[0;34m)\u001b[0m\u001b[0;34m\u001b[0m\u001b[0;34m\u001b[0m\u001b[0m\n\u001b[0m\u001b[1;32m    277\u001b[0m \u001b[0;34m\u001b[0m\u001b[0m\n\u001b[1;32m    278\u001b[0m         \u001b[0mkilometers\u001b[0m \u001b[0;34m+=\u001b[0m \u001b[0munits\u001b[0m\u001b[0;34m.\u001b[0m\u001b[0mkilometers\u001b[0m\u001b[0;34m(\u001b[0m\u001b[0;34m**\u001b[0m\u001b[0mkwargs\u001b[0m\u001b[0;34m)\u001b[0m\u001b[0;34m\u001b[0m\u001b[0;34m\u001b[0m\u001b[0m\n",
      "\u001b[0;32m/opt/anaconda3/envs/env/lib/python3.8/site-packages/geopy/distance.py\u001b[0m in \u001b[0;36mmeasure\u001b[0;34m(self, a, b)\u001b[0m\n\u001b[1;32m    536\u001b[0m \u001b[0;34m\u001b[0m\u001b[0m\n\u001b[1;32m    537\u001b[0m     \u001b[0;32mdef\u001b[0m \u001b[0mmeasure\u001b[0m\u001b[0;34m(\u001b[0m\u001b[0mself\u001b[0m\u001b[0;34m,\u001b[0m \u001b[0ma\u001b[0m\u001b[0;34m,\u001b[0m \u001b[0mb\u001b[0m\u001b[0;34m)\u001b[0m\u001b[0;34m:\u001b[0m\u001b[0;34m\u001b[0m\u001b[0;34m\u001b[0m\u001b[0m\n\u001b[0;32m--> 538\u001b[0;31m         \u001b[0ma\u001b[0m\u001b[0;34m,\u001b[0m \u001b[0mb\u001b[0m \u001b[0;34m=\u001b[0m \u001b[0mPoint\u001b[0m\u001b[0;34m(\u001b[0m\u001b[0ma\u001b[0m\u001b[0;34m)\u001b[0m\u001b[0;34m,\u001b[0m \u001b[0mPoint\u001b[0m\u001b[0;34m(\u001b[0m\u001b[0mb\u001b[0m\u001b[0;34m)\u001b[0m\u001b[0;34m\u001b[0m\u001b[0;34m\u001b[0m\u001b[0m\n\u001b[0m\u001b[1;32m    539\u001b[0m         \u001b[0m_ensure_same_altitude\u001b[0m\u001b[0;34m(\u001b[0m\u001b[0ma\u001b[0m\u001b[0;34m,\u001b[0m \u001b[0mb\u001b[0m\u001b[0;34m)\u001b[0m\u001b[0;34m\u001b[0m\u001b[0;34m\u001b[0m\u001b[0m\n\u001b[1;32m    540\u001b[0m         \u001b[0mlat1\u001b[0m\u001b[0;34m,\u001b[0m \u001b[0mlon1\u001b[0m \u001b[0;34m=\u001b[0m \u001b[0ma\u001b[0m\u001b[0;34m.\u001b[0m\u001b[0mlatitude\u001b[0m\u001b[0;34m,\u001b[0m \u001b[0ma\u001b[0m\u001b[0;34m.\u001b[0m\u001b[0mlongitude\u001b[0m\u001b[0;34m\u001b[0m\u001b[0;34m\u001b[0m\u001b[0m\n",
      "\u001b[0;32m/opt/anaconda3/envs/env/lib/python3.8/site-packages/geopy/point.py\u001b[0m in \u001b[0;36m__new__\u001b[0;34m(cls, latitude, longitude, altitude)\u001b[0m\n\u001b[1;32m    176\u001b[0m \u001b[0;34m\u001b[0m\u001b[0m\n\u001b[1;32m    177\u001b[0m         \u001b[0;32mif\u001b[0m \u001b[0msingle_arg\u001b[0m\u001b[0;34m:\u001b[0m\u001b[0;34m\u001b[0m\u001b[0;34m\u001b[0m\u001b[0m\n\u001b[0;32m--> 178\u001b[0;31m             raise ValueError(\n\u001b[0m\u001b[1;32m    179\u001b[0m                 \u001b[0;34m'A single number has been passed to the Point '\u001b[0m\u001b[0;34m\u001b[0m\u001b[0;34m\u001b[0m\u001b[0m\n\u001b[1;32m    180\u001b[0m                 \u001b[0;34m'constructor. This is probably a mistake, because '\u001b[0m\u001b[0;34m\u001b[0m\u001b[0;34m\u001b[0m\u001b[0m\n",
      "\u001b[0;31mValueError\u001b[0m: A single number has been passed to the Point constructor. This is probably a mistake, because constructing a Point with just a latitude seems senseless. If this is exactly what was meant, then pass the zero longitude explicitly to get rid of this error."
     ]
    }
   ],
   "source": [
    "from geopy import distance\n",
    "df_merged['geo_distance']=df_merged.apply(lambda x: distance.distance(x.procuringEntity_geo, x.bids_tenderers_geo).km , axis=1)\n",
    "# df_merged['geo_distance'].plot.hist();"
   ]
  },
  {
   "cell_type": "code",
   "execution_count": null,
   "metadata": {},
   "outputs": [],
   "source": []
  }
 ],
 "metadata": {
  "interpreter": {
   "hash": "8b793f5bcb65162c203a8f7ab5f10da95fa3f746ebbc21691ed336cc34611f1b"
  },
  "kernelspec": {
   "display_name": "Python 3.8.8 64-bit ('env': conda)",
   "name": "python3"
  },
  "language_info": {
   "codemirror_mode": {
    "name": "ipython",
    "version": 3
   },
   "file_extension": ".py",
   "mimetype": "text/x-python",
   "name": "python",
   "nbconvert_exporter": "python",
   "pygments_lexer": "ipython3",
   "version": "3.8.8"
  },
  "orig_nbformat": 4
 },
 "nbformat": 4,
 "nbformat_minor": 2
}
