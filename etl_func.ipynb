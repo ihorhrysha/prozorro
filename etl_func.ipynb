{
 "cells": [
  {
   "cell_type": "code",
   "execution_count": 1,
   "metadata": {},
   "outputs": [],
   "source": [
    "import pandas as pd \n",
    "import numpy as np\n",
    "from functools import partial\n",
    "from glob import glob\n",
    "\n",
    "from pymongo import MongoClient\n",
    "\n",
    "from utils.misc import read_mongo, batch\n",
    "from utils.geolocation import CachedGeolocator, region_fixer, locality_fixer, countryName_fixer, address_to_location\n",
    "from utils.dk021 import DK021\n",
    "from utils.etl import transform_dataset\n",
    "\n",
    "\n",
    "%matplotlib inline"
   ]
  },
  {
   "cell_type": "markdown",
   "metadata": {},
   "source": [
    "### Transform Chunked"
   ]
  },
  {
   "cell_type": "code",
   "execution_count": 3,
   "metadata": {},
   "outputs": [],
   "source": [
    "batch_size = 50_000\n",
    "\n",
    "# connect to tenders db\n",
    "cursor = MongoClient()['prozorro']['etenders'].find(no_cursor_timeout=True)\n",
    "\n",
    "\n",
    "try:\n",
    "    for idx, b in enumerate(batch(cursor, batch_size)):\n",
    "\n",
    "        transform_dataset(\n",
    "            df=pd.DataFrame(b).rename(columns={'_id':'id'})\n",
    "        ).to_parquet(f'./data/prepared/chunk_{idx}.parquet.gzip', compression='gzip') \n",
    "\n",
    "        print(f'chunk {idx}')\n",
    "# except Exception as e:\n",
    "#     print(e)\n",
    "finally:\n",
    "    cursor.close()"
   ]
  },
  {
   "cell_type": "markdown",
   "metadata": {},
   "source": [
    "### Restore & enreach"
   ]
  },
  {
   "cell_type": "code",
   "execution_count": 2,
   "metadata": {},
   "outputs": [],
   "source": [
    "files = sorted(glob('./data/prepared/chunk_*.parquet.gzip'))\n",
    "\n",
    "full_df = pd.read_parquet(files[0])\n",
    "for f in files[1:]:\n",
    "    full_df = pd.concat([full_df, pd.read_parquet(f)])\n"
   ]
  },
  {
   "cell_type": "code",
   "execution_count": 4,
   "metadata": {},
   "outputs": [],
   "source": [
    "classifier = DK021.load('./data/dk021.csv')\n",
    "# geo and classifier\n",
    "fixers = {\n",
    "    'locality': locality_fixer,\n",
    "    'region': region_fixer,\n",
    "    'countryName': countryName_fixer\n",
    "}\n",
    "geolocator = CachedGeolocator(cache_dir='./data/geo_cache', bad_cache_dir='./data/geo_cache_bad', verbose=False)\n",
    "get_location = partial(address_to_location, geolocator=geolocator, fixers=fixers)\n",
    "classifier = DK021.load('./data/dk021.csv')\n",
    "\n",
    "\n",
    "full_df = (\n",
    "    full_df\n",
    "    .query('~items_code.isna()')\n",
    "    .assign(\n",
    "        items_classification_l1 = lambda d: d.items_code.apply(lambda code: classifier.get_level_category(code=code, level=1).code),\n",
    "        items_classification_l2 = lambda d: d.items_code.apply(lambda code: classifier.get_level_category(code=code, level=2).code),\n",
    "        items_classification_l3 = lambda d: d.items_code.apply(lambda code: classifier.get_level_category(code=code, level=3).code)\n",
    "    )\n",
    "    .assign(\n",
    "        procuringEntity_geo = lambda d: d.procuringEntity_address.apply(lambda address:get_location(address)),\n",
    "        bids_tenderers_geo = lambda d: d.tenderers_address.apply(lambda address:get_location(address)),\n",
    "    )\n",
    ")\n",
    "\n",
    "geolocator.close()"
   ]
  },
  {
   "cell_type": "code",
   "execution_count": 2,
   "metadata": {},
   "outputs": [
    {
     "data": {
      "text/plain": [
       "5143.497758865356"
      ]
     },
     "execution_count": 2,
     "metadata": {},
     "output_type": "execute_result"
    }
   ],
   "source": [
    "from utils.misc import mem_usg\n",
    "\n",
    "# classifier = DK021.load('./data/dk021.csv')\n",
    "full_df = pd.read_parquet('./data/enreached/full.parquet.gzip')\n",
    "\n",
    "mem_usg(full_df)/(1024*1024)"
   ]
  },
  {
   "cell_type": "code",
   "execution_count": 3,
   "metadata": {},
   "outputs": [
    {
     "data": {
      "text/plain": [
       "3840.0748462677"
      ]
     },
     "execution_count": 3,
     "metadata": {},
     "output_type": "execute_result"
    }
   ],
   "source": [
    "mem_usg(full_df.astype({\n",
    "    'owner': 'category', \n",
    "    'procurementMethod': 'category', \n",
    "    'status': 'category', \n",
    "    'procurementMethodType': 'category',\n",
    "    'procuringEntity_kind': 'category', \n",
    "    'procuringEntity_identifier_scheme': 'category', \n",
    "    'value_currency': 'category', \n",
    "    'bids_status': 'category',\n",
    "    'bids_tenderers_identifier_scheme': 'category', \n",
    "    'bids_value_currency': 'category', \n",
    "    'awards_value_currency': 'category', \n",
    "    'items_code': 'category',\n",
    "    'items_classification_l1': 'category', \n",
    "    'items_classification_l2': 'category',\n",
    "    'items_classification_l3': 'category'\n",
    "}).drop(columns=['procuringEntity_address','tenderers_address']))/(1024*1024)"
   ]
  },
  {
   "cell_type": "code",
   "execution_count": 26,
   "metadata": {},
   "outputs": [],
   "source": [
    "# calc distance\n",
    "from geopy import distance\n",
    "full_df['geo_distance']=full_df.apply(\n",
    "    lambda x: distance.distance(x.procuringEntity_geo, x.bids_tenderers_geo).km \n",
    "        if all([x.procuringEntity_geo is not None, x.bids_tenderers_geo is not None]) \n",
    "        else pd.NA, \n",
    "    axis=1\n",
    ")\n"
   ]
  },
  {
   "cell_type": "code",
   "execution_count": 31,
   "metadata": {},
   "outputs": [
    {
     "data": {
      "text/plain": [
       "False    2154765\n",
       "True      218044\n",
       "Name: geo_distance, dtype: int64"
      ]
     },
     "execution_count": 31,
     "metadata": {},
     "output_type": "execute_result"
    }
   ],
   "source": [
    "full_df.geo_distance.isna().value_counts()"
   ]
  },
  {
   "cell_type": "markdown",
   "metadata": {},
   "source": [
    "### Example Economy"
   ]
  },
  {
   "cell_type": "code",
   "execution_count": 3,
   "metadata": {},
   "outputs": [],
   "source": [
    "# TO SHOW\n",
    "# tender bids lots awards\n",
    "# items\n",
    "# dk021, geo\n",
    "\n"
   ]
  },
  {
   "cell_type": "code",
   "execution_count": 7,
   "metadata": {},
   "outputs": [
    {
     "data": {
      "text/html": [
       "<div>\n",
       "<style scoped>\n",
       "    .dataframe tbody tr th:only-of-type {\n",
       "        vertical-align: middle;\n",
       "    }\n",
       "\n",
       "    .dataframe tbody tr th {\n",
       "        vertical-align: top;\n",
       "    }\n",
       "\n",
       "    .dataframe thead th {\n",
       "        text-align: right;\n",
       "    }\n",
       "</style>\n",
       "<table border=\"1\" class=\"dataframe\">\n",
       "  <thead>\n",
       "    <tr style=\"text-align: right;\">\n",
       "      <th></th>\n",
       "      <th>id</th>\n",
       "      <th>lots_id</th>\n",
       "      <th>bids_id</th>\n",
       "      <th>items_code</th>\n",
       "      <th>items_classification_l1</th>\n",
       "      <th>items_classification_l2</th>\n",
       "      <th>items_classification_l3</th>\n",
       "      <th>numberOfBids</th>\n",
       "      <th>num_lots</th>\n",
       "      <th>awards_status</th>\n",
       "      <th>status</th>\n",
       "      <th>value_amount</th>\n",
       "      <th>bids_value_amount</th>\n",
       "      <th>awards_value_amount</th>\n",
       "    </tr>\n",
       "  </thead>\n",
       "  <tbody>\n",
       "    <tr>\n",
       "      <th>76067</th>\n",
       "      <td>98d54c150056474fbedb5420f8aad0d9</td>\n",
       "      <td>76da00fa661a4e51bf34f0e791833bd2</td>\n",
       "      <td>1215fd8627904632b2771d21998006e5</td>\n",
       "      <td>33141113-4</td>\n",
       "      <td>33000000-0</td>\n",
       "      <td>33100000-1</td>\n",
       "      <td>33140000-3</td>\n",
       "      <td>2</td>\n",
       "      <td>2</td>\n",
       "      <td>NaN</td>\n",
       "      <td>complete</td>\n",
       "      <td>1060036.0</td>\n",
       "      <td>1052085.85</td>\n",
       "      <td>NaN</td>\n",
       "    </tr>\n",
       "    <tr>\n",
       "      <th>76068</th>\n",
       "      <td>98d54c150056474fbedb5420f8aad0d9</td>\n",
       "      <td>76da00fa661a4e51bf34f0e791833bd2</td>\n",
       "      <td>15935b3d80944ce2b1fa5bdc63bcc5d3</td>\n",
       "      <td>33141113-4</td>\n",
       "      <td>33000000-0</td>\n",
       "      <td>33100000-1</td>\n",
       "      <td>33140000-3</td>\n",
       "      <td>2</td>\n",
       "      <td>2</td>\n",
       "      <td>active</td>\n",
       "      <td>complete</td>\n",
       "      <td>1060036.0</td>\n",
       "      <td>1019377.02</td>\n",
       "      <td>1019377.02</td>\n",
       "    </tr>\n",
       "    <tr>\n",
       "      <th>76069</th>\n",
       "      <td>98d54c150056474fbedb5420f8aad0d9</td>\n",
       "      <td>e32dc54313cf4e22862196b85299d87f</td>\n",
       "      <td>1215fd8627904632b2771d21998006e5</td>\n",
       "      <td>33140000-3</td>\n",
       "      <td>33000000-0</td>\n",
       "      <td>33100000-1</td>\n",
       "      <td>33140000-3</td>\n",
       "      <td>2</td>\n",
       "      <td>2</td>\n",
       "      <td>NaN</td>\n",
       "      <td>complete</td>\n",
       "      <td>2270252.0</td>\n",
       "      <td>2267523.67</td>\n",
       "      <td>NaN</td>\n",
       "    </tr>\n",
       "    <tr>\n",
       "      <th>76070</th>\n",
       "      <td>98d54c150056474fbedb5420f8aad0d9</td>\n",
       "      <td>e32dc54313cf4e22862196b85299d87f</td>\n",
       "      <td>15935b3d80944ce2b1fa5bdc63bcc5d3</td>\n",
       "      <td>33140000-3</td>\n",
       "      <td>33000000-0</td>\n",
       "      <td>33100000-1</td>\n",
       "      <td>33140000-3</td>\n",
       "      <td>2</td>\n",
       "      <td>2</td>\n",
       "      <td>active</td>\n",
       "      <td>complete</td>\n",
       "      <td>2270252.0</td>\n",
       "      <td>2266848.50</td>\n",
       "      <td>2266848.50</td>\n",
       "    </tr>\n",
       "  </tbody>\n",
       "</table>\n",
       "</div>"
      ],
      "text/plain": [
       "                                     id                           lots_id  \\\n",
       "76067  98d54c150056474fbedb5420f8aad0d9  76da00fa661a4e51bf34f0e791833bd2   \n",
       "76068  98d54c150056474fbedb5420f8aad0d9  76da00fa661a4e51bf34f0e791833bd2   \n",
       "76069  98d54c150056474fbedb5420f8aad0d9  e32dc54313cf4e22862196b85299d87f   \n",
       "76070  98d54c150056474fbedb5420f8aad0d9  e32dc54313cf4e22862196b85299d87f   \n",
       "\n",
       "                                bids_id  items_code items_classification_l1  \\\n",
       "76067  1215fd8627904632b2771d21998006e5  33141113-4              33000000-0   \n",
       "76068  15935b3d80944ce2b1fa5bdc63bcc5d3  33141113-4              33000000-0   \n",
       "76069  1215fd8627904632b2771d21998006e5  33140000-3              33000000-0   \n",
       "76070  15935b3d80944ce2b1fa5bdc63bcc5d3  33140000-3              33000000-0   \n",
       "\n",
       "      items_classification_l2 items_classification_l3  numberOfBids  num_lots  \\\n",
       "76067              33100000-1              33140000-3             2         2   \n",
       "76068              33100000-1              33140000-3             2         2   \n",
       "76069              33100000-1              33140000-3             2         2   \n",
       "76070              33100000-1              33140000-3             2         2   \n",
       "\n",
       "      awards_status    status  value_amount  bids_value_amount  \\\n",
       "76067           NaN  complete     1060036.0         1052085.85   \n",
       "76068        active  complete     1060036.0         1019377.02   \n",
       "76069           NaN  complete     2270252.0         2267523.67   \n",
       "76070        active  complete     2270252.0         2266848.50   \n",
       "\n",
       "       awards_value_amount  \n",
       "76067                  NaN  \n",
       "76068           1019377.02  \n",
       "76069                  NaN  \n",
       "76070           2266848.50  "
      ]
     },
     "execution_count": 7,
     "metadata": {},
     "output_type": "execute_result"
    }
   ],
   "source": [
    "full_df[full_df.id=='98d54c150056474fbedb5420f8aad0d9'][['id', 'lots_id',  'bids_id', 'items_code', 'items_classification_l1', 'items_classification_l2', 'items_classification_l3', 'numberOfBids', 'num_lots',  'awards_status', 'status', 'value_amount', 'bids_value_amount', 'awards_value_amount']]"
   ]
  },
  {
   "cell_type": "code",
   "execution_count": 8,
   "metadata": {},
   "outputs": [],
   "source": [
    "classifier = DK021.load('./data/dk021.csv')"
   ]
  },
  {
   "cell_type": "code",
   "execution_count": 15,
   "metadata": {},
   "outputs": [
    {
     "data": {
      "text/plain": [
       "45000000-7    291205\n",
       "15000000-8    231823\n",
       "09000000-3    230018\n",
       "33000000-0    227106\n",
       "30000000-9    160485\n",
       "39000000-2    137493\n",
       "44000000-0    132987\n",
       "50000000-5     98026\n",
       "34000000-7     76170\n",
       "03000000-1     75330\n",
       "31000000-6     73379\n",
       "71000000-8     71979\n",
       "42000000-6     53879\n",
       "18000000-9     47384\n",
       "24000000-4     43459\n",
       "32000000-3     41046\n",
       "79000000-4     38334\n",
       "90000000-7     36162\n",
       "38000000-5     33127\n",
       "22000000-0     28799\n",
       "72000000-5     26326\n",
       "14000000-1     25643\n",
       "35000000-4     24035\n",
       "37000000-8     20981\n",
       "55000000-0     20744\n",
       "19000000-6     14997\n",
       "77000000-0     13421\n",
       "48000000-8     12616\n",
       "66000000-0     11911\n",
       "60000000-8      8915\n",
       "80000000-4      8301\n",
       "43000000-3      6939\n",
       "98000000-3      6762\n",
       "85000000-9      6452\n",
       "16000000-5      6173\n",
       "51000000-9      5891\n",
       "75000000-6      4414\n",
       "92000000-1      4256\n",
       "63000000-9      3422\n",
       "73000000-2      3273\n",
       "64000000-6      3238\n",
       "99999999-9      1708\n",
       "41000000-9      1555\n",
       "70000000-1      1181\n",
       "76000000-3      1137\n",
       "65000000-3       327\n",
       "Name: items_classification_l1, dtype: int64"
      ]
     },
     "execution_count": 15,
     "metadata": {},
     "output_type": "execute_result"
    }
   ],
   "source": [
    "full_df.items_classification_l1.value_counts()"
   ]
  },
  {
   "cell_type": "code",
   "execution_count": 14,
   "metadata": {},
   "outputs": [
    {
     "data": {
      "text/plain": [
       "'Бинти'"
      ]
     },
     "execution_count": 14,
     "metadata": {},
     "output_type": "execute_result"
    }
   ],
   "source": [
    "classifier.get_level_category('33141113-4',level=5).description"
   ]
  },
  {
   "cell_type": "code",
   "execution_count": 4,
   "metadata": {},
   "outputs": [
    {
     "data": {
      "text/plain": [
       "id                                                     string\n",
       "date                                      datetime64[ns, UTC]\n",
       "dateModified                              datetime64[ns, UTC]\n",
       "tenderID                                               string\n",
       "owner                                                category\n",
       "procurementMethod                                    category\n",
       "submissionMethod                                     category\n",
       "numberOfBids                                             int8\n",
       "status                                               category\n",
       "procurementMethodType                                category\n",
       "mainProcurementCategory                              category\n",
       "procuringEntity_name                                   string\n",
       "procuringEntity_kind                                 category\n",
       "procuringEntity_address                                object\n",
       "num_lots                                                 int8\n",
       "procuringEntity_identifier_id                          string\n",
       "procuringEntity_identifier_scheme                    category\n",
       "procuringEntity_contactPoint_email                     string\n",
       "procuringEntity_contactPoint_name                      string\n",
       "procuringEntity_contactPoint_telephone                 string\n",
       "lots_id                                                string\n",
       "value_amount                                          float64\n",
       "value_currency                                       category\n",
       "value_valueAddedTaxIncluded                              bool\n",
       "lots_status                                          category\n",
       "bids_date                                 datetime64[ns, UTC]\n",
       "bids_id                                                string\n",
       "bids_status                                          category\n",
       "bids_tenderers_name                                    string\n",
       "bids_tenderers_identifier_id                           string\n",
       "bids_tenderers_identifier_scheme                     category\n",
       "bids_tenderers_contactPoint_email                      string\n",
       "bids_tenderers_contactPoint_name                       string\n",
       "bids_tenderers_contactPoint_telephone                  string\n",
       "tenderers_address                                      object\n",
       "bids_value_amount                                     float64\n",
       "bids_value_currency                                  category\n",
       "bids_value_valueAddedTaxIncluded                         bool\n",
       "awards_date                               datetime64[ns, UTC]\n",
       "awards_status                                        category\n",
       "awards_value_amount                                   float64\n",
       "awards_value_currency                                category\n",
       "awards_value_valueAddedTaxIncluded                       bool\n",
       "items_code                                           category\n",
       "items_classification_l1                              category\n",
       "items_classification_l2                              category\n",
       "items_classification_l3                              category\n",
       "procuringEntity_geo                                    object\n",
       "bids_tenderers_geo                                     object\n",
       "geo_distance                                          float64\n",
       "dtype: object"
      ]
     },
     "execution_count": 4,
     "metadata": {},
     "output_type": "execute_result"
    }
   ],
   "source": [
    "full_df.dtypes"
   ]
  },
  {
   "cell_type": "code",
   "execution_count": 43,
   "metadata": {},
   "outputs": [
    {
     "data": {
      "text/plain": [
       "Timestamp('2021-10-31 21:01:23.914932+0000', tz='UTC')"
      ]
     },
     "execution_count": 43,
     "metadata": {},
     "output_type": "execute_result"
    }
   ],
   "source": [
    "full_df.date.max()"
   ]
  },
  {
   "cell_type": "code",
   "execution_count": 28,
   "metadata": {},
   "outputs": [
    {
     "data": {
      "text/plain": [
       "economy        132597677057\n",
       "est_economy    546155392707\n",
       "dtype: int64"
      ]
     },
     "execution_count": 28,
     "metadata": {},
     "output_type": "execute_result"
    }
   ],
   "source": [
    "(\n",
    "    full_df[(full_df.status=='complete') & (full_df.awards_status == 'active')]\n",
    "    [['id', 'lots_id', 'numberOfBids','value_amount', 'awards_value_amount']]\n",
    "    .groupby(by=['id', 'lots_id'])\n",
    "    .agg(min)\n",
    "    .reset_index()\n",
    "    .assign(\n",
    "        economy = lambda d: d.value_amount - d.awards_value_amount,\n",
    "        est_economy = lambda d: d.value_amount - d.value_amount*0.65\n",
    "    )\n",
    ")[['economy', 'est_economy']].astype(np.int64).sum()\n",
    "\n"
   ]
  },
  {
   "cell_type": "code",
   "execution_count": 32,
   "metadata": {},
   "outputs": [
    {
     "data": {
      "text/plain": [
       "413557.6369"
      ]
     },
     "execution_count": 32,
     "metadata": {},
     "output_type": "execute_result"
    }
   ],
   "source": [
    "(546155583773 - 132597946873)/1_000_000"
   ]
  },
  {
   "cell_type": "code",
   "execution_count": 34,
   "metadata": {},
   "outputs": [
    {
     "data": {
      "text/html": [
       "<div>\n",
       "<style scoped>\n",
       "    .dataframe tbody tr th:only-of-type {\n",
       "        vertical-align: middle;\n",
       "    }\n",
       "\n",
       "    .dataframe tbody tr th {\n",
       "        vertical-align: top;\n",
       "    }\n",
       "\n",
       "    .dataframe thead th {\n",
       "        text-align: right;\n",
       "    }\n",
       "</style>\n",
       "<table border=\"1\" class=\"dataframe\">\n",
       "  <thead>\n",
       "    <tr style=\"text-align: right;\">\n",
       "      <th></th>\n",
       "      <th>numberOfBids</th>\n",
       "      <th>cnt</th>\n",
       "      <th>economy</th>\n",
       "      <th>value_amount</th>\n",
       "      <th>awards_value_amount</th>\n",
       "      <th>count_log</th>\n",
       "    </tr>\n",
       "  </thead>\n",
       "  <tbody>\n",
       "    <tr>\n",
       "      <th>0</th>\n",
       "      <td>1</td>\n",
       "      <td>272064</td>\n",
       "      <td>4.818293</td>\n",
       "      <td>5.545546e+10</td>\n",
       "      <td>5.364767e+10</td>\n",
       "      <td>270.803798</td>\n",
       "    </tr>\n",
       "    <tr>\n",
       "      <th>1</th>\n",
       "      <td>2</td>\n",
       "      <td>300337</td>\n",
       "      <td>10.025346</td>\n",
       "      <td>8.612403e+11</td>\n",
       "      <td>8.116753e+11</td>\n",
       "      <td>272.943340</td>\n",
       "    </tr>\n",
       "    <tr>\n",
       "      <th>2</th>\n",
       "      <td>3</td>\n",
       "      <td>120906</td>\n",
       "      <td>18.662282</td>\n",
       "      <td>3.106225e+11</td>\n",
       "      <td>2.792178e+11</td>\n",
       "      <td>253.252895</td>\n",
       "    </tr>\n",
       "    <tr>\n",
       "      <th>3</th>\n",
       "      <td>4</td>\n",
       "      <td>59413</td>\n",
       "      <td>23.539578</td>\n",
       "      <td>1.292211e+11</td>\n",
       "      <td>1.112743e+11</td>\n",
       "      <td>237.877365</td>\n",
       "    </tr>\n",
       "    <tr>\n",
       "      <th>4</th>\n",
       "      <td>5</td>\n",
       "      <td>28961</td>\n",
       "      <td>28.048722</td>\n",
       "      <td>7.365568e+10</td>\n",
       "      <td>6.141915e+10</td>\n",
       "      <td>222.327357</td>\n",
       "    </tr>\n",
       "    <tr>\n",
       "      <th>5</th>\n",
       "      <td>6</td>\n",
       "      <td>14807</td>\n",
       "      <td>30.416978</td>\n",
       "      <td>2.792069e+10</td>\n",
       "      <td>2.291922e+10</td>\n",
       "      <td>207.809876</td>\n",
       "    </tr>\n",
       "    <tr>\n",
       "      <th>6</th>\n",
       "      <td>7</td>\n",
       "      <td>7794</td>\n",
       "      <td>33.004112</td>\n",
       "      <td>2.568979e+10</td>\n",
       "      <td>2.031637e+10</td>\n",
       "      <td>193.922223</td>\n",
       "    </tr>\n",
       "    <tr>\n",
       "      <th>7</th>\n",
       "      <td>8</td>\n",
       "      <td>4498</td>\n",
       "      <td>33.923021</td>\n",
       "      <td>2.605870e+10</td>\n",
       "      <td>2.308378e+10</td>\n",
       "      <td>182.026019</td>\n",
       "    </tr>\n",
       "    <tr>\n",
       "      <th>8</th>\n",
       "      <td>9</td>\n",
       "      <td>2469</td>\n",
       "      <td>35.615195</td>\n",
       "      <td>8.148888e+09</td>\n",
       "      <td>6.866796e+09</td>\n",
       "      <td>169.045667</td>\n",
       "    </tr>\n",
       "    <tr>\n",
       "      <th>9</th>\n",
       "      <td>10</td>\n",
       "      <td>1461</td>\n",
       "      <td>36.696603</td>\n",
       "      <td>8.343116e+09</td>\n",
       "      <td>7.052200e+09</td>\n",
       "      <td>157.691107</td>\n",
       "    </tr>\n",
       "  </tbody>\n",
       "</table>\n",
       "</div>"
      ],
      "text/plain": [
       "   numberOfBids     cnt    economy  value_amount  awards_value_amount  \\\n",
       "0             1  272064   4.818293  5.545546e+10         5.364767e+10   \n",
       "1             2  300337  10.025346  8.612403e+11         8.116753e+11   \n",
       "2             3  120906  18.662282  3.106225e+11         2.792178e+11   \n",
       "3             4   59413  23.539578  1.292211e+11         1.112743e+11   \n",
       "4             5   28961  28.048722  7.365568e+10         6.141915e+10   \n",
       "5             6   14807  30.416978  2.792069e+10         2.291922e+10   \n",
       "6             7    7794  33.004112  2.568979e+10         2.031637e+10   \n",
       "7             8    4498  33.923021  2.605870e+10         2.308378e+10   \n",
       "8             9    2469  35.615195  8.148888e+09         6.866796e+09   \n",
       "9            10    1461  36.696603  8.343116e+09         7.052200e+09   \n",
       "\n",
       "    count_log  \n",
       "0  270.803798  \n",
       "1  272.943340  \n",
       "2  253.252895  \n",
       "3  237.877365  \n",
       "4  222.327357  \n",
       "5  207.809876  \n",
       "6  193.922223  \n",
       "7  182.026019  \n",
       "8  169.045667  \n",
       "9  157.691107  "
      ]
     },
     "execution_count": 34,
     "metadata": {},
     "output_type": "execute_result"
    }
   ],
   "source": [
    "cnt_eco=(\n",
    "    full_df[(full_df.status=='complete') & (full_df.awards_status == 'active')]\n",
    "    [['id', 'lots_id', 'numberOfBids','value_amount', 'awards_value_amount']]\n",
    "    .query('numberOfBids>0')\n",
    "    .groupby(by=['id', 'lots_id'])\n",
    "    .agg(min)\n",
    "    .reset_index()\n",
    "    .groupby(by=['id'])\n",
    "    .agg({\n",
    "        'numberOfBids': min,\n",
    "        'value_amount': sum,\n",
    "        'awards_value_amount': sum\n",
    "    })\n",
    "    .reset_index()\n",
    "    .assign(\n",
    "        economy = lambda d: 100*(d.value_amount - d.awards_value_amount)/d.value_amount\n",
    "    )\n",
    "    .groupby(by=['numberOfBids'])\n",
    "    .agg({\n",
    "        'id': 'count',\n",
    "        'economy': 'mean',\n",
    "        'value_amount': sum,\n",
    "        'awards_value_amount': sum\n",
    "    })\n",
    "    .reset_index()\n",
    "    .rename(columns={'id':'cnt'})\n",
    "    .query('cnt>1000')\n",
    "    .sort_values(by='numberOfBids')\n",
    "    .assign(\n",
    "        count_log = lambda d: np.log2(d.cnt)*15\n",
    "    )\n",
    ")\n",
    "cnt_eco"
   ]
  },
  {
   "cell_type": "code",
   "execution_count": 36,
   "metadata": {},
   "outputs": [
    {
     "data": {
      "text/plain": [
       "8.443876365284083"
      ]
     },
     "execution_count": 36,
     "metadata": {},
     "output_type": "execute_result"
    }
   ],
   "source": [
    "avg_eco = 100*(cnt_eco.value_amount.sum() - cnt_eco.awards_value_amount.sum())/cnt_eco.value_amount.sum()\n",
    "avg_eco"
   ]
  },
  {
   "cell_type": "code",
   "execution_count": 37,
   "metadata": {},
   "outputs": [
    {
     "data": {
      "text/plain": [
       "28.048721521108288"
      ]
     },
     "execution_count": 37,
     "metadata": {},
     "output_type": "execute_result"
    }
   ],
   "source": [
    "avg_eco_at_5 = cnt_eco[cnt_eco.numberOfBids==5].economy.iloc[0]\n",
    "avg_eco_at_5"
   ]
  },
  {
   "cell_type": "code",
   "execution_count": 38,
   "metadata": {},
   "outputs": [
    {
     "data": {
      "image/png": "[encoded data removed]",
      "text/plain": [
       "<Figure size 720x432 with 1 Axes>"
      ]
     },
     "metadata": {
      "needs_background": "light"
     },
     "output_type": "display_data"
    }
   ],
   "source": [
    "import matplotlib.pyplot as plt\n",
    "import seaborn as sns\n",
    "\n",
    "fig, ax = plt.subplots(figsize=(10,6))\n",
    "ax.axhline(avg_eco, ls='--', color='red')\n",
    "ax.axhline(avg_eco_at_5, ls='--', color='green')\n",
    "ax = sns.scatterplot(ax=ax, data=cnt_eco, x=\"numberOfBids\", palette=\"deep\", y=\"economy\", size='count_log', legend=False)\n",
    "ax.set_xlabel('# of bids per tender')\n",
    "ax.set_ylabel('Relative economy, %')\n",
    "ax.set_xticks(cnt_eco.numberOfBids.to_list());"
   ]
  }
 ],
 "metadata": {
  "interpreter": {
   "hash": "8b793f5bcb65162c203a8f7ab5f10da95fa3f746ebbc21691ed336cc34611f1b"
  },
  "kernelspec": {
   "display_name": "Python 3.8.8 64-bit ('env': conda)",
   "name": "python3"
  },
  "language_info": {
   "codemirror_mode": {
    "name": "ipython",
    "version": 3
   },
   "file_extension": ".py",
   "mimetype": "text/x-python",
   "name": "python",
   "nbconvert_exporter": "python",
   "pygments_lexer": "ipython3",
   "version": "3.8.8"
  },
  "orig_nbformat": 4
 },
 "nbformat": 4,
 "nbformat_minor": 2
}
