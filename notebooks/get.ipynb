{
 "cells": [
  {
   "cell_type": "code",
   "execution_count": 1,
   "metadata": {},
   "outputs": [
    {
     "name": "stdout",
     "output_type": "stream",
     "text": [
      "Requirement already satisfied: seaborn in /opt/anaconda3/envs/env/lib/python3.8/site-packages (0.11.2)\n",
      "Requirement already satisfied: pandas>=0.23 in /opt/anaconda3/envs/env/lib/python3.8/site-packages (from seaborn) (1.2.4)\n",
      "Requirement already satisfied: numpy>=1.15 in /opt/anaconda3/envs/env/lib/python3.8/site-packages (from seaborn) (1.20.1)\n",
      "Requirement already satisfied: matplotlib>=2.2 in /opt/anaconda3/envs/env/lib/python3.8/site-packages (from seaborn) (3.4.3)\n",
      "Requirement already satisfied: scipy>=1.0 in /opt/anaconda3/envs/env/lib/python3.8/site-packages (from seaborn) (1.7.1)\n",
      "Requirement already satisfied: pillow>=6.2.0 in /opt/anaconda3/envs/env/lib/python3.8/site-packages (from matplotlib>=2.2->seaborn) (8.4.0)\n",
      "Requirement already satisfied: kiwisolver>=1.0.1 in /opt/anaconda3/envs/env/lib/python3.8/site-packages (from matplotlib>=2.2->seaborn) (1.3.2)\n",
      "Requirement already satisfied: cycler>=0.10 in /opt/anaconda3/envs/env/lib/python3.8/site-packages (from matplotlib>=2.2->seaborn) (0.11.0)\n",
      "Requirement already satisfied: pyparsing>=2.2.1 in /opt/anaconda3/envs/env/lib/python3.8/site-packages (from matplotlib>=2.2->seaborn) (2.4.7)\n",
      "Requirement already satisfied: python-dateutil>=2.7 in /opt/anaconda3/envs/env/lib/python3.8/site-packages (from matplotlib>=2.2->seaborn) (2.8.1)\n",
      "Requirement already satisfied: pytz>=2017.3 in /opt/anaconda3/envs/env/lib/python3.8/site-packages (from pandas>=0.23->seaborn) (2021.1)\n",
      "Requirement already satisfied: six>=1.5 in /opt/anaconda3/envs/env/lib/python3.8/site-packages (from python-dateutil>=2.7->matplotlib>=2.2->seaborn) (1.15.0)\n",
      "\u001b[33mWARNING: You are using pip version 21.1.2; however, version 21.3.1 is available.\n",
      "You should consider upgrading via the '/opt/anaconda3/envs/env/bin/python -m pip install --upgrade pip' command.\u001b[0m\n"
     ]
    }
   ],
   "source": [
    "!pip install seaborn"
   ]
  },
  {
   "cell_type": "code",
   "execution_count": 1,
   "metadata": {},
   "outputs": [],
   "source": [
    "import requests \n",
    "from pprint import pprint as pp\n",
    "import pandas as pd \n",
    "from tqdm import tqdm \n",
    "from datetime import date \n",
    "import seaborn as sns\n",
    "import matplotlib.pyplot as plt\n",
    "from datetime import datetime\n",
    "\n",
    "import os\n",
    "import numpy as np\n",
    "\n",
    "import pymongo\n",
    "from pymongo import MongoClient\n",
    "from IPython.display import clear_output \n",
    "\n",
    "from utils.misc import subcollection_to_df\n",
    "\n",
    "%matplotlib inline"
   ]
  },
  {
   "cell_type": "markdown",
   "metadata": {},
   "source": [
    "[tender Schema](https://gist.github.com/imaginal/bf19e659b34b6acd7ee002f6b88dbf81)\n",
    "\n",
    "[interesting example, lots, multiple awards ect](https://public.api.openprocurement.org/api/2.5/tenders/98d54c150056474fbedb5420f8aad0d9)"
   ]
  },
  {
   "cell_type": "markdown",
   "metadata": {},
   "source": [
    "## Download data from API\n",
    "\n",
    "Depricated: Use scrapy"
   ]
  },
  {
   "cell_type": "code",
   "execution_count": 3,
   "metadata": {},
   "outputs": [
    {
     "data": {
      "text/plain": [
       "datetime.datetime(2021, 9, 1, 0, 0)"
      ]
     },
     "execution_count": 3,
     "metadata": {},
     "output_type": "execute_result"
    }
   ],
   "source": [
    "import datetime\n",
    "\n",
    "\n",
    "datetime.datetime.fromisoformat('2021-10-01') - datetime.timedelta(days=30)"
   ]
  },
  {
   "cell_type": "code",
   "execution_count": 4,
   "metadata": {},
   "outputs": [],
   "source": [
    "from urllib.parse import urlparse, parse_qsl, urljoin\n",
    "import datetime\n",
    "\n",
    "tz = datetime.timezone(datetime.timedelta(seconds=10800))\n",
    "start_date = datetime.datetime(2021,1,1,tzinfo=tz)\n",
    "end_date = datetime.datetime(2021,10,1,tzinfo=tz)\n",
    "\n",
    "api_path = \"https://public.api.openprocurement.org/api/2.5/\"\n",
    "\n",
    "next_page_url = urljoin(api_path,f\"tenders?offset={start_date.isoformat()}\")\n",
    "offset_date = start_date\n",
    "\n",
    "tender_ids = []\n",
    "\n",
    "while offset_date<end_date:\n",
    "\n",
    "    clear_output()\n",
    "    print(f'Date {offset_date} tender ids {len(tender_ids) }')\n",
    "\n",
    "    page = requests.get(next_page_url).json()\n",
    "    \n",
    "    # new next page\n",
    "    next_page_url = page[\"next_page\"][\"uri\"]    \n",
    "\n",
    "    tender_ids += [tender[\"id\"] for tender in page[\"data\"]]\n",
    "\n",
    "    qs = dict(\n",
    "        parse_qsl(\n",
    "            urlparse(next_page_url).query\n",
    "            )\n",
    "        )\n",
    "\n",
    "    # to compare with end date\n",
    "    offset_date = datetime.datetime.fromisoformat(qs['offset'])\n",
    "\n",
    "# unique\n",
    "tender_ids = list(set(tender_ids))"
   ]
  },
  {
   "cell_type": "code",
   "execution_count": null,
   "metadata": {},
   "outputs": [],
   "source": [
    "with open('./scraper/tender_ids.txt', 'w') as f:\n",
    "    f.writelines(s + '\\n' for s in tender_ids)"
   ]
  },
  {
   "cell_type": "code",
   "execution_count": 163,
   "metadata": {},
   "outputs": [
    {
     "data": {
      "text/plain": [
       "476400"
      ]
     },
     "execution_count": 163,
     "metadata": {},
     "output_type": "execute_result"
    }
   ],
   "source": [
    "with open('./scraper/tender_ids.txt', 'r') as f:\n",
    "    tender_ids = [line.strip() for line in f.readlines()]\n",
    "\n",
    "len(tender_ids)"
   ]
  },
  {
   "cell_type": "code",
   "execution_count": 19,
   "metadata": {},
   "outputs": [],
   "source": [
    "client = MongoClient()\n",
    "db = client['prozorro']\n",
    "tenders_collection = db['tenders']\n",
    "\n",
    "# USE SPIDER - work faster and has outothrottle mechanism\n",
    "def get_tender(tender_id):\n",
    "    response = requests.get(\n",
    "        urljoin(api_path+'tenders/', tender_id)\n",
    "    ).json()\n",
    "\n",
    "    tender = response[\"data\"]\n",
    "\n",
    "    del tender['id']\n",
    "    \n",
    "    update_info = tenders_collection.update({'_id':tender_id}, tender, upsert=True)\n",
    "    return update_info\n",
    "\n",
    "# slow\n",
    "for tender_id in tqdm(tender_ids):\n",
    "    \n",
    "    get_tender(tender_id)\n"
   ]
  },
  {
   "cell_type": "code",
   "execution_count": 172,
   "metadata": {},
   "outputs": [],
   "source": [
    "import concurrent.futures\n",
    "\n",
    "# faster\n",
    "\n",
    "# with concurrent.futures.ThreadPoolExecutor() as executor:\n",
    "#     for tender_id, prime in zip(tender_ids, executor.map(get_tender, tender_ids)):\n",
    "#         clear_output()\n",
    "#         print('Tender %s is acknowledged: %s' % (tender_id, prime))"
   ]
  },
  {
   "cell_type": "markdown",
   "metadata": {},
   "source": [
    "## Get data from local Mongo DB"
   ]
  },
  {
   "cell_type": "markdown",
   "metadata": {},
   "source": [
    "### Read mongo"
   ]
  },
  {
   "cell_type": "code",
   "execution_count": 2,
   "metadata": {},
   "outputs": [],
   "source": [
    "client = MongoClient()\n",
    "db = client['prozorro']\n",
    "collection='tenders'"
   ]
  },
  {
   "cell_type": "code",
   "execution_count": 3,
   "metadata": {},
   "outputs": [],
   "source": [
    "# https://docs.mongodb.com/manual/tutorial/project-fields-from-query-results/#return-specific-fields-in-embedded-documents\n",
    "\n",
    "def read_mongo(db, collection, query={}, fields=None, id_to_index=False, limit: int = 0):\n",
    "    \"\"\" Read from Mongo and Store into DataFrame \"\"\"\n",
    "\n",
    "    # Make a query to the specific DB and Collection\n",
    "    \n",
    "    # filter fields\n",
    "    _fields = None\n",
    "    if fields is not None:\n",
    "        _fields = fields if isinstance(fields, dict) else {field:1 for field in fields}\n",
    "\n",
    "    cursor = db[collection].find(query, _fields)\n",
    "\n",
    "    if limit:\n",
    "        cursor.limit(limit)\n",
    "\n",
    "    # Expand the cursor and construct the DataFrame\n",
    "    df =  pd.DataFrame(list(cursor)).rename(columns={'_id':'id'})\n",
    "\n",
    "    # Delete the _id\n",
    "    if id_to_index:\n",
    "        df.set_index('id')\n",
    "\n",
    "    return df\n",
    "\n",
    "# You can put filter here or later in pandas dataset\n",
    "# equvalent to\n",
    "# SELECT fields\n",
    "#   FROM collection\n",
    "#   WHERE query\n",
    "# df = read_mongo(db, collection='tenders', query={'status':'complete'}, fields=['status', 'items'])\n"
   ]
  },
  {
   "cell_type": "code",
   "execution_count": 8,
   "metadata": {},
   "outputs": [],
   "source": [
    "df = read_mongo(db=db, collection=collection, query={}, fields=None, limit=100000)"
   ]
  },
  {
   "cell_type": "code",
   "execution_count": 15,
   "metadata": {},
   "outputs": [
    {
     "data": {
      "image/png": "[encoded data removed]",
      "text/plain": [
       "<Figure size 432x288 with 1 Axes>"
      ]
     },
     "metadata": {
      "needs_background": "light"
     },
     "output_type": "display_data"
    }
   ],
   "source": [
    "df.mainProcurementCategory.value_counts().plot(kind='bar');"
   ]
  },
  {
   "cell_type": "code",
   "execution_count": 16,
   "metadata": {},
   "outputs": [
    {
     "data": {
      "image/png": "[encoded data removed]",
      "text/plain": [
       "<Figure size 432x288 with 1 Axes>"
      ]
     },
     "metadata": {
      "needs_background": "light"
     },
     "output_type": "display_data"
    }
   ],
   "source": [
    "df.procurementMethod.value_counts().plot(kind='bar');"
   ]
  },
  {
   "cell_type": "code",
   "execution_count": 21,
   "metadata": {},
   "outputs": [
    {
     "data": {
      "image/png": "[encoded data removed]",
      "text/plain": [
       "<Figure size 432x288 with 1 Axes>"
      ]
     },
     "metadata": {
      "needs_background": "light"
     },
     "output_type": "display_data"
    }
   ],
   "source": [
    "df[df.procurementMethod=='limited'].procurementMethodType.value_counts().plot(kind='bar');"
   ]
  },
  {
   "cell_type": "code",
   "execution_count": 23,
   "metadata": {},
   "outputs": [
    {
     "data": {
      "image/png": "[encoded data removed]",
      "text/plain": [
       "<Figure size 432x288 with 1 Axes>"
      ]
     },
     "metadata": {
      "needs_background": "light"
     },
     "output_type": "display_data"
    }
   ],
   "source": [
    "df[df.submissionMethod=='electronicAuction'].procurementMethodType.value_counts().plot(kind='bar');"
   ]
  },
  {
   "cell_type": "markdown",
   "metadata": {},
   "source": [
    "For most cases all conditions are true for e-auctions:\n",
    "\n",
    "```\n",
    "procurementMethod == open \n",
    "submissionMethod == electronicAuction\n",
    "```\n",
    "\n",
    "So for next steps we will consider `submissionMethod == electronicAuction && status==complete`\n"
   ]
  },
  {
   "cell_type": "code",
   "execution_count": 24,
   "metadata": {},
   "outputs": [
    {
     "data": {
      "image/png": "[encoded data removed]",
      "text/plain": [
       "<Figure size 432x288 with 1 Axes>"
      ]
     },
     "metadata": {
      "needs_background": "light"
     },
     "output_type": "display_data"
    }
   ],
   "source": [
    "df[df.submissionMethod=='electronicAuction'].status.value_counts().plot(kind='bar');"
   ]
  },
  {
   "cell_type": "markdown",
   "metadata": {},
   "source": [
    "### Nested collection to separate dataframe example"
   ]
  },
  {
   "cell_type": "code",
   "execution_count": 15,
   "metadata": {},
   "outputs": [],
   "source": [
    "items_df = subcollection_to_df(df,'items')\n",
    "items_df.head()"
   ]
  },
  {
   "cell_type": "markdown",
   "metadata": {},
   "source": [
    "### Create indexies"
   ]
  },
  {
   "cell_type": "code",
   "execution_count": 5,
   "metadata": {},
   "outputs": [
    {
     "data": {
      "text/plain": [
       "{'_id_': {'v': 2, 'key': [('_id', 1)]}}"
      ]
     },
     "execution_count": 5,
     "metadata": {},
     "output_type": "execute_result"
    }
   ],
   "source": [
    "collection_name='tenders'\n",
    "collection = db[collection_name]\n",
    "collection.index_information()"
   ]
  },
  {
   "cell_type": "code",
   "execution_count": 7,
   "metadata": {},
   "outputs": [
    {
     "data": {
      "text/plain": [
       "'status_1'"
      ]
     },
     "execution_count": 7,
     "metadata": {},
     "output_type": "execute_result"
    }
   ],
   "source": [
    "# Do it only ones\n",
    "collection.create_index('status')"
   ]
  },
  {
   "cell_type": "code",
   "execution_count": 14,
   "metadata": {},
   "outputs": [
    {
     "data": {
      "text/plain": [
       "[None, 'electronicAuction']"
      ]
     },
     "execution_count": 14,
     "metadata": {},
     "output_type": "execute_result"
    }
   ],
   "source": [
    "collection.distinct('submissionMethod')"
   ]
  },
  {
   "cell_type": "code",
   "execution_count": 13,
   "metadata": {},
   "outputs": [
    {
     "data": {
      "text/plain": [
       "'status_submissionMethod'"
      ]
     },
     "execution_count": 13,
     "metadata": {},
     "output_type": "execute_result"
    }
   ],
   "source": [
    "collection.create_index([('submissionMethod',pymongo.ASCENDING),\n",
    "                            ('status',pymongo.ASCENDING)],\n",
    "                            name='status_submissionMethod')"
   ]
  },
  {
   "cell_type": "markdown",
   "metadata": {},
   "source": [
    "### Fix scraped data - str to datetime"
   ]
  },
  {
   "cell_type": "code",
   "execution_count": 40,
   "metadata": {},
   "outputs": [],
   "source": [
    "from dateutil import parser\n",
    "\n",
    "def convert_date_mongo(db, collection, fields, query={}, limit: int = 0):\n",
    "\n",
    "    coll = db[collection]\n",
    "    cursor = coll.find({})\n",
    "\n",
    "    if limit:\n",
    "        cursor.limit(query)\n",
    "\n",
    "    counter = 0\n",
    "    for item in cursor:\n",
    "        counter+= 1\n",
    "        changed = False\n",
    "        for field in fields:\n",
    "            if field in item and isinstance(item[field], str):\n",
    "                changed = True\n",
    "                item[field] = parser.parse(item[field])\n",
    "        \n",
    "        if changed:\n",
    "            coll.replace_one({'_id':item['_id']}, item)\n",
    "        \n",
    "        if counter%10000==0:\n",
    "            print(counter)\n",
    "\n",
    "# convert_date_mongo(db=db, collection=collection, query={'status':'complete', 'submissionMethod': 'electronicAuction'},  fields=['date', 'dateModified'])"
   ]
  },
  {
   "cell_type": "markdown",
   "metadata": {},
   "source": [
    "## Гіпотеза\n",
    "Постачальники з історією участі в тендерах, більш ймовірніше будуть подаватися на схожі тендери(географічна близькість, категорія, покупець/тип покупця)."
   ]
  },
  {
   "cell_type": "code",
   "execution_count": 25,
   "metadata": {},
   "outputs": [],
   "source": [
    "df = read_mongo(db, collection='tenders', query={'submissionMethod': 'electronicAuction'}, fields=['status', 'procuringEntity', 'bids', 'awards', 'items', 'value', 'procurementMethodType', 'mainProcurementCategory', 'procurementMethodType', 'awardCriteria'])\n",
    "# df.to_csv('electronicAuction.gzip', compression='gzip', index=False)"
   ]
  },
  {
   "cell_type": "code",
   "execution_count": 26,
   "metadata": {},
   "outputs": [
    {
     "data": {
      "text/plain": [
       "(461212, 10)"
      ]
     },
     "execution_count": 26,
     "metadata": {},
     "output_type": "execute_result"
    }
   ],
   "source": [
    "df.shape"
   ]
  },
  {
   "cell_type": "markdown",
   "metadata": {},
   "source": [
    "## n bids to relative economy "
   ]
  },
  {
   "cell_type": "code",
   "execution_count": 29,
   "metadata": {},
   "outputs": [
    {
     "data": {
      "text/html": [
       "<div>\n",
       "<style scoped>\n",
       "    .dataframe tbody tr th:only-of-type {\n",
       "        vertical-align: middle;\n",
       "    }\n",
       "\n",
       "    .dataframe tbody tr th {\n",
       "        vertical-align: top;\n",
       "    }\n",
       "\n",
       "    .dataframe thead th {\n",
       "        text-align: right;\n",
       "    }\n",
       "</style>\n",
       "<table border=\"1\" class=\"dataframe\">\n",
       "  <thead>\n",
       "    <tr style=\"text-align: right;\">\n",
       "      <th></th>\n",
       "      <th>id</th>\n",
       "      <th>mainProcurementCategory</th>\n",
       "      <th>awardCriteria</th>\n",
       "      <th>status</th>\n",
       "      <th>items</th>\n",
       "      <th>value</th>\n",
       "      <th>bids</th>\n",
       "      <th>procuringEntity</th>\n",
       "      <th>awards</th>\n",
       "      <th>procurementMethodType</th>\n",
       "    </tr>\n",
       "  </thead>\n",
       "  <tbody>\n",
       "    <tr>\n",
       "      <th>0</th>\n",
       "      <td>f48553cf3a7a40978a991e3dbb303f27</td>\n",
       "      <td>goods</td>\n",
       "      <td>lowestCost</td>\n",
       "      <td>active.awarded</td>\n",
       "      <td>[{'id': '989bb0d67e71415e9336344253073dfa', 'd...</td>\n",
       "      <td>{'amount': 184954.0, 'currency': 'UAH', 'value...</td>\n",
       "      <td>[{'tenderers': [{'name': 'ТОВ \"ХЕППІ ПАРК\"', '...</td>\n",
       "      <td>{'name': 'Сектор освіти Кам'янка-Бузької район...</td>\n",
       "      <td>[{'id': '2a7183c3acf042cdaad4e0781241db50', 's...</td>\n",
       "      <td>belowThreshold</td>\n",
       "    </tr>\n",
       "    <tr>\n",
       "      <th>1</th>\n",
       "      <td>276151a943594d3a8bbbce2e22ecad0f</td>\n",
       "      <td>goods</td>\n",
       "      <td>lowestCost</td>\n",
       "      <td>active.awarded</td>\n",
       "      <td>[{'id': 'b66a6db790ab4d379fbc977863639c6b', 'd...</td>\n",
       "      <td>{'amount': 3811250.0, 'currency': 'UAH', 'valu...</td>\n",
       "      <td>[{'tenderers': [{'name': 'ТОВ НВП \"Гран\"', 'id...</td>\n",
       "      <td>{'name': 'Міністерство оборони України (Відділ...</td>\n",
       "      <td>[{'id': '5d621ed1dff3477fbb1f5e5a088208e7', 's...</td>\n",
       "      <td>aboveThresholdUA</td>\n",
       "    </tr>\n",
       "    <tr>\n",
       "      <th>2</th>\n",
       "      <td>8c752192ae7d4be78daeccb249cde0ee</td>\n",
       "      <td>goods</td>\n",
       "      <td>lowestCost</td>\n",
       "      <td>active.awarded</td>\n",
       "      <td>[{'id': 'a6f2e5a7fe6e4e12b51d9cb384d4a608', 'd...</td>\n",
       "      <td>{'amount': 2500000.0, 'currency': 'UAH', 'valu...</td>\n",
       "      <td>[{'tenderers': [{'name': 'ТОВ \"Торговий Дім Бу...</td>\n",
       "      <td>{'name': 'Червоненська сільська рада', 'identi...</td>\n",
       "      <td>[{'id': 'c51d215385964b589da7efd40483c2df', 't...</td>\n",
       "      <td>aboveThresholdUA</td>\n",
       "    </tr>\n",
       "    <tr>\n",
       "      <th>3</th>\n",
       "      <td>65ccf319845043bb9d5fb9163cd74583</td>\n",
       "      <td>goods</td>\n",
       "      <td>lowestCost</td>\n",
       "      <td>active.awarded</td>\n",
       "      <td>[{'id': 'e48d2c3c26b44e879e76fd818bde7294', 'd...</td>\n",
       "      <td>{'amount': 108907.5, 'currency': 'UAH', 'value...</td>\n",
       "      <td>[{'tenderers': [{'name': 'ТОВАРИСТВО З ОБМЕЖЕН...</td>\n",
       "      <td>{'name': 'МАРКІВСЬКА РАЙОННА ДЕРЖАВНА АДМІНІСТ...</td>\n",
       "      <td>[{'id': '9b32876733354719b51c5a50f207ae4b', 's...</td>\n",
       "      <td>belowThreshold</td>\n",
       "    </tr>\n",
       "    <tr>\n",
       "      <th>4</th>\n",
       "      <td>93a34661ab4d4d6c951e22f0386da655</td>\n",
       "      <td>services</td>\n",
       "      <td>lowestCost</td>\n",
       "      <td>active.awarded</td>\n",
       "      <td>[{'id': '6975c3750d2ad87bd46f23839746d8e6', 'd...</td>\n",
       "      <td>{'amount': 181915.0, 'currency': 'UAH', 'value...</td>\n",
       "      <td>[{'id': 'a33a2240f05b4fb18009c11989151db7', 's...</td>\n",
       "      <td>{'name': 'ДП \"Петриківський лісгосп\"', 'identi...</td>\n",
       "      <td>[{'id': '828928f8a99449998f7d7ca2a2fc9bad', 's...</td>\n",
       "      <td>aboveThresholdUA</td>\n",
       "    </tr>\n",
       "  </tbody>\n",
       "</table>\n",
       "</div>"
      ],
      "text/plain": [
       "                                 id mainProcurementCategory awardCriteria  \\\n",
       "0  f48553cf3a7a40978a991e3dbb303f27                   goods    lowestCost   \n",
       "1  276151a943594d3a8bbbce2e22ecad0f                   goods    lowestCost   \n",
       "2  8c752192ae7d4be78daeccb249cde0ee                   goods    lowestCost   \n",
       "3  65ccf319845043bb9d5fb9163cd74583                   goods    lowestCost   \n",
       "4  93a34661ab4d4d6c951e22f0386da655                services    lowestCost   \n",
       "\n",
       "           status                                              items  \\\n",
       "0  active.awarded  [{'id': '989bb0d67e71415e9336344253073dfa', 'd...   \n",
       "1  active.awarded  [{'id': 'b66a6db790ab4d379fbc977863639c6b', 'd...   \n",
       "2  active.awarded  [{'id': 'a6f2e5a7fe6e4e12b51d9cb384d4a608', 'd...   \n",
       "3  active.awarded  [{'id': 'e48d2c3c26b44e879e76fd818bde7294', 'd...   \n",
       "4  active.awarded  [{'id': '6975c3750d2ad87bd46f23839746d8e6', 'd...   \n",
       "\n",
       "                                               value  \\\n",
       "0  {'amount': 184954.0, 'currency': 'UAH', 'value...   \n",
       "1  {'amount': 3811250.0, 'currency': 'UAH', 'valu...   \n",
       "2  {'amount': 2500000.0, 'currency': 'UAH', 'valu...   \n",
       "3  {'amount': 108907.5, 'currency': 'UAH', 'value...   \n",
       "4  {'amount': 181915.0, 'currency': 'UAH', 'value...   \n",
       "\n",
       "                                                bids  \\\n",
       "0  [{'tenderers': [{'name': 'ТОВ \"ХЕППІ ПАРК\"', '...   \n",
       "1  [{'tenderers': [{'name': 'ТОВ НВП \"Гран\"', 'id...   \n",
       "2  [{'tenderers': [{'name': 'ТОВ \"Торговий Дім Бу...   \n",
       "3  [{'tenderers': [{'name': 'ТОВАРИСТВО З ОБМЕЖЕН...   \n",
       "4  [{'id': 'a33a2240f05b4fb18009c11989151db7', 's...   \n",
       "\n",
       "                                     procuringEntity  \\\n",
       "0  {'name': 'Сектор освіти Кам'янка-Бузької район...   \n",
       "1  {'name': 'Міністерство оборони України (Відділ...   \n",
       "2  {'name': 'Червоненська сільська рада', 'identi...   \n",
       "3  {'name': 'МАРКІВСЬКА РАЙОННА ДЕРЖАВНА АДМІНІСТ...   \n",
       "4  {'name': 'ДП \"Петриківський лісгосп\"', 'identi...   \n",
       "\n",
       "                                              awards procurementMethodType  \n",
       "0  [{'id': '2a7183c3acf042cdaad4e0781241db50', 's...        belowThreshold  \n",
       "1  [{'id': '5d621ed1dff3477fbb1f5e5a088208e7', 's...      aboveThresholdUA  \n",
       "2  [{'id': 'c51d215385964b589da7efd40483c2df', 't...      aboveThresholdUA  \n",
       "3  [{'id': '9b32876733354719b51c5a50f207ae4b', 's...        belowThreshold  \n",
       "4  [{'id': '828928f8a99449998f7d7ca2a2fc9bad', 's...      aboveThresholdUA  "
      ]
     },
     "execution_count": 29,
     "metadata": {},
     "output_type": "execute_result"
    }
   ],
   "source": [
    "df.head()"
   ]
  },
  {
   "cell_type": "code",
   "execution_count": 31,
   "metadata": {},
   "outputs": [],
   "source": [
    "df_completed = df[df['status']=='complete']"
   ]
  },
  {
   "cell_type": "code",
   "execution_count": 33,
   "metadata": {},
   "outputs": [
    {
     "data": {
      "text/plain": [
       "(278072, 13)"
      ]
     },
     "execution_count": 33,
     "metadata": {},
     "output_type": "execute_result"
    }
   ],
   "source": [
    "df_completed['award_amount'] = df_completed.awards.apply(lambda awards: sum([award['value']['amount'] for award in awards]))\n",
    "df_completed['value_amount'] = df_completed.value.apply(lambda value: value['amount'])\n",
    "df_completed['economy'] = 100*(df_completed['value_amount'] - df_completed['award_amount'])/df_completed['value_amount']\n",
    "df_completed['currency'] = df_completed.value.apply(lambda value: value['currency'])\n",
    "df_completed['numberOfBids'] = df_completed.bids.apply(lambda bids: len(bids)) # numberOfBids\n",
    "df_completed.shape\n"
   ]
  },
  {
   "cell_type": "code",
   "execution_count": 39,
   "metadata": {},
   "outputs": [
    {
     "data": {
      "text/html": [
       "<div>\n",
       "<style scoped>\n",
       "    .dataframe tbody tr th:only-of-type {\n",
       "        vertical-align: middle;\n",
       "    }\n",
       "\n",
       "    .dataframe tbody tr th {\n",
       "        vertical-align: top;\n",
       "    }\n",
       "\n",
       "    .dataframe thead th {\n",
       "        text-align: right;\n",
       "    }\n",
       "</style>\n",
       "<table border=\"1\" class=\"dataframe\">\n",
       "  <thead>\n",
       "    <tr style=\"text-align: right;\">\n",
       "      <th></th>\n",
       "      <th>id</th>\n",
       "      <th>numberOfBids</th>\n",
       "      <th>value_amount</th>\n",
       "      <th>award_amount</th>\n",
       "      <th>economy</th>\n",
       "    </tr>\n",
       "  </thead>\n",
       "  <tbody>\n",
       "    <tr>\n",
       "      <th>32097</th>\n",
       "      <td>22cb88ebaac14ab2ac048cec40909ba6</td>\n",
       "      <td>4</td>\n",
       "      <td>1086180.00</td>\n",
       "      <td>591366.00</td>\n",
       "      <td>45.555433</td>\n",
       "    </tr>\n",
       "    <tr>\n",
       "      <th>32098</th>\n",
       "      <td>d7ac4dfc5e394932b13f0ba7f50c7f47</td>\n",
       "      <td>5</td>\n",
       "      <td>4125000.00</td>\n",
       "      <td>4000000.00</td>\n",
       "      <td>3.030303</td>\n",
       "    </tr>\n",
       "    <tr>\n",
       "      <th>32099</th>\n",
       "      <td>221a19eb687242e29ee270b156167e04</td>\n",
       "      <td>3</td>\n",
       "      <td>2368800.00</td>\n",
       "      <td>2723000.00</td>\n",
       "      <td>-14.952719</td>\n",
       "    </tr>\n",
       "    <tr>\n",
       "      <th>32100</th>\n",
       "      <td>621e686f458648558b212c9d50d6b176</td>\n",
       "      <td>2</td>\n",
       "      <td>999600.00</td>\n",
       "      <td>976668.00</td>\n",
       "      <td>2.294118</td>\n",
       "    </tr>\n",
       "    <tr>\n",
       "      <th>32101</th>\n",
       "      <td>f07499820f034dcd930138c290bcc54d</td>\n",
       "      <td>2</td>\n",
       "      <td>999600.00</td>\n",
       "      <td>934920.00</td>\n",
       "      <td>6.470588</td>\n",
       "    </tr>\n",
       "    <tr>\n",
       "      <th>32102</th>\n",
       "      <td>a207915c730f4235b1995402c1cf39d0</td>\n",
       "      <td>3</td>\n",
       "      <td>892800.00</td>\n",
       "      <td>720000.00</td>\n",
       "      <td>19.354839</td>\n",
       "    </tr>\n",
       "    <tr>\n",
       "      <th>32103</th>\n",
       "      <td>90d346e634154be78296a9856ac7f1a3</td>\n",
       "      <td>1</td>\n",
       "      <td>63700.00</td>\n",
       "      <td>44249.45</td>\n",
       "      <td>30.534615</td>\n",
       "    </tr>\n",
       "    <tr>\n",
       "      <th>32104</th>\n",
       "      <td>5f66e464c0d94702be1219e1efd20f76</td>\n",
       "      <td>2</td>\n",
       "      <td>90000.00</td>\n",
       "      <td>83000.00</td>\n",
       "      <td>7.777778</td>\n",
       "    </tr>\n",
       "    <tr>\n",
       "      <th>32105</th>\n",
       "      <td>a6e01d54b36a47cea22f52d5db0daa41</td>\n",
       "      <td>2</td>\n",
       "      <td>185450.00</td>\n",
       "      <td>343940.00</td>\n",
       "      <td>-85.462389</td>\n",
       "    </tr>\n",
       "    <tr>\n",
       "      <th>32106</th>\n",
       "      <td>3efacc853bd64ddba49a6b94e84f442d</td>\n",
       "      <td>1</td>\n",
       "      <td>199998.76</td>\n",
       "      <td>199279.34</td>\n",
       "      <td>0.359712</td>\n",
       "    </tr>\n",
       "    <tr>\n",
       "      <th>32107</th>\n",
       "      <td>cfd46b61e25b4032bef5fd63f4fed4aa</td>\n",
       "      <td>1</td>\n",
       "      <td>122739.00</td>\n",
       "      <td>122233.29</td>\n",
       "      <td>0.412021</td>\n",
       "    </tr>\n",
       "    <tr>\n",
       "      <th>32108</th>\n",
       "      <td>4ac81dc5ce76440fa270eb3b84bf5a79</td>\n",
       "      <td>1</td>\n",
       "      <td>6500.00</td>\n",
       "      <td>3540.00</td>\n",
       "      <td>45.538462</td>\n",
       "    </tr>\n",
       "    <tr>\n",
       "      <th>32109</th>\n",
       "      <td>7780d05e1e934db091633b72b637c6d7</td>\n",
       "      <td>2</td>\n",
       "      <td>18000.00</td>\n",
       "      <td>13555.90</td>\n",
       "      <td>24.689444</td>\n",
       "    </tr>\n",
       "    <tr>\n",
       "      <th>32110</th>\n",
       "      <td>f9833507285342e5870a446059fd3919</td>\n",
       "      <td>6</td>\n",
       "      <td>89705.00</td>\n",
       "      <td>158980.00</td>\n",
       "      <td>-77.225350</td>\n",
       "    </tr>\n",
       "    <tr>\n",
       "      <th>32111</th>\n",
       "      <td>9370cce71ea6482a8526549bd2e90c66</td>\n",
       "      <td>3</td>\n",
       "      <td>40000.00</td>\n",
       "      <td>28811.00</td>\n",
       "      <td>27.972500</td>\n",
       "    </tr>\n",
       "    <tr>\n",
       "      <th>32112</th>\n",
       "      <td>8477fe7057a94f7a9706b8f4443ac463</td>\n",
       "      <td>1</td>\n",
       "      <td>21730.00</td>\n",
       "      <td>19440.00</td>\n",
       "      <td>10.538426</td>\n",
       "    </tr>\n",
       "    <tr>\n",
       "      <th>32113</th>\n",
       "      <td>bc3de46974c74e5d8da11a524ed31ea4</td>\n",
       "      <td>1</td>\n",
       "      <td>75000.00</td>\n",
       "      <td>52650.00</td>\n",
       "      <td>29.800000</td>\n",
       "    </tr>\n",
       "    <tr>\n",
       "      <th>32114</th>\n",
       "      <td>891227beaa87490aa0677df108df1116</td>\n",
       "      <td>2</td>\n",
       "      <td>284355.23</td>\n",
       "      <td>250465.86</td>\n",
       "      <td>11.917970</td>\n",
       "    </tr>\n",
       "    <tr>\n",
       "      <th>32115</th>\n",
       "      <td>60c69569ac494ff6b283d57e234402ff</td>\n",
       "      <td>2</td>\n",
       "      <td>1651814.00</td>\n",
       "      <td>1298982.00</td>\n",
       "      <td>21.360274</td>\n",
       "    </tr>\n",
       "    <tr>\n",
       "      <th>32116</th>\n",
       "      <td>171b8be976da4c8b86b028891f91c2ed</td>\n",
       "      <td>2</td>\n",
       "      <td>124800.00</td>\n",
       "      <td>103262.98</td>\n",
       "      <td>17.257228</td>\n",
       "    </tr>\n",
       "  </tbody>\n",
       "</table>\n",
       "</div>"
      ],
      "text/plain": [
       "                                     id  numberOfBids  value_amount  \\\n",
       "32097  22cb88ebaac14ab2ac048cec40909ba6             4    1086180.00   \n",
       "32098  d7ac4dfc5e394932b13f0ba7f50c7f47             5    4125000.00   \n",
       "32099  221a19eb687242e29ee270b156167e04             3    2368800.00   \n",
       "32100  621e686f458648558b212c9d50d6b176             2     999600.00   \n",
       "32101  f07499820f034dcd930138c290bcc54d             2     999600.00   \n",
       "32102  a207915c730f4235b1995402c1cf39d0             3     892800.00   \n",
       "32103  90d346e634154be78296a9856ac7f1a3             1      63700.00   \n",
       "32104  5f66e464c0d94702be1219e1efd20f76             2      90000.00   \n",
       "32105  a6e01d54b36a47cea22f52d5db0daa41             2     185450.00   \n",
       "32106  3efacc853bd64ddba49a6b94e84f442d             1     199998.76   \n",
       "32107  cfd46b61e25b4032bef5fd63f4fed4aa             1     122739.00   \n",
       "32108  4ac81dc5ce76440fa270eb3b84bf5a79             1       6500.00   \n",
       "32109  7780d05e1e934db091633b72b637c6d7             2      18000.00   \n",
       "32110  f9833507285342e5870a446059fd3919             6      89705.00   \n",
       "32111  9370cce71ea6482a8526549bd2e90c66             3      40000.00   \n",
       "32112  8477fe7057a94f7a9706b8f4443ac463             1      21730.00   \n",
       "32113  bc3de46974c74e5d8da11a524ed31ea4             1      75000.00   \n",
       "32114  891227beaa87490aa0677df108df1116             2     284355.23   \n",
       "32115  60c69569ac494ff6b283d57e234402ff             2    1651814.00   \n",
       "32116  171b8be976da4c8b86b028891f91c2ed             2     124800.00   \n",
       "\n",
       "       award_amount    economy  \n",
       "32097     591366.00  45.555433  \n",
       "32098    4000000.00   3.030303  \n",
       "32099    2723000.00 -14.952719  \n",
       "32100     976668.00   2.294118  \n",
       "32101     934920.00   6.470588  \n",
       "32102     720000.00  19.354839  \n",
       "32103      44249.45  30.534615  \n",
       "32104      83000.00   7.777778  \n",
       "32105     343940.00 -85.462389  \n",
       "32106     199279.34   0.359712  \n",
       "32107     122233.29   0.412021  \n",
       "32108       3540.00  45.538462  \n",
       "32109      13555.90  24.689444  \n",
       "32110     158980.00 -77.225350  \n",
       "32111      28811.00  27.972500  \n",
       "32112      19440.00  10.538426  \n",
       "32113      52650.00  29.800000  \n",
       "32114     250465.86  11.917970  \n",
       "32115    1298982.00  21.360274  \n",
       "32116     103262.98  17.257228  "
      ]
     },
     "execution_count": 39,
     "metadata": {},
     "output_type": "execute_result"
    }
   ],
   "source": [
    "df_completed[['id','numberOfBids','value_amount','award_amount','economy']].head(20)"
   ]
  },
  {
   "cell_type": "code",
   "execution_count": 4,
   "metadata": {},
   "outputs": [
    {
     "name": "stdout",
     "output_type": "stream",
     "text": [
      "Economy below zero 0.15582654851980782%f2\n"
     ]
    }
   ],
   "source": [
    "print(f'Economy below zero {43331/278072}')"
   ]
  },
  {
   "cell_type": "code",
   "execution_count": 42,
   "metadata": {},
   "outputs": [
    {
     "data": {
      "text/plain": [
       "43331"
      ]
     },
     "execution_count": 42,
     "metadata": {},
     "output_type": "execute_result"
    }
   ],
   "source": [
    "# how is it possible to make bid > than value\n",
    "sum(df_completed['economy']<0)"
   ]
  },
  {
   "cell_type": "code",
   "execution_count": 44,
   "metadata": {},
   "outputs": [],
   "source": [
    "# for plot\n",
    "df_cleaned = df_completed[df_completed['economy']>=0]\n",
    "df_cleaned = df_cleaned[df_cleaned.currency==\"UAH\"]"
   ]
  },
  {
   "cell_type": "code",
   "execution_count": 46,
   "metadata": {},
   "outputs": [
    {
     "name": "stdout",
     "output_type": "stream",
     "text": [
      "0.3891114531488248\n",
      "0.458604833520134\n"
     ]
    }
   ],
   "source": [
    "print(len(df_completed[df_completed['numberOfBids']==1])/len(df_completed))\n",
    "print(len(df_cleaned[df_cleaned['numberOfBids']==1])/len(df_cleaned))"
   ]
  },
  {
   "cell_type": "code",
   "execution_count": 47,
   "metadata": {},
   "outputs": [],
   "source": [
    "df_cleaned['economy_value'] = df_cleaned['value_amount'] - df_cleaned['award_amount']\n",
    "df_cleaned['economy_theoretical_value'] = df_cleaned['value_amount']*0.35"
   ]
  },
  {
   "cell_type": "code",
   "execution_count": 48,
   "metadata": {},
   "outputs": [
    {
     "data": {
      "text/plain": [
       "137771780103.40866"
      ]
     },
     "execution_count": 48,
     "metadata": {},
     "output_type": "execute_result"
    }
   ],
   "source": [
    "sum(df_cleaned['economy_theoretical_value']-df_cleaned['economy_value'])"
   ]
  },
  {
   "cell_type": "markdown",
   "metadata": {},
   "source": [
    "137 мільярдів Карл! перевірити викиди!!!"
   ]
  },
  {
   "cell_type": "code",
   "execution_count": 49,
   "metadata": {},
   "outputs": [
    {
     "data": {
      "text/html": [
       "<div>\n",
       "<style scoped>\n",
       "    .dataframe tbody tr th:only-of-type {\n",
       "        vertical-align: middle;\n",
       "    }\n",
       "\n",
       "    .dataframe tbody tr th {\n",
       "        vertical-align: top;\n",
       "    }\n",
       "\n",
       "    .dataframe thead th {\n",
       "        text-align: right;\n",
       "    }\n",
       "</style>\n",
       "<table border=\"1\" class=\"dataframe\">\n",
       "  <thead>\n",
       "    <tr style=\"text-align: right;\">\n",
       "      <th></th>\n",
       "      <th>numberOfBids</th>\n",
       "      <th>economy</th>\n",
       "      <th>id</th>\n",
       "    </tr>\n",
       "  </thead>\n",
       "  <tbody>\n",
       "    <tr>\n",
       "      <th>0</th>\n",
       "      <td>1</td>\n",
       "      <td>4.802026</td>\n",
       "      <td>107613</td>\n",
       "    </tr>\n",
       "    <tr>\n",
       "      <th>1</th>\n",
       "      <td>2</td>\n",
       "      <td>11.083768</td>\n",
       "      <td>74587</td>\n",
       "    </tr>\n",
       "    <tr>\n",
       "      <th>2</th>\n",
       "      <td>3</td>\n",
       "      <td>21.045868</td>\n",
       "      <td>26716</td>\n",
       "    </tr>\n",
       "    <tr>\n",
       "      <th>3</th>\n",
       "      <td>4</td>\n",
       "      <td>25.988572</td>\n",
       "      <td>12200</td>\n",
       "    </tr>\n",
       "    <tr>\n",
       "      <th>4</th>\n",
       "      <td>5</td>\n",
       "      <td>29.760735</td>\n",
       "      <td>6022</td>\n",
       "    </tr>\n",
       "    <tr>\n",
       "      <th>5</th>\n",
       "      <td>6</td>\n",
       "      <td>31.658671</td>\n",
       "      <td>3111</td>\n",
       "    </tr>\n",
       "    <tr>\n",
       "      <th>6</th>\n",
       "      <td>7</td>\n",
       "      <td>34.109298</td>\n",
       "      <td>1683</td>\n",
       "    </tr>\n",
       "    <tr>\n",
       "      <th>7</th>\n",
       "      <td>8</td>\n",
       "      <td>33.424821</td>\n",
       "      <td>1044</td>\n",
       "    </tr>\n",
       "    <tr>\n",
       "      <th>8</th>\n",
       "      <td>9</td>\n",
       "      <td>35.933713</td>\n",
       "      <td>583</td>\n",
       "    </tr>\n",
       "    <tr>\n",
       "      <th>9</th>\n",
       "      <td>10</td>\n",
       "      <td>37.970420</td>\n",
       "      <td>337</td>\n",
       "    </tr>\n",
       "  </tbody>\n",
       "</table>\n",
       "</div>"
      ],
      "text/plain": [
       "   numberOfBids    economy      id\n",
       "0             1   4.802026  107613\n",
       "1             2  11.083768   74587\n",
       "2             3  21.045868   26716\n",
       "3             4  25.988572   12200\n",
       "4             5  29.760735    6022\n",
       "5             6  31.658671    3111\n",
       "6             7  34.109298    1683\n",
       "7             8  33.424821    1044\n",
       "8             9  35.933713     583\n",
       "9            10  37.970420     337"
      ]
     },
     "execution_count": 49,
     "metadata": {},
     "output_type": "execute_result"
    }
   ],
   "source": [
    "df_grouped = df_cleaned.groupby(by='numberOfBids').agg({'economy':'mean', 'id':'count'}).reset_index()\n",
    "df_grouped.head(10)"
   ]
  },
  {
   "cell_type": "code",
   "execution_count": 50,
   "metadata": {},
   "outputs": [],
   "source": [
    "# outliers\n",
    "df_grouped = df_grouped[df_grouped.id>10]"
   ]
  },
  {
   "cell_type": "code",
   "execution_count": 51,
   "metadata": {},
   "outputs": [],
   "source": [
    "df_grouped['count_log'] = np.log2(df_grouped.id).astype(int)*15"
   ]
  },
  {
   "cell_type": "code",
   "execution_count": 52,
   "metadata": {},
   "outputs": [
    {
     "data": {
      "image/png": "[encoded data removed]",
      "text/plain": [
       "<Figure size 720x432 with 1 Axes>"
      ]
     },
     "metadata": {
      "needs_background": "light"
     },
     "output_type": "display_data"
    }
   ],
   "source": [
    "fig, ax = plt.subplots(figsize=(10,6))\n",
    "ax.axhline(34, ls='--', color='red')\n",
    "ax = sns.scatterplot(ax=ax, data=df_grouped, x=\"numberOfBids\", palette=\"deep\", y=\"economy\", size='count_log', legend=False)\n",
    "ax.set_xlabel('# of bids per tender')\n",
    "ax.set_ylabel('Relative economy, %')\n",
    "ax.set_xticks(df_grouped.numberOfBids.to_list());\n",
    "\n",
    "# Relation between the received offers of bidders and the underbid Ukraine"
   ]
  },
  {
   "cell_type": "code",
   "execution_count": 53,
   "metadata": {},
   "outputs": [
    {
     "data": {
      "text/plain": [
       "31.441456744006114"
      ]
     },
     "execution_count": 53,
     "metadata": {},
     "output_type": "execute_result"
    }
   ],
   "source": [
    "df_grouped.economy.mean()"
   ]
  },
  {
   "cell_type": "code",
   "execution_count": 55,
   "metadata": {},
   "outputs": [],
   "source": [
    "del df_cleaned\n",
    "del df_grouped"
   ]
  },
  {
   "cell_type": "markdown",
   "metadata": {},
   "source": [
    "## geocoding"
   ]
  },
  {
   "cell_type": "code",
   "execution_count": 56,
   "metadata": {},
   "outputs": [],
   "source": [
    "from utils.geolocation import CachedGeolocator, region_fixer, locality_fixer, countryName_fixer, address_to_location\n",
    "# df = read_mongo(db, collection='tenders', query={'submissionMethod': 'electronicAuction'}, fields=['status', 'procuringEntity', 'bids', 'awards', 'items', 'value', 'procurementMethodType', 'mainProcurementCategory', 'procurementMethodType', 'awardCriteria'])"
   ]
  },
  {
   "cell_type": "markdown",
   "metadata": {},
   "source": [
    "*Частково вирішує проблему*\n",
    "**Dozorro Проблема 6 Некоректні регіони + місто**\n",
    "* Визначити всіх учасників і замовників з некоректно визначиними регіонами/містами\n",
    "* Запропоонувати алгоритм виправлення/уніфікації\n"
   ]
  },
  {
   "cell_type": "markdown",
   "metadata": {},
   "source": [
    "\n",
    "* Поле `locality` містить найбільш неструктуровану інформацію, може містиити район, громаду, населений пункт в довільному порядку\n",
    "* Часто можна зустріти помилки, русизми, неактуальні назви населених пунктів\n",
    "* Для уніфікації використано відкритий безплатний сервіс Nominatim(визначення геокоду та структурованої інформації про населений пункт, приклад нижче). \n",
    "* Обмження Nominatim один запит в секунду - реалізовано кеш, після того як кеш \"прогрівся\" дані опрацювуються швидко. \n",
    "* Для продакшн використання може буде розгорнутий локально, Open-Source GPLv2\n",
    "* Полу `region` містить дані про область проблеми лише з м. Київ, реалізовно заплатку.\n",
    "* Реалізолвану функцію, яка вхід приймає структуру адреса на вихід віддає структуровану інфо про геолокіцію\n",
    "* Інформація про вулиці не використовується.\n",
    "* Точність 99,5% решту 0,5% можна визначити за поштовим кодом(*лише для покупців procurement entities*)"
   ]
  },
  {
   "cell_type": "markdown",
   "metadata": {},
   "source": [
    "for entities and suppliers structure remain the same"
   ]
  },
  {
   "cell_type": "code",
   "execution_count": 58,
   "metadata": {},
   "outputs": [
    {
     "data": {
      "text/plain": [
       "{'streetAddress': 'вул. Центральна, 53',\n",
       " 'locality': 'с. Семидуби',\n",
       " 'region': 'Рівненська область',\n",
       " 'postalCode': '35650',\n",
       " 'countryName': 'Україна'}"
      ]
     },
     "execution_count": 58,
     "metadata": {},
     "output_type": "execute_result"
    }
   ],
   "source": [
    "address = df.procuringEntity.iloc[12345]['address']\n",
    "address"
   ]
  },
  {
   "cell_type": "code",
   "execution_count": 59,
   "metadata": {},
   "outputs": [
    {
     "data": {
      "text/plain": [
       "'семидуби рівненська область україна'"
      ]
     },
     "execution_count": 59,
     "metadata": {},
     "output_type": "execute_result"
    }
   ],
   "source": [
    "# resulting query after fixes\n",
    "query_string = ' '.join([\n",
    "    locality_fixer(address['locality']), \n",
    "    region_fixer(address['region']), \n",
    "    countryName_fixer(address['countryName'])\n",
    "])\n",
    "\n",
    "query_string"
   ]
  },
  {
   "cell_type": "code",
   "execution_count": 60,
   "metadata": {},
   "outputs": [
    {
     "data": {
      "text/plain": [
       "('Семидуби, Семидубська сільська громада, Дубенський район, Рівненська область, 35650, Україна',\n",
       " Point(50.339008, 25.81513, 0.0))"
      ]
     },
     "execution_count": 60,
     "metadata": {},
     "output_type": "execute_result"
    }
   ],
   "source": [
    "# geocoding\n",
    "from geopy.geocoders import Nominatim\n",
    "\n",
    "geocoder = Nominatim(user_agent=\"transparent_chelicks\")\n",
    "gc = geocoder.geocode(query_string)\n",
    "\n",
    "gc.address, gc.point"
   ]
  },
  {
   "cell_type": "code",
   "execution_count": 61,
   "metadata": {},
   "outputs": [
    {
     "data": {
      "text/plain": [
       "{'place_id': 1381627,\n",
       " 'licence': 'Data © OpenStreetMap contributors, ODbL 1.0. https://osm.org/copyright',\n",
       " 'osm_type': 'node',\n",
       " 'osm_id': 337524134,\n",
       " 'boundingbox': ['50.319008', '50.359008', '25.79513', '25.83513'],\n",
       " 'lat': '50.339008',\n",
       " 'lon': '25.81513',\n",
       " 'display_name': 'Семидуби, Семидубська сільська громада, Дубенський район, Рівненська область, 35650, Україна',\n",
       " 'class': 'place',\n",
       " 'type': 'village',\n",
       " 'importance': 0.39904226699327416,\n",
       " 'icon': 'https://nominatim.openstreetmap.org/ui/mapicons//poi_place_village.p.20.png'}"
      ]
     },
     "execution_count": 61,
     "metadata": {},
     "output_type": "execute_result"
    }
   ],
   "source": [
    "gc.raw"
   ]
  },
  {
   "cell_type": "markdown",
   "metadata": {},
   "source": [
    "prozorro address to query string"
   ]
  },
  {
   "cell_type": "code",
   "execution_count": 62,
   "metadata": {},
   "outputs": [],
   "source": [
    "fixers = {\n",
    "    'locality': locality_fixer,\n",
    "    'region': region_fixer,\n",
    "    'countryName': countryName_fixer\n",
    "}"
   ]
  },
  {
   "cell_type": "code",
   "execution_count": 66,
   "metadata": {},
   "outputs": [],
   "source": [
    "geolocator = CachedGeolocator(cache_dir='./data/geo_cache', verbose=False)\n",
    "\n",
    "not_located = []\n",
    "located = []\n",
    "\n",
    "for row in df.itertuples():\n",
    "\n",
    "    address = row.procuringEntity['address']\n",
    "\n",
    "    located.append(address_to_location(address=address, geolocator=geolocator, fixers=fixers))\n",
    "\n",
    "\n",
    "geolocator.close()\n",
    "    "
   ]
  },
  {
   "cell_type": "code",
   "execution_count": 70,
   "metadata": {},
   "outputs": [
    {
     "name": "stdout",
     "output_type": "stream",
     "text": [
      "Errors 222\n",
      "located 461212\n",
      "Not found in 0.048134046815781026 %\n"
     ]
    }
   ],
   "source": [
    "loc_err = len([lctd for lctd in located if lctd is None])\n",
    "print(f'Errors {loc_err}')\n",
    "print(f'located {len(located)}')\n",
    "print(f'Not found in {100*loc_err/len(located)} %')"
   ]
  },
  {
   "cell_type": "markdown",
   "metadata": {},
   "source": [
    "Putting everything together:\n",
    "*  get entities and geocode them\n",
    "*  get bidders and geocode them\n",
    "*  merge datasets\n",
    "*  calculate some stat"
   ]
  },
  {
   "cell_type": "code",
   "execution_count": 69,
   "metadata": {},
   "outputs": [
    {
     "data": {
      "text/html": [
       "<div>\n",
       "<style scoped>\n",
       "    .dataframe tbody tr th:only-of-type {\n",
       "        vertical-align: middle;\n",
       "    }\n",
       "\n",
       "    .dataframe tbody tr th {\n",
       "        vertical-align: top;\n",
       "    }\n",
       "\n",
       "    .dataframe thead th {\n",
       "        text-align: right;\n",
       "    }\n",
       "</style>\n",
       "<table border=\"1\" class=\"dataframe\">\n",
       "  <thead>\n",
       "    <tr style=\"text-align: right;\">\n",
       "      <th></th>\n",
       "      <th>tenderers</th>\n",
       "      <th>date</th>\n",
       "      <th>id</th>\n",
       "      <th>value</th>\n",
       "      <th>participationUrl</th>\n",
       "      <th>status</th>\n",
       "      <th>selfQualified</th>\n",
       "      <th>selfEligible</th>\n",
       "      <th>documents</th>\n",
       "      <th>parent_id</th>\n",
       "      <th>tender_id</th>\n",
       "      <th>subcontractingDetails</th>\n",
       "      <th>requirementResponses</th>\n",
       "      <th>lotValues</th>\n",
       "      <th>financialDocuments</th>\n",
       "      <th>eligibilityDocuments</th>\n",
       "      <th>parameters</th>\n",
       "    </tr>\n",
       "  </thead>\n",
       "  <tbody>\n",
       "    <tr>\n",
       "      <th>0</th>\n",
       "      <td>[{'name': 'ТОВ \"СЕРВІС ГРУПП ЛТД\"', 'identifie...</td>\n",
       "      <td>2020-12-21T14:11:56.255620+02:00</td>\n",
       "      <td>cdc38f0fad3246bd95124bd2e402bb8a</td>\n",
       "      <td>{'amount': 591366.3, 'currency': 'UAH', 'value...</td>\n",
       "      <td>https://auction.openprocurement.org/tenders/22...</td>\n",
       "      <td>active</td>\n",
       "      <td>True</td>\n",
       "      <td>True</td>\n",
       "      <td>[{'id': '1fa8e347afa84941b2bd5cdf5d4be415', 'h...</td>\n",
       "      <td>22cb88ebaac14ab2ac048cec40909ba6</td>\n",
       "      <td>22cb88ebaac14ab2ac048cec40909ba6</td>\n",
       "      <td>NaN</td>\n",
       "      <td>NaN</td>\n",
       "      <td>NaN</td>\n",
       "      <td>NaN</td>\n",
       "      <td>NaN</td>\n",
       "      <td>NaN</td>\n",
       "    </tr>\n",
       "    <tr>\n",
       "      <th>1</th>\n",
       "      <td>[{'name': 'Товариство з обмеженою відповідальн...</td>\n",
       "      <td>2020-12-21T13:48:51.469094+02:00</td>\n",
       "      <td>ee1c8cb11c5949b8a964d7215c60ea8c</td>\n",
       "      <td>{'amount': 724122.0, 'currency': 'UAH', 'value...</td>\n",
       "      <td>https://auction.openprocurement.org/tenders/22...</td>\n",
       "      <td>active</td>\n",
       "      <td>True</td>\n",
       "      <td>True</td>\n",
       "      <td>[{'id': 'd0b94be557fc481aa7f503f0cf4ba922', 'h...</td>\n",
       "      <td>22cb88ebaac14ab2ac048cec40909ba6</td>\n",
       "      <td>22cb88ebaac14ab2ac048cec40909ba6</td>\n",
       "      <td>NaN</td>\n",
       "      <td>NaN</td>\n",
       "      <td>NaN</td>\n",
       "      <td>NaN</td>\n",
       "      <td>NaN</td>\n",
       "      <td>NaN</td>\n",
       "    </tr>\n",
       "    <tr>\n",
       "      <th>2</th>\n",
       "      <td>[{'name': 'ТОВАРИСТВО З ОБМЕЖЕНОЮ ВІДПОВІДАЛЬН...</td>\n",
       "      <td>2020-12-18T17:38:22.576729+02:00</td>\n",
       "      <td>a2fe67c6bd92436aadb6ee253acb866e</td>\n",
       "      <td>{'amount': 677054.07, 'currency': 'UAH', 'valu...</td>\n",
       "      <td>https://auction.openprocurement.org/tenders/22...</td>\n",
       "      <td>active</td>\n",
       "      <td>True</td>\n",
       "      <td>True</td>\n",
       "      <td>[{'id': '01465f329b034ce3a1b1861cd222e7e3', 'h...</td>\n",
       "      <td>22cb88ebaac14ab2ac048cec40909ba6</td>\n",
       "      <td>22cb88ebaac14ab2ac048cec40909ba6</td>\n",
       "      <td>NaN</td>\n",
       "      <td>NaN</td>\n",
       "      <td>NaN</td>\n",
       "      <td>NaN</td>\n",
       "      <td>NaN</td>\n",
       "      <td>NaN</td>\n",
       "    </tr>\n",
       "    <tr>\n",
       "      <th>3</th>\n",
       "      <td>[{'name': 'ТОВАРИСТВО З ОБМЕЖЕНОЮ ВІДПОВІДАЛЬН...</td>\n",
       "      <td>2020-12-21T14:14:10.588327+02:00</td>\n",
       "      <td>1cb08df8ce48438c803e4640a7c6b3a1</td>\n",
       "      <td>{'amount': 591366.0, 'currency': 'UAH', 'value...</td>\n",
       "      <td>https://auction.openprocurement.org/tenders/22...</td>\n",
       "      <td>active</td>\n",
       "      <td>True</td>\n",
       "      <td>True</td>\n",
       "      <td>[{'id': 'ae72ae3ea4c541f09b3e12bb208e81a9', 'h...</td>\n",
       "      <td>22cb88ebaac14ab2ac048cec40909ba6</td>\n",
       "      <td>22cb88ebaac14ab2ac048cec40909ba6</td>\n",
       "      <td>NaN</td>\n",
       "      <td>NaN</td>\n",
       "      <td>NaN</td>\n",
       "      <td>NaN</td>\n",
       "      <td>NaN</td>\n",
       "      <td>NaN</td>\n",
       "    </tr>\n",
       "    <tr>\n",
       "      <th>4</th>\n",
       "      <td>NaN</td>\n",
       "      <td>NaN</td>\n",
       "      <td>3559825a07044446bc5c59405dbfcfec</td>\n",
       "      <td>NaN</td>\n",
       "      <td>NaN</td>\n",
       "      <td>deleted</td>\n",
       "      <td>NaN</td>\n",
       "      <td>NaN</td>\n",
       "      <td>NaN</td>\n",
       "      <td>d7ac4dfc5e394932b13f0ba7f50c7f47</td>\n",
       "      <td>d7ac4dfc5e394932b13f0ba7f50c7f47</td>\n",
       "      <td>NaN</td>\n",
       "      <td>NaN</td>\n",
       "      <td>NaN</td>\n",
       "      <td>NaN</td>\n",
       "      <td>NaN</td>\n",
       "      <td>NaN</td>\n",
       "    </tr>\n",
       "  </tbody>\n",
       "</table>\n",
       "</div>"
      ],
      "text/plain": [
       "                                           tenderers  \\\n",
       "0  [{'name': 'ТОВ \"СЕРВІС ГРУПП ЛТД\"', 'identifie...   \n",
       "1  [{'name': 'Товариство з обмеженою відповідальн...   \n",
       "2  [{'name': 'ТОВАРИСТВО З ОБМЕЖЕНОЮ ВІДПОВІДАЛЬН...   \n",
       "3  [{'name': 'ТОВАРИСТВО З ОБМЕЖЕНОЮ ВІДПОВІДАЛЬН...   \n",
       "4                                                NaN   \n",
       "\n",
       "                               date                                id  \\\n",
       "0  2020-12-21T14:11:56.255620+02:00  cdc38f0fad3246bd95124bd2e402bb8a   \n",
       "1  2020-12-21T13:48:51.469094+02:00  ee1c8cb11c5949b8a964d7215c60ea8c   \n",
       "2  2020-12-18T17:38:22.576729+02:00  a2fe67c6bd92436aadb6ee253acb866e   \n",
       "3  2020-12-21T14:14:10.588327+02:00  1cb08df8ce48438c803e4640a7c6b3a1   \n",
       "4                               NaN  3559825a07044446bc5c59405dbfcfec   \n",
       "\n",
       "                                               value  \\\n",
       "0  {'amount': 591366.3, 'currency': 'UAH', 'value...   \n",
       "1  {'amount': 724122.0, 'currency': 'UAH', 'value...   \n",
       "2  {'amount': 677054.07, 'currency': 'UAH', 'valu...   \n",
       "3  {'amount': 591366.0, 'currency': 'UAH', 'value...   \n",
       "4                                                NaN   \n",
       "\n",
       "                                    participationUrl   status selfQualified  \\\n",
       "0  https://auction.openprocurement.org/tenders/22...   active          True   \n",
       "1  https://auction.openprocurement.org/tenders/22...   active          True   \n",
       "2  https://auction.openprocurement.org/tenders/22...   active          True   \n",
       "3  https://auction.openprocurement.org/tenders/22...   active          True   \n",
       "4                                                NaN  deleted           NaN   \n",
       "\n",
       "  selfEligible                                          documents  \\\n",
       "0         True  [{'id': '1fa8e347afa84941b2bd5cdf5d4be415', 'h...   \n",
       "1         True  [{'id': 'd0b94be557fc481aa7f503f0cf4ba922', 'h...   \n",
       "2         True  [{'id': '01465f329b034ce3a1b1861cd222e7e3', 'h...   \n",
       "3         True  [{'id': 'ae72ae3ea4c541f09b3e12bb208e81a9', 'h...   \n",
       "4          NaN                                                NaN   \n",
       "\n",
       "                          parent_id                         tender_id  \\\n",
       "0  22cb88ebaac14ab2ac048cec40909ba6  22cb88ebaac14ab2ac048cec40909ba6   \n",
       "1  22cb88ebaac14ab2ac048cec40909ba6  22cb88ebaac14ab2ac048cec40909ba6   \n",
       "2  22cb88ebaac14ab2ac048cec40909ba6  22cb88ebaac14ab2ac048cec40909ba6   \n",
       "3  22cb88ebaac14ab2ac048cec40909ba6  22cb88ebaac14ab2ac048cec40909ba6   \n",
       "4  d7ac4dfc5e394932b13f0ba7f50c7f47  d7ac4dfc5e394932b13f0ba7f50c7f47   \n",
       "\n",
       "  subcontractingDetails requirementResponses lotValues financialDocuments  \\\n",
       "0                   NaN                  NaN       NaN                NaN   \n",
       "1                   NaN                  NaN       NaN                NaN   \n",
       "2                   NaN                  NaN       NaN                NaN   \n",
       "3                   NaN                  NaN       NaN                NaN   \n",
       "4                   NaN                  NaN       NaN                NaN   \n",
       "\n",
       "  eligibilityDocuments parameters  \n",
       "0                  NaN        NaN  \n",
       "1                  NaN        NaN  \n",
       "2                  NaN        NaN  \n",
       "3                  NaN        NaN  \n",
       "4                  NaN        NaN  "
      ]
     },
     "execution_count": 69,
     "metadata": {},
     "output_type": "execute_result"
    }
   ],
   "source": [
    "bids_df = subcollection_to_df(df, 'bids')\n",
    "bids_df.head()"
   ]
  },
  {
   "cell_type": "code",
   "execution_count": 81,
   "metadata": {},
   "outputs": [
    {
     "data": {
      "text/html": [
       "<div>\n",
       "<style scoped>\n",
       "    .dataframe tbody tr th:only-of-type {\n",
       "        vertical-align: middle;\n",
       "    }\n",
       "\n",
       "    .dataframe tbody tr th {\n",
       "        vertical-align: top;\n",
       "    }\n",
       "\n",
       "    .dataframe thead th {\n",
       "        text-align: right;\n",
       "    }\n",
       "</style>\n",
       "<table border=\"1\" class=\"dataframe\">\n",
       "  <thead>\n",
       "    <tr style=\"text-align: right;\">\n",
       "      <th></th>\n",
       "      <th>name</th>\n",
       "      <th>identifier</th>\n",
       "      <th>address</th>\n",
       "      <th>contactPoint</th>\n",
       "      <th>scale</th>\n",
       "      <th>parent_id</th>\n",
       "      <th>tender_id</th>\n",
       "      <th>name_en</th>\n",
       "      <th>name_ru</th>\n",
       "    </tr>\n",
       "  </thead>\n",
       "  <tbody>\n",
       "    <tr>\n",
       "      <th>0</th>\n",
       "      <td>ТОВ \"СЕРВІС ГРУПП ЛТД\"</td>\n",
       "      <td>{'scheme': 'UA-EDR', 'id': '38772399', 'legalN...</td>\n",
       "      <td>{'streetAddress': '61202, м. Харків, вул. Ціли...</td>\n",
       "      <td>{'name': 'Рождественська Наталія Михайлівна', ...</td>\n",
       "      <td>sme</td>\n",
       "      <td>cdc38f0fad3246bd95124bd2e402bb8a</td>\n",
       "      <td>22cb88ebaac14ab2ac048cec40909ba6</td>\n",
       "      <td>NaN</td>\n",
       "      <td>NaN</td>\n",
       "    </tr>\n",
       "    <tr>\n",
       "      <th>1</th>\n",
       "      <td>Товариство з обмеженою відповідальністю \"Дніпр...</td>\n",
       "      <td>{'scheme': 'UA-EDR', 'id': '39572642', 'legalN...</td>\n",
       "      <td>{'streetAddress': 'вул.Поля будинок  2 літ. А-...</td>\n",
       "      <td>{'name': 'Ольховікова Аліна', 'name_en': 'Alin...</td>\n",
       "      <td>mid</td>\n",
       "      <td>ee1c8cb11c5949b8a964d7215c60ea8c</td>\n",
       "      <td>22cb88ebaac14ab2ac048cec40909ba6</td>\n",
       "      <td>LIMITED LIABILITY COMPANY \"DNIPROPETROVSKGAZ Z...</td>\n",
       "      <td>NaN</td>\n",
       "    </tr>\n",
       "    <tr>\n",
       "      <th>2</th>\n",
       "      <td>ТОВАРИСТВО З ОБМЕЖЕНОЮ ВІДПОВІДАЛЬНІСТЮ «АЛЬЯН...</td>\n",
       "      <td>{'scheme': 'UA-EDR', 'id': '43726412', 'legalN...</td>\n",
       "      <td>{'streetAddress': 'ВУЛИЦЯ ТОРГОВА, будинок 2',...</td>\n",
       "      <td>{'name': 'Меджер Олексій', 'name_en': 'Medjer ...</td>\n",
       "      <td>mid</td>\n",
       "      <td>a2fe67c6bd92436aadb6ee253acb866e</td>\n",
       "      <td>22cb88ebaac14ab2ac048cec40909ba6</td>\n",
       "      <td>TOVARISTVO Z OBMEZHENOYU VIDPOVIDALNISTYU «ALY...</td>\n",
       "      <td>NaN</td>\n",
       "    </tr>\n",
       "    <tr>\n",
       "      <th>3</th>\n",
       "      <td>ТОВАРИСТВО З ОБМЕЖЕНОЮ ВІДПОВІДАЛЬНІСТЮ \"ГАЗ.УА\"</td>\n",
       "      <td>{'scheme': 'UA-EDR', 'id': '42468262', 'legalN...</td>\n",
       "      <td>{'streetAddress': '04080, м.Київ, ВУЛИЦЯ ОЛЕКС...</td>\n",
       "      <td>{'name': 'ТОВ ГАЗ.УА', 'email': 'GAS.UA.TRADE@...</td>\n",
       "      <td>sme</td>\n",
       "      <td>1cb08df8ce48438c803e4640a7c6b3a1</td>\n",
       "      <td>22cb88ebaac14ab2ac048cec40909ba6</td>\n",
       "      <td>NaN</td>\n",
       "      <td>NaN</td>\n",
       "    </tr>\n",
       "    <tr>\n",
       "      <th>4</th>\n",
       "      <td>ФОП Михайленко Василь Григорович</td>\n",
       "      <td>{'scheme': 'UA-EDR', 'id': '2484500939', 'lega...</td>\n",
       "      <td>{'streetAddress': 'пр Героїв, буд. 12 кв. 653'...</td>\n",
       "      <td>{'name': 'Михайленко Василий', 'name_en': 'Mik...</td>\n",
       "      <td>micro</td>\n",
       "      <td>7d57949ae2184cfab7394531f575748f</td>\n",
       "      <td>d7ac4dfc5e394932b13f0ba7f50c7f47</td>\n",
       "      <td>FOP Mihailenko Vasil Grigorovich</td>\n",
       "      <td>NaN</td>\n",
       "    </tr>\n",
       "  </tbody>\n",
       "</table>\n",
       "</div>"
      ],
      "text/plain": [
       "                                                name  \\\n",
       "0                             ТОВ \"СЕРВІС ГРУПП ЛТД\"   \n",
       "1  Товариство з обмеженою відповідальністю \"Дніпр...   \n",
       "2  ТОВАРИСТВО З ОБМЕЖЕНОЮ ВІДПОВІДАЛЬНІСТЮ «АЛЬЯН...   \n",
       "3   ТОВАРИСТВО З ОБМЕЖЕНОЮ ВІДПОВІДАЛЬНІСТЮ \"ГАЗ.УА\"   \n",
       "4                   ФОП Михайленко Василь Григорович   \n",
       "\n",
       "                                          identifier  \\\n",
       "0  {'scheme': 'UA-EDR', 'id': '38772399', 'legalN...   \n",
       "1  {'scheme': 'UA-EDR', 'id': '39572642', 'legalN...   \n",
       "2  {'scheme': 'UA-EDR', 'id': '43726412', 'legalN...   \n",
       "3  {'scheme': 'UA-EDR', 'id': '42468262', 'legalN...   \n",
       "4  {'scheme': 'UA-EDR', 'id': '2484500939', 'lega...   \n",
       "\n",
       "                                             address  \\\n",
       "0  {'streetAddress': '61202, м. Харків, вул. Ціли...   \n",
       "1  {'streetAddress': 'вул.Поля будинок  2 літ. А-...   \n",
       "2  {'streetAddress': 'ВУЛИЦЯ ТОРГОВА, будинок 2',...   \n",
       "3  {'streetAddress': '04080, м.Київ, ВУЛИЦЯ ОЛЕКС...   \n",
       "4  {'streetAddress': 'пр Героїв, буд. 12 кв. 653'...   \n",
       "\n",
       "                                        contactPoint  scale  \\\n",
       "0  {'name': 'Рождественська Наталія Михайлівна', ...    sme   \n",
       "1  {'name': 'Ольховікова Аліна', 'name_en': 'Alin...    mid   \n",
       "2  {'name': 'Меджер Олексій', 'name_en': 'Medjer ...    mid   \n",
       "3  {'name': 'ТОВ ГАЗ.УА', 'email': 'GAS.UA.TRADE@...    sme   \n",
       "4  {'name': 'Михайленко Василий', 'name_en': 'Mik...  micro   \n",
       "\n",
       "                          parent_id                         tender_id  \\\n",
       "0  cdc38f0fad3246bd95124bd2e402bb8a  22cb88ebaac14ab2ac048cec40909ba6   \n",
       "1  ee1c8cb11c5949b8a964d7215c60ea8c  22cb88ebaac14ab2ac048cec40909ba6   \n",
       "2  a2fe67c6bd92436aadb6ee253acb866e  22cb88ebaac14ab2ac048cec40909ba6   \n",
       "3  1cb08df8ce48438c803e4640a7c6b3a1  22cb88ebaac14ab2ac048cec40909ba6   \n",
       "4  7d57949ae2184cfab7394531f575748f  d7ac4dfc5e394932b13f0ba7f50c7f47   \n",
       "\n",
       "                                             name_en name_ru  \n",
       "0                                                NaN     NaN  \n",
       "1  LIMITED LIABILITY COMPANY \"DNIPROPETROVSKGAZ Z...     NaN  \n",
       "2  TOVARISTVO Z OBMEZHENOYU VIDPOVIDALNISTYU «ALY...     NaN  \n",
       "3                                                NaN     NaN  \n",
       "4                   FOP Mihailenko Vasil Grigorovich     NaN  "
      ]
     },
     "execution_count": 81,
     "metadata": {},
     "output_type": "execute_result"
    }
   ],
   "source": [
    "# tenderers are subcollection of bids !!! deduplicate after geocodins\n",
    "tenderers_df = subcollection_to_df(bids_df, 'tenderers')\n",
    "tenderers_df.head()"
   ]
  },
  {
   "cell_type": "code",
   "execution_count": 82,
   "metadata": {},
   "outputs": [],
   "source": [
    "# deduplication if multiple bids from the same tenderer - take last one\n",
    "tenderers_df['edr'] = tenderers_df.identifier.apply(lambda x:x['id'])\n",
    "tenderers_df = tenderers_df.drop_duplicates(subset=['edr','tender_id'],keep='last')"
   ]
  },
  {
   "cell_type": "code",
   "execution_count": 109,
   "metadata": {},
   "outputs": [],
   "source": [
    "\n",
    "\n",
    "from functools import partial\n",
    "fixers = {\n",
    "    'locality': locality_fixer,\n",
    "    'region': region_fixer,\n",
    "    'countryName': countryName_fixer\n",
    "}\n",
    "geolocator = CachedGeolocator(cache_dir='./data/geo_cache', verbose=False)\n",
    "\n",
    "get_location = partial(address_to_location, geolocator=geolocator, fixers=fixers)\n",
    "df['procuring_entity_point'] = df.procuringEntity.apply(lambda pe:get_location(pe['address']))\n",
    "tenderers_df['tenderer_point'] = tenderers_df.address.apply(lambda addr:get_location(addr))\n",
    "\n",
    "\n",
    "geolocator.close()"
   ]
  },
  {
   "cell_type": "code",
   "execution_count": 96,
   "metadata": {},
   "outputs": [
    {
     "data": {
      "text/plain": [
       "{'streetAddress': '61202, м. Харків, вул. Цілиноградська,58А',\n",
       " 'countryName': 'Україна'}"
      ]
     },
     "execution_count": 96,
     "metadata": {},
     "output_type": "execute_result"
    }
   ],
   "source": [
    "tenderers_df.address.iloc[0]"
   ]
  },
  {
   "cell_type": "code",
   "execution_count": 103,
   "metadata": {},
   "outputs": [
    {
     "data": {
      "text/plain": [
       "11.198738170347003"
      ]
     },
     "execution_count": 103,
     "metadata": {},
     "output_type": "execute_result"
    }
   ],
   "source": [
    "# almost 11% that is bas NEEDs further investigation \n",
    "# locality and region are set to address field \n",
    "100*sum(tenderers_df['tenderer_point'].isna())/len(tenderers_df)"
   ]
  },
  {
   "cell_type": "code",
   "execution_count": 133,
   "metadata": {},
   "outputs": [
    {
     "data": {
      "text/html": [
       "<div>\n",
       "<style scoped>\n",
       "    .dataframe tbody tr th:only-of-type {\n",
       "        vertical-align: middle;\n",
       "    }\n",
       "\n",
       "    .dataframe tbody tr th {\n",
       "        vertical-align: top;\n",
       "    }\n",
       "\n",
       "    .dataframe thead th {\n",
       "        text-align: right;\n",
       "    }\n",
       "</style>\n",
       "<table border=\"1\" class=\"dataframe\">\n",
       "  <thead>\n",
       "    <tr style=\"text-align: right;\">\n",
       "      <th></th>\n",
       "      <th>name</th>\n",
       "      <th>identifier</th>\n",
       "      <th>address</th>\n",
       "      <th>contactPoint</th>\n",
       "      <th>scale</th>\n",
       "      <th>parent_id</th>\n",
       "      <th>tender_id</th>\n",
       "      <th>name_en</th>\n",
       "      <th>name_ru</th>\n",
       "      <th>edr</th>\n",
       "      <th>procuring_entity_point</th>\n",
       "      <th>tenderer_point</th>\n",
       "    </tr>\n",
       "  </thead>\n",
       "  <tbody>\n",
       "    <tr>\n",
       "      <th>0</th>\n",
       "      <td>ТОВ \"СЕРВІС ГРУПП ЛТД\"</td>\n",
       "      <td>{'scheme': 'UA-EDR', 'id': '38772399', 'legalN...</td>\n",
       "      <td>{'streetAddress': '61202, м. Харків, вул. Ціли...</td>\n",
       "      <td>{'name': 'Рождественська Наталія Михайлівна', ...</td>\n",
       "      <td>sme</td>\n",
       "      <td>cdc38f0fad3246bd95124bd2e402bb8a</td>\n",
       "      <td>22cb88ebaac14ab2ac048cec40909ba6</td>\n",
       "      <td>NaN</td>\n",
       "      <td>NaN</td>\n",
       "      <td>38772399</td>\n",
       "      <td>None</td>\n",
       "      <td>None</td>\n",
       "    </tr>\n",
       "    <tr>\n",
       "      <th>1</th>\n",
       "      <td>Товариство з обмеженою відповідальністю \"Дніпр...</td>\n",
       "      <td>{'scheme': 'UA-EDR', 'id': '39572642', 'legalN...</td>\n",
       "      <td>{'streetAddress': 'вул.Поля будинок  2 літ. А-...</td>\n",
       "      <td>{'name': 'Ольховікова Аліна', 'name_en': 'Alin...</td>\n",
       "      <td>mid</td>\n",
       "      <td>ee1c8cb11c5949b8a964d7215c60ea8c</td>\n",
       "      <td>22cb88ebaac14ab2ac048cec40909ba6</td>\n",
       "      <td>LIMITED LIABILITY COMPANY \"DNIPROPETROVSKGAZ Z...</td>\n",
       "      <td>NaN</td>\n",
       "      <td>39572642</td>\n",
       "      <td>(48.46596125, 34.95939956204188)</td>\n",
       "      <td>(48.46596125, 34.95939956204188)</td>\n",
       "    </tr>\n",
       "    <tr>\n",
       "      <th>2</th>\n",
       "      <td>ТОВАРИСТВО З ОБМЕЖЕНОЮ ВІДПОВІДАЛЬНІСТЮ «АЛЬЯН...</td>\n",
       "      <td>{'scheme': 'UA-EDR', 'id': '43726412', 'legalN...</td>\n",
       "      <td>{'streetAddress': 'ВУЛИЦЯ ТОРГОВА, будинок 2',...</td>\n",
       "      <td>{'name': 'Меджер Олексій', 'name_en': 'Medjer ...</td>\n",
       "      <td>mid</td>\n",
       "      <td>a2fe67c6bd92436aadb6ee253acb866e</td>\n",
       "      <td>22cb88ebaac14ab2ac048cec40909ba6</td>\n",
       "      <td>TOVARISTVO Z OBMEZHENOYU VIDPOVIDALNISTYU «ALY...</td>\n",
       "      <td>NaN</td>\n",
       "      <td>43726412</td>\n",
       "      <td>(47.0957648, 37.5499621)</td>\n",
       "      <td>(47.0957648, 37.5499621)</td>\n",
       "    </tr>\n",
       "    <tr>\n",
       "      <th>3</th>\n",
       "      <td>ТОВАРИСТВО З ОБМЕЖЕНОЮ ВІДПОВІДАЛЬНІСТЮ \"ГАЗ.УА\"</td>\n",
       "      <td>{'scheme': 'UA-EDR', 'id': '42468262', 'legalN...</td>\n",
       "      <td>{'streetAddress': '04080, м.Київ, ВУЛИЦЯ ОЛЕКС...</td>\n",
       "      <td>{'name': 'ТОВ ГАЗ.УА', 'email': 'GAS.UA.TRADE@...</td>\n",
       "      <td>sme</td>\n",
       "      <td>1cb08df8ce48438c803e4640a7c6b3a1</td>\n",
       "      <td>22cb88ebaac14ab2ac048cec40909ba6</td>\n",
       "      <td>NaN</td>\n",
       "      <td>NaN</td>\n",
       "      <td>42468262</td>\n",
       "      <td>None</td>\n",
       "      <td>None</td>\n",
       "    </tr>\n",
       "    <tr>\n",
       "      <th>4</th>\n",
       "      <td>ФОП Михайленко Василь Григорович</td>\n",
       "      <td>{'scheme': 'UA-EDR', 'id': '2484500939', 'lega...</td>\n",
       "      <td>{'streetAddress': 'пр Героїв, буд. 12 кв. 653'...</td>\n",
       "      <td>{'name': 'Михайленко Василий', 'name_en': 'Mik...</td>\n",
       "      <td>micro</td>\n",
       "      <td>7d57949ae2184cfab7394531f575748f</td>\n",
       "      <td>d7ac4dfc5e394932b13f0ba7f50c7f47</td>\n",
       "      <td>FOP Mihailenko Vasil Grigorovich</td>\n",
       "      <td>NaN</td>\n",
       "      <td>2484500939</td>\n",
       "      <td>(48.46596125, 34.95939956204188)</td>\n",
       "      <td>(48.46596125, 34.95939956204188)</td>\n",
       "    </tr>\n",
       "    <tr>\n",
       "      <th>...</th>\n",
       "      <td>...</td>\n",
       "      <td>...</td>\n",
       "      <td>...</td>\n",
       "      <td>...</td>\n",
       "      <td>...</td>\n",
       "      <td>...</td>\n",
       "      <td>...</td>\n",
       "      <td>...</td>\n",
       "      <td>...</td>\n",
       "      <td>...</td>\n",
       "      <td>...</td>\n",
       "      <td>...</td>\n",
       "    </tr>\n",
       "    <tr>\n",
       "      <th>1916</th>\n",
       "      <td>ФОП \"КИРКО РУСЛАН ПАВЛОВИЧ\"</td>\n",
       "      <td>{'scheme': 'UA-EDR', 'id': '2798720812', 'lega...</td>\n",
       "      <td>{'streetAddress': 'ВУЛИЦЯ РОБОЧА, будинок 152,...</td>\n",
       "      <td>{'name': 'Руслан Кирко', 'email': 'bioplaneta2...</td>\n",
       "      <td>mid</td>\n",
       "      <td>f8d1fdef14d54457b9dd4a254a614065</td>\n",
       "      <td>bd203138a7874940a16fd1eb406ff744</td>\n",
       "      <td>NaN</td>\n",
       "      <td>NaN</td>\n",
       "      <td>2798720812</td>\n",
       "      <td>(48.46596125, 34.95939956204188)</td>\n",
       "      <td>(48.46596125, 34.95939956204188)</td>\n",
       "    </tr>\n",
       "    <tr>\n",
       "      <th>1917</th>\n",
       "      <td>ФОП БОГАЧУК ОЛЕКСАНДР ГРИГОРОВИЧ</td>\n",
       "      <td>{'scheme': 'UA-EDR', 'id': '2529415734', 'lega...</td>\n",
       "      <td>{'streetAddress': 'вул.Бакалова,56', 'locality...</td>\n",
       "      <td>{'name': 'Богачук Олександр Григорович', 'name...</td>\n",
       "      <td>sme</td>\n",
       "      <td>5ad7ecfa85bf4193a1e1849629253eb8</td>\n",
       "      <td>5594591560064bdc8b77bf3ce8d85e3c</td>\n",
       "      <td>NaN</td>\n",
       "      <td>NaN</td>\n",
       "      <td>2529415734</td>\n",
       "      <td>(48.8120874, 29.3893874)</td>\n",
       "      <td>(48.8120874, 29.3893874)</td>\n",
       "    </tr>\n",
       "    <tr>\n",
       "      <th>1918</th>\n",
       "      <td>ФОП \"ГУСЄВ АНАТОЛІЙ ОЛЕКСАНДРОВИЧ\"</td>\n",
       "      <td>{'scheme': 'UA-EDR', 'id': '2708509339', 'lega...</td>\n",
       "      <td>{'streetAddress': 'ВУЛИЦЯ ЯРОСЛАВА МУДРОГО , б...</td>\n",
       "      <td>{'name': 'Анатолій Олександрович Гусєв', 'emai...</td>\n",
       "      <td>mid</td>\n",
       "      <td>9cf44055bd304263ae84cd8e12f04e69</td>\n",
       "      <td>d8696825dace4f6cb641717973edcfbe</td>\n",
       "      <td>NaN</td>\n",
       "      <td>NaN</td>\n",
       "      <td>2708509339</td>\n",
       "      <td>(47.4033486, 32.4388921)</td>\n",
       "      <td>(47.4033486, 32.4388921)</td>\n",
       "    </tr>\n",
       "    <tr>\n",
       "      <th>1919</th>\n",
       "      <td>ТОВ Алан</td>\n",
       "      <td>{'scheme': 'UA-EDR', 'id': '24447183', 'legalN...</td>\n",
       "      <td>{'streetAddress': 'вул. Стартова, 26', 'locali...</td>\n",
       "      <td>{'name': 'Бура Катерина Вікторівна', 'name_en'...</td>\n",
       "      <td>mid</td>\n",
       "      <td>de3dcfcab9b04a7cad465638bd808bc1</td>\n",
       "      <td>d8696825dace4f6cb641717973edcfbe</td>\n",
       "      <td>NaN</td>\n",
       "      <td>NaN</td>\n",
       "      <td>24447183</td>\n",
       "      <td>(48.46596125, 34.95939956204188)</td>\n",
       "      <td>(48.46596125, 34.95939956204188)</td>\n",
       "    </tr>\n",
       "    <tr>\n",
       "      <th>1920</th>\n",
       "      <td>Приватне підприємство «Никольтрейд»</td>\n",
       "      <td>{'scheme': 'UA-EDR', 'id': '42601065', 'legalN...</td>\n",
       "      <td>{'streetAddress': 'МИКОЛАЇВСЬКЕ ШОСЕ, будинок ...</td>\n",
       "      <td>{'name': 'Микола Чередниченко', 'email': 'cher...</td>\n",
       "      <td>not specified</td>\n",
       "      <td>c8c234224a044d74ad0fbcec1b36b453</td>\n",
       "      <td>d8696825dace4f6cb641717973edcfbe</td>\n",
       "      <td>NaN</td>\n",
       "      <td>NaN</td>\n",
       "      <td>42601065</td>\n",
       "      <td>(46.6412644, 32.625794)</td>\n",
       "      <td>(46.6412644, 32.625794)</td>\n",
       "    </tr>\n",
       "  </tbody>\n",
       "</table>\n",
       "<p>1902 rows × 12 columns</p>\n",
       "</div>"
      ],
      "text/plain": [
       "                                                   name  \\\n",
       "0                                ТОВ \"СЕРВІС ГРУПП ЛТД\"   \n",
       "1     Товариство з обмеженою відповідальністю \"Дніпр...   \n",
       "2     ТОВАРИСТВО З ОБМЕЖЕНОЮ ВІДПОВІДАЛЬНІСТЮ «АЛЬЯН...   \n",
       "3      ТОВАРИСТВО З ОБМЕЖЕНОЮ ВІДПОВІДАЛЬНІСТЮ \"ГАЗ.УА\"   \n",
       "4                      ФОП Михайленко Василь Григорович   \n",
       "...                                                 ...   \n",
       "1916                        ФОП \"КИРКО РУСЛАН ПАВЛОВИЧ\"   \n",
       "1917                   ФОП БОГАЧУК ОЛЕКСАНДР ГРИГОРОВИЧ   \n",
       "1918                 ФОП \"ГУСЄВ АНАТОЛІЙ ОЛЕКСАНДРОВИЧ\"   \n",
       "1919                                           ТОВ Алан   \n",
       "1920                Приватне підприємство «Никольтрейд»   \n",
       "\n",
       "                                             identifier  \\\n",
       "0     {'scheme': 'UA-EDR', 'id': '38772399', 'legalN...   \n",
       "1     {'scheme': 'UA-EDR', 'id': '39572642', 'legalN...   \n",
       "2     {'scheme': 'UA-EDR', 'id': '43726412', 'legalN...   \n",
       "3     {'scheme': 'UA-EDR', 'id': '42468262', 'legalN...   \n",
       "4     {'scheme': 'UA-EDR', 'id': '2484500939', 'lega...   \n",
       "...                                                 ...   \n",
       "1916  {'scheme': 'UA-EDR', 'id': '2798720812', 'lega...   \n",
       "1917  {'scheme': 'UA-EDR', 'id': '2529415734', 'lega...   \n",
       "1918  {'scheme': 'UA-EDR', 'id': '2708509339', 'lega...   \n",
       "1919  {'scheme': 'UA-EDR', 'id': '24447183', 'legalN...   \n",
       "1920  {'scheme': 'UA-EDR', 'id': '42601065', 'legalN...   \n",
       "\n",
       "                                                address  \\\n",
       "0     {'streetAddress': '61202, м. Харків, вул. Ціли...   \n",
       "1     {'streetAddress': 'вул.Поля будинок  2 літ. А-...   \n",
       "2     {'streetAddress': 'ВУЛИЦЯ ТОРГОВА, будинок 2',...   \n",
       "3     {'streetAddress': '04080, м.Київ, ВУЛИЦЯ ОЛЕКС...   \n",
       "4     {'streetAddress': 'пр Героїв, буд. 12 кв. 653'...   \n",
       "...                                                 ...   \n",
       "1916  {'streetAddress': 'ВУЛИЦЯ РОБОЧА, будинок 152,...   \n",
       "1917  {'streetAddress': 'вул.Бакалова,56', 'locality...   \n",
       "1918  {'streetAddress': 'ВУЛИЦЯ ЯРОСЛАВА МУДРОГО , б...   \n",
       "1919  {'streetAddress': 'вул. Стартова, 26', 'locali...   \n",
       "1920  {'streetAddress': 'МИКОЛАЇВСЬКЕ ШОСЕ, будинок ...   \n",
       "\n",
       "                                           contactPoint          scale  \\\n",
       "0     {'name': 'Рождественська Наталія Михайлівна', ...            sme   \n",
       "1     {'name': 'Ольховікова Аліна', 'name_en': 'Alin...            mid   \n",
       "2     {'name': 'Меджер Олексій', 'name_en': 'Medjer ...            mid   \n",
       "3     {'name': 'ТОВ ГАЗ.УА', 'email': 'GAS.UA.TRADE@...            sme   \n",
       "4     {'name': 'Михайленко Василий', 'name_en': 'Mik...          micro   \n",
       "...                                                 ...            ...   \n",
       "1916  {'name': 'Руслан Кирко', 'email': 'bioplaneta2...            mid   \n",
       "1917  {'name': 'Богачук Олександр Григорович', 'name...            sme   \n",
       "1918  {'name': 'Анатолій Олександрович Гусєв', 'emai...            mid   \n",
       "1919  {'name': 'Бура Катерина Вікторівна', 'name_en'...            mid   \n",
       "1920  {'name': 'Микола Чередниченко', 'email': 'cher...  not specified   \n",
       "\n",
       "                             parent_id                         tender_id  \\\n",
       "0     cdc38f0fad3246bd95124bd2e402bb8a  22cb88ebaac14ab2ac048cec40909ba6   \n",
       "1     ee1c8cb11c5949b8a964d7215c60ea8c  22cb88ebaac14ab2ac048cec40909ba6   \n",
       "2     a2fe67c6bd92436aadb6ee253acb866e  22cb88ebaac14ab2ac048cec40909ba6   \n",
       "3     1cb08df8ce48438c803e4640a7c6b3a1  22cb88ebaac14ab2ac048cec40909ba6   \n",
       "4     7d57949ae2184cfab7394531f575748f  d7ac4dfc5e394932b13f0ba7f50c7f47   \n",
       "...                                ...                               ...   \n",
       "1916  f8d1fdef14d54457b9dd4a254a614065  bd203138a7874940a16fd1eb406ff744   \n",
       "1917  5ad7ecfa85bf4193a1e1849629253eb8  5594591560064bdc8b77bf3ce8d85e3c   \n",
       "1918  9cf44055bd304263ae84cd8e12f04e69  d8696825dace4f6cb641717973edcfbe   \n",
       "1919  de3dcfcab9b04a7cad465638bd808bc1  d8696825dace4f6cb641717973edcfbe   \n",
       "1920  c8c234224a044d74ad0fbcec1b36b453  d8696825dace4f6cb641717973edcfbe   \n",
       "\n",
       "                                                name_en name_ru         edr  \\\n",
       "0                                                   NaN     NaN    38772399   \n",
       "1     LIMITED LIABILITY COMPANY \"DNIPROPETROVSKGAZ Z...     NaN    39572642   \n",
       "2     TOVARISTVO Z OBMEZHENOYU VIDPOVIDALNISTYU «ALY...     NaN    43726412   \n",
       "3                                                   NaN     NaN    42468262   \n",
       "4                      FOP Mihailenko Vasil Grigorovich     NaN  2484500939   \n",
       "...                                                 ...     ...         ...   \n",
       "1916                                                NaN     NaN  2798720812   \n",
       "1917                                                NaN     NaN  2529415734   \n",
       "1918                                                NaN     NaN  2708509339   \n",
       "1919                                                NaN     NaN    24447183   \n",
       "1920                                                NaN     NaN    42601065   \n",
       "\n",
       "                procuring_entity_point                    tenderer_point  \n",
       "0                                 None                              None  \n",
       "1     (48.46596125, 34.95939956204188)  (48.46596125, 34.95939956204188)  \n",
       "2             (47.0957648, 37.5499621)          (47.0957648, 37.5499621)  \n",
       "3                                 None                              None  \n",
       "4     (48.46596125, 34.95939956204188)  (48.46596125, 34.95939956204188)  \n",
       "...                                ...                               ...  \n",
       "1916  (48.46596125, 34.95939956204188)  (48.46596125, 34.95939956204188)  \n",
       "1917          (48.8120874, 29.3893874)          (48.8120874, 29.3893874)  \n",
       "1918          (47.4033486, 32.4388921)          (47.4033486, 32.4388921)  \n",
       "1919  (48.46596125, 34.95939956204188)  (48.46596125, 34.95939956204188)  \n",
       "1920           (46.6412644, 32.625794)           (46.6412644, 32.625794)  \n",
       "\n",
       "[1902 rows x 12 columns]"
      ]
     },
     "execution_count": 133,
     "metadata": {},
     "output_type": "execute_result"
    }
   ],
   "source": [
    "tenderers_df"
   ]
  },
  {
   "cell_type": "code",
   "execution_count": 135,
   "metadata": {},
   "outputs": [],
   "source": [
    "# merged dataframe\n",
    "pe_tenderer_df = df[~df['procuring_entity_point'].isna()][['id','procuring_entity_point']].merge(\n",
    "    right=tenderers_df[~tenderers_df['tenderer_point'].isna()][['tender_id','tenderer_point', 'scale']],\n",
    "    left_on='id',\n",
    "    right_on= 'tender_id',\n",
    "    how='inner'\n",
    ")"
   ]
  },
  {
   "cell_type": "code",
   "execution_count": 136,
   "metadata": {},
   "outputs": [
    {
     "data": {
      "text/html": [
       "<div>\n",
       "<style scoped>\n",
       "    .dataframe tbody tr th:only-of-type {\n",
       "        vertical-align: middle;\n",
       "    }\n",
       "\n",
       "    .dataframe tbody tr th {\n",
       "        vertical-align: top;\n",
       "    }\n",
       "\n",
       "    .dataframe thead th {\n",
       "        text-align: right;\n",
       "    }\n",
       "</style>\n",
       "<table border=\"1\" class=\"dataframe\">\n",
       "  <thead>\n",
       "    <tr style=\"text-align: right;\">\n",
       "      <th></th>\n",
       "      <th>id</th>\n",
       "      <th>procuring_entity_point</th>\n",
       "      <th>tender_id</th>\n",
       "      <th>tenderer_point</th>\n",
       "      <th>scale</th>\n",
       "    </tr>\n",
       "  </thead>\n",
       "  <tbody>\n",
       "    <tr>\n",
       "      <th>0</th>\n",
       "      <td>22cb88ebaac14ab2ac048cec40909ba6</td>\n",
       "      <td>(48.3747353, 34.4569858)</td>\n",
       "      <td>22cb88ebaac14ab2ac048cec40909ba6</td>\n",
       "      <td>(48.46596125, 34.95939956204188)</td>\n",
       "      <td>mid</td>\n",
       "    </tr>\n",
       "    <tr>\n",
       "      <th>1</th>\n",
       "      <td>22cb88ebaac14ab2ac048cec40909ba6</td>\n",
       "      <td>(48.3747353, 34.4569858)</td>\n",
       "      <td>22cb88ebaac14ab2ac048cec40909ba6</td>\n",
       "      <td>(47.0957648, 37.5499621)</td>\n",
       "      <td>mid</td>\n",
       "    </tr>\n",
       "    <tr>\n",
       "      <th>2</th>\n",
       "      <td>d7ac4dfc5e394932b13f0ba7f50c7f47</td>\n",
       "      <td>(48.46596125, 34.95939956204188)</td>\n",
       "      <td>d7ac4dfc5e394932b13f0ba7f50c7f47</td>\n",
       "      <td>(48.46596125, 34.95939956204188)</td>\n",
       "      <td>micro</td>\n",
       "    </tr>\n",
       "    <tr>\n",
       "      <th>3</th>\n",
       "      <td>d7ac4dfc5e394932b13f0ba7f50c7f47</td>\n",
       "      <td>(48.46596125, 34.95939956204188)</td>\n",
       "      <td>d7ac4dfc5e394932b13f0ba7f50c7f47</td>\n",
       "      <td>(48.46596125, 34.95939956204188)</td>\n",
       "      <td>micro</td>\n",
       "    </tr>\n",
       "    <tr>\n",
       "      <th>4</th>\n",
       "      <td>221a19eb687242e29ee270b156167e04</td>\n",
       "      <td>(50.3115386, 34.8868923)</td>\n",
       "      <td>221a19eb687242e29ee270b156167e04</td>\n",
       "      <td>(49.9923181, 36.2310146)</td>\n",
       "      <td>sme</td>\n",
       "    </tr>\n",
       "    <tr>\n",
       "      <th>...</th>\n",
       "      <td>...</td>\n",
       "      <td>...</td>\n",
       "      <td>...</td>\n",
       "      <td>...</td>\n",
       "      <td>...</td>\n",
       "    </tr>\n",
       "    <tr>\n",
       "      <th>1684</th>\n",
       "      <td>bd203138a7874940a16fd1eb406ff744</td>\n",
       "      <td>(48.46596125, 34.95939956204188)</td>\n",
       "      <td>bd203138a7874940a16fd1eb406ff744</td>\n",
       "      <td>(48.46596125, 34.95939956204188)</td>\n",
       "      <td>mid</td>\n",
       "    </tr>\n",
       "    <tr>\n",
       "      <th>1685</th>\n",
       "      <td>5594591560064bdc8b77bf3ce8d85e3c</td>\n",
       "      <td>(48.9654035, 28.8430131)</td>\n",
       "      <td>5594591560064bdc8b77bf3ce8d85e3c</td>\n",
       "      <td>(48.8120874, 29.3893874)</td>\n",
       "      <td>sme</td>\n",
       "    </tr>\n",
       "    <tr>\n",
       "      <th>1686</th>\n",
       "      <td>d8696825dace4f6cb641717973edcfbe</td>\n",
       "      <td>(46.9758615, 31.9939666)</td>\n",
       "      <td>d8696825dace4f6cb641717973edcfbe</td>\n",
       "      <td>(47.4033486, 32.4388921)</td>\n",
       "      <td>mid</td>\n",
       "    </tr>\n",
       "    <tr>\n",
       "      <th>1687</th>\n",
       "      <td>d8696825dace4f6cb641717973edcfbe</td>\n",
       "      <td>(46.9758615, 31.9939666)</td>\n",
       "      <td>d8696825dace4f6cb641717973edcfbe</td>\n",
       "      <td>(48.46596125, 34.95939956204188)</td>\n",
       "      <td>mid</td>\n",
       "    </tr>\n",
       "    <tr>\n",
       "      <th>1688</th>\n",
       "      <td>d8696825dace4f6cb641717973edcfbe</td>\n",
       "      <td>(46.9758615, 31.9939666)</td>\n",
       "      <td>d8696825dace4f6cb641717973edcfbe</td>\n",
       "      <td>(46.6412644, 32.625794)</td>\n",
       "      <td>not specified</td>\n",
       "    </tr>\n",
       "  </tbody>\n",
       "</table>\n",
       "<p>1689 rows × 5 columns</p>\n",
       "</div>"
      ],
      "text/plain": [
       "                                    id            procuring_entity_point  \\\n",
       "0     22cb88ebaac14ab2ac048cec40909ba6          (48.3747353, 34.4569858)   \n",
       "1     22cb88ebaac14ab2ac048cec40909ba6          (48.3747353, 34.4569858)   \n",
       "2     d7ac4dfc5e394932b13f0ba7f50c7f47  (48.46596125, 34.95939956204188)   \n",
       "3     d7ac4dfc5e394932b13f0ba7f50c7f47  (48.46596125, 34.95939956204188)   \n",
       "4     221a19eb687242e29ee270b156167e04          (50.3115386, 34.8868923)   \n",
       "...                                ...                               ...   \n",
       "1684  bd203138a7874940a16fd1eb406ff744  (48.46596125, 34.95939956204188)   \n",
       "1685  5594591560064bdc8b77bf3ce8d85e3c          (48.9654035, 28.8430131)   \n",
       "1686  d8696825dace4f6cb641717973edcfbe          (46.9758615, 31.9939666)   \n",
       "1687  d8696825dace4f6cb641717973edcfbe          (46.9758615, 31.9939666)   \n",
       "1688  d8696825dace4f6cb641717973edcfbe          (46.9758615, 31.9939666)   \n",
       "\n",
       "                             tender_id                    tenderer_point  \\\n",
       "0     22cb88ebaac14ab2ac048cec40909ba6  (48.46596125, 34.95939956204188)   \n",
       "1     22cb88ebaac14ab2ac048cec40909ba6          (47.0957648, 37.5499621)   \n",
       "2     d7ac4dfc5e394932b13f0ba7f50c7f47  (48.46596125, 34.95939956204188)   \n",
       "3     d7ac4dfc5e394932b13f0ba7f50c7f47  (48.46596125, 34.95939956204188)   \n",
       "4     221a19eb687242e29ee270b156167e04          (49.9923181, 36.2310146)   \n",
       "...                                ...                               ...   \n",
       "1684  bd203138a7874940a16fd1eb406ff744  (48.46596125, 34.95939956204188)   \n",
       "1685  5594591560064bdc8b77bf3ce8d85e3c          (48.8120874, 29.3893874)   \n",
       "1686  d8696825dace4f6cb641717973edcfbe          (47.4033486, 32.4388921)   \n",
       "1687  d8696825dace4f6cb641717973edcfbe  (48.46596125, 34.95939956204188)   \n",
       "1688  d8696825dace4f6cb641717973edcfbe           (46.6412644, 32.625794)   \n",
       "\n",
       "              scale  \n",
       "0               mid  \n",
       "1               mid  \n",
       "2             micro  \n",
       "3             micro  \n",
       "4               sme  \n",
       "...             ...  \n",
       "1684            mid  \n",
       "1685            sme  \n",
       "1686            mid  \n",
       "1687            mid  \n",
       "1688  not specified  \n",
       "\n",
       "[1689 rows x 5 columns]"
      ]
     },
     "execution_count": 136,
     "metadata": {},
     "output_type": "execute_result"
    }
   ],
   "source": [
    "pe_tenderer_df"
   ]
  },
  {
   "cell_type": "markdown",
   "metadata": {},
   "source": [
    "TODO company size and distance. Assumption the smaller supplier, the closer to PE. Is the oppesite True?"
   ]
  },
  {
   "cell_type": "code",
   "execution_count": 137,
   "metadata": {},
   "outputs": [
    {
     "data": {
      "image/png": "[encoded data removed]",
      "text/plain": [
       "<Figure size 432x288 with 1 Axes>"
      ]
     },
     "metadata": {
      "needs_background": "light"
     },
     "output_type": "display_data"
    }
   ],
   "source": [
    "from geopy import distance\n",
    "pe_tenderer_df['distance']=pe_tenderer_df.apply(lambda x: distance.distance(x.procuring_entity_point, x.tenderer_point).km, axis=1)\n",
    "pe_tenderer_df['distance'].plot.hist();"
   ]
  },
  {
   "cell_type": "markdown",
   "metadata": {},
   "source": [
    "Most of the tenderers are registered in range 100 km"
   ]
  },
  {
   "cell_type": "code",
   "execution_count": 131,
   "metadata": {},
   "outputs": [
    {
     "data": {
      "text/plain": [
       "(1032, 657)"
      ]
     },
     "execution_count": 131,
     "metadata": {},
     "output_type": "execute_result"
    }
   ],
   "source": [
    "sum(pe_tenderer_df['distance']<100), sum(pe_tenderer_df['distance']>=100)"
   ]
  },
  {
   "cell_type": "code",
   "execution_count": 142,
   "metadata": {},
   "outputs": [
    {
     "data": {
      "image/png": "[encoded data removed]",
      "text/plain": [
       "<Figure size 432x288 with 4 Axes>"
      ]
     },
     "metadata": {
      "needs_background": "light"
     },
     "output_type": "display_data"
    }
   ],
   "source": [
    "pe_tenderer_df[pe_tenderer_df.scale!='not specified'][['scale','distance']].hist(by='scale');"
   ]
  },
  {
   "cell_type": "markdown",
   "metadata": {},
   "source": [
    "## DK021 normalization "
   ]
  },
  {
   "cell_type": "code",
   "execution_count": 15,
   "metadata": {},
   "outputs": [],
   "source": [
    "# competed eauctions created before 01.03\n",
    "query_filter = {\n",
    "    'status':'complete', \n",
    "    'submissionMethod': \"electronicAuction\", \n",
    "    # 'date':{'$lt':datetime(2021,3,1)} # BUG dates to tatetime in Mongo\n",
    "}\n",
    "\n",
    "df = read_mongo(db, collection='tenders', query=query_filter, fields=['status', 'awards', 'bids', 'items'])"
   ]
  },
  {
   "cell_type": "code",
   "execution_count": 22,
   "metadata": {},
   "outputs": [],
   "source": [
    "from utils.dk021 import DK021\n",
    "\n",
    "classifier = DK021.load('./data/dk021.csv')\n",
    "\n",
    "df = read_mongo(db, collection='tenders', query={'status':'complete'}, fields=['status', 'awards', 'bids'], limit=10000)\n",
    "\n",
    "items_df['classification_scheme'] = items_df.classification.apply(lambda x: x['scheme'])\n",
    "items_df['classification_code'] = items_df.classification.apply(lambda x: x.get('id',None))\n",
    "items_df['classification_description'] = items_df.classification.apply(lambda x: x.get('description',None))\n",
    "items_df['code_l1'] = items_df.classification_code.apply(lambda code: classifier.get_level_category(code=code, level=1).description)"
   ]
  },
  {
   "cell_type": "code",
   "execution_count": 23,
   "metadata": {},
   "outputs": [
    {
     "data": {
      "text/plain": [
       "Продукти харчування, напої, тютюн та супутня продукція                                                                                        2203\n",
       "Медичне обладнання, фармацевтична продукція та засоби особистої гігієни                                                                       2100\n",
       "Нафтопродукти, паливо, електроенергія та інші джерела енергії                                                                                 1685\n",
       "Конструкції та конструкційні матеріали; допоміжна будівельна продукція (крім електроапаратури)                                                1066\n",
       "Комунальні послуги                                                                                                                             851\n",
       "Послуги з ремонту і технічного обслуговування                                                                                                  846\n",
       "Сільськогосподарська, фермерська продукція, продукція рибальства, лісівництва та супутня продукція                                             829\n",
       "Офісна та комп’ютерна техніка, устаткування та приладдя, крім меблів та пакетів програмного забезпечення                                       754\n",
       "Послуги у сфері інформаційних технологій: консультування, розробка програмного забезпечення, послуги мережі Інтернет і послуги з підтримки     683\n",
       "Послуги у сферах поводження зі стічними водами та сміттям, послуги у сферах санітарії та охорони довкілля                                      608\n",
       "Name: code_l1, dtype: int64"
      ]
     },
     "execution_count": 23,
     "metadata": {},
     "output_type": "execute_result"
    }
   ],
   "source": [
    "items_df['code_l1'].value_counts().head(10)"
   ]
  },
  {
   "cell_type": "markdown",
   "metadata": {},
   "source": [
    "## TODOS"
   ]
  },
  {
   "cell_type": "markdown",
   "metadata": {},
   "source": [
    "- е-аукціони з потрібними полями за вась час існування Прозоро\n",
    "- аналіз невдалих аукціонів, припущення - мало учасників, більш географічно віддалено, непопулярні категорії(для постачальника покупця)\n",
    "- кластеризувати постачальників(активність, тип підприємств з якими взаємодіють, розподіл між покупцями, діапазон сум тендерів)\n",
    "- Кластеризувати тендери, спробувати знайти залежності між двома типами клістерів\n",
    "- Для \"нового тендеру\" будувати граф з послідовностіями подібні постачальники - подібні тендери певної глибини. Зібрані таким чином постачальники порівняти з постачальниками які подалися."
   ]
  }
 ],
 "metadata": {
  "interpreter": {
   "hash": "8b793f5bcb65162c203a8f7ab5f10da95fa3f746ebbc21691ed336cc34611f1b"
  },
  "kernelspec": {
   "display_name": "Python 3.8.8 64-bit ('env': conda)",
   "name": "python3"
  },
  "language_info": {
   "codemirror_mode": {
    "name": "ipython",
    "version": 3
   },
   "file_extension": ".py",
   "mimetype": "text/x-python",
   "name": "python",
   "nbconvert_exporter": "python",
   "pygments_lexer": "ipython3",
   "version": "3.8.8"
  },
  "orig_nbformat": 4
 },
 "nbformat": 4,
 "nbformat_minor": 2
}
