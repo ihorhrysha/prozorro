{
 "cells": [
  {
   "cell_type": "code",
   "execution_count": null,
   "metadata": {},
   "outputs": [],
   "source": [
    "import pandas as pd \n",
    "import numpy as np\n",
    "from functools import partial\n",
    "from glob import glob\n",
    "\n",
    "from pymongo import MongoClient\n",
    "\n",
    "import statsmodels.api as sm\n",
    "import scipy\n",
    "\n",
    "from utils.misc import read_mongo, batch\n",
    "from utils.geolocation import CachedGeolocator, region_fixer, locality_fixer, countryName_fixer, address_to_location\n",
    "from utils.dk021 import DK021\n",
    "from utils.etl import transform_dataset\n",
    "\n",
    "%matplotlib inline"
   ]
  },
  {
   "cell_type": "markdown",
   "metadata": {},
   "source": [
    "# Prepare data"
   ]
  },
  {
   "cell_type": "markdown",
   "metadata": {},
   "source": [
    "## Transform Chunked"
   ]
  },
  {
   "cell_type": "code",
   "execution_count": null,
   "metadata": {},
   "outputs": [],
   "source": [
    "batch_size = 50_000\n",
    "\n",
    "# connect to tenders db\n",
    "cursor = MongoClient()['prozorro']['etenders'].find(no_cursor_timeout=True)\n",
    "\n",
    "try:\n",
    "    for idx, b in enumerate(batch(cursor, batch_size)):\n",
    "\n",
    "        transform_dataset(\n",
    "            df=pd.DataFrame(b).rename(columns={'_id':'id'})\n",
    "        ).to_parquet(f'./data/prepared/chunk_{idx}.parquet.gzip', compression='gzip') \n",
    "\n",
    "        print(f'chunk {idx}')\n",
    "# except Exception as e:\n",
    "#     print(e)\n",
    "finally:\n",
    "    cursor.close()"
   ]
  },
  {
   "cell_type": "markdown",
   "metadata": {},
   "source": [
    "## Restore & enrich"
   ]
  },
  {
   "cell_type": "code",
   "execution_count": null,
   "metadata": {},
   "outputs": [],
   "source": [
    "files = sorted(glob('./data/prepared/chunk_*.parquet.gzip'))\n",
    "\n",
    "full_df = pd.read_parquet(files[0])\n",
    "for f in files[1:]:\n",
    "    full_df = pd.concat([full_df, pd.read_parquet(f)])\n"
   ]
  },
  {
   "cell_type": "code",
   "execution_count": null,
   "metadata": {},
   "outputs": [],
   "source": [
    "classifier = DK021.load('./data/dk021.csv')"
   ]
  },
  {
   "cell_type": "code",
   "execution_count": null,
   "metadata": {},
   "outputs": [
    {
     "data": {
      "text/plain": [
       "'Бинти'"
      ]
     },
     "execution_count": 8,
     "metadata": {},
     "output_type": "execute_result"
    }
   ],
   "source": [
    "classifier.get_level_category('33141113-4', level=5).description"
   ]
  },
  {
   "cell_type": "code",
   "execution_count": null,
   "metadata": {},
   "outputs": [],
   "source": [
    "# geo and classifier\n",
    "fixers = {\n",
    "    'locality': locality_fixer,\n",
    "    'region': region_fixer,\n",
    "    'countryName': countryName_fixer\n",
    "}\n",
    "geolocator = CachedGeolocator(cache_dir='./data/geo_cache', bad_cache_dir='./data/geo_cache_bad', verbose=False)\n",
    "get_location = partial(address_to_location, geolocator=geolocator, fixers=fixers)\n",
    "classifier = DK021.load('./data/dk021.csv')\n",
    "\n",
    "full_df = (\n",
    "    full_df\n",
    "    .query('~items_code.isna()')\n",
    "    .assign(\n",
    "        items_classification_l1 = lambda d: d.items_code.apply(lambda code: classifier.get_level_category(code=code, level=1).code),\n",
    "        items_classification_l2 = lambda d: d.items_code.apply(lambda code: classifier.get_level_category(code=code, level=2).code),\n",
    "        items_classification_l3 = lambda d: d.items_code.apply(lambda code: classifier.get_level_category(code=code, level=3).code)\n",
    "    )\n",
    "    .assign(\n",
    "        procuringEntity_geo = lambda d: d.procuringEntity_address.apply(lambda address:get_location(address)),\n",
    "        bids_tenderers_geo = lambda d: d.tenderers_address.apply(lambda address:get_location(address)),\n",
    "    )\n",
    ")\n",
    "\n",
    "geolocator.close()"
   ]
  },
  {
   "cell_type": "markdown",
   "metadata": {},
   "source": [
    "# Read data"
   ]
  },
  {
   "cell_type": "code",
   "execution_count": null,
   "metadata": {},
   "outputs": [
    {
     "data": {
      "text/plain": [
       "5108.999673843384"
      ]
     },
     "execution_count": 7,
     "metadata": {},
     "output_type": "execute_result"
    }
   ],
   "source": [
    "from utils.misc import mem_usg\n",
    "\n",
    "classifier = DK021.load('./data/dk021.csv')\n",
    "full_df = pd.read_parquet('../full.parquet.gzip')\n",
    "\n",
    "mem_usg(full_df)/(1024*1024)"
   ]
  },
  {
   "cell_type": "code",
   "execution_count": null,
   "metadata": {},
   "outputs": [
    {
     "data": {
      "text/html": [
       "<div>\n",
       "<style scoped>\n",
       "    .dataframe tbody tr th:only-of-type {\n",
       "        vertical-align: middle;\n",
       "    }\n",
       "\n",
       "    .dataframe tbody tr th {\n",
       "        vertical-align: top;\n",
       "    }\n",
       "\n",
       "    .dataframe thead th {\n",
       "        text-align: right;\n",
       "    }\n",
       "</style>\n",
       "<table border=\"1\" class=\"dataframe\">\n",
       "  <thead>\n",
       "    <tr style=\"text-align: right;\">\n",
       "      <th></th>\n",
       "      <th>id</th>\n",
       "      <th>date</th>\n",
       "      <th>dateModified</th>\n",
       "      <th>tenderID</th>\n",
       "      <th>owner</th>\n",
       "      <th>procurementMethod</th>\n",
       "      <th>submissionMethod</th>\n",
       "      <th>numberOfBids</th>\n",
       "      <th>status</th>\n",
       "      <th>procurementMethodType</th>\n",
       "      <th>...</th>\n",
       "      <th>awards_value_amount</th>\n",
       "      <th>awards_value_currency</th>\n",
       "      <th>awards_value_valueAddedTaxIncluded</th>\n",
       "      <th>items_code</th>\n",
       "      <th>items_classification_l1</th>\n",
       "      <th>items_classification_l2</th>\n",
       "      <th>items_classification_l3</th>\n",
       "      <th>procuringEntity_geo</th>\n",
       "      <th>bids_tenderers_geo</th>\n",
       "      <th>geo_distance</th>\n",
       "    </tr>\n",
       "  </thead>\n",
       "  <tbody>\n",
       "    <tr>\n",
       "      <th>0</th>\n",
       "      <td>54c44b64ee504474afaf1183c410b36c</td>\n",
       "      <td>2018-12-31 22:03:03.722108+00:00</td>\n",
       "      <td>2018-12-31 22:03:03.722108+00:00</td>\n",
       "      <td>UA-2018-11-15-000962-c</td>\n",
       "      <td>it.ua</td>\n",
       "      <td>open</td>\n",
       "      <td>electronicAuction</td>\n",
       "      <td>2</td>\n",
       "      <td>unsuccessful</td>\n",
       "      <td>aboveThresholdUA</td>\n",
       "      <td>...</td>\n",
       "      <td>279770.40</td>\n",
       "      <td>UAH</td>\n",
       "      <td>False</td>\n",
       "      <td>72610000-9</td>\n",
       "      <td>72000000-5</td>\n",
       "      <td>72600000-6</td>\n",
       "      <td>72610000-9</td>\n",
       "      <td>[47.4970865, 34.6487214]</td>\n",
       "      <td>[49.9923181, 36.2310146]</td>\n",
       "      <td>300.877064</td>\n",
       "    </tr>\n",
       "    <tr>\n",
       "      <th>1</th>\n",
       "      <td>54c44b64ee504474afaf1183c410b36c</td>\n",
       "      <td>2018-12-31 22:03:03.722108+00:00</td>\n",
       "      <td>2018-12-31 22:03:03.722108+00:00</td>\n",
       "      <td>UA-2018-11-15-000962-c</td>\n",
       "      <td>it.ua</td>\n",
       "      <td>open</td>\n",
       "      <td>electronicAuction</td>\n",
       "      <td>2</td>\n",
       "      <td>unsuccessful</td>\n",
       "      <td>aboveThresholdUA</td>\n",
       "      <td>...</td>\n",
       "      <td>280612.08</td>\n",
       "      <td>UAH</td>\n",
       "      <td>False</td>\n",
       "      <td>72610000-9</td>\n",
       "      <td>72000000-5</td>\n",
       "      <td>72600000-6</td>\n",
       "      <td>72610000-9</td>\n",
       "      <td>[47.4970865, 34.6487214]</td>\n",
       "      <td>[49.5897423, 34.5507948]</td>\n",
       "      <td>232.817393</td>\n",
       "    </tr>\n",
       "    <tr>\n",
       "      <th>2</th>\n",
       "      <td>4edb5e732a6743d29382e62995cf9ad7</td>\n",
       "      <td>2018-12-31 22:03:01.553692+00:00</td>\n",
       "      <td>2018-12-31 22:03:01.553692+00:00</td>\n",
       "      <td>UA-2018-11-30-001936-c</td>\n",
       "      <td>prom.ua</td>\n",
       "      <td>open</td>\n",
       "      <td>electronicAuction</td>\n",
       "      <td>3</td>\n",
       "      <td>unsuccessful</td>\n",
       "      <td>aboveThresholdUA</td>\n",
       "      <td>...</td>\n",
       "      <td>735000.00</td>\n",
       "      <td>UAH</td>\n",
       "      <td>True</td>\n",
       "      <td>15510000-6</td>\n",
       "      <td>15000000-8</td>\n",
       "      <td>15500000-3</td>\n",
       "      <td>15510000-6</td>\n",
       "      <td>[49.7132963, 37.6141992]</td>\n",
       "      <td>[49.7132963, 37.6141992]</td>\n",
       "      <td>0.000000</td>\n",
       "    </tr>\n",
       "    <tr>\n",
       "      <th>3</th>\n",
       "      <td>4edb5e732a6743d29382e62995cf9ad7</td>\n",
       "      <td>2018-12-31 22:03:01.553692+00:00</td>\n",
       "      <td>2018-12-31 22:03:01.553692+00:00</td>\n",
       "      <td>UA-2018-11-30-001936-c</td>\n",
       "      <td>prom.ua</td>\n",
       "      <td>open</td>\n",
       "      <td>electronicAuction</td>\n",
       "      <td>3</td>\n",
       "      <td>unsuccessful</td>\n",
       "      <td>aboveThresholdUA</td>\n",
       "      <td>...</td>\n",
       "      <td>734650.00</td>\n",
       "      <td>UAH</td>\n",
       "      <td>True</td>\n",
       "      <td>15510000-6</td>\n",
       "      <td>15000000-8</td>\n",
       "      <td>15500000-3</td>\n",
       "      <td>15510000-6</td>\n",
       "      <td>[49.7132963, 37.6141992]</td>\n",
       "      <td>None</td>\n",
       "      <td>NaN</td>\n",
       "    </tr>\n",
       "    <tr>\n",
       "      <th>4</th>\n",
       "      <td>4edb5e732a6743d29382e62995cf9ad7</td>\n",
       "      <td>2018-12-31 22:03:01.553692+00:00</td>\n",
       "      <td>2018-12-31 22:03:01.553692+00:00</td>\n",
       "      <td>UA-2018-11-30-001936-c</td>\n",
       "      <td>prom.ua</td>\n",
       "      <td>open</td>\n",
       "      <td>electronicAuction</td>\n",
       "      <td>3</td>\n",
       "      <td>unsuccessful</td>\n",
       "      <td>aboveThresholdUA</td>\n",
       "      <td>...</td>\n",
       "      <td>867200.00</td>\n",
       "      <td>UAH</td>\n",
       "      <td>True</td>\n",
       "      <td>15510000-6</td>\n",
       "      <td>15000000-8</td>\n",
       "      <td>15500000-3</td>\n",
       "      <td>15510000-6</td>\n",
       "      <td>[49.7132963, 37.6141992]</td>\n",
       "      <td>[49.9923181, 36.2310146]</td>\n",
       "      <td>104.197987</td>\n",
       "    </tr>\n",
       "  </tbody>\n",
       "</table>\n",
       "<p>5 rows × 50 columns</p>\n",
       "</div>"
      ],
      "text/plain": [
       "                                 id                             date  \\\n",
       "0  54c44b64ee504474afaf1183c410b36c 2018-12-31 22:03:03.722108+00:00   \n",
       "1  54c44b64ee504474afaf1183c410b36c 2018-12-31 22:03:03.722108+00:00   \n",
       "2  4edb5e732a6743d29382e62995cf9ad7 2018-12-31 22:03:01.553692+00:00   \n",
       "3  4edb5e732a6743d29382e62995cf9ad7 2018-12-31 22:03:01.553692+00:00   \n",
       "4  4edb5e732a6743d29382e62995cf9ad7 2018-12-31 22:03:01.553692+00:00   \n",
       "\n",
       "                      dateModified                tenderID    owner  \\\n",
       "0 2018-12-31 22:03:03.722108+00:00  UA-2018-11-15-000962-c    it.ua   \n",
       "1 2018-12-31 22:03:03.722108+00:00  UA-2018-11-15-000962-c    it.ua   \n",
       "2 2018-12-31 22:03:01.553692+00:00  UA-2018-11-30-001936-c  prom.ua   \n",
       "3 2018-12-31 22:03:01.553692+00:00  UA-2018-11-30-001936-c  prom.ua   \n",
       "4 2018-12-31 22:03:01.553692+00:00  UA-2018-11-30-001936-c  prom.ua   \n",
       "\n",
       "  procurementMethod   submissionMethod  numberOfBids        status  \\\n",
       "0              open  electronicAuction             2  unsuccessful   \n",
       "1              open  electronicAuction             2  unsuccessful   \n",
       "2              open  electronicAuction             3  unsuccessful   \n",
       "3              open  electronicAuction             3  unsuccessful   \n",
       "4              open  electronicAuction             3  unsuccessful   \n",
       "\n",
       "  procurementMethodType  ... awards_value_amount awards_value_currency  \\\n",
       "0      aboveThresholdUA  ...           279770.40                   UAH   \n",
       "1      aboveThresholdUA  ...           280612.08                   UAH   \n",
       "2      aboveThresholdUA  ...           735000.00                   UAH   \n",
       "3      aboveThresholdUA  ...           734650.00                   UAH   \n",
       "4      aboveThresholdUA  ...           867200.00                   UAH   \n",
       "\n",
       "  awards_value_valueAddedTaxIncluded  items_code  items_classification_l1  \\\n",
       "0                              False  72610000-9               72000000-5   \n",
       "1                              False  72610000-9               72000000-5   \n",
       "2                               True  15510000-6               15000000-8   \n",
       "3                               True  15510000-6               15000000-8   \n",
       "4                               True  15510000-6               15000000-8   \n",
       "\n",
       "  items_classification_l2 items_classification_l3       procuringEntity_geo  \\\n",
       "0              72600000-6              72610000-9  [47.4970865, 34.6487214]   \n",
       "1              72600000-6              72610000-9  [47.4970865, 34.6487214]   \n",
       "2              15500000-3              15510000-6  [49.7132963, 37.6141992]   \n",
       "3              15500000-3              15510000-6  [49.7132963, 37.6141992]   \n",
       "4              15500000-3              15510000-6  [49.7132963, 37.6141992]   \n",
       "\n",
       "         bids_tenderers_geo geo_distance  \n",
       "0  [49.9923181, 36.2310146]   300.877064  \n",
       "1  [49.5897423, 34.5507948]   232.817393  \n",
       "2  [49.7132963, 37.6141992]     0.000000  \n",
       "3                      None          NaN  \n",
       "4  [49.9923181, 36.2310146]   104.197987  \n",
       "\n",
       "[5 rows x 50 columns]"
      ]
     },
     "execution_count": 8,
     "metadata": {},
     "output_type": "execute_result"
    }
   ],
   "source": [
    "full_df.head()"
   ]
  },
  {
   "cell_type": "raw",
   "metadata": {},
   "source": [
    "mem_usg(full_df.astype({\n",
    "    'owner': 'category', \n",
    "    'procurementMethod': 'category', \n",
    "    'status': 'category', \n",
    "    'procurementMethodType': 'category',\n",
    "    'procuringEntity_kind': 'category', \n",
    "    'procuringEntity_identifier_scheme': 'category', \n",
    "    'value_currency': 'category', \n",
    "    'bids_status': 'category',\n",
    "    'bids_tenderers_identifier_scheme': 'category', \n",
    "    'bids_value_currency': 'category', \n",
    "    'awards_value_currency': 'category', \n",
    "    'items_code': 'category',\n",
    "    'items_classification_l1': 'category', \n",
    "    'items_classification_l2': 'category',\n",
    "    'items_classification_l3': 'category'\n",
    "}).drop(columns=['procuringEntity_address','tenderers_address']))/(1024*1024)"
   ]
  },
  {
   "cell_type": "raw",
   "metadata": {},
   "source": [
    "# calc distance\n",
    "from geopy import distance\n",
    "full_df['geo_distance']=full_df.apply(\n",
    "    lambda x: distance.distance(x.procuringEntity_geo, x.bids_tenderers_geo).km \n",
    "        if all([x.procuringEntity_geo is not None, x.bids_tenderers_geo is not None]) \n",
    "        else pd.NA, \n",
    "    axis=1\n",
    ")\n"
   ]
  },
  {
   "cell_type": "markdown",
   "metadata": {},
   "source": [
    "## Explore"
   ]
  },
  {
   "cell_type": "code",
   "execution_count": null,
   "metadata": {},
   "outputs": [
    {
     "data": {
      "text/plain": [
       "False    2154765\n",
       "True      218044\n",
       "Name: geo_distance, dtype: int64"
      ]
     },
     "execution_count": 9,
     "metadata": {},
     "output_type": "execute_result"
    }
   ],
   "source": [
    "full_df.geo_distance.isna().value_counts()"
   ]
  },
  {
   "cell_type": "code",
   "execution_count": null,
   "metadata": {},
   "outputs": [
    {
     "data": {
      "text/plain": [
       "active          894256\n",
       "unsuccessful    318514\n",
       "cancelled        61464\n",
       "pending          29395\n",
       "Name: awards_status, dtype: int64"
      ]
     },
     "execution_count": 10,
     "metadata": {},
     "output_type": "execute_result"
    }
   ],
   "source": [
    "full_df.awards_status.value_counts()"
   ]
  },
  {
   "cell_type": "code",
   "execution_count": null,
   "metadata": {},
   "outputs": [
    {
     "data": {
      "text/html": [
       "<div>\n",
       "<style scoped>\n",
       "    .dataframe tbody tr th:only-of-type {\n",
       "        vertical-align: middle;\n",
       "    }\n",
       "\n",
       "    .dataframe tbody tr th {\n",
       "        vertical-align: top;\n",
       "    }\n",
       "\n",
       "    .dataframe thead th {\n",
       "        text-align: right;\n",
       "    }\n",
       "</style>\n",
       "<table border=\"1\" class=\"dataframe\">\n",
       "  <thead>\n",
       "    <tr style=\"text-align: right;\">\n",
       "      <th></th>\n",
       "      <th>id</th>\n",
       "      <th>lots_id</th>\n",
       "      <th>bids_value_amount</th>\n",
       "      <th>value_amount</th>\n",
       "      <th>awards_value_amount</th>\n",
       "      <th>procurementMethodType</th>\n",
       "      <th>awards_status</th>\n",
       "    </tr>\n",
       "  </thead>\n",
       "  <tbody>\n",
       "    <tr>\n",
       "      <th>76067</th>\n",
       "      <td>98d54c150056474fbedb5420f8aad0d9</td>\n",
       "      <td>76da00fa661a4e51bf34f0e791833bd2</td>\n",
       "      <td>1052085.85</td>\n",
       "      <td>1060036.0</td>\n",
       "      <td>NaN</td>\n",
       "      <td>aboveThresholdUA</td>\n",
       "      <td>NaN</td>\n",
       "    </tr>\n",
       "    <tr>\n",
       "      <th>76068</th>\n",
       "      <td>98d54c150056474fbedb5420f8aad0d9</td>\n",
       "      <td>76da00fa661a4e51bf34f0e791833bd2</td>\n",
       "      <td>1019377.02</td>\n",
       "      <td>1060036.0</td>\n",
       "      <td>1019377.02</td>\n",
       "      <td>aboveThresholdUA</td>\n",
       "      <td>active</td>\n",
       "    </tr>\n",
       "    <tr>\n",
       "      <th>76069</th>\n",
       "      <td>98d54c150056474fbedb5420f8aad0d9</td>\n",
       "      <td>e32dc54313cf4e22862196b85299d87f</td>\n",
       "      <td>2267523.67</td>\n",
       "      <td>2270252.0</td>\n",
       "      <td>NaN</td>\n",
       "      <td>aboveThresholdUA</td>\n",
       "      <td>NaN</td>\n",
       "    </tr>\n",
       "    <tr>\n",
       "      <th>76070</th>\n",
       "      <td>98d54c150056474fbedb5420f8aad0d9</td>\n",
       "      <td>e32dc54313cf4e22862196b85299d87f</td>\n",
       "      <td>2266848.50</td>\n",
       "      <td>2270252.0</td>\n",
       "      <td>2266848.50</td>\n",
       "      <td>aboveThresholdUA</td>\n",
       "      <td>active</td>\n",
       "    </tr>\n",
       "  </tbody>\n",
       "</table>\n",
       "</div>"
      ],
      "text/plain": [
       "                                     id                           lots_id  \\\n",
       "76067  98d54c150056474fbedb5420f8aad0d9  76da00fa661a4e51bf34f0e791833bd2   \n",
       "76068  98d54c150056474fbedb5420f8aad0d9  76da00fa661a4e51bf34f0e791833bd2   \n",
       "76069  98d54c150056474fbedb5420f8aad0d9  e32dc54313cf4e22862196b85299d87f   \n",
       "76070  98d54c150056474fbedb5420f8aad0d9  e32dc54313cf4e22862196b85299d87f   \n",
       "\n",
       "       bids_value_amount  value_amount  awards_value_amount  \\\n",
       "76067         1052085.85     1060036.0                  NaN   \n",
       "76068         1019377.02     1060036.0           1019377.02   \n",
       "76069         2267523.67     2270252.0                  NaN   \n",
       "76070         2266848.50     2270252.0           2266848.50   \n",
       "\n",
       "      procurementMethodType awards_status  \n",
       "76067      aboveThresholdUA           NaN  \n",
       "76068      aboveThresholdUA        active  \n",
       "76069      aboveThresholdUA           NaN  \n",
       "76070      aboveThresholdUA        active  "
      ]
     },
     "execution_count": 11,
     "metadata": {},
     "output_type": "execute_result"
    }
   ],
   "source": [
    "full_df[full_df.id=='98d54c150056474fbedb5420f8aad0d9'][[\"id\", \"lots_id\", \"bids_value_amount\", \"value_amount\", \"awards_value_amount\", \"procurementMethodType\", \"awards_status\"]]"
   ]
  },
  {
   "cell_type": "code",
   "execution_count": null,
   "metadata": {},
   "outputs": [
    {
     "data": {
      "text/plain": [
       "Index(['id', 'date', 'dateModified', 'tenderID', 'owner', 'procurementMethod',\n",
       "       'submissionMethod', 'numberOfBids', 'status', 'procurementMethodType',\n",
       "       'mainProcurementCategory', 'procuringEntity_name',\n",
       "       'procuringEntity_kind', 'procuringEntity_address', 'num_lots',\n",
       "       'procuringEntity_identifier_id', 'procuringEntity_identifier_scheme',\n",
       "       'procuringEntity_contactPoint_email',\n",
       "       'procuringEntity_contactPoint_name',\n",
       "       'procuringEntity_contactPoint_telephone', 'lots_id', 'value_amount',\n",
       "       'value_currency', 'value_valueAddedTaxIncluded', 'lots_status',\n",
       "       'bids_date', 'bids_id', 'bids_status', 'bids_tenderers_name',\n",
       "       'bids_tenderers_identifier_id', 'bids_tenderers_identifier_scheme',\n",
       "       'bids_tenderers_contactPoint_email', 'bids_tenderers_contactPoint_name',\n",
       "       'bids_tenderers_contactPoint_telephone', 'tenderers_address',\n",
       "       'bids_value_amount', 'bids_value_currency',\n",
       "       'bids_value_valueAddedTaxIncluded', 'awards_date', 'awards_status',\n",
       "       'awards_value_amount', 'awards_value_currency',\n",
       "       'awards_value_valueAddedTaxIncluded', 'items_code',\n",
       "       'items_classification_l1', 'items_classification_l2',\n",
       "       'items_classification_l3', 'procuringEntity_geo', 'bids_tenderers_geo',\n",
       "       'geo_distance'],\n",
       "      dtype='object')"
      ]
     },
     "execution_count": 12,
     "metadata": {},
     "output_type": "execute_result"
    }
   ],
   "source": [
    "full_df.columns"
   ]
  },
  {
   "cell_type": "code",
   "execution_count": null,
   "metadata": {},
   "outputs": [
    {
     "data": {
      "text/html": [
       "<div>\n",
       "<style scoped>\n",
       "    .dataframe tbody tr th:only-of-type {\n",
       "        vertical-align: middle;\n",
       "    }\n",
       "\n",
       "    .dataframe tbody tr th {\n",
       "        vertical-align: top;\n",
       "    }\n",
       "\n",
       "    .dataframe thead th {\n",
       "        text-align: right;\n",
       "    }\n",
       "</style>\n",
       "<table border=\"1\" class=\"dataframe\">\n",
       "  <thead>\n",
       "    <tr style=\"text-align: right;\">\n",
       "      <th></th>\n",
       "      <th>id</th>\n",
       "      <th>date</th>\n",
       "      <th>dateModified</th>\n",
       "      <th>tenderID</th>\n",
       "      <th>owner</th>\n",
       "      <th>procurementMethod</th>\n",
       "      <th>submissionMethod</th>\n",
       "      <th>numberOfBids</th>\n",
       "      <th>status</th>\n",
       "      <th>procurementMethodType</th>\n",
       "      <th>...</th>\n",
       "      <th>awards_value_amount</th>\n",
       "      <th>awards_value_currency</th>\n",
       "      <th>awards_value_valueAddedTaxIncluded</th>\n",
       "      <th>items_code</th>\n",
       "      <th>items_classification_l1</th>\n",
       "      <th>items_classification_l2</th>\n",
       "      <th>items_classification_l3</th>\n",
       "      <th>procuringEntity_geo</th>\n",
       "      <th>bids_tenderers_geo</th>\n",
       "      <th>geo_distance</th>\n",
       "    </tr>\n",
       "  </thead>\n",
       "  <tbody>\n",
       "    <tr>\n",
       "      <th>76067</th>\n",
       "      <td>98d54c150056474fbedb5420f8aad0d9</td>\n",
       "      <td>2021-09-01 07:01:34.905329+00:00</td>\n",
       "      <td>2021-09-01 07:01:34.905329+00:00</td>\n",
       "      <td>UA-2021-07-28-004065-b</td>\n",
       "      <td>e-tender.biz</td>\n",
       "      <td>open</td>\n",
       "      <td>electronicAuction</td>\n",
       "      <td>2</td>\n",
       "      <td>complete</td>\n",
       "      <td>aboveThresholdUA</td>\n",
       "      <td>...</td>\n",
       "      <td>NaN</td>\n",
       "      <td>NaN</td>\n",
       "      <td>True</td>\n",
       "      <td>33141113-4</td>\n",
       "      <td>33000000-0</td>\n",
       "      <td>33100000-1</td>\n",
       "      <td>33140000-3</td>\n",
       "      <td>[50.587515499999995, 30.48936284691901]</td>\n",
       "      <td>[48.5167748, 34.6068797]</td>\n",
       "      <td>376.483135</td>\n",
       "    </tr>\n",
       "    <tr>\n",
       "      <th>76068</th>\n",
       "      <td>98d54c150056474fbedb5420f8aad0d9</td>\n",
       "      <td>2021-09-01 07:01:34.905329+00:00</td>\n",
       "      <td>2021-09-01 07:01:34.905329+00:00</td>\n",
       "      <td>UA-2021-07-28-004065-b</td>\n",
       "      <td>e-tender.biz</td>\n",
       "      <td>open</td>\n",
       "      <td>electronicAuction</td>\n",
       "      <td>2</td>\n",
       "      <td>complete</td>\n",
       "      <td>aboveThresholdUA</td>\n",
       "      <td>...</td>\n",
       "      <td>1019377.02</td>\n",
       "      <td>UAH</td>\n",
       "      <td>True</td>\n",
       "      <td>33141113-4</td>\n",
       "      <td>33000000-0</td>\n",
       "      <td>33100000-1</td>\n",
       "      <td>33140000-3</td>\n",
       "      <td>[50.587515499999995, 30.48936284691901]</td>\n",
       "      <td>[50.587515499999995, 30.48936284691901]</td>\n",
       "      <td>0.000000</td>\n",
       "    </tr>\n",
       "    <tr>\n",
       "      <th>76069</th>\n",
       "      <td>98d54c150056474fbedb5420f8aad0d9</td>\n",
       "      <td>2021-09-01 07:01:34.905329+00:00</td>\n",
       "      <td>2021-09-01 07:01:34.905329+00:00</td>\n",
       "      <td>UA-2021-07-28-004065-b</td>\n",
       "      <td>e-tender.biz</td>\n",
       "      <td>open</td>\n",
       "      <td>electronicAuction</td>\n",
       "      <td>2</td>\n",
       "      <td>complete</td>\n",
       "      <td>aboveThresholdUA</td>\n",
       "      <td>...</td>\n",
       "      <td>NaN</td>\n",
       "      <td>NaN</td>\n",
       "      <td>True</td>\n",
       "      <td>33140000-3</td>\n",
       "      <td>33000000-0</td>\n",
       "      <td>33100000-1</td>\n",
       "      <td>33140000-3</td>\n",
       "      <td>[50.587515499999995, 30.48936284691901]</td>\n",
       "      <td>[48.5167748, 34.6068797]</td>\n",
       "      <td>376.483135</td>\n",
       "    </tr>\n",
       "    <tr>\n",
       "      <th>76070</th>\n",
       "      <td>98d54c150056474fbedb5420f8aad0d9</td>\n",
       "      <td>2021-09-01 07:01:34.905329+00:00</td>\n",
       "      <td>2021-09-01 07:01:34.905329+00:00</td>\n",
       "      <td>UA-2021-07-28-004065-b</td>\n",
       "      <td>e-tender.biz</td>\n",
       "      <td>open</td>\n",
       "      <td>electronicAuction</td>\n",
       "      <td>2</td>\n",
       "      <td>complete</td>\n",
       "      <td>aboveThresholdUA</td>\n",
       "      <td>...</td>\n",
       "      <td>2266848.50</td>\n",
       "      <td>UAH</td>\n",
       "      <td>True</td>\n",
       "      <td>33140000-3</td>\n",
       "      <td>33000000-0</td>\n",
       "      <td>33100000-1</td>\n",
       "      <td>33140000-3</td>\n",
       "      <td>[50.587515499999995, 30.48936284691901]</td>\n",
       "      <td>[50.587515499999995, 30.48936284691901]</td>\n",
       "      <td>0.000000</td>\n",
       "    </tr>\n",
       "  </tbody>\n",
       "</table>\n",
       "<p>4 rows × 50 columns</p>\n",
       "</div>"
      ],
      "text/plain": [
       "                                     id                             date  \\\n",
       "76067  98d54c150056474fbedb5420f8aad0d9 2021-09-01 07:01:34.905329+00:00   \n",
       "76068  98d54c150056474fbedb5420f8aad0d9 2021-09-01 07:01:34.905329+00:00   \n",
       "76069  98d54c150056474fbedb5420f8aad0d9 2021-09-01 07:01:34.905329+00:00   \n",
       "76070  98d54c150056474fbedb5420f8aad0d9 2021-09-01 07:01:34.905329+00:00   \n",
       "\n",
       "                          dateModified                tenderID         owner  \\\n",
       "76067 2021-09-01 07:01:34.905329+00:00  UA-2021-07-28-004065-b  e-tender.biz   \n",
       "76068 2021-09-01 07:01:34.905329+00:00  UA-2021-07-28-004065-b  e-tender.biz   \n",
       "76069 2021-09-01 07:01:34.905329+00:00  UA-2021-07-28-004065-b  e-tender.biz   \n",
       "76070 2021-09-01 07:01:34.905329+00:00  UA-2021-07-28-004065-b  e-tender.biz   \n",
       "\n",
       "      procurementMethod   submissionMethod  numberOfBids    status  \\\n",
       "76067              open  electronicAuction             2  complete   \n",
       "76068              open  electronicAuction             2  complete   \n",
       "76069              open  electronicAuction             2  complete   \n",
       "76070              open  electronicAuction             2  complete   \n",
       "\n",
       "      procurementMethodType  ... awards_value_amount awards_value_currency  \\\n",
       "76067      aboveThresholdUA  ...                 NaN                   NaN   \n",
       "76068      aboveThresholdUA  ...          1019377.02                   UAH   \n",
       "76069      aboveThresholdUA  ...                 NaN                   NaN   \n",
       "76070      aboveThresholdUA  ...          2266848.50                   UAH   \n",
       "\n",
       "      awards_value_valueAddedTaxIncluded  items_code  items_classification_l1  \\\n",
       "76067                               True  33141113-4               33000000-0   \n",
       "76068                               True  33141113-4               33000000-0   \n",
       "76069                               True  33140000-3               33000000-0   \n",
       "76070                               True  33140000-3               33000000-0   \n",
       "\n",
       "      items_classification_l2 items_classification_l3  \\\n",
       "76067              33100000-1              33140000-3   \n",
       "76068              33100000-1              33140000-3   \n",
       "76069              33100000-1              33140000-3   \n",
       "76070              33100000-1              33140000-3   \n",
       "\n",
       "                           procuringEntity_geo  \\\n",
       "76067  [50.587515499999995, 30.48936284691901]   \n",
       "76068  [50.587515499999995, 30.48936284691901]   \n",
       "76069  [50.587515499999995, 30.48936284691901]   \n",
       "76070  [50.587515499999995, 30.48936284691901]   \n",
       "\n",
       "                            bids_tenderers_geo geo_distance  \n",
       "76067                 [48.5167748, 34.6068797]   376.483135  \n",
       "76068  [50.587515499999995, 30.48936284691901]     0.000000  \n",
       "76069                 [48.5167748, 34.6068797]   376.483135  \n",
       "76070  [50.587515499999995, 30.48936284691901]     0.000000  \n",
       "\n",
       "[4 rows x 50 columns]"
      ]
     },
     "execution_count": 13,
     "metadata": {},
     "output_type": "execute_result"
    }
   ],
   "source": [
    "full_df[full_df.id=='98d54c150056474fbedb5420f8aad0d9']"
   ]
  },
  {
   "cell_type": "markdown",
   "metadata": {},
   "source": [
    "# Hypotheses"
   ]
  },
  {
   "cell_type": "markdown",
   "metadata": {},
   "source": [
    "## Hypothesis #1"
   ]
  },
  {
   "cell_type": "markdown",
   "metadata": {},
   "source": [
    "#### Number of bids is significant for economy"
   ]
  },
  {
   "cell_type": "code",
   "execution_count": null,
   "metadata": {},
   "outputs": [],
   "source": [
    "data_h1 = (\n",
    "    full_df[(full_df.status=='complete') & (full_df.awards_status == 'active')]\n",
    "    [['id', 'lots_id', 'numberOfBids','value_amount', 'awards_value_amount']]\n",
    "    .query('numberOfBids>0')\n",
    "    .groupby(by=['id', 'lots_id'])\n",
    "    .agg(min)\n",
    "    .reset_index()\n",
    "    .groupby(by=['id'])\n",
    "    .agg({\n",
    "        'numberOfBids': min,\n",
    "        'value_amount': sum,\n",
    "        'awards_value_amount': sum,\n",
    "    })\n",
    "    .reset_index()\n",
    "    .assign(\n",
    "        economy = lambda d: 100*(d.value_amount - d.awards_value_amount) / d.value_amount,\n",
    "    )\n",
    ")"
   ]
  },
  {
   "cell_type": "code",
   "execution_count": null,
   "metadata": {},
   "outputs": [],
   "source": [
    "num_of_bids_count = (\n",
    "    data_h1[[\"id\", \"numberOfBids\"]]\n",
    "    .groupby(by=[\"numberOfBids\"])\n",
    "    .agg({\n",
    "        \"id\": \"count\",\n",
    "    })\n",
    "    .reset_index()\n",
    "    .rename(columns={\"id\": \"count\"})\n",
    "    .query(\"count>1000\")\n",
    ")"
   ]
  },
  {
   "cell_type": "code",
   "execution_count": null,
   "metadata": {},
   "outputs": [],
   "source": [
    "import matplotlib.pyplot as plt\n",
    "import seaborn as sns"
   ]
  },
  {
   "cell_type": "code",
   "execution_count": null,
   "metadata": {},
   "outputs": [
    {
     "data": {
      "text/plain": [
       "<AxesSubplot:xlabel='numberOfBids', ylabel='economy'>"
      ]
     },
     "execution_count": 23,
     "metadata": {},
     "output_type": "execute_result"
    },
    {
     "data": {
      "image/png": "[encoded data removed]",
      "text/plain": [
       "<Figure size 1440x720 with 1 Axes>"
      ]
     },
     "metadata": {
      "needs_background": "light"
     },
     "output_type": "display_data"
    }
   ],
   "source": [
    "data_h1_boxplot = data_h1[data_h1[\"numberOfBids\"] < num_of_bids_count[\"numberOfBids\"].max()]\n",
    "\n",
    "plt.figure(figsize=(20, 10))\n",
    "sns.boxplot(data=data_h1_boxplot, x=\"numberOfBids\", y=\"economy\")"
   ]
  },
  {
   "cell_type": "code",
   "execution_count": null,
   "metadata": {},
   "outputs": [
    {
     "name": "stdout",
     "output_type": "stream",
     "text": [
      "NumberOfBids>1\n",
      "\thas sufficiently higher mean economy than NumberOfBids<=1\n",
      "\thas sufficiently higher economy variance than NumberOfBids<=1\n",
      "NumberOfBids>2\n",
      "\thas sufficiently higher mean economy than NumberOfBids<=2\n",
      "\thas sufficiently higher economy variance than NumberOfBids<=2\n",
      "NumberOfBids>3\n",
      "\thas sufficiently higher mean economy than NumberOfBids<=3\n",
      "\thas sufficiently higher economy variance than NumberOfBids<=3\n",
      "NumberOfBids>4\n",
      "\thas sufficiently higher mean economy than NumberOfBids<=4\n",
      "\thas sufficiently higher economy variance than NumberOfBids<=4\n",
      "NumberOfBids>5\n",
      "\thas sufficiently higher mean economy than NumberOfBids<=5\n",
      "\thas sufficiently higher economy variance than NumberOfBids<=5\n",
      "NumberOfBids>6\n",
      "\thas sufficiently higher mean economy than NumberOfBids<=6\n",
      "\thas sufficiently higher economy variance than NumberOfBids<=6\n",
      "NumberOfBids>7\n",
      "\thas sufficiently higher mean economy than NumberOfBids<=7\n",
      "\thas sufficiently higher economy variance than NumberOfBids<=7\n",
      "NumberOfBids>8\n",
      "\thas sufficiently higher mean economy than NumberOfBids<=8\n",
      "\thas sufficiently higher economy variance than NumberOfBids<=8\n",
      "NumberOfBids>9\n",
      "\thas sufficiently higher mean economy than NumberOfBids<=9\n",
      "\thas sufficiently higher economy variance than NumberOfBids<=9\n",
      "NumberOfBids>10\n",
      "\thas sufficiently higher mean economy than NumberOfBids<=10\n",
      "\thas sufficiently higher economy variance than NumberOfBids<=10\n"
     ]
    }
   ],
   "source": [
    "for thr in num_of_bids_count[\"numberOfBids\"]:\n",
    "    above_thr_mask = data_h1[\"numberOfBids\"] > thr\n",
    "    economy_below_thr = data_h1[~above_thr_mask][\"economy\"]\n",
    "    economy_above_thr = data_h1[above_thr_mask][\"economy\"]\n",
    "    \n",
    "    print(f\"NumberOfBids>{thr}\")\n",
    "    \n",
    "    # t-test for equal mean values\n",
    "    _, pvalue, _ = sm.stats.ttest_ind(economy_above_thr, economy_below_thr, alternative=\"larger\")\n",
    "    print(f\"\\thas sufficiently {'higher' if pvalue < 0.05 else 'lower'} mean economy than NumberOfBids<={thr}\")#\" with p-value={pvalue}\")\n",
    "    \n",
    "    # print(economy_above_thr.var(), economy_below_thr.var())\n",
    "    # f = economy_above_thr.var() / economy_below_thr.var()\n",
    "    # pvalue = 1 - scipy.stats.f.cdf(f, len(economy_above_thr) - 1, len(economy_below_thr) - 1)\n",
    "    \n",
    "    # levene’s for equal variances\n",
    "    _, pvalue = scipy.stats.levene(economy_below_thr, economy_above_thr)\n",
    "    print(f\"\\thas sufficiently {'higher' if pvalue < 0.05 else 'lower'} economy variance than NumberOfBids<={thr}\")#\" with p-value={pvalue}\")"
   ]
  },
  {
   "cell_type": "markdown",
   "metadata": {},
   "source": [
    "## Hypothesis #2"
   ]
  },
  {
   "cell_type": "markdown",
   "metadata": {},
   "source": [
    "#### Region is significant for economy"
   ]
  },
  {
   "cell_type": "code",
   "execution_count": null,
   "metadata": {},
   "outputs": [
    {
     "name": "stderr",
     "output_type": "stream",
     "text": [
      "/home/roman/miniconda3/envs/study/lib/python3.7/site-packages/ipykernel_launcher.py:70: UserWarning: Boolean Series key will be reindexed to match DataFrame index.\n"
     ]
    }
   ],
   "source": [
    "region_map_dict = {\n",
    "    \"Киевская\": \"Київська область\",\n",
    "    \"Киевская область\": \"Київська область\",\n",
    "    \"КИЕВСКАЯ ОБЛ.\": \"Київська область\",\n",
    "    \"Київ\": \"Київська область\",\n",
    "    \"Киев\": \"Київська область\",\n",
    "    \"місто Київ\": \"Київська область\",\n",
    "    \"м. Київ\": \"Київська область\",\n",
    "    \"м.Київ\": \"Київська область\",\n",
    "    \"Полтавская область\": \"Полтавська область\",\n",
    "    \"Днепропетровская область\": \"Дніпропетровська область\",\n",
    "    \"Днепропетровская обл.\": \"Дніпропетровська область\",\n",
    "    \"Запорожская область\": \"Запорізька область\",\n",
    "    \"Харьковская область\": \"Харківська область\",\n",
    "    \"Днiпропетровська область\": \"Дніпропетровська область\",\n",
    "    \"дніпропетровська\": \"Дніпропетровська область\",\n",
    "    \"Одесская область\": \"Одеська область\",\n",
    "}\n",
    "\n",
    "def format_regions(region: str):\n",
    "    if not region or region in {\"1\", \"Україна\"}:\n",
    "        return None\n",
    "    region = region.strip()\n",
    "    region = region.replace(\"обл.\", \"область\")\n",
    "    region = region_map_dict.get(region, region)\n",
    "    words = region.split(\" \")\n",
    "    if len(words) == 1:\n",
    "        words.append(\"область\")\n",
    "    return \" \".join(words)\n",
    "\n",
    "data_h2_orig = (\n",
    "    full_df[(full_df.status=='complete') & (full_df.awards_status == 'active')]\n",
    "    [['id', 'lots_id', 'numberOfBids','value_amount', 'awards_value_amount', 'tenderers_address']]\n",
    "    .query('numberOfBids>0')\n",
    "    .reset_index()\n",
    ")\n",
    "\n",
    "data_h2 = (\n",
    "    data_h2_orig\n",
    "    .groupby(by=['id', 'lots_id'])\n",
    "    .agg(min)\n",
    "    .reset_index()\n",
    "    .groupby(by=['id'])\n",
    "    .agg({\n",
    "        'numberOfBids': min,\n",
    "        'value_amount': sum,\n",
    "        'awards_value_amount': sum,\n",
    "    })\n",
    "    .reset_index()\n",
    "    .assign(\n",
    "        economy = lambda d: 100*(d.value_amount - d.awards_value_amount) / d.value_amount,\n",
    "    )\n",
    ")\n",
    "\n",
    "regions = (\n",
    "    data_h2_orig[\"tenderers_address\"]\n",
    "    .map(lambda x: x[\"region\"])\n",
    "    .map(format_regions)\n",
    ")\n",
    "\n",
    "region_counts = (\n",
    "    regions\n",
    "    .to_frame()\n",
    "    .groupby(\"tenderers_address\")\n",
    "    .tenderers_address\n",
    "    .transform(\"size\")\n",
    ")\n",
    "\n",
    "data_h2[\"bids_region\"] = regions\n",
    "data_h2 = data_h2[regions.astype(bool) & (region_counts > 100)]"
   ]
  },
  {
   "cell_type": "code",
   "execution_count": null,
   "metadata": {},
   "outputs": [
    {
     "data": {
      "text/plain": [
       "<AxesSubplot:xlabel='economy', ylabel='bids_region'>"
      ]
     },
     "execution_count": 26,
     "metadata": {},
     "output_type": "execute_result"
    },
    {
     "data": {
      "image/png": "[encoded data removed]",
      "text/plain": [
       "<Figure size 1440x1080 with 1 Axes>"
      ]
     },
     "metadata": {
      "needs_background": "light"
     },
     "output_type": "display_data"
    }
   ],
   "source": [
    "plt.figure(figsize=(20, 15))\n",
    "sns.boxplot(data=data_h2, x=\"economy\", y=\"bids_region\")"
   ]
  },
  {
   "cell_type": "markdown",
   "metadata": {},
   "source": [
    "## Hypothesis #3"
   ]
  },
  {
   "cell_type": "code",
   "execution_count": null,
   "metadata": {},
   "outputs": [],
   "source": [
    "date_grouper = pd.Grouper(key=\"date\", freq=\"1M\")\n",
    "data_h3 = (\n",
    "    full_df[(full_df.status=='complete') & (full_df.awards_status == 'active')]\n",
    "    [['id', 'lots_id', 'numberOfBids', 'date']]\n",
    "    .query('numberOfBids>0')\n",
    "    .groupby([, \"numberOfBids\"])\n",
    "    .agg({\n",
    "        'id': \"count\",\n",
    "    })\n",
    "    .rename(columns={\"id\": \"count\"})\n",
    "    .reset_index()\n",
    ")"
   ]
  },
  {
   "cell_type": "code",
   "execution_count": null,
   "metadata": {},
   "outputs": [
    {
     "data": {
      "text/plain": [
       "<AxesSubplot:xlabel='date', ylabel='count'>"
      ]
     },
     "execution_count": 334,
     "metadata": {},
     "output_type": "execute_result"
    },
    {
     "data": {
      "image/png": "[encoded data removed]",
      "text/plain": [
       "<Figure size 432x288 with 1 Axes>"
      ]
     },
     "metadata": {
      "needs_background": "light"
     },
     "output_type": "display_data"
    }
   ],
   "source": [
    "sns.lineplot(data=data_h3[data_h3[\"numberOfBids\"] == 9], x=\"date\", y=\"count\")"
   ]
  },
  {
   "cell_type": "markdown",
   "metadata": {},
   "source": [
    "## Hypothesis #4"
   ]
  },
  {
   "cell_type": "markdown",
   "metadata": {},
   "source": [
    "#### Distance is significant for economy"
   ]
  },
  {
   "cell_type": "code",
   "execution_count": null,
   "metadata": {},
   "outputs": [],
   "source": [
    "data_h4 = full_df[(full_df.status=='complete') & (full_df.awards_status == 'active')].query('(numberOfBids>0) & (~geo_distance.isna()) & (geo_distance > 0)')\n",
    "data_h4 = (data_h4\n",
    "    [['id', 'lots_id','value_amount', 'awards_value_amount', 'geo_distance', 'numberOfBids']]\n",
    "    .query('numberOfBids>0')\n",
    "    .groupby(by=['id', 'lots_id'])\n",
    "    .agg(min)\n",
    "    .reset_index()\n",
    "    .groupby(by=['id'])\n",
    "    .agg({\n",
    "        'value_amount': sum,\n",
    "        'awards_value_amount': sum,\n",
    "        'geo_distance': 'mean',\n",
    "    })\n",
    "    .reset_index()\n",
    "    .assign(\n",
    "        economy = lambda d: 100*(d.value_amount - d.awards_value_amount) / d.value_amount,\n",
    "    )\n",
    ")"
   ]
  },
  {
   "cell_type": "code",
   "execution_count": null,
   "metadata": {},
   "outputs": [
    {
     "data": {
      "image/png": "[encoded data removed]",
      "text/plain": [
       "<Figure size 432x288 with 1 Axes>"
      ]
     },
     "metadata": {
      "needs_background": "light"
     },
     "output_type": "display_data"
    }
   ],
   "source": [
    "sns.histplot(data=data_h4, x=\"geo_distance\", bins=6)\n",
    "plt.show()"
   ]
  },
  {
   "cell_type": "code",
   "execution_count": null,
   "metadata": {},
   "outputs": [
    {
     "name": "stdout",
     "output_type": "stream",
     "text": [
      "Distance>0 and Distance<200\n",
      "\thas sufficiently lower mean economy than all others with p-value=1.0\n",
      "\thas sufficiently higher economy variance than all others with p-value=3.390989018559413e-203\n",
      "Distance>200 and Distance<400\n",
      "\thas sufficiently higher mean economy than all others with p-value=0.0\n",
      "\thas sufficiently higher economy variance than all others with p-value=3.390989018559413e-203\n",
      "Distance>400 and Distance<600\n",
      "\thas sufficiently higher mean economy than all others with p-value=1.5407486899307493e-146\n",
      "\thas sufficiently higher economy variance than all others with p-value=3.390989018559413e-203\n",
      "Distance>600 and Distance<800\n",
      "\thas sufficiently higher mean economy than all others with p-value=3.4231716777977873e-115\n",
      "\thas sufficiently higher economy variance than all others with p-value=3.390989018559413e-203\n",
      "Distance>800 and Distance<1000\n",
      "\thas sufficiently higher mean economy than all others with p-value=8.660968576221963e-65\n",
      "\thas sufficiently higher economy variance than all others with p-value=3.390989018559413e-203\n"
     ]
    }
   ],
   "source": [
    "for min_thr, max_thr in [(0, 200), (200, 400), (400, 600), (600, 800), (800, 1000)]:\n",
    "    hypothesis_mask = (data_h4[\"geo_distance\"] >= min_thr) & (data_h4[\"geo_distance\"] < max_thr)\n",
    "    hypothesis_df = data_h4[hypothesis_mask][\"economy\"]\n",
    "    alternative_df = data_h4[~hypothesis_mask][\"economy\"]\n",
    "    \n",
    "    print(f\"Distance>{min_thr} and Distance<{max_thr}\")\n",
    "    \n",
    "    # t-test for equal mean values\n",
    "    _, pvalue, _ = sm.stats.ttest_ind(hypothesis_df, alternative_df, alternative=\"larger\")\n",
    "    print(f\"\\thas sufficiently {'higher' if pvalue < 0.05 else 'lower'} mean economy than all others with p-value={pvalue}\")\n",
    "\n",
    "    _, pvalue = scipy.stats.levene(economy_below_thr, economy_above_thr)\n",
    "    print(f\"\\thas sufficiently {'higher' if pvalue < 0.05 else 'lower'} economy variance than all others with p-value={pvalue}\")"
   ]
  },
  {
   "cell_type": "markdown",
   "metadata": {},
   "source": [
    "## Hypothesis #5"
   ]
  },
  {
   "cell_type": "markdown",
   "metadata": {},
   "source": [
    "#### Season is significant for economy"
   ]
  },
  {
   "cell_type": "code",
   "execution_count": null,
   "metadata": {},
   "outputs": [
    {
     "data": {
      "text/plain": [
       "2    234408\n",
       "0    228137\n",
       "1    218382\n",
       "3    191907\n",
       "Name: season, dtype: int64"
      ]
     },
     "execution_count": 141,
     "metadata": {},
     "output_type": "execute_result"
    }
   ],
   "source": [
    "data_h5 = full_df[(full_df.status=='complete') & (full_df.awards_status == 'active')].query('(numberOfBids>0)')\n",
    "data_h5['date'] = pd.to_datetime(data_h5['date'])\n",
    "data_h5['season'] = (data_h5.date.dt.month - 1) // 3"
   ]
  },
  {
   "cell_type": "code",
   "execution_count": null,
   "metadata": {},
   "outputs": [],
   "source": [
    "data_h5 = (data_h5\n",
    "    [['id', 'lots_id','value_amount', 'awards_value_amount', 'season', 'numberOfBids']]\n",
    "    .query('numberOfBids>0')\n",
    "    .groupby(by=['id', 'lots_id', 'season'])\n",
    "    .agg(min)\n",
    "    .reset_index()\n",
    "    .groupby(by=['id', 'season'])\n",
    "    .agg({\n",
    "        'value_amount': sum,\n",
    "        'awards_value_amount': sum,\n",
    "    })\n",
    "    .reset_index()\n",
    "    .assign(\n",
    "        economy = lambda d: 100*(d.value_amount - d.awards_value_amount) / d.value_amount,\n",
    "    )\n",
    ")"
   ]
  },
  {
   "cell_type": "code",
   "execution_count": null,
   "metadata": {},
   "outputs": [
    {
     "data": {
      "text/plain": [
       "2    220259\n",
       "0    211246\n",
       "1    201253\n",
       "3    182565\n",
       "Name: season, dtype: int64"
      ]
     },
     "execution_count": 145,
     "metadata": {},
     "output_type": "execute_result"
    }
   ],
   "source": [
    "data_h5.season.value_counts()"
   ]
  },
  {
   "cell_type": "code",
   "execution_count": null,
   "metadata": {},
   "outputs": [
    {
     "name": "stdout",
     "output_type": "stream",
     "text": [
      "spring\n",
      "\thas sufficiently higher mean economy than all others with p-value=8.107863504202709e-114\n",
      "\thas sufficiently higher economy variance than all others with p-value=3.390989018559413e-203\n",
      "summer\n",
      "\thas sufficiently higher mean economy than all others with p-value=7.447278352118796e-16\n",
      "\thas sufficiently higher economy variance than all others with p-value=3.390989018559413e-203\n",
      "autumn\n",
      "\thas sufficiently lower mean economy than all others with p-value=1.0\n",
      "\thas sufficiently higher economy variance than all others with p-value=3.390989018559413e-203\n",
      "winter\n",
      "\thas sufficiently lower mean economy than all others with p-value=1.0\n",
      "\thas sufficiently higher economy variance than all others with p-value=3.390989018559413e-203\n"
     ]
    }
   ],
   "source": [
    "season_dict = {\n",
    "    0: 'spring',\n",
    "    1: 'summer',\n",
    "    2: 'autumn',\n",
    "    3: 'winter'\n",
    "}\n",
    "\n",
    "for value in [0, 1, 2 ,3]:\n",
    "    hypothesis_mask = data_h5[\"season\"] == value\n",
    "    hypothesis_df = data_h5[hypothesis_mask][\"economy\"]\n",
    "    alternative_df = data_h5[~hypothesis_mask][\"economy\"]\n",
    "    \n",
    "    print(f\"{season_dict[value]}\")\n",
    "    \n",
    "    # t-test for equal mean values\n",
    "    _, pvalue, _ = sm.stats.ttest_ind(hypothesis_df, alternative_df, alternative=\"larger\")\n",
    "    print(f\"\\thas sufficiently {'higher' if pvalue < 0.05 else 'lower'} mean economy than all others with p-value={pvalue}\")\n",
    "\n",
    "    _, pvalue = scipy.stats.levene(economy_below_thr, economy_above_thr)\n",
    "    print(f\"\\thas sufficiently {'higher' if pvalue < 0.05 else 'lower'} economy variance than all others with p-value={pvalue}\")"
   ]
  },
  {
   "cell_type": "markdown",
   "metadata": {},
   "source": [
    "## Hypothesis #6"
   ]
  },
  {
   "cell_type": "markdown",
   "metadata": {},
   "source": [
    "#### Sector is significant for economy"
   ]
  },
  {
   "cell_type": "code",
   "execution_count": null,
   "metadata": {},
   "outputs": [],
   "source": [
    "classifier = DK021.load('./data/dk021.csv')"
   ]
  },
  {
   "cell_type": "code",
   "execution_count": null,
   "metadata": {},
   "outputs": [
    {
     "data": {
      "text/plain": [
       "['Будівельні роботи та поточний ремонт',\n",
       " 'Продукти харчування, напої, тютюн та супутня продукція',\n",
       " 'Медичне обладнання, фармацевтична продукція та засоби особистої гігієни',\n",
       " 'Нафтопродукти, паливо, електроенергія та інші джерела енергії',\n",
       " 'Офісна та комп’ютерна техніка, устаткування та приладдя, крім меблів та пакетів програмного забезпечення',\n",
       " 'Конструкції та конструкційні матеріали; допоміжна будівельна продукція (крім електроапаратури)',\n",
       " 'Меблі (у тому числі офісні меблі), меблево-декоративні вироби, побутова техніка (крім освітлювального обладнання) та засоби для чищення',\n",
       " 'Послуги з ремонту і технічного обслуговування',\n",
       " 'Сільськогосподарська, фермерська продукція, продукція рибальства, лісівництва та супутня продукція',\n",
       " 'Транспортне обладнання та допоміжне приладдя до нього',\n",
       " 'Архітектурні, будівельні, інженерні та інспекційні послуги',\n",
       " 'Електротехнічне устаткування, апаратура, обладнання та матеріали; освітлювальне устаткування']"
      ]
     },
     "execution_count": 150,
     "metadata": {},
     "output_type": "execute_result"
    }
   ],
   "source": [
    "data_h6 = full_df[(full_df.status=='complete') & (full_df.awards_status == 'active')].query('(numberOfBids>0)')\n",
    "data_h6[\"sectors\"] = data_h6.items_classification_l3.apply(lambda x: classifier.get_level_category(x, level=1).description)\n",
    "sectors = data_h6[\"sectors\"].value_counts()\n",
    "sector_names = [sector_name for sector_name, sector_occurence in zip(sectors.index, sectors.values) if sector_occurence > 20000]\n",
    "sector_names"
   ]
  },
  {
   "cell_type": "code",
   "execution_count": null,
   "metadata": {},
   "outputs": [],
   "source": [
    "data_h6 = (data_h6[data_h6[\"sectors\"].isin(sector_names)]\n",
    "    [['id', 'lots_id','value_amount', 'awards_value_amount', 'sectors', 'numberOfBids']]\n",
    "    .query('numberOfBids>0')\n",
    "    .groupby(by=['id', 'lots_id', 'sectors'])\n",
    "    .agg(min)\n",
    "    .reset_index()\n",
    "    .groupby(by=['id', 'sectors'])\n",
    "    .agg({\n",
    "        'value_amount': sum,\n",
    "        'awards_value_amount': sum,\n",
    "    })\n",
    "    .reset_index()\n",
    "    .assign(\n",
    "        economy = lambda d: 100*(d.value_amount - d.awards_value_amount) / d.value_amount,\n",
    "    )\n",
    ")"
   ]
  },
  {
   "cell_type": "code",
   "execution_count": null,
   "metadata": {},
   "outputs": [
    {
     "name": "stdout",
     "output_type": "stream",
     "text": [
      "Будівельні роботи та поточний ремонт\n",
      "\thas sufficiently lower mean economy than all others with p-value=1.0\n",
      "\thas sufficiently higher economy variance than all others with p-value=3.390989018559413e-203\n",
      "Продукти харчування, напої, тютюн та супутня продукція\n",
      "\thas sufficiently lower mean economy than all others with p-value=1.0\n",
      "\thas sufficiently higher economy variance than all others with p-value=3.390989018559413e-203\n",
      "Медичне обладнання, фармацевтична продукція та засоби особистої гігієни\n",
      "\thas sufficiently lower mean economy than all others with p-value=1.0\n",
      "\thas sufficiently higher economy variance than all others with p-value=3.390989018559413e-203\n",
      "Нафтопродукти, паливо, електроенергія та інші джерела енергії\n",
      "\thas sufficiently higher mean economy than all others with p-value=0.0\n",
      "\thas sufficiently higher economy variance than all others with p-value=3.390989018559413e-203\n",
      "Офісна та комп’ютерна техніка, устаткування та приладдя, крім меблів та пакетів програмного забезпечення\n",
      "\thas sufficiently higher mean economy than all others with p-value=5.266625291214647e-101\n",
      "\thas sufficiently higher economy variance than all others with p-value=3.390989018559413e-203\n",
      "Конструкції та конструкційні матеріали; допоміжна будівельна продукція (крім електроапаратури)\n",
      "\thas sufficiently higher mean economy than all others with p-value=2.2232975693378024e-255\n",
      "\thas sufficiently higher economy variance than all others with p-value=3.390989018559413e-203\n",
      "Меблі (у тому числі офісні меблі), меблево-декоративні вироби, побутова техніка (крім освітлювального обладнання) та засоби для чищення\n",
      "\thas sufficiently higher mean economy than all others with p-value=0.0\n",
      "\thas sufficiently higher economy variance than all others with p-value=3.390989018559413e-203\n",
      "Послуги з ремонту і технічного обслуговування\n",
      "\thas sufficiently lower mean economy than all others with p-value=0.9589491925847454\n",
      "\thas sufficiently higher economy variance than all others with p-value=3.390989018559413e-203\n",
      "Сільськогосподарська, фермерська продукція, продукція рибальства, лісівництва та супутня продукція\n",
      "\thas sufficiently lower mean economy than all others with p-value=0.9999848962928168\n",
      "\thas sufficiently higher economy variance than all others with p-value=3.390989018559413e-203\n",
      "Транспортне обладнання та допоміжне приладдя до нього\n",
      "\thas sufficiently lower mean economy than all others with p-value=1.0\n",
      "\thas sufficiently higher economy variance than all others with p-value=3.390989018559413e-203\n",
      "Архітектурні, будівельні, інженерні та інспекційні послуги\n",
      "\thas sufficiently higher mean economy than all others with p-value=0.0\n",
      "\thas sufficiently higher economy variance than all others with p-value=3.390989018559413e-203\n",
      "Електротехнічне устаткування, апаратура, обладнання та матеріали; освітлювальне устаткування\n",
      "\thas sufficiently higher mean economy than all others with p-value=0.0\n",
      "\thas sufficiently higher economy variance than all others with p-value=3.390989018559413e-203\n"
     ]
    }
   ],
   "source": [
    "for sector_name in sector_names:\n",
    "    hypothesis_mask = data_h6[\"sectors\"] == sector_name\n",
    "    hypothesis_df = data_h6[hypothesis_mask][\"economy\"]\n",
    "    alternative_df = data_h6[~hypothesis_mask][\"economy\"]\n",
    "    \n",
    "    print(sector_name)\n",
    "    \n",
    "    # t-test for equal mean values\n",
    "    _, pvalue, _ = sm.stats.ttest_ind(hypothesis_df, alternative_df, alternative=\"larger\")\n",
    "    print(f\"\\thas sufficiently {'higher' if pvalue < 0.05 else 'lower'} mean economy than all others with p-value={pvalue}\")\n",
    "\n",
    "    _, pvalue = scipy.stats.levene(economy_below_thr, economy_above_thr)\n",
    "    print(f\"\\thas sufficiently {'higher' if pvalue < 0.05 else 'lower'} economy variance than all others with p-value={pvalue}\")"
   ]
  },
  {
   "cell_type": "markdown",
   "metadata": {},
   "source": [
    "## Hypothesis #7"
   ]
  },
  {
   "cell_type": "markdown",
   "metadata": {},
   "source": [
    "#### Number of already participated tenders is significant for economy"
   ]
  },
  {
   "cell_type": "code",
   "execution_count": null,
   "metadata": {},
   "outputs": [],
   "source": [
    "data_h7 = full_df[(full_df.status=='complete') & (full_df.awards_status == 'active')].query('(numberOfBids>0)')"
   ]
  },
  {
   "cell_type": "code",
   "execution_count": null,
   "metadata": {},
   "outputs": [],
   "source": [
    "data_h7 = data_h7.sort_values(\"date\")"
   ]
  },
  {
   "cell_type": "code",
   "execution_count": null,
   "metadata": {},
   "outputs": [],
   "source": [
    "import tqdm"
   ]
  },
  {
   "cell_type": "code",
   "execution_count": null,
   "metadata": {},
   "outputs": [
    {
     "name": "stderr",
     "output_type": "stream",
     "text": [
      "872834it [00:03, 237153.83it/s]\n"
     ]
    }
   ],
   "source": [
    "unique_visits = dict()\n",
    "visited_tenders = dict()\n",
    "visits = []\n",
    "for email, tender_id in tqdm.tqdm(zip(data_h7.bids_tenderers_contactPoint_email, data_h7.id)):\n",
    "    key = f\"{email}#{tender_id}\"\n",
    "    if key in visited_tenders:\n",
    "        value = visited_tenders[key]\n",
    "    else:\n",
    "        if email in unique_visits:\n",
    "            value = unique_visits[email]\n",
    "            unique_visits[email] += 1\n",
    "        else:\n",
    "            value = 0\n",
    "            unique_visits[email] = 1\n",
    "        visited_tenders[key] = value\n",
    "    visits.append(value)"
   ]
  },
  {
   "cell_type": "code",
   "execution_count": null,
   "metadata": {},
   "outputs": [],
   "source": [
    "data_h7[\"visits\"] = visits"
   ]
  },
  {
   "cell_type": "code",
   "execution_count": null,
   "metadata": {},
   "outputs": [],
   "source": [
    "data_h7 = (data_h7\n",
    "    [['id', 'lots_id','value_amount', 'awards_value_amount', 'visits', 'numberOfBids']]\n",
    "    .query('numberOfBids>0')\n",
    "    .groupby(by=['id', 'lots_id', 'visits'])\n",
    "    .agg(min)\n",
    "    .reset_index()\n",
    "    .groupby(by=['id', 'visits'])\n",
    "    .agg({\n",
    "        'value_amount': sum,\n",
    "        'awards_value_amount': sum,\n",
    "    })\n",
    "    .reset_index()\n",
    "    .assign(\n",
    "        economy = lambda d: 100*(d.value_amount - d.awards_value_amount) / d.value_amount,\n",
    "    )\n",
    ")"
   ]
  },
  {
   "cell_type": "code",
   "execution_count": null,
   "metadata": {},
   "outputs": [
    {
     "name": "stdout",
     "output_type": "stream",
     "text": [
      "Visits>0 and Visits<5\n",
      "\thas sufficiently lower mean economy than all others with p-value=1.0\n",
      "\thas sufficiently higher economy variance than all others with p-value=3.390989018559413e-203\n",
      "Visits>5 and Visits<10\n",
      "\thas sufficiently lower mean economy than all others with p-value=1.0\n",
      "\thas sufficiently higher economy variance than all others with p-value=3.390989018559413e-203\n",
      "Visits>10 and Visits<20\n",
      "\thas sufficiently lower mean economy than all others with p-value=0.9957790873784681\n",
      "\thas sufficiently higher economy variance than all others with p-value=3.390989018559413e-203\n",
      "Visits>20 and Visits<40\n",
      "\thas sufficiently higher mean economy than all others with p-value=1.634207119207452e-35\n",
      "\thas sufficiently higher economy variance than all others with p-value=3.390989018559413e-203\n",
      "Visits>40 and Visits<60\n",
      "\thas sufficiently higher mean economy than all others with p-value=4.586115428486657e-74\n",
      "\thas sufficiently higher economy variance than all others with p-value=3.390989018559413e-203\n",
      "Visits>60 and Visits<80\n",
      "\thas sufficiently higher mean economy than all others with p-value=9.531295225178764e-59\n",
      "\thas sufficiently higher economy variance than all others with p-value=3.390989018559413e-203\n",
      "Visits>80 and Visits<100\n",
      "\thas sufficiently higher mean economy than all others with p-value=1.6248432234781041e-46\n",
      "\thas sufficiently higher economy variance than all others with p-value=3.390989018559413e-203\n",
      "Visits>100 and Visits<200\n",
      "\thas sufficiently higher mean economy than all others with p-value=9.123700789450124e-74\n",
      "\thas sufficiently higher economy variance than all others with p-value=3.390989018559413e-203\n",
      "Visits>200 and Visits<300\n",
      "\thas sufficiently higher mean economy than all others with p-value=9.845015085722922e-17\n",
      "\thas sufficiently higher economy variance than all others with p-value=3.390989018559413e-203\n",
      "Visits>300 and Visits<500\n",
      "\thas sufficiently higher mean economy than all others with p-value=1.620905947738636e-22\n",
      "\thas sufficiently higher economy variance than all others with p-value=3.390989018559413e-203\n",
      "Visits>500 and Visits<1500\n",
      "\thas sufficiently lower mean economy than all others with p-value=0.5341366717473667\n",
      "\thas sufficiently higher economy variance than all others with p-value=3.390989018559413e-203\n"
     ]
    }
   ],
   "source": [
    "for min_thr, max_thr in [(0, 5), (5, 10), (10, 20), (20, 40), (40, 60), (60, 80), (80, 100), (100, 200), (200, 300), (300, 500), (500, 1500)]:\n",
    "    hypothesis_mask = (data_h7[\"visits\"] >= min_thr) & (data_h7[\"visits\"] < max_thr)\n",
    "    hypothesis_df = data_h7[hypothesis_mask][\"economy\"]\n",
    "    alternative_df = data_h7[~hypothesis_mask][\"economy\"]\n",
    "    \n",
    "    print(f\"Visits>{min_thr} and Visits<{max_thr}\")\n",
    "    \n",
    "    # t-test for equal mean values\n",
    "    _, pvalue, _ = sm.stats.ttest_ind(hypothesis_df, alternative_df, alternative=\"larger\")\n",
    "    print(f\"\\thas sufficiently {'higher' if pvalue < 0.05 else 'lower'} mean economy than all others with p-value={pvalue}\")\n",
    "\n",
    "    _, pvalue = scipy.stats.levene(economy_below_thr, economy_above_thr)\n",
    "    print(f\"\\thas sufficiently {'higher' if pvalue < 0.05 else 'lower'} economy variance than all others with p-value={pvalue}\")"
   ]
  },
  {
   "cell_type": "markdown",
   "metadata": {},
   "source": [
    "## Example Economy"
   ]
  },
  {
   "cell_type": "code",
   "execution_count": null,
   "metadata": {},
   "outputs": [
    {
     "data": {
      "text/html": [
       "<div>\n",
       "<style scoped>\n",
       "    .dataframe tbody tr th:only-of-type {\n",
       "        vertical-align: middle;\n",
       "    }\n",
       "\n",
       "    .dataframe tbody tr th {\n",
       "        vertical-align: top;\n",
       "    }\n",
       "\n",
       "    .dataframe thead th {\n",
       "        text-align: right;\n",
       "    }\n",
       "</style>\n",
       "<table border=\"1\" class=\"dataframe\">\n",
       "  <thead>\n",
       "    <tr style=\"text-align: right;\">\n",
       "      <th></th>\n",
       "      <th>id</th>\n",
       "      <th>lots_id</th>\n",
       "      <th>bids_id</th>\n",
       "      <th>items_code</th>\n",
       "      <th>items_classification_l1</th>\n",
       "      <th>items_classification_l2</th>\n",
       "      <th>items_classification_l3</th>\n",
       "      <th>numberOfBids</th>\n",
       "      <th>num_lots</th>\n",
       "      <th>awards_status</th>\n",
       "      <th>status</th>\n",
       "      <th>value_amount</th>\n",
       "      <th>bids_value_amount</th>\n",
       "      <th>awards_value_amount</th>\n",
       "    </tr>\n",
       "  </thead>\n",
       "  <tbody>\n",
       "    <tr>\n",
       "      <th>76067</th>\n",
       "      <td>98d54c150056474fbedb5420f8aad0d9</td>\n",
       "      <td>76da00fa661a4e51bf34f0e791833bd2</td>\n",
       "      <td>1215fd8627904632b2771d21998006e5</td>\n",
       "      <td>33141113-4</td>\n",
       "      <td>33000000-0</td>\n",
       "      <td>33100000-1</td>\n",
       "      <td>33140000-3</td>\n",
       "      <td>2</td>\n",
       "      <td>2</td>\n",
       "      <td>NaN</td>\n",
       "      <td>complete</td>\n",
       "      <td>1060036.0</td>\n",
       "      <td>1052085.85</td>\n",
       "      <td>NaN</td>\n",
       "    </tr>\n",
       "    <tr>\n",
       "      <th>76068</th>\n",
       "      <td>98d54c150056474fbedb5420f8aad0d9</td>\n",
       "      <td>76da00fa661a4e51bf34f0e791833bd2</td>\n",
       "      <td>15935b3d80944ce2b1fa5bdc63bcc5d3</td>\n",
       "      <td>33141113-4</td>\n",
       "      <td>33000000-0</td>\n",
       "      <td>33100000-1</td>\n",
       "      <td>33140000-3</td>\n",
       "      <td>2</td>\n",
       "      <td>2</td>\n",
       "      <td>active</td>\n",
       "      <td>complete</td>\n",
       "      <td>1060036.0</td>\n",
       "      <td>1019377.02</td>\n",
       "      <td>1019377.02</td>\n",
       "    </tr>\n",
       "    <tr>\n",
       "      <th>76069</th>\n",
       "      <td>98d54c150056474fbedb5420f8aad0d9</td>\n",
       "      <td>e32dc54313cf4e22862196b85299d87f</td>\n",
       "      <td>1215fd8627904632b2771d21998006e5</td>\n",
       "      <td>33140000-3</td>\n",
       "      <td>33000000-0</td>\n",
       "      <td>33100000-1</td>\n",
       "      <td>33140000-3</td>\n",
       "      <td>2</td>\n",
       "      <td>2</td>\n",
       "      <td>NaN</td>\n",
       "      <td>complete</td>\n",
       "      <td>2270252.0</td>\n",
       "      <td>2267523.67</td>\n",
       "      <td>NaN</td>\n",
       "    </tr>\n",
       "    <tr>\n",
       "      <th>76070</th>\n",
       "      <td>98d54c150056474fbedb5420f8aad0d9</td>\n",
       "      <td>e32dc54313cf4e22862196b85299d87f</td>\n",
       "      <td>15935b3d80944ce2b1fa5bdc63bcc5d3</td>\n",
       "      <td>33140000-3</td>\n",
       "      <td>33000000-0</td>\n",
       "      <td>33100000-1</td>\n",
       "      <td>33140000-3</td>\n",
       "      <td>2</td>\n",
       "      <td>2</td>\n",
       "      <td>active</td>\n",
       "      <td>complete</td>\n",
       "      <td>2270252.0</td>\n",
       "      <td>2266848.50</td>\n",
       "      <td>2266848.50</td>\n",
       "    </tr>\n",
       "  </tbody>\n",
       "</table>\n",
       "</div>"
      ],
      "text/plain": [
       "                                     id                           lots_id  \\\n",
       "76067  98d54c150056474fbedb5420f8aad0d9  76da00fa661a4e51bf34f0e791833bd2   \n",
       "76068  98d54c150056474fbedb5420f8aad0d9  76da00fa661a4e51bf34f0e791833bd2   \n",
       "76069  98d54c150056474fbedb5420f8aad0d9  e32dc54313cf4e22862196b85299d87f   \n",
       "76070  98d54c150056474fbedb5420f8aad0d9  e32dc54313cf4e22862196b85299d87f   \n",
       "\n",
       "                                bids_id  items_code items_classification_l1  \\\n",
       "76067  1215fd8627904632b2771d21998006e5  33141113-4              33000000-0   \n",
       "76068  15935b3d80944ce2b1fa5bdc63bcc5d3  33141113-4              33000000-0   \n",
       "76069  1215fd8627904632b2771d21998006e5  33140000-3              33000000-0   \n",
       "76070  15935b3d80944ce2b1fa5bdc63bcc5d3  33140000-3              33000000-0   \n",
       "\n",
       "      items_classification_l2 items_classification_l3  numberOfBids  num_lots  \\\n",
       "76067              33100000-1              33140000-3             2         2   \n",
       "76068              33100000-1              33140000-3             2         2   \n",
       "76069              33100000-1              33140000-3             2         2   \n",
       "76070              33100000-1              33140000-3             2         2   \n",
       "\n",
       "      awards_status    status  value_amount  bids_value_amount  \\\n",
       "76067           NaN  complete     1060036.0         1052085.85   \n",
       "76068        active  complete     1060036.0         1019377.02   \n",
       "76069           NaN  complete     2270252.0         2267523.67   \n",
       "76070        active  complete     2270252.0         2266848.50   \n",
       "\n",
       "       awards_value_amount  \n",
       "76067                  NaN  \n",
       "76068           1019377.02  \n",
       "76069                  NaN  \n",
       "76070           2266848.50  "
      ]
     },
     "execution_count": 6,
     "metadata": {},
     "output_type": "execute_result"
    }
   ],
   "source": [
    "full_df[full_df.id=='98d54c150056474fbedb5420f8aad0d9'][['id', 'lots_id',  'bids_id', 'items_code', 'items_classification_l1', 'items_classification_l2', 'items_classification_l3', 'numberOfBids', 'num_lots',  'awards_status', 'status', 'value_amount', 'bids_value_amount', 'awards_value_amount']]"
   ]
  },
  {
   "cell_type": "code",
   "execution_count": null,
   "metadata": {},
   "outputs": [],
   "source": [
    "classifier = DK021.load('./data/dk021.csv')"
   ]
  },
  {
   "cell_type": "raw",
   "metadata": {},
   "source": [
    "full_df.items_classification_l1.value_counts()"
   ]
  },
  {
   "cell_type": "code",
   "execution_count": null,
   "metadata": {},
   "outputs": [
    {
     "data": {
      "text/plain": [
       "economy        132597677057\n",
       "est_economy    546155392707\n",
       "dtype: int64"
      ]
     },
     "execution_count": 9,
     "metadata": {},
     "output_type": "execute_result"
    }
   ],
   "source": [
    "(\n",
    "    full_df[(full_df.status=='complete') & (full_df.awards_status == 'active')]\n",
    "    [['id', 'lots_id', 'numberOfBids','value_amount', 'awards_value_amount']]\n",
    "    .groupby(by=['id', 'lots_id'])\n",
    "    .agg(min)\n",
    "    .reset_index()\n",
    "    .assign(\n",
    "        economy = lambda d: d.value_amount - d.awards_value_amount,\n",
    "        est_economy = lambda d: d.value_amount - d.value_amount*0.65\n",
    "    )\n",
    ")[['economy', 'est_economy']].astype(np.int64).sum()"
   ]
  },
  {
   "cell_type": "code",
   "execution_count": null,
   "metadata": {},
   "outputs": [
    {
     "data": {
      "text/html": [
       "<div>\n",
       "<style scoped>\n",
       "    .dataframe tbody tr th:only-of-type {\n",
       "        vertical-align: middle;\n",
       "    }\n",
       "\n",
       "    .dataframe tbody tr th {\n",
       "        vertical-align: top;\n",
       "    }\n",
       "\n",
       "    .dataframe thead th {\n",
       "        text-align: right;\n",
       "    }\n",
       "</style>\n",
       "<table border=\"1\" class=\"dataframe\">\n",
       "  <thead>\n",
       "    <tr style=\"text-align: right;\">\n",
       "      <th></th>\n",
       "      <th>numberOfBids</th>\n",
       "      <th>cnt</th>\n",
       "      <th>economy</th>\n",
       "      <th>value_amount</th>\n",
       "      <th>awards_value_amount</th>\n",
       "      <th>count_log</th>\n",
       "    </tr>\n",
       "  </thead>\n",
       "  <tbody>\n",
       "    <tr>\n",
       "      <th>0</th>\n",
       "      <td>1</td>\n",
       "      <td>272064</td>\n",
       "      <td>4.818293</td>\n",
       "      <td>5.545546e+10</td>\n",
       "      <td>5.364767e+10</td>\n",
       "      <td>270.803798</td>\n",
       "    </tr>\n",
       "    <tr>\n",
       "      <th>1</th>\n",
       "      <td>2</td>\n",
       "      <td>300337</td>\n",
       "      <td>10.025346</td>\n",
       "      <td>8.612403e+11</td>\n",
       "      <td>8.116753e+11</td>\n",
       "      <td>272.943340</td>\n",
       "    </tr>\n",
       "    <tr>\n",
       "      <th>2</th>\n",
       "      <td>3</td>\n",
       "      <td>120906</td>\n",
       "      <td>18.662282</td>\n",
       "      <td>3.106225e+11</td>\n",
       "      <td>2.792178e+11</td>\n",
       "      <td>253.252895</td>\n",
       "    </tr>\n",
       "    <tr>\n",
       "      <th>3</th>\n",
       "      <td>4</td>\n",
       "      <td>59413</td>\n",
       "      <td>23.539578</td>\n",
       "      <td>1.292211e+11</td>\n",
       "      <td>1.112743e+11</td>\n",
       "      <td>237.877365</td>\n",
       "    </tr>\n",
       "    <tr>\n",
       "      <th>4</th>\n",
       "      <td>5</td>\n",
       "      <td>28961</td>\n",
       "      <td>28.048722</td>\n",
       "      <td>7.365568e+10</td>\n",
       "      <td>6.141915e+10</td>\n",
       "      <td>222.327357</td>\n",
       "    </tr>\n",
       "    <tr>\n",
       "      <th>5</th>\n",
       "      <td>6</td>\n",
       "      <td>14807</td>\n",
       "      <td>30.416978</td>\n",
       "      <td>2.792069e+10</td>\n",
       "      <td>2.291922e+10</td>\n",
       "      <td>207.809876</td>\n",
       "    </tr>\n",
       "    <tr>\n",
       "      <th>6</th>\n",
       "      <td>7</td>\n",
       "      <td>7794</td>\n",
       "      <td>33.004112</td>\n",
       "      <td>2.568979e+10</td>\n",
       "      <td>2.031637e+10</td>\n",
       "      <td>193.922223</td>\n",
       "    </tr>\n",
       "    <tr>\n",
       "      <th>7</th>\n",
       "      <td>8</td>\n",
       "      <td>4498</td>\n",
       "      <td>33.923021</td>\n",
       "      <td>2.605870e+10</td>\n",
       "      <td>2.308378e+10</td>\n",
       "      <td>182.026019</td>\n",
       "    </tr>\n",
       "    <tr>\n",
       "      <th>8</th>\n",
       "      <td>9</td>\n",
       "      <td>2469</td>\n",
       "      <td>35.615195</td>\n",
       "      <td>8.148888e+09</td>\n",
       "      <td>6.866796e+09</td>\n",
       "      <td>169.045667</td>\n",
       "    </tr>\n",
       "    <tr>\n",
       "      <th>9</th>\n",
       "      <td>10</td>\n",
       "      <td>1461</td>\n",
       "      <td>36.696603</td>\n",
       "      <td>8.343116e+09</td>\n",
       "      <td>7.052200e+09</td>\n",
       "      <td>157.691107</td>\n",
       "    </tr>\n",
       "  </tbody>\n",
       "</table>\n",
       "</div>"
      ],
      "text/plain": [
       "   numberOfBids     cnt    economy  value_amount  awards_value_amount  \\\n",
       "0             1  272064   4.818293  5.545546e+10         5.364767e+10   \n",
       "1             2  300337  10.025346  8.612403e+11         8.116753e+11   \n",
       "2             3  120906  18.662282  3.106225e+11         2.792178e+11   \n",
       "3             4   59413  23.539578  1.292211e+11         1.112743e+11   \n",
       "4             5   28961  28.048722  7.365568e+10         6.141915e+10   \n",
       "5             6   14807  30.416978  2.792069e+10         2.291922e+10   \n",
       "6             7    7794  33.004112  2.568979e+10         2.031637e+10   \n",
       "7             8    4498  33.923021  2.605870e+10         2.308378e+10   \n",
       "8             9    2469  35.615195  8.148888e+09         6.866796e+09   \n",
       "9            10    1461  36.696603  8.343116e+09         7.052200e+09   \n",
       "\n",
       "    count_log  \n",
       "0  270.803798  \n",
       "1  272.943340  \n",
       "2  253.252895  \n",
       "3  237.877365  \n",
       "4  222.327357  \n",
       "5  207.809876  \n",
       "6  193.922223  \n",
       "7  182.026019  \n",
       "8  169.045667  \n",
       "9  157.691107  "
      ]
     },
     "execution_count": 10,
     "metadata": {},
     "output_type": "execute_result"
    }
   ],
   "source": [
    "cnt_eco=(\n",
    "    full_df[(full_df.status=='complete') & (full_df.awards_status == 'active')]\n",
    "    [['id', 'lots_id', 'numberOfBids','value_amount', 'awards_value_amount']]\n",
    "    .query('numberOfBids>0')\n",
    "    .groupby(by=['id', 'lots_id'])\n",
    "    .agg(min)\n",
    "    .reset_index()\n",
    "    .groupby(by=['id'])\n",
    "    .agg({\n",
    "        'numberOfBids': min,\n",
    "        'value_amount': sum,\n",
    "        'awards_value_amount': sum\n",
    "    })\n",
    "    .reset_index()\n",
    "    .assign(\n",
    "        economy = lambda d: 100*(d.value_amount - d.awards_value_amount) /d.value_amount\n",
    "    )\n",
    "    .groupby(by=['numberOfBids'])\n",
    "    .agg({\n",
    "        'id': 'count',\n",
    "        'economy': 'mean',\n",
    "        'value_amount': sum,\n",
    "        'awards_value_amount': sum\n",
    "    })\n",
    "    .reset_index()\n",
    "    .rename(columns={'id':'cnt'})\n",
    "    .query('cnt>1000')\n",
    "    .sort_values(by='numberOfBids')\n",
    "    .assign(\n",
    "        count_log = lambda d: np.log2(d.cnt)*15\n",
    "    )\n",
    ")\n",
    "cnt_eco"
   ]
  },
  {
   "cell_type": "code",
   "execution_count": null,
   "metadata": {},
   "outputs": [
    {
     "data": {
      "text/plain": [
       "8.443876365284083"
      ]
     },
     "execution_count": 11,
     "metadata": {},
     "output_type": "execute_result"
    }
   ],
   "source": [
    "avg_eco = 100*(cnt_eco.value_amount.sum() - cnt_eco.awards_value_amount.sum()) / cnt_eco.value_amount.sum()\n",
    "avg_eco"
   ]
  },
  {
   "cell_type": "code",
   "execution_count": null,
   "metadata": {},
   "outputs": [
    {
     "data": {
      "text/plain": [
       "28.048721521108288"
      ]
     },
     "execution_count": 14,
     "metadata": {},
     "output_type": "execute_result"
    }
   ],
   "source": [
    "avg_eco_at_5 = cnt_eco[cnt_eco.numberOfBids == 5].economy.iloc[0]\n",
    "avg_eco_at_5"
   ]
  },
  {
   "cell_type": "code",
   "execution_count": null,
   "metadata": {},
   "outputs": [
    {
     "data": {
      "image/png": "[encoded data removed]",
      "text/plain": [
       "<Figure size 720x432 with 1 Axes>"
      ]
     },
     "metadata": {
      "needs_background": "light"
     },
     "output_type": "display_data"
    }
   ],
   "source": [
    "import matplotlib.pyplot as plt\n",
    "import seaborn as sns\n",
    "\n",
    "fig, ax = plt.subplots(figsize=(10,6))\n",
    "ax.axhline(avg_eco, ls='--', color='red')\n",
    "ax.axhline(avg_eco_at_5, ls='--', color='green')\n",
    "ax = sns.scatterplot(ax=ax, data=cnt_eco, x=\"numberOfBids\", palette=\"deep\", y=\"economy\", size='count_log', legend=False)\n",
    "ax.set_xlabel('# of bids per tender')\n",
    "ax.set_ylabel('Relative economy, %')\n",
    "ax.set_xticks(cnt_eco.numberOfBids.to_list());"
   ]
  },
  {
   "cell_type": "code",
   "execution_count": null,
   "metadata": {},
   "outputs": [],
   "source": []
  },
  {
   "cell_type": "code",
   "execution_count": null,
   "metadata": {},
   "outputs": [],
   "source": []
  },
  {
   "cell_type": "code",
   "execution_count": null,
   "metadata": {},
   "outputs": [],
   "source": []
  },
  {
   "cell_type": "code",
   "execution_count": 17,
   "metadata": {},
   "outputs": [],
   "source": [
    "import pandas as pd \n",
    "import numpy as np\n",
    "from functools import partial\n",
    "from glob import glob\n",
    "\n",
    "from pymongo import MongoClient\n",
    "\n",
    "import statsmodels.api as sm\n",
    "import scipy\n",
    "\n",
    "from utils.misc import read_mongo, batch\n",
    "from utils.geolocation import CachedGeolocator, region_fixer, locality_fixer, countryName_fixer, address_to_location\n",
    "from utils.dk021 import DK021\n",
    "from utils.etl import transform_dataset\n",
    "\n",
    "%matplotlib inline"
   ]
  },
  {
   "cell_type": "markdown",
   "metadata": {
    "tags": []
   },
   "source": [
    "# Prepare data"
   ]
  },
  {
   "cell_type": "markdown",
   "metadata": {},
   "source": [
    "## Transform Chunked"
   ]
  },
  {
   "cell_type": "code",
   "execution_count": null,
   "metadata": {},
   "outputs": [],
   "source": [
    "batch_size = 50_000\n",
    "\n",
    "# connect to tenders db\n",
    "cursor = MongoClient()['prozorro']['etenders'].find(no_cursor_timeout=True)\n",
    "\n",
    "try:\n",
    "    for idx, b in enumerate(batch(cursor, batch_size)):\n",
    "\n",
    "        transform_dataset(\n",
    "            df=pd.DataFrame(b).rename(columns={'_id':'id'})\n",
    "        ).to_parquet(f'./data/prepared/chunk_{idx}.parquet.gzip', compression='gzip') \n",
    "\n",
    "        print(f'chunk {idx}')\n",
    "# except Exception as e:\n",
    "#     print(e)\n",
    "finally:\n",
    "    cursor.close()"
   ]
  },
  {
   "cell_type": "markdown",
   "metadata": {},
   "source": [
    "## Restore & enrich"
   ]
  },
  {
   "cell_type": "code",
   "execution_count": null,
   "metadata": {},
   "outputs": [],
   "source": [
    "files = sorted(glob('./data/prepared/chunk_*.parquet.gzip'))\n",
    "\n",
    "full_df = pd.read_parquet(files[0])\n",
    "for f in files[1:]:\n",
    "    full_df = pd.concat([full_df, pd.read_parquet(f)])\n"
   ]
  },
  {
   "cell_type": "code",
   "execution_count": null,
   "metadata": {},
   "outputs": [],
   "source": [
    "classifier = DK021.load('./data/dk021.csv')"
   ]
  },
  {
   "cell_type": "code",
   "execution_count": 8,
   "metadata": {},
   "outputs": [
    {
     "data": {
      "text/plain": [
       "'Бинти'"
      ]
     },
     "execution_count": 8,
     "metadata": {},
     "output_type": "execute_result"
    }
   ],
   "source": [
    "classifier.get_level_category('33141113-4', level=5).description"
   ]
  },
  {
   "cell_type": "code",
   "execution_count": null,
   "metadata": {},
   "outputs": [],
   "source": [
    "# geo and classifier\n",
    "fixers = {\n",
    "    'locality': locality_fixer,\n",
    "    'region': region_fixer,\n",
    "    'countryName': countryName_fixer\n",
    "}\n",
    "geolocator = CachedGeolocator(cache_dir='./data/geo_cache', bad_cache_dir='./data/geo_cache_bad', verbose=False)\n",
    "get_location = partial(address_to_location, geolocator=geolocator, fixers=fixers)\n",
    "classifier = DK021.load('./data/dk021.csv')\n",
    "\n",
    "full_df = (\n",
    "    full_df\n",
    "    .query('~items_code.isna()')\n",
    "    .assign(\n",
    "        items_classification_l1 = lambda d: d.items_code.apply(lambda code: classifier.get_level_category(code=code, level=1).code),\n",
    "        items_classification_l2 = lambda d: d.items_code.apply(lambda code: classifier.get_level_category(code=code, level=2).code),\n",
    "        items_classification_l3 = lambda d: d.items_code.apply(lambda code: classifier.get_level_category(code=code, level=3).code)\n",
    "    )\n",
    "    .assign(\n",
    "        procuringEntity_geo = lambda d: d.procuringEntity_address.apply(lambda address:get_location(address)),\n",
    "        bids_tenderers_geo = lambda d: d.tenderers_address.apply(lambda address:get_location(address)),\n",
    "    )\n",
    ")\n",
    "\n",
    "geolocator.close()"
   ]
  },
  {
   "cell_type": "markdown",
   "metadata": {},
   "source": [
    "# Read data"
   ]
  },
  {
   "cell_type": "code",
   "execution_count": 7,
   "metadata": {},
   "outputs": [
    {
     "data": {
      "text/plain": [
       "5108.999673843384"
      ]
     },
     "execution_count": 7,
     "metadata": {},
     "output_type": "execute_result"
    }
   ],
   "source": [
    "from utils.misc import mem_usg\n",
    "\n",
    "classifier = DK021.load('./data/dk021.csv')\n",
    "full_df = pd.read_parquet('../full.parquet.gzip')\n",
    "\n",
    "mem_usg(full_df)/(1024*1024)"
   ]
  },
  {
   "cell_type": "code",
   "execution_count": 8,
   "metadata": {},
   "outputs": [
    {
     "data": {
      "text/html": [
       "<div>\n",
       "<style scoped>\n",
       "    .dataframe tbody tr th:only-of-type {\n",
       "        vertical-align: middle;\n",
       "    }\n",
       "\n",
       "    .dataframe tbody tr th {\n",
       "        vertical-align: top;\n",
       "    }\n",
       "\n",
       "    .dataframe thead th {\n",
       "        text-align: right;\n",
       "    }\n",
       "</style>\n",
       "<table border=\"1\" class=\"dataframe\">\n",
       "  <thead>\n",
       "    <tr style=\"text-align: right;\">\n",
       "      <th></th>\n",
       "      <th>id</th>\n",
       "      <th>date</th>\n",
       "      <th>dateModified</th>\n",
       "      <th>tenderID</th>\n",
       "      <th>owner</th>\n",
       "      <th>procurementMethod</th>\n",
       "      <th>submissionMethod</th>\n",
       "      <th>numberOfBids</th>\n",
       "      <th>status</th>\n",
       "      <th>procurementMethodType</th>\n",
       "      <th>...</th>\n",
       "      <th>awards_value_amount</th>\n",
       "      <th>awards_value_currency</th>\n",
       "      <th>awards_value_valueAddedTaxIncluded</th>\n",
       "      <th>items_code</th>\n",
       "      <th>items_classification_l1</th>\n",
       "      <th>items_classification_l2</th>\n",
       "      <th>items_classification_l3</th>\n",
       "      <th>procuringEntity_geo</th>\n",
       "      <th>bids_tenderers_geo</th>\n",
       "      <th>geo_distance</th>\n",
       "    </tr>\n",
       "  </thead>\n",
       "  <tbody>\n",
       "    <tr>\n",
       "      <th>0</th>\n",
       "      <td>54c44b64ee504474afaf1183c410b36c</td>\n",
       "      <td>2018-12-31 22:03:03.722108+00:00</td>\n",
       "      <td>2018-12-31 22:03:03.722108+00:00</td>\n",
       "      <td>UA-2018-11-15-000962-c</td>\n",
       "      <td>it.ua</td>\n",
       "      <td>open</td>\n",
       "      <td>electronicAuction</td>\n",
       "      <td>2</td>\n",
       "      <td>unsuccessful</td>\n",
       "      <td>aboveThresholdUA</td>\n",
       "      <td>...</td>\n",
       "      <td>279770.40</td>\n",
       "      <td>UAH</td>\n",
       "      <td>False</td>\n",
       "      <td>72610000-9</td>\n",
       "      <td>72000000-5</td>\n",
       "      <td>72600000-6</td>\n",
       "      <td>72610000-9</td>\n",
       "      <td>[47.4970865, 34.6487214]</td>\n",
       "      <td>[49.9923181, 36.2310146]</td>\n",
       "      <td>300.877064</td>\n",
       "    </tr>\n",
       "    <tr>\n",
       "      <th>1</th>\n",
       "      <td>54c44b64ee504474afaf1183c410b36c</td>\n",
       "      <td>2018-12-31 22:03:03.722108+00:00</td>\n",
       "      <td>2018-12-31 22:03:03.722108+00:00</td>\n",
       "      <td>UA-2018-11-15-000962-c</td>\n",
       "      <td>it.ua</td>\n",
       "      <td>open</td>\n",
       "      <td>electronicAuction</td>\n",
       "      <td>2</td>\n",
       "      <td>unsuccessful</td>\n",
       "      <td>aboveThresholdUA</td>\n",
       "      <td>...</td>\n",
       "      <td>280612.08</td>\n",
       "      <td>UAH</td>\n",
       "      <td>False</td>\n",
       "      <td>72610000-9</td>\n",
       "      <td>72000000-5</td>\n",
       "      <td>72600000-6</td>\n",
       "      <td>72610000-9</td>\n",
       "      <td>[47.4970865, 34.6487214]</td>\n",
       "      <td>[49.5897423, 34.5507948]</td>\n",
       "      <td>232.817393</td>\n",
       "    </tr>\n",
       "    <tr>\n",
       "      <th>2</th>\n",
       "      <td>4edb5e732a6743d29382e62995cf9ad7</td>\n",
       "      <td>2018-12-31 22:03:01.553692+00:00</td>\n",
       "      <td>2018-12-31 22:03:01.553692+00:00</td>\n",
       "      <td>UA-2018-11-30-001936-c</td>\n",
       "      <td>prom.ua</td>\n",
       "      <td>open</td>\n",
       "      <td>electronicAuction</td>\n",
       "      <td>3</td>\n",
       "      <td>unsuccessful</td>\n",
       "      <td>aboveThresholdUA</td>\n",
       "      <td>...</td>\n",
       "      <td>735000.00</td>\n",
       "      <td>UAH</td>\n",
       "      <td>True</td>\n",
       "      <td>15510000-6</td>\n",
       "      <td>15000000-8</td>\n",
       "      <td>15500000-3</td>\n",
       "      <td>15510000-6</td>\n",
       "      <td>[49.7132963, 37.6141992]</td>\n",
       "      <td>[49.7132963, 37.6141992]</td>\n",
       "      <td>0.000000</td>\n",
       "    </tr>\n",
       "    <tr>\n",
       "      <th>3</th>\n",
       "      <td>4edb5e732a6743d29382e62995cf9ad7</td>\n",
       "      <td>2018-12-31 22:03:01.553692+00:00</td>\n",
       "      <td>2018-12-31 22:03:01.553692+00:00</td>\n",
       "      <td>UA-2018-11-30-001936-c</td>\n",
       "      <td>prom.ua</td>\n",
       "      <td>open</td>\n",
       "      <td>electronicAuction</td>\n",
       "      <td>3</td>\n",
       "      <td>unsuccessful</td>\n",
       "      <td>aboveThresholdUA</td>\n",
       "      <td>...</td>\n",
       "      <td>734650.00</td>\n",
       "      <td>UAH</td>\n",
       "      <td>True</td>\n",
       "      <td>15510000-6</td>\n",
       "      <td>15000000-8</td>\n",
       "      <td>15500000-3</td>\n",
       "      <td>15510000-6</td>\n",
       "      <td>[49.7132963, 37.6141992]</td>\n",
       "      <td>None</td>\n",
       "      <td>NaN</td>\n",
       "    </tr>\n",
       "    <tr>\n",
       "      <th>4</th>\n",
       "      <td>4edb5e732a6743d29382e62995cf9ad7</td>\n",
       "      <td>2018-12-31 22:03:01.553692+00:00</td>\n",
       "      <td>2018-12-31 22:03:01.553692+00:00</td>\n",
       "      <td>UA-2018-11-30-001936-c</td>\n",
       "      <td>prom.ua</td>\n",
       "      <td>open</td>\n",
       "      <td>electronicAuction</td>\n",
       "      <td>3</td>\n",
       "      <td>unsuccessful</td>\n",
       "      <td>aboveThresholdUA</td>\n",
       "      <td>...</td>\n",
       "      <td>867200.00</td>\n",
       "      <td>UAH</td>\n",
       "      <td>True</td>\n",
       "      <td>15510000-6</td>\n",
       "      <td>15000000-8</td>\n",
       "      <td>15500000-3</td>\n",
       "      <td>15510000-6</td>\n",
       "      <td>[49.7132963, 37.6141992]</td>\n",
       "      <td>[49.9923181, 36.2310146]</td>\n",
       "      <td>104.197987</td>\n",
       "    </tr>\n",
       "  </tbody>\n",
       "</table>\n",
       "<p>5 rows × 50 columns</p>\n",
       "</div>"
      ],
      "text/plain": [
       "                                 id                             date  \\\n",
       "0  54c44b64ee504474afaf1183c410b36c 2018-12-31 22:03:03.722108+00:00   \n",
       "1  54c44b64ee504474afaf1183c410b36c 2018-12-31 22:03:03.722108+00:00   \n",
       "2  4edb5e732a6743d29382e62995cf9ad7 2018-12-31 22:03:01.553692+00:00   \n",
       "3  4edb5e732a6743d29382e62995cf9ad7 2018-12-31 22:03:01.553692+00:00   \n",
       "4  4edb5e732a6743d29382e62995cf9ad7 2018-12-31 22:03:01.553692+00:00   \n",
       "\n",
       "                      dateModified                tenderID    owner  \\\n",
       "0 2018-12-31 22:03:03.722108+00:00  UA-2018-11-15-000962-c    it.ua   \n",
       "1 2018-12-31 22:03:03.722108+00:00  UA-2018-11-15-000962-c    it.ua   \n",
       "2 2018-12-31 22:03:01.553692+00:00  UA-2018-11-30-001936-c  prom.ua   \n",
       "3 2018-12-31 22:03:01.553692+00:00  UA-2018-11-30-001936-c  prom.ua   \n",
       "4 2018-12-31 22:03:01.553692+00:00  UA-2018-11-30-001936-c  prom.ua   \n",
       "\n",
       "  procurementMethod   submissionMethod  numberOfBids        status  \\\n",
       "0              open  electronicAuction             2  unsuccessful   \n",
       "1              open  electronicAuction             2  unsuccessful   \n",
       "2              open  electronicAuction             3  unsuccessful   \n",
       "3              open  electronicAuction             3  unsuccessful   \n",
       "4              open  electronicAuction             3  unsuccessful   \n",
       "\n",
       "  procurementMethodType  ... awards_value_amount awards_value_currency  \\\n",
       "0      aboveThresholdUA  ...           279770.40                   UAH   \n",
       "1      aboveThresholdUA  ...           280612.08                   UAH   \n",
       "2      aboveThresholdUA  ...           735000.00                   UAH   \n",
       "3      aboveThresholdUA  ...           734650.00                   UAH   \n",
       "4      aboveThresholdUA  ...           867200.00                   UAH   \n",
       "\n",
       "  awards_value_valueAddedTaxIncluded  items_code  items_classification_l1  \\\n",
       "0                              False  72610000-9               72000000-5   \n",
       "1                              False  72610000-9               72000000-5   \n",
       "2                               True  15510000-6               15000000-8   \n",
       "3                               True  15510000-6               15000000-8   \n",
       "4                               True  15510000-6               15000000-8   \n",
       "\n",
       "  items_classification_l2 items_classification_l3       procuringEntity_geo  \\\n",
       "0              72600000-6              72610000-9  [47.4970865, 34.6487214]   \n",
       "1              72600000-6              72610000-9  [47.4970865, 34.6487214]   \n",
       "2              15500000-3              15510000-6  [49.7132963, 37.6141992]   \n",
       "3              15500000-3              15510000-6  [49.7132963, 37.6141992]   \n",
       "4              15500000-3              15510000-6  [49.7132963, 37.6141992]   \n",
       "\n",
       "         bids_tenderers_geo geo_distance  \n",
       "0  [49.9923181, 36.2310146]   300.877064  \n",
       "1  [49.5897423, 34.5507948]   232.817393  \n",
       "2  [49.7132963, 37.6141992]     0.000000  \n",
       "3                      None          NaN  \n",
       "4  [49.9923181, 36.2310146]   104.197987  \n",
       "\n",
       "[5 rows x 50 columns]"
      ]
     },
     "execution_count": 8,
     "metadata": {},
     "output_type": "execute_result"
    }
   ],
   "source": [
    "full_df.head()"
   ]
  },
  {
   "cell_type": "raw",
   "metadata": {},
   "source": [
    "mem_usg(full_df.astype({\n",
    "    'owner': 'category', \n",
    "    'procurementMethod': 'category', \n",
    "    'status': 'category', \n",
    "    'procurementMethodType': 'category',\n",
    "    'procuringEntity_kind': 'category', \n",
    "    'procuringEntity_identifier_scheme': 'category', \n",
    "    'value_currency': 'category', \n",
    "    'bids_status': 'category',\n",
    "    'bids_tenderers_identifier_scheme': 'category', \n",
    "    'bids_value_currency': 'category', \n",
    "    'awards_value_currency': 'category', \n",
    "    'items_code': 'category',\n",
    "    'items_classification_l1': 'category', \n",
    "    'items_classification_l2': 'category',\n",
    "    'items_classification_l3': 'category'\n",
    "}).drop(columns=['procuringEntity_address','tenderers_address']))/(1024*1024)"
   ]
  },
  {
   "cell_type": "raw",
   "metadata": {},
   "source": [
    "# calc distance\n",
    "from geopy import distance\n",
    "full_df['geo_distance']=full_df.apply(\n",
    "    lambda x: distance.distance(x.procuringEntity_geo, x.bids_tenderers_geo).km \n",
    "        if all([x.procuringEntity_geo is not None, x.bids_tenderers_geo is not None]) \n",
    "        else pd.NA, \n",
    "    axis=1\n",
    ")\n"
   ]
  },
  {
   "cell_type": "markdown",
   "metadata": {},
   "source": [
    "## Explore"
   ]
  },
  {
   "cell_type": "code",
   "execution_count": 9,
   "metadata": {},
   "outputs": [
    {
     "data": {
      "text/plain": [
       "False    2154765\n",
       "True      218044\n",
       "Name: geo_distance, dtype: int64"
      ]
     },
     "execution_count": 9,
     "metadata": {},
     "output_type": "execute_result"
    }
   ],
   "source": [
    "full_df.geo_distance.isna().value_counts()"
   ]
  },
  {
   "cell_type": "code",
   "execution_count": 10,
   "metadata": {},
   "outputs": [
    {
     "data": {
      "text/plain": [
       "active          894256\n",
       "unsuccessful    318514\n",
       "cancelled        61464\n",
       "pending          29395\n",
       "Name: awards_status, dtype: int64"
      ]
     },
     "execution_count": 10,
     "metadata": {},
     "output_type": "execute_result"
    }
   ],
   "source": [
    "full_df.awards_status.value_counts()"
   ]
  },
  {
   "cell_type": "code",
   "execution_count": 11,
   "metadata": {},
   "outputs": [
    {
     "data": {
      "text/html": [
       "<div>\n",
       "<style scoped>\n",
       "    .dataframe tbody tr th:only-of-type {\n",
       "        vertical-align: middle;\n",
       "    }\n",
       "\n",
       "    .dataframe tbody tr th {\n",
       "        vertical-align: top;\n",
       "    }\n",
       "\n",
       "    .dataframe thead th {\n",
       "        text-align: right;\n",
       "    }\n",
       "</style>\n",
       "<table border=\"1\" class=\"dataframe\">\n",
       "  <thead>\n",
       "    <tr style=\"text-align: right;\">\n",
       "      <th></th>\n",
       "      <th>id</th>\n",
       "      <th>lots_id</th>\n",
       "      <th>bids_value_amount</th>\n",
       "      <th>value_amount</th>\n",
       "      <th>awards_value_amount</th>\n",
       "      <th>procurementMethodType</th>\n",
       "      <th>awards_status</th>\n",
       "    </tr>\n",
       "  </thead>\n",
       "  <tbody>\n",
       "    <tr>\n",
       "      <th>76067</th>\n",
       "      <td>98d54c150056474fbedb5420f8aad0d9</td>\n",
       "      <td>76da00fa661a4e51bf34f0e791833bd2</td>\n",
       "      <td>1052085.85</td>\n",
       "      <td>1060036.0</td>\n",
       "      <td>NaN</td>\n",
       "      <td>aboveThresholdUA</td>\n",
       "      <td>NaN</td>\n",
       "    </tr>\n",
       "    <tr>\n",
       "      <th>76068</th>\n",
       "      <td>98d54c150056474fbedb5420f8aad0d9</td>\n",
       "      <td>76da00fa661a4e51bf34f0e791833bd2</td>\n",
       "      <td>1019377.02</td>\n",
       "      <td>1060036.0</td>\n",
       "      <td>1019377.02</td>\n",
       "      <td>aboveThresholdUA</td>\n",
       "      <td>active</td>\n",
       "    </tr>\n",
       "    <tr>\n",
       "      <th>76069</th>\n",
       "      <td>98d54c150056474fbedb5420f8aad0d9</td>\n",
       "      <td>e32dc54313cf4e22862196b85299d87f</td>\n",
       "      <td>2267523.67</td>\n",
       "      <td>2270252.0</td>\n",
       "      <td>NaN</td>\n",
       "      <td>aboveThresholdUA</td>\n",
       "      <td>NaN</td>\n",
       "    </tr>\n",
       "    <tr>\n",
       "      <th>76070</th>\n",
       "      <td>98d54c150056474fbedb5420f8aad0d9</td>\n",
       "      <td>e32dc54313cf4e22862196b85299d87f</td>\n",
       "      <td>2266848.50</td>\n",
       "      <td>2270252.0</td>\n",
       "      <td>2266848.50</td>\n",
       "      <td>aboveThresholdUA</td>\n",
       "      <td>active</td>\n",
       "    </tr>\n",
       "  </tbody>\n",
       "</table>\n",
       "</div>"
      ],
      "text/plain": [
       "                                     id                           lots_id  \\\n",
       "76067  98d54c150056474fbedb5420f8aad0d9  76da00fa661a4e51bf34f0e791833bd2   \n",
       "76068  98d54c150056474fbedb5420f8aad0d9  76da00fa661a4e51bf34f0e791833bd2   \n",
       "76069  98d54c150056474fbedb5420f8aad0d9  e32dc54313cf4e22862196b85299d87f   \n",
       "76070  98d54c150056474fbedb5420f8aad0d9  e32dc54313cf4e22862196b85299d87f   \n",
       "\n",
       "       bids_value_amount  value_amount  awards_value_amount  \\\n",
       "76067         1052085.85     1060036.0                  NaN   \n",
       "76068         1019377.02     1060036.0           1019377.02   \n",
       "76069         2267523.67     2270252.0                  NaN   \n",
       "76070         2266848.50     2270252.0           2266848.50   \n",
       "\n",
       "      procurementMethodType awards_status  \n",
       "76067      aboveThresholdUA           NaN  \n",
       "76068      aboveThresholdUA        active  \n",
       "76069      aboveThresholdUA           NaN  \n",
       "76070      aboveThresholdUA        active  "
      ]
     },
     "execution_count": 11,
     "metadata": {},
     "output_type": "execute_result"
    }
   ],
   "source": [
    "full_df[full_df.id=='98d54c150056474fbedb5420f8aad0d9'][[\"id\", \"lots_id\", \"bids_value_amount\", \"value_amount\", \"awards_value_amount\", \"procurementMethodType\", \"awards_status\"]]"
   ]
  },
  {
   "cell_type": "code",
   "execution_count": 12,
   "metadata": {},
   "outputs": [
    {
     "data": {
      "text/plain": [
       "Index(['id', 'date', 'dateModified', 'tenderID', 'owner', 'procurementMethod',\n",
       "       'submissionMethod', 'numberOfBids', 'status', 'procurementMethodType',\n",
       "       'mainProcurementCategory', 'procuringEntity_name',\n",
       "       'procuringEntity_kind', 'procuringEntity_address', 'num_lots',\n",
       "       'procuringEntity_identifier_id', 'procuringEntity_identifier_scheme',\n",
       "       'procuringEntity_contactPoint_email',\n",
       "       'procuringEntity_contactPoint_name',\n",
       "       'procuringEntity_contactPoint_telephone', 'lots_id', 'value_amount',\n",
       "       'value_currency', 'value_valueAddedTaxIncluded', 'lots_status',\n",
       "       'bids_date', 'bids_id', 'bids_status', 'bids_tenderers_name',\n",
       "       'bids_tenderers_identifier_id', 'bids_tenderers_identifier_scheme',\n",
       "       'bids_tenderers_contactPoint_email', 'bids_tenderers_contactPoint_name',\n",
       "       'bids_tenderers_contactPoint_telephone', 'tenderers_address',\n",
       "       'bids_value_amount', 'bids_value_currency',\n",
       "       'bids_value_valueAddedTaxIncluded', 'awards_date', 'awards_status',\n",
       "       'awards_value_amount', 'awards_value_currency',\n",
       "       'awards_value_valueAddedTaxIncluded', 'items_code',\n",
       "       'items_classification_l1', 'items_classification_l2',\n",
       "       'items_classification_l3', 'procuringEntity_geo', 'bids_tenderers_geo',\n",
       "       'geo_distance'],\n",
       "      dtype='object')"
      ]
     },
     "execution_count": 12,
     "metadata": {},
     "output_type": "execute_result"
    }
   ],
   "source": [
    "full_df.columns"
   ]
  },
  {
   "cell_type": "code",
   "execution_count": 13,
   "metadata": {},
   "outputs": [
    {
     "data": {
      "text/html": [
       "<div>\n",
       "<style scoped>\n",
       "    .dataframe tbody tr th:only-of-type {\n",
       "        vertical-align: middle;\n",
       "    }\n",
       "\n",
       "    .dataframe tbody tr th {\n",
       "        vertical-align: top;\n",
       "    }\n",
       "\n",
       "    .dataframe thead th {\n",
       "        text-align: right;\n",
       "    }\n",
       "</style>\n",
       "<table border=\"1\" class=\"dataframe\">\n",
       "  <thead>\n",
       "    <tr style=\"text-align: right;\">\n",
       "      <th></th>\n",
       "      <th>id</th>\n",
       "      <th>date</th>\n",
       "      <th>dateModified</th>\n",
       "      <th>tenderID</th>\n",
       "      <th>owner</th>\n",
       "      <th>procurementMethod</th>\n",
       "      <th>submissionMethod</th>\n",
       "      <th>numberOfBids</th>\n",
       "      <th>status</th>\n",
       "      <th>procurementMethodType</th>\n",
       "      <th>...</th>\n",
       "      <th>awards_value_amount</th>\n",
       "      <th>awards_value_currency</th>\n",
       "      <th>awards_value_valueAddedTaxIncluded</th>\n",
       "      <th>items_code</th>\n",
       "      <th>items_classification_l1</th>\n",
       "      <th>items_classification_l2</th>\n",
       "      <th>items_classification_l3</th>\n",
       "      <th>procuringEntity_geo</th>\n",
       "      <th>bids_tenderers_geo</th>\n",
       "      <th>geo_distance</th>\n",
       "    </tr>\n",
       "  </thead>\n",
       "  <tbody>\n",
       "    <tr>\n",
       "      <th>76067</th>\n",
       "      <td>98d54c150056474fbedb5420f8aad0d9</td>\n",
       "      <td>2021-09-01 07:01:34.905329+00:00</td>\n",
       "      <td>2021-09-01 07:01:34.905329+00:00</td>\n",
       "      <td>UA-2021-07-28-004065-b</td>\n",
       "      <td>e-tender.biz</td>\n",
       "      <td>open</td>\n",
       "      <td>electronicAuction</td>\n",
       "      <td>2</td>\n",
       "      <td>complete</td>\n",
       "      <td>aboveThresholdUA</td>\n",
       "      <td>...</td>\n",
       "      <td>NaN</td>\n",
       "      <td>NaN</td>\n",
       "      <td>True</td>\n",
       "      <td>33141113-4</td>\n",
       "      <td>33000000-0</td>\n",
       "      <td>33100000-1</td>\n",
       "      <td>33140000-3</td>\n",
       "      <td>[50.587515499999995, 30.48936284691901]</td>\n",
       "      <td>[48.5167748, 34.6068797]</td>\n",
       "      <td>376.483135</td>\n",
       "    </tr>\n",
       "    <tr>\n",
       "      <th>76068</th>\n",
       "      <td>98d54c150056474fbedb5420f8aad0d9</td>\n",
       "      <td>2021-09-01 07:01:34.905329+00:00</td>\n",
       "      <td>2021-09-01 07:01:34.905329+00:00</td>\n",
       "      <td>UA-2021-07-28-004065-b</td>\n",
       "      <td>e-tender.biz</td>\n",
       "      <td>open</td>\n",
       "      <td>electronicAuction</td>\n",
       "      <td>2</td>\n",
       "      <td>complete</td>\n",
       "      <td>aboveThresholdUA</td>\n",
       "      <td>...</td>\n",
       "      <td>1019377.02</td>\n",
       "      <td>UAH</td>\n",
       "      <td>True</td>\n",
       "      <td>33141113-4</td>\n",
       "      <td>33000000-0</td>\n",
       "      <td>33100000-1</td>\n",
       "      <td>33140000-3</td>\n",
       "      <td>[50.587515499999995, 30.48936284691901]</td>\n",
       "      <td>[50.587515499999995, 30.48936284691901]</td>\n",
       "      <td>0.000000</td>\n",
       "    </tr>\n",
       "    <tr>\n",
       "      <th>76069</th>\n",
       "      <td>98d54c150056474fbedb5420f8aad0d9</td>\n",
       "      <td>2021-09-01 07:01:34.905329+00:00</td>\n",
       "      <td>2021-09-01 07:01:34.905329+00:00</td>\n",
       "      <td>UA-2021-07-28-004065-b</td>\n",
       "      <td>e-tender.biz</td>\n",
       "      <td>open</td>\n",
       "      <td>electronicAuction</td>\n",
       "      <td>2</td>\n",
       "      <td>complete</td>\n",
       "      <td>aboveThresholdUA</td>\n",
       "      <td>...</td>\n",
       "      <td>NaN</td>\n",
       "      <td>NaN</td>\n",
       "      <td>True</td>\n",
       "      <td>33140000-3</td>\n",
       "      <td>33000000-0</td>\n",
       "      <td>33100000-1</td>\n",
       "      <td>33140000-3</td>\n",
       "      <td>[50.587515499999995, 30.48936284691901]</td>\n",
       "      <td>[48.5167748, 34.6068797]</td>\n",
       "      <td>376.483135</td>\n",
       "    </tr>\n",
       "    <tr>\n",
       "      <th>76070</th>\n",
       "      <td>98d54c150056474fbedb5420f8aad0d9</td>\n",
       "      <td>2021-09-01 07:01:34.905329+00:00</td>\n",
       "      <td>2021-09-01 07:01:34.905329+00:00</td>\n",
       "      <td>UA-2021-07-28-004065-b</td>\n",
       "      <td>e-tender.biz</td>\n",
       "      <td>open</td>\n",
       "      <td>electronicAuction</td>\n",
       "      <td>2</td>\n",
       "      <td>complete</td>\n",
       "      <td>aboveThresholdUA</td>\n",
       "      <td>...</td>\n",
       "      <td>2266848.50</td>\n",
       "      <td>UAH</td>\n",
       "      <td>True</td>\n",
       "      <td>33140000-3</td>\n",
       "      <td>33000000-0</td>\n",
       "      <td>33100000-1</td>\n",
       "      <td>33140000-3</td>\n",
       "      <td>[50.587515499999995, 30.48936284691901]</td>\n",
       "      <td>[50.587515499999995, 30.48936284691901]</td>\n",
       "      <td>0.000000</td>\n",
       "    </tr>\n",
       "  </tbody>\n",
       "</table>\n",
       "<p>4 rows × 50 columns</p>\n",
       "</div>"
      ],
      "text/plain": [
       "                                     id                             date  \\\n",
       "76067  98d54c150056474fbedb5420f8aad0d9 2021-09-01 07:01:34.905329+00:00   \n",
       "76068  98d54c150056474fbedb5420f8aad0d9 2021-09-01 07:01:34.905329+00:00   \n",
       "76069  98d54c150056474fbedb5420f8aad0d9 2021-09-01 07:01:34.905329+00:00   \n",
       "76070  98d54c150056474fbedb5420f8aad0d9 2021-09-01 07:01:34.905329+00:00   \n",
       "\n",
       "                          dateModified                tenderID         owner  \\\n",
       "76067 2021-09-01 07:01:34.905329+00:00  UA-2021-07-28-004065-b  e-tender.biz   \n",
       "76068 2021-09-01 07:01:34.905329+00:00  UA-2021-07-28-004065-b  e-tender.biz   \n",
       "76069 2021-09-01 07:01:34.905329+00:00  UA-2021-07-28-004065-b  e-tender.biz   \n",
       "76070 2021-09-01 07:01:34.905329+00:00  UA-2021-07-28-004065-b  e-tender.biz   \n",
       "\n",
       "      procurementMethod   submissionMethod  numberOfBids    status  \\\n",
       "76067              open  electronicAuction             2  complete   \n",
       "76068              open  electronicAuction             2  complete   \n",
       "76069              open  electronicAuction             2  complete   \n",
       "76070              open  electronicAuction             2  complete   \n",
       "\n",
       "      procurementMethodType  ... awards_value_amount awards_value_currency  \\\n",
       "76067      aboveThresholdUA  ...                 NaN                   NaN   \n",
       "76068      aboveThresholdUA  ...          1019377.02                   UAH   \n",
       "76069      aboveThresholdUA  ...                 NaN                   NaN   \n",
       "76070      aboveThresholdUA  ...          2266848.50                   UAH   \n",
       "\n",
       "      awards_value_valueAddedTaxIncluded  items_code  items_classification_l1  \\\n",
       "76067                               True  33141113-4               33000000-0   \n",
       "76068                               True  33141113-4               33000000-0   \n",
       "76069                               True  33140000-3               33000000-0   \n",
       "76070                               True  33140000-3               33000000-0   \n",
       "\n",
       "      items_classification_l2 items_classification_l3  \\\n",
       "76067              33100000-1              33140000-3   \n",
       "76068              33100000-1              33140000-3   \n",
       "76069              33100000-1              33140000-3   \n",
       "76070              33100000-1              33140000-3   \n",
       "\n",
       "                           procuringEntity_geo  \\\n",
       "76067  [50.587515499999995, 30.48936284691901]   \n",
       "76068  [50.587515499999995, 30.48936284691901]   \n",
       "76069  [50.587515499999995, 30.48936284691901]   \n",
       "76070  [50.587515499999995, 30.48936284691901]   \n",
       "\n",
       "                            bids_tenderers_geo geo_distance  \n",
       "76067                 [48.5167748, 34.6068797]   376.483135  \n",
       "76068  [50.587515499999995, 30.48936284691901]     0.000000  \n",
       "76069                 [48.5167748, 34.6068797]   376.483135  \n",
       "76070  [50.587515499999995, 30.48936284691901]     0.000000  \n",
       "\n",
       "[4 rows x 50 columns]"
      ]
     },
     "execution_count": 13,
     "metadata": {},
     "output_type": "execute_result"
    }
   ],
   "source": [
    "full_df[full_df.id=='98d54c150056474fbedb5420f8aad0d9']"
   ]
  },
  {
   "cell_type": "markdown",
   "metadata": {},
   "source": [
    "# Hypotheses"
   ]
  },
  {
   "cell_type": "markdown",
   "metadata": {},
   "source": [
    "## Hypothesis #1"
   ]
  },
  {
   "cell_type": "markdown",
   "metadata": {},
   "source": [
    "#### Number of bids is significant for economy"
   ]
  },
  {
   "cell_type": "code",
   "execution_count": 14,
   "metadata": {},
   "outputs": [],
   "source": [
    "data_h1 = (\n",
    "    full_df[(full_df.status=='complete') & (full_df.awards_status == 'active')]\n",
    "    [['id', 'lots_id', 'numberOfBids','value_amount', 'awards_value_amount']]\n",
    "    .query('numberOfBids>0')\n",
    "    .groupby(by=['id', 'lots_id'])\n",
    "    .agg(min)\n",
    "    .reset_index()\n",
    "    .groupby(by=['id'])\n",
    "    .agg({\n",
    "        'numberOfBids': min,\n",
    "        'value_amount': sum,\n",
    "        'awards_value_amount': sum,\n",
    "    })\n",
    "    .reset_index()\n",
    "    .assign(\n",
    "        economy = lambda d: 100*(d.value_amount - d.awards_value_amount) / d.value_amount,\n",
    "    )\n",
    ")"
   ]
  },
  {
   "cell_type": "code",
   "execution_count": 15,
   "metadata": {},
   "outputs": [],
   "source": [
    "num_of_bids_count = (\n",
    "    data_h1[[\"id\", \"numberOfBids\"]]\n",
    "    .groupby(by=[\"numberOfBids\"])\n",
    "    .agg({\n",
    "        \"id\": \"count\",\n",
    "    })\n",
    "    .reset_index()\n",
    "    .rename(columns={\"id\": \"count\"})\n",
    "    .query(\"count>1000\")\n",
    ")"
   ]
  },
  {
   "cell_type": "code",
   "execution_count": 22,
   "metadata": {},
   "outputs": [],
   "source": [
    "import matplotlib.pyplot as plt\n",
    "import seaborn as sns"
   ]
  },
  {
   "cell_type": "code",
   "execution_count": 23,
   "metadata": {},
   "outputs": [
    {
     "data": {
      "text/plain": [
       "<AxesSubplot:xlabel='numberOfBids', ylabel='economy'>"
      ]
     },
     "execution_count": 23,
     "metadata": {},
     "output_type": "execute_result"
    },
    {
     "data": {
      "image/png": "[encoded data removed]",
      "text/plain": [
       "<Figure size 1440x720 with 1 Axes>"
      ]
     },
     "metadata": {
      "needs_background": "light"
     },
     "output_type": "display_data"
    }
   ],
   "source": [
    "data_h1_boxplot = data_h1[data_h1[\"numberOfBids\"] < num_of_bids_count[\"numberOfBids\"].max()]\n",
    "\n",
    "plt.figure(figsize=(20, 10))\n",
    "sns.boxplot(data=data_h1_boxplot, x=\"numberOfBids\", y=\"economy\")"
   ]
  },
  {
   "cell_type": "code",
   "execution_count": 24,
   "metadata": {},
   "outputs": [
    {
     "name": "stdout",
     "output_type": "stream",
     "text": [
      "NumberOfBids>1\n",
      "\thas sufficiently higher mean economy than NumberOfBids<=1\n",
      "\thas sufficiently higher economy variance than NumberOfBids<=1\n",
      "NumberOfBids>2\n",
      "\thas sufficiently higher mean economy than NumberOfBids<=2\n",
      "\thas sufficiently higher economy variance than NumberOfBids<=2\n",
      "NumberOfBids>3\n",
      "\thas sufficiently higher mean economy than NumberOfBids<=3\n",
      "\thas sufficiently higher economy variance than NumberOfBids<=3\n",
      "NumberOfBids>4\n",
      "\thas sufficiently higher mean economy than NumberOfBids<=4\n",
      "\thas sufficiently higher economy variance than NumberOfBids<=4\n",
      "NumberOfBids>5\n",
      "\thas sufficiently higher mean economy than NumberOfBids<=5\n",
      "\thas sufficiently higher economy variance than NumberOfBids<=5\n",
      "NumberOfBids>6\n",
      "\thas sufficiently higher mean economy than NumberOfBids<=6\n",
      "\thas sufficiently higher economy variance than NumberOfBids<=6\n",
      "NumberOfBids>7\n",
      "\thas sufficiently higher mean economy than NumberOfBids<=7\n",
      "\thas sufficiently higher economy variance than NumberOfBids<=7\n",
      "NumberOfBids>8\n",
      "\thas sufficiently higher mean economy than NumberOfBids<=8\n",
      "\thas sufficiently higher economy variance than NumberOfBids<=8\n",
      "NumberOfBids>9\n",
      "\thas sufficiently higher mean economy than NumberOfBids<=9\n",
      "\thas sufficiently higher economy variance than NumberOfBids<=9\n",
      "NumberOfBids>10\n",
      "\thas sufficiently higher mean economy than NumberOfBids<=10\n",
      "\thas sufficiently higher economy variance than NumberOfBids<=10\n"
     ]
    }
   ],
   "source": [
    "for thr in num_of_bids_count[\"numberOfBids\"]:\n",
    "    above_thr_mask = data_h1[\"numberOfBids\"] > thr\n",
    "    economy_below_thr = data_h1[~above_thr_mask][\"economy\"]\n",
    "    economy_above_thr = data_h1[above_thr_mask][\"economy\"]\n",
    "    \n",
    "    print(f\"NumberOfBids>{thr}\")\n",
    "    \n",
    "    # t-test for equal mean values\n",
    "    _, pvalue, _ = sm.stats.ttest_ind(economy_above_thr, economy_below_thr, alternative=\"larger\")\n",
    "    print(f\"\\thas sufficiently {'higher' if pvalue < 0.05 else 'lower'} mean economy than NumberOfBids<={thr}\")#\" with p-value={pvalue}\")\n",
    "    \n",
    "    # print(economy_above_thr.var(), economy_below_thr.var())\n",
    "    # f = economy_above_thr.var() / economy_below_thr.var()\n",
    "    # pvalue = 1 - scipy.stats.f.cdf(f, len(economy_above_thr) - 1, len(economy_below_thr) - 1)\n",
    "    \n",
    "    # levene’s for equal variances\n",
    "    _, pvalue = scipy.stats.levene(economy_below_thr, economy_above_thr)\n",
    "    print(f\"\\thas sufficiently {'higher' if pvalue < 0.05 else 'lower'} economy variance than NumberOfBids<={thr}\")#\" with p-value={pvalue}\")"
   ]
  },
  {
   "cell_type": "markdown",
   "metadata": {},
   "source": [
    "## Hypothesis #2"
   ]
  },
  {
   "cell_type": "markdown",
   "metadata": {},
   "source": [
    "#### Region is significant for economy"
   ]
  },
  {
   "cell_type": "code",
   "execution_count": 25,
   "metadata": {},
   "outputs": [
    {
     "name": "stderr",
     "output_type": "stream",
     "text": [
      "/home/roman/miniconda3/envs/study/lib/python3.7/site-packages/ipykernel_launcher.py:70: UserWarning: Boolean Series key will be reindexed to match DataFrame index.\n"
     ]
    }
   ],
   "source": [
    "region_map_dict = {\n",
    "    \"Киевская\": \"Київська область\",\n",
    "    \"Киевская область\": \"Київська область\",\n",
    "    \"КИЕВСКАЯ ОБЛ.\": \"Київська область\",\n",
    "    \"Київ\": \"Київська область\",\n",
    "    \"Киев\": \"Київська область\",\n",
    "    \"місто Київ\": \"Київська область\",\n",
    "    \"м. Київ\": \"Київська область\",\n",
    "    \"м.Київ\": \"Київська область\",\n",
    "    \"Полтавская область\": \"Полтавська область\",\n",
    "    \"Днепропетровская область\": \"Дніпропетровська область\",\n",
    "    \"Днепропетровская обл.\": \"Дніпропетровська область\",\n",
    "    \"Запорожская область\": \"Запорізька область\",\n",
    "    \"Харьковская область\": \"Харківська область\",\n",
    "    \"Днiпропетровська область\": \"Дніпропетровська область\",\n",
    "    \"дніпропетровська\": \"Дніпропетровська область\",\n",
    "    \"Одесская область\": \"Одеська область\",\n",
    "}\n",
    "\n",
    "def format_regions(region: str):\n",
    "    if not region or region in {\"1\", \"Україна\"}:\n",
    "        return None\n",
    "    region = region.strip()\n",
    "    region = region.replace(\"обл.\", \"область\")\n",
    "    region = region_map_dict.get(region, region)\n",
    "    words = region.split(\" \")\n",
    "    if len(words) == 1:\n",
    "        words.append(\"область\")\n",
    "    return \" \".join(words)\n",
    "\n",
    "data_h2_orig = (\n",
    "    full_df[(full_df.status=='complete') & (full_df.awards_status == 'active')]\n",
    "    [['id', 'lots_id', 'numberOfBids','value_amount', 'awards_value_amount', 'tenderers_address']]\n",
    "    .query('numberOfBids>0')\n",
    "    .reset_index()\n",
    ")\n",
    "\n",
    "data_h2 = (\n",
    "    data_h2_orig\n",
    "    .groupby(by=['id', 'lots_id'])\n",
    "    .agg(min)\n",
    "    .reset_index()\n",
    "    .groupby(by=['id'])\n",
    "    .agg({\n",
    "        'numberOfBids': min,\n",
    "        'value_amount': sum,\n",
    "        'awards_value_amount': sum,\n",
    "    })\n",
    "    .reset_index()\n",
    "    .assign(\n",
    "        economy = lambda d: 100*(d.value_amount - d.awards_value_amount) / d.value_amount,\n",
    "    )\n",
    ")\n",
    "\n",
    "regions = (\n",
    "    data_h2_orig[\"tenderers_address\"]\n",
    "    .map(lambda x: x[\"region\"])\n",
    "    .map(format_regions)\n",
    ")\n",
    "\n",
    "region_counts = (\n",
    "    regions\n",
    "    .to_frame()\n",
    "    .groupby(\"tenderers_address\")\n",
    "    .tenderers_address\n",
    "    .transform(\"size\")\n",
    ")\n",
    "\n",
    "data_h2[\"bids_region\"] = regions\n",
    "data_h2 = data_h2[regions.astype(bool) & (region_counts > 100)]"
   ]
  },
  {
   "cell_type": "code",
   "execution_count": 26,
   "metadata": {},
   "outputs": [
    {
     "data": {
      "text/plain": [
       "<AxesSubplot:xlabel='economy', ylabel='bids_region'>"
      ]
     },
     "execution_count": 26,
     "metadata": {},
     "output_type": "execute_result"
    },
    {
     "data": {
      "image/png": "[encoded data removed]",
      "text/plain": [
       "<Figure size 1440x1080 with 1 Axes>"
      ]
     },
     "metadata": {
      "needs_background": "light"
     },
     "output_type": "display_data"
    }
   ],
   "source": [
    "plt.figure(figsize=(20, 15))\n",
    "sns.boxplot(data=data_h2, x=\"economy\", y=\"bids_region\")"
   ]
  },
  {
   "cell_type": "markdown",
   "metadata": {},
   "source": [
    "## Hypothesis #3"
   ]
  },
  {
   "cell_type": "code",
   "execution_count": 324,
   "metadata": {},
   "outputs": [],
   "source": [
    "date_grouper = pd.Grouper(key=\"date\", freq=\"1M\")\n",
    "data_h3 = (\n",
    "    full_df[(full_df.status=='complete') & (full_df.awards_status == 'active')]\n",
    "    [['id', 'lots_id', 'numberOfBids', 'date']]\n",
    "    .query('numberOfBids>0')\n",
    "    .groupby([, \"numberOfBids\"])\n",
    "    .agg({\n",
    "        'id': \"count\",\n",
    "    })\n",
    "    .rename(columns={\"id\": \"count\"})\n",
    "    .reset_index()\n",
    ")"
   ]
  },
  {
   "cell_type": "code",
   "execution_count": 334,
   "metadata": {},
   "outputs": [
    {
     "data": {
      "text/plain": [
       "<AxesSubplot:xlabel='date', ylabel='count'>"
      ]
     },
     "execution_count": 334,
     "metadata": {},
     "output_type": "execute_result"
    },
    {
     "data": {
      "image/png": "[encoded data removed]",
      "text/plain": [
       "<Figure size 432x288 with 1 Axes>"
      ]
     },
     "metadata": {
      "needs_background": "light"
     },
     "output_type": "display_data"
    }
   ],
   "source": [
    "sns.lineplot(data=data_h3[data_h3[\"numberOfBids\"] == 9], x=\"date\", y=\"count\")"
   ]
  },
  {
   "cell_type": "markdown",
   "metadata": {},
   "source": [
    "## Hypothesis #4"
   ]
  },
  {
   "cell_type": "markdown",
   "metadata": {},
   "source": [
    "#### Distance is significant for economy"
   ]
  },
  {
   "cell_type": "code",
   "execution_count": 201,
   "metadata": {},
   "outputs": [],
   "source": [
    "data_h4 = full_df[(full_df.status=='complete') & (full_df.awards_status == 'active')].query('(numberOfBids>0) & (~geo_distance.isna()) & (geo_distance > 0)')\n",
    "data_h4 = (data_h4\n",
    "    [['id', 'lots_id','value_amount', 'awards_value_amount', 'geo_distance', 'numberOfBids']]\n",
    "    .query('numberOfBids>0')\n",
    "    .groupby(by=['id', 'lots_id'])\n",
    "    .agg(min)\n",
    "    .reset_index()\n",
    "    .groupby(by=['id'])\n",
    "    .agg({\n",
    "        'value_amount': sum,\n",
    "        'awards_value_amount': sum,\n",
    "        'geo_distance': 'mean',\n",
    "    })\n",
    "    .reset_index()\n",
    "    .assign(\n",
    "        economy = lambda d: 100*(d.value_amount - d.awards_value_amount) / d.value_amount,\n",
    "    )\n",
    ")"
   ]
  },
  {
   "cell_type": "code",
   "execution_count": 202,
   "metadata": {},
   "outputs": [
    {
     "data": {
      "image/png": "[encoded data removed]",
      "text/plain": [
       "<Figure size 432x288 with 1 Axes>"
      ]
     },
     "metadata": {
      "needs_background": "light"
     },
     "output_type": "display_data"
    }
   ],
   "source": [
    "sns.histplot(data=data_h4, x=\"geo_distance\", bins=6)\n",
    "plt.show()"
   ]
  },
  {
   "cell_type": "code",
   "execution_count": 203,
   "metadata": {},
   "outputs": [
    {
     "name": "stdout",
     "output_type": "stream",
     "text": [
      "Distance>0 and Distance<200\n",
      "\thas sufficiently lower mean economy than all others with p-value=1.0\n",
      "\thas sufficiently higher economy variance than all others with p-value=3.390989018559413e-203\n",
      "Distance>200 and Distance<400\n",
      "\thas sufficiently higher mean economy than all others with p-value=0.0\n",
      "\thas sufficiently higher economy variance than all others with p-value=3.390989018559413e-203\n",
      "Distance>400 and Distance<600\n",
      "\thas sufficiently higher mean economy than all others with p-value=1.5407486899307493e-146\n",
      "\thas sufficiently higher economy variance than all others with p-value=3.390989018559413e-203\n",
      "Distance>600 and Distance<800\n",
      "\thas sufficiently higher mean economy than all others with p-value=3.4231716777977873e-115\n",
      "\thas sufficiently higher economy variance than all others with p-value=3.390989018559413e-203\n",
      "Distance>800 and Distance<1000\n",
      "\thas sufficiently higher mean economy than all others with p-value=8.660968576221963e-65\n",
      "\thas sufficiently higher economy variance than all others with p-value=3.390989018559413e-203\n"
     ]
    }
   ],
   "source": [
    "for min_thr, max_thr in [(0, 200), (200, 400), (400, 600), (600, 800), (800, 1000)]:\n",
    "    hypothesis_mask = (data_h4[\"geo_distance\"] >= min_thr) & (data_h4[\"geo_distance\"] < max_thr)\n",
    "    hypothesis_df = data_h4[hypothesis_mask][\"economy\"]\n",
    "    alternative_df = data_h4[~hypothesis_mask][\"economy\"]\n",
    "    \n",
    "    print(f\"Distance>{min_thr} and Distance<{max_thr}\")\n",
    "    \n",
    "    # t-test for equal mean values\n",
    "    _, pvalue, _ = sm.stats.ttest_ind(hypothesis_df, alternative_df, alternative=\"larger\")\n",
    "    print(f\"\\thas sufficiently {'higher' if pvalue < 0.05 else 'lower'} mean economy than all others with p-value={pvalue}\")\n",
    "\n",
    "    _, pvalue = scipy.stats.levene(economy_below_thr, economy_above_thr)\n",
    "    print(f\"\\thas sufficiently {'higher' if pvalue < 0.05 else 'lower'} economy variance than all others with p-value={pvalue}\")"
   ]
  },
  {
   "cell_type": "markdown",
   "metadata": {},
   "source": [
    "## Hypothesis #5"
   ]
  },
  {
   "cell_type": "markdown",
   "metadata": {},
   "source": [
    "#### Season is significant for economy"
   ]
  },
  {
   "cell_type": "code",
   "execution_count": 141,
   "metadata": {},
   "outputs": [
    {
     "data": {
      "text/plain": [
       "2    234408\n",
       "0    228137\n",
       "1    218382\n",
       "3    191907\n",
       "Name: season, dtype: int64"
      ]
     },
     "execution_count": 141,
     "metadata": {},
     "output_type": "execute_result"
    }
   ],
   "source": [
    "data_h5 = full_df[(full_df.status=='complete') & (full_df.awards_status == 'active')].query('(numberOfBids>0)')\n",
    "data_h5['date'] = pd.to_datetime(data_h5['date'])\n",
    "data_h5['season'] = (data_h5.date.dt.month - 1) // 3"
   ]
  },
  {
   "cell_type": "code",
   "execution_count": 142,
   "metadata": {},
   "outputs": [],
   "source": [
    "data_h5 = (data_h5\n",
    "    [['id', 'lots_id','value_amount', 'awards_value_amount', 'season', 'numberOfBids']]\n",
    "    .query('numberOfBids>0')\n",
    "    .groupby(by=['id', 'lots_id', 'season'])\n",
    "    .agg(min)\n",
    "    .reset_index()\n",
    "    .groupby(by=['id', 'season'])\n",
    "    .agg({\n",
    "        'value_amount': sum,\n",
    "        'awards_value_amount': sum,\n",
    "    })\n",
    "    .reset_index()\n",
    "    .assign(\n",
    "        economy = lambda d: 100*(d.value_amount - d.awards_value_amount) / d.value_amount,\n",
    "    )\n",
    ")"
   ]
  },
  {
   "cell_type": "code",
   "execution_count": 145,
   "metadata": {},
   "outputs": [
    {
     "data": {
      "text/plain": [
       "2    220259\n",
       "0    211246\n",
       "1    201253\n",
       "3    182565\n",
       "Name: season, dtype: int64"
      ]
     },
     "execution_count": 145,
     "metadata": {},
     "output_type": "execute_result"
    }
   ],
   "source": [
    "data_h5.season.value_counts()"
   ]
  },
  {
   "cell_type": "code",
   "execution_count": 143,
   "metadata": {},
   "outputs": [
    {
     "name": "stdout",
     "output_type": "stream",
     "text": [
      "spring\n",
      "\thas sufficiently higher mean economy than all others with p-value=8.107863504202709e-114\n",
      "\thas sufficiently higher economy variance than all others with p-value=3.390989018559413e-203\n",
      "summer\n",
      "\thas sufficiently higher mean economy than all others with p-value=7.447278352118796e-16\n",
      "\thas sufficiently higher economy variance than all others with p-value=3.390989018559413e-203\n",
      "autumn\n",
      "\thas sufficiently lower mean economy than all others with p-value=1.0\n",
      "\thas sufficiently higher economy variance than all others with p-value=3.390989018559413e-203\n",
      "winter\n",
      "\thas sufficiently lower mean economy than all others with p-value=1.0\n",
      "\thas sufficiently higher economy variance than all others with p-value=3.390989018559413e-203\n"
     ]
    }
   ],
   "source": [
    "season_dict = {\n",
    "    0: 'spring',\n",
    "    1: 'summer',\n",
    "    2: 'autumn',\n",
    "    3: 'winter'\n",
    "}\n",
    "\n",
    "for value in [0, 1, 2 ,3]:\n",
    "    hypothesis_mask = data_h5[\"season\"] == value\n",
    "    hypothesis_df = data_h5[hypothesis_mask][\"economy\"]\n",
    "    alternative_df = data_h5[~hypothesis_mask][\"economy\"]\n",
    "    \n",
    "    print(f\"{season_dict[value]}\")\n",
    "    \n",
    "    # t-test for equal mean values\n",
    "    _, pvalue, _ = sm.stats.ttest_ind(hypothesis_df, alternative_df, alternative=\"larger\")\n",
    "    print(f\"\\thas sufficiently {'higher' if pvalue < 0.05 else 'lower'} mean economy than all others with p-value={pvalue}\")\n",
    "\n",
    "    _, pvalue = scipy.stats.levene(economy_below_thr, economy_above_thr)\n",
    "    print(f\"\\thas sufficiently {'higher' if pvalue < 0.05 else 'lower'} economy variance than all others with p-value={pvalue}\")"
   ]
  },
  {
   "cell_type": "markdown",
   "metadata": {},
   "source": [
    "## Hypothesis #6"
   ]
  },
  {
   "cell_type": "markdown",
   "metadata": {},
   "source": [
    "#### Sector is significant for economy"
   ]
  },
  {
   "cell_type": "code",
   "execution_count": 147,
   "metadata": {},
   "outputs": [],
   "source": [
    "classifier = DK021.load('./data/dk021.csv')"
   ]
  },
  {
   "cell_type": "code",
   "execution_count": 150,
   "metadata": {},
   "outputs": [
    {
     "data": {
      "text/plain": [
       "['Будівельні роботи та поточний ремонт',\n",
       " 'Продукти харчування, напої, тютюн та супутня продукція',\n",
       " 'Медичне обладнання, фармацевтична продукція та засоби особистої гігієни',\n",
       " 'Нафтопродукти, паливо, електроенергія та інші джерела енергії',\n",
       " 'Офісна та комп’ютерна техніка, устаткування та приладдя, крім меблів та пакетів програмного забезпечення',\n",
       " 'Конструкції та конструкційні матеріали; допоміжна будівельна продукція (крім електроапаратури)',\n",
       " 'Меблі (у тому числі офісні меблі), меблево-декоративні вироби, побутова техніка (крім освітлювального обладнання) та засоби для чищення',\n",
       " 'Послуги з ремонту і технічного обслуговування',\n",
       " 'Сільськогосподарська, фермерська продукція, продукція рибальства, лісівництва та супутня продукція',\n",
       " 'Транспортне обладнання та допоміжне приладдя до нього',\n",
       " 'Архітектурні, будівельні, інженерні та інспекційні послуги',\n",
       " 'Електротехнічне устаткування, апаратура, обладнання та матеріали; освітлювальне устаткування']"
      ]
     },
     "execution_count": 150,
     "metadata": {},
     "output_type": "execute_result"
    }
   ],
   "source": [
    "data_h6 = full_df[(full_df.status=='complete') & (full_df.awards_status == 'active')].query('(numberOfBids>0)')\n",
    "data_h6[\"sectors\"] = data_h6.items_classification_l3.apply(lambda x: classifier.get_level_category(x, level=1).description)\n",
    "sectors = data_h6[\"sectors\"].value_counts()\n",
    "sector_names = [sector_name for sector_name, sector_occurence in zip(sectors.index, sectors.values) if sector_occurence > 20000]\n",
    "sector_names"
   ]
  },
  {
   "cell_type": "code",
   "execution_count": 151,
   "metadata": {},
   "outputs": [],
   "source": [
    "data_h6 = (data_h6[data_h6[\"sectors\"].isin(sector_names)]\n",
    "    [['id', 'lots_id','value_amount', 'awards_value_amount', 'sectors', 'numberOfBids']]\n",
    "    .query('numberOfBids>0')\n",
    "    .groupby(by=['id', 'lots_id', 'sectors'])\n",
    "    .agg(min)\n",
    "    .reset_index()\n",
    "    .groupby(by=['id', 'sectors'])\n",
    "    .agg({\n",
    "        'value_amount': sum,\n",
    "        'awards_value_amount': sum,\n",
    "    })\n",
    "    .reset_index()\n",
    "    .assign(\n",
    "        economy = lambda d: 100*(d.value_amount - d.awards_value_amount) / d.value_amount,\n",
    "    )\n",
    ")"
   ]
  },
  {
   "cell_type": "code",
   "execution_count": 154,
   "metadata": {},
   "outputs": [
    {
     "name": "stdout",
     "output_type": "stream",
     "text": [
      "Будівельні роботи та поточний ремонт\n",
      "\thas sufficiently lower mean economy than all others with p-value=1.0\n",
      "\thas sufficiently higher economy variance than all others with p-value=3.390989018559413e-203\n",
      "Продукти харчування, напої, тютюн та супутня продукція\n",
      "\thas sufficiently lower mean economy than all others with p-value=1.0\n",
      "\thas sufficiently higher economy variance than all others with p-value=3.390989018559413e-203\n",
      "Медичне обладнання, фармацевтична продукція та засоби особистої гігієни\n",
      "\thas sufficiently lower mean economy than all others with p-value=1.0\n",
      "\thas sufficiently higher economy variance than all others with p-value=3.390989018559413e-203\n",
      "Нафтопродукти, паливо, електроенергія та інші джерела енергії\n",
      "\thas sufficiently higher mean economy than all others with p-value=0.0\n",
      "\thas sufficiently higher economy variance than all others with p-value=3.390989018559413e-203\n",
      "Офісна та комп’ютерна техніка, устаткування та приладдя, крім меблів та пакетів програмного забезпечення\n",
      "\thas sufficiently higher mean economy than all others with p-value=5.266625291214647e-101\n",
      "\thas sufficiently higher economy variance than all others with p-value=3.390989018559413e-203\n",
      "Конструкції та конструкційні матеріали; допоміжна будівельна продукція (крім електроапаратури)\n",
      "\thas sufficiently higher mean economy than all others with p-value=2.2232975693378024e-255\n",
      "\thas sufficiently higher economy variance than all others with p-value=3.390989018559413e-203\n",
      "Меблі (у тому числі офісні меблі), меблево-декоративні вироби, побутова техніка (крім освітлювального обладнання) та засоби для чищення\n",
      "\thas sufficiently higher mean economy than all others with p-value=0.0\n",
      "\thas sufficiently higher economy variance than all others with p-value=3.390989018559413e-203\n",
      "Послуги з ремонту і технічного обслуговування\n",
      "\thas sufficiently lower mean economy than all others with p-value=0.9589491925847454\n",
      "\thas sufficiently higher economy variance than all others with p-value=3.390989018559413e-203\n",
      "Сільськогосподарська, фермерська продукція, продукція рибальства, лісівництва та супутня продукція\n",
      "\thas sufficiently lower mean economy than all others with p-value=0.9999848962928168\n",
      "\thas sufficiently higher economy variance than all others with p-value=3.390989018559413e-203\n",
      "Транспортне обладнання та допоміжне приладдя до нього\n",
      "\thas sufficiently lower mean economy than all others with p-value=1.0\n",
      "\thas sufficiently higher economy variance than all others with p-value=3.390989018559413e-203\n",
      "Архітектурні, будівельні, інженерні та інспекційні послуги\n",
      "\thas sufficiently higher mean economy than all others with p-value=0.0\n",
      "\thas sufficiently higher economy variance than all others with p-value=3.390989018559413e-203\n",
      "Електротехнічне устаткування, апаратура, обладнання та матеріали; освітлювальне устаткування\n",
      "\thas sufficiently higher mean economy than all others with p-value=0.0\n",
      "\thas sufficiently higher economy variance than all others with p-value=3.390989018559413e-203\n"
     ]
    }
   ],
   "source": [
    "for sector_name in sector_names:\n",
    "    hypothesis_mask = data_h6[\"sectors\"] == sector_name\n",
    "    hypothesis_df = data_h6[hypothesis_mask][\"economy\"]\n",
    "    alternative_df = data_h6[~hypothesis_mask][\"economy\"]\n",
    "    \n",
    "    print(sector_name)\n",
    "    \n",
    "    # t-test for equal mean values\n",
    "    _, pvalue, _ = sm.stats.ttest_ind(hypothesis_df, alternative_df, alternative=\"larger\")\n",
    "    print(f\"\\thas sufficiently {'higher' if pvalue < 0.05 else 'lower'} mean economy than all others with p-value={pvalue}\")\n",
    "\n",
    "    _, pvalue = scipy.stats.levene(economy_below_thr, economy_above_thr)\n",
    "    print(f\"\\thas sufficiently {'higher' if pvalue < 0.05 else 'lower'} economy variance than all others with p-value={pvalue}\")"
   ]
  },
  {
   "cell_type": "markdown",
   "metadata": {},
   "source": [
    "## Hypothesis #7"
   ]
  },
  {
   "cell_type": "markdown",
   "metadata": {},
   "source": [
    "#### Number of already participated tenders is significant for economy"
   ]
  },
  {
   "cell_type": "code",
   "execution_count": 189,
   "metadata": {},
   "outputs": [],
   "source": [
    "data_h7 = full_df[(full_df.status=='complete') & (full_df.awards_status == 'active')].query('(numberOfBids>0)')"
   ]
  },
  {
   "cell_type": "code",
   "execution_count": 190,
   "metadata": {},
   "outputs": [],
   "source": [
    "data_h7 = data_h7.sort_values(\"date\")"
   ]
  },
  {
   "cell_type": "code",
   "execution_count": 191,
   "metadata": {},
   "outputs": [],
   "source": [
    "import tqdm"
   ]
  },
  {
   "cell_type": "code",
   "execution_count": 192,
   "metadata": {},
   "outputs": [
    {
     "name": "stderr",
     "output_type": "stream",
     "text": [
      "872834it [00:03, 237153.83it/s]\n"
     ]
    }
   ],
   "source": [
    "unique_visits = dict()\n",
    "visited_tenders = dict()\n",
    "visits = []\n",
    "for email, tender_id in tqdm.tqdm(zip(data_h7.bids_tenderers_contactPoint_email, data_h7.id)):\n",
    "    key = f\"{email}#{tender_id}\"\n",
    "    if key in visited_tenders:\n",
    "        value = visited_tenders[key]\n",
    "    else:\n",
    "        if email in unique_visits:\n",
    "            value = unique_visits[email]\n",
    "            unique_visits[email] += 1\n",
    "        else:\n",
    "            value = 0\n",
    "            unique_visits[email] = 1\n",
    "        visited_tenders[key] = value\n",
    "    visits.append(value)"
   ]
  },
  {
   "cell_type": "code",
   "execution_count": 193,
   "metadata": {},
   "outputs": [],
   "source": [
    "data_h7[\"visits\"] = visits"
   ]
  },
  {
   "cell_type": "code",
   "execution_count": 194,
   "metadata": {},
   "outputs": [],
   "source": [
    "data_h7 = (data_h7\n",
    "    [['id', 'lots_id','value_amount', 'awards_value_amount', 'visits', 'numberOfBids']]\n",
    "    .query('numberOfBids>0')\n",
    "    .groupby(by=['id', 'lots_id', 'visits'])\n",
    "    .agg(min)\n",
    "    .reset_index()\n",
    "    .groupby(by=['id', 'visits'])\n",
    "    .agg({\n",
    "        'value_amount': sum,\n",
    "        'awards_value_amount': sum,\n",
    "    })\n",
    "    .reset_index()\n",
    "    .assign(\n",
    "        economy = lambda d: 100*(d.value_amount - d.awards_value_amount) / d.value_amount,\n",
    "    )\n",
    ")"
   ]
  },
  {
   "cell_type": "code",
   "execution_count": 205,
   "metadata": {},
   "outputs": [
    {
     "name": "stdout",
     "output_type": "stream",
     "text": [
      "Visits>0 and Visits<5\n",
      "\thas sufficiently lower mean economy than all others with p-value=1.0\n",
      "\thas sufficiently higher economy variance than all others with p-value=3.390989018559413e-203\n",
      "Visits>5 and Visits<10\n",
      "\thas sufficiently lower mean economy than all others with p-value=1.0\n",
      "\thas sufficiently higher economy variance than all others with p-value=3.390989018559413e-203\n",
      "Visits>10 and Visits<20\n",
      "\thas sufficiently lower mean economy than all others with p-value=0.9957790873784681\n",
      "\thas sufficiently higher economy variance than all others with p-value=3.390989018559413e-203\n",
      "Visits>20 and Visits<40\n",
      "\thas sufficiently higher mean economy than all others with p-value=1.634207119207452e-35\n",
      "\thas sufficiently higher economy variance than all others with p-value=3.390989018559413e-203\n",
      "Visits>40 and Visits<60\n",
      "\thas sufficiently higher mean economy than all others with p-value=4.586115428486657e-74\n",
      "\thas sufficiently higher economy variance than all others with p-value=3.390989018559413e-203\n",
      "Visits>60 and Visits<80\n",
      "\thas sufficiently higher mean economy than all others with p-value=9.531295225178764e-59\n",
      "\thas sufficiently higher economy variance than all others with p-value=3.390989018559413e-203\n",
      "Visits>80 and Visits<100\n",
      "\thas sufficiently higher mean economy than all others with p-value=1.6248432234781041e-46\n",
      "\thas sufficiently higher economy variance than all others with p-value=3.390989018559413e-203\n",
      "Visits>100 and Visits<200\n",
      "\thas sufficiently higher mean economy than all others with p-value=9.123700789450124e-74\n",
      "\thas sufficiently higher economy variance than all others with p-value=3.390989018559413e-203\n",
      "Visits>200 and Visits<300\n",
      "\thas sufficiently higher mean economy than all others with p-value=9.845015085722922e-17\n",
      "\thas sufficiently higher economy variance than all others with p-value=3.390989018559413e-203\n",
      "Visits>300 and Visits<500\n",
      "\thas sufficiently higher mean economy than all others with p-value=1.620905947738636e-22\n",
      "\thas sufficiently higher economy variance than all others with p-value=3.390989018559413e-203\n",
      "Visits>500 and Visits<1500\n",
      "\thas sufficiently lower mean economy than all others with p-value=0.5341366717473667\n",
      "\thas sufficiently higher economy variance than all others with p-value=3.390989018559413e-203\n"
     ]
    }
   ],
   "source": [
    "for min_thr, max_thr in [(0, 5), (5, 10), (10, 20), (20, 40), (40, 60), (60, 80), (80, 100), (100, 200), (200, 300), (300, 500), (500, 1500)]:\n",
    "    hypothesis_mask = (data_h7[\"visits\"] >= min_thr) & (data_h7[\"visits\"] < max_thr)\n",
    "    hypothesis_df = data_h7[hypothesis_mask][\"economy\"]\n",
    "    alternative_df = data_h7[~hypothesis_mask][\"economy\"]\n",
    "    \n",
    "    print(f\"Visits>{min_thr} and Visits<{max_thr}\")\n",
    "    \n",
    "    # t-test for equal mean values\n",
    "    _, pvalue, _ = sm.stats.ttest_ind(hypothesis_df, alternative_df, alternative=\"larger\")\n",
    "    print(f\"\\thas sufficiently {'higher' if pvalue < 0.05 else 'lower'} mean economy than all others with p-value={pvalue}\")\n",
    "\n",
    "    _, pvalue = scipy.stats.levene(economy_below_thr, economy_above_thr)\n",
    "    print(f\"\\thas sufficiently {'higher' if pvalue < 0.05 else 'lower'} economy variance than all others with p-value={pvalue}\")"
   ]
  },
  {
   "cell_type": "markdown",
   "metadata": {
    "tags": []
   },
   "source": [
    "## Example Economy"
   ]
  },
  {
   "cell_type": "code",
   "execution_count": 6,
   "metadata": {},
   "outputs": [
    {
     "data": {
      "text/html": [
       "<div>\n",
       "<style scoped>\n",
       "    .dataframe tbody tr th:only-of-type {\n",
       "        vertical-align: middle;\n",
       "    }\n",
       "\n",
       "    .dataframe tbody tr th {\n",
       "        vertical-align: top;\n",
       "    }\n",
       "\n",
       "    .dataframe thead th {\n",
       "        text-align: right;\n",
       "    }\n",
       "</style>\n",
       "<table border=\"1\" class=\"dataframe\">\n",
       "  <thead>\n",
       "    <tr style=\"text-align: right;\">\n",
       "      <th></th>\n",
       "      <th>id</th>\n",
       "      <th>lots_id</th>\n",
       "      <th>bids_id</th>\n",
       "      <th>items_code</th>\n",
       "      <th>items_classification_l1</th>\n",
       "      <th>items_classification_l2</th>\n",
       "      <th>items_classification_l3</th>\n",
       "      <th>numberOfBids</th>\n",
       "      <th>num_lots</th>\n",
       "      <th>awards_status</th>\n",
       "      <th>status</th>\n",
       "      <th>value_amount</th>\n",
       "      <th>bids_value_amount</th>\n",
       "      <th>awards_value_amount</th>\n",
       "    </tr>\n",
       "  </thead>\n",
       "  <tbody>\n",
       "    <tr>\n",
       "      <th>76067</th>\n",
       "      <td>98d54c150056474fbedb5420f8aad0d9</td>\n",
       "      <td>76da00fa661a4e51bf34f0e791833bd2</td>\n",
       "      <td>1215fd8627904632b2771d21998006e5</td>\n",
       "      <td>33141113-4</td>\n",
       "      <td>33000000-0</td>\n",
       "      <td>33100000-1</td>\n",
       "      <td>33140000-3</td>\n",
       "      <td>2</td>\n",
       "      <td>2</td>\n",
       "      <td>NaN</td>\n",
       "      <td>complete</td>\n",
       "      <td>1060036.0</td>\n",
       "      <td>1052085.85</td>\n",
       "      <td>NaN</td>\n",
       "    </tr>\n",
       "    <tr>\n",
       "      <th>76068</th>\n",
       "      <td>98d54c150056474fbedb5420f8aad0d9</td>\n",
       "      <td>76da00fa661a4e51bf34f0e791833bd2</td>\n",
       "      <td>15935b3d80944ce2b1fa5bdc63bcc5d3</td>\n",
       "      <td>33141113-4</td>\n",
       "      <td>33000000-0</td>\n",
       "      <td>33100000-1</td>\n",
       "      <td>33140000-3</td>\n",
       "      <td>2</td>\n",
       "      <td>2</td>\n",
       "      <td>active</td>\n",
       "      <td>complete</td>\n",
       "      <td>1060036.0</td>\n",
       "      <td>1019377.02</td>\n",
       "      <td>1019377.02</td>\n",
       "    </tr>\n",
       "    <tr>\n",
       "      <th>76069</th>\n",
       "      <td>98d54c150056474fbedb5420f8aad0d9</td>\n",
       "      <td>e32dc54313cf4e22862196b85299d87f</td>\n",
       "      <td>1215fd8627904632b2771d21998006e5</td>\n",
       "      <td>33140000-3</td>\n",
       "      <td>33000000-0</td>\n",
       "      <td>33100000-1</td>\n",
       "      <td>33140000-3</td>\n",
       "      <td>2</td>\n",
       "      <td>2</td>\n",
       "      <td>NaN</td>\n",
       "      <td>complete</td>\n",
       "      <td>2270252.0</td>\n",
       "      <td>2267523.67</td>\n",
       "      <td>NaN</td>\n",
       "    </tr>\n",
       "    <tr>\n",
       "      <th>76070</th>\n",
       "      <td>98d54c150056474fbedb5420f8aad0d9</td>\n",
       "      <td>e32dc54313cf4e22862196b85299d87f</td>\n",
       "      <td>15935b3d80944ce2b1fa5bdc63bcc5d3</td>\n",
       "      <td>33140000-3</td>\n",
       "      <td>33000000-0</td>\n",
       "      <td>33100000-1</td>\n",
       "      <td>33140000-3</td>\n",
       "      <td>2</td>\n",
       "      <td>2</td>\n",
       "      <td>active</td>\n",
       "      <td>complete</td>\n",
       "      <td>2270252.0</td>\n",
       "      <td>2266848.50</td>\n",
       "      <td>2266848.50</td>\n",
       "    </tr>\n",
       "  </tbody>\n",
       "</table>\n",
       "</div>"
      ],
      "text/plain": [
       "                                     id                           lots_id  \\\n",
       "76067  98d54c150056474fbedb5420f8aad0d9  76da00fa661a4e51bf34f0e791833bd2   \n",
       "76068  98d54c150056474fbedb5420f8aad0d9  76da00fa661a4e51bf34f0e791833bd2   \n",
       "76069  98d54c150056474fbedb5420f8aad0d9  e32dc54313cf4e22862196b85299d87f   \n",
       "76070  98d54c150056474fbedb5420f8aad0d9  e32dc54313cf4e22862196b85299d87f   \n",
       "\n",
       "                                bids_id  items_code items_classification_l1  \\\n",
       "76067  1215fd8627904632b2771d21998006e5  33141113-4              33000000-0   \n",
       "76068  15935b3d80944ce2b1fa5bdc63bcc5d3  33141113-4              33000000-0   \n",
       "76069  1215fd8627904632b2771d21998006e5  33140000-3              33000000-0   \n",
       "76070  15935b3d80944ce2b1fa5bdc63bcc5d3  33140000-3              33000000-0   \n",
       "\n",
       "      items_classification_l2 items_classification_l3  numberOfBids  num_lots  \\\n",
       "76067              33100000-1              33140000-3             2         2   \n",
       "76068              33100000-1              33140000-3             2         2   \n",
       "76069              33100000-1              33140000-3             2         2   \n",
       "76070              33100000-1              33140000-3             2         2   \n",
       "\n",
       "      awards_status    status  value_amount  bids_value_amount  \\\n",
       "76067           NaN  complete     1060036.0         1052085.85   \n",
       "76068        active  complete     1060036.0         1019377.02   \n",
       "76069           NaN  complete     2270252.0         2267523.67   \n",
       "76070        active  complete     2270252.0         2266848.50   \n",
       "\n",
       "       awards_value_amount  \n",
       "76067                  NaN  \n",
       "76068           1019377.02  \n",
       "76069                  NaN  \n",
       "76070           2266848.50  "
      ]
     },
     "execution_count": 6,
     "metadata": {},
     "output_type": "execute_result"
    }
   ],
   "source": [
    "full_df[full_df.id=='98d54c150056474fbedb5420f8aad0d9'][['id', 'lots_id',  'bids_id', 'items_code', 'items_classification_l1', 'items_classification_l2', 'items_classification_l3', 'numberOfBids', 'num_lots',  'awards_status', 'status', 'value_amount', 'bids_value_amount', 'awards_value_amount']]"
   ]
  },
  {
   "cell_type": "code",
   "execution_count": 7,
   "metadata": {},
   "outputs": [],
   "source": [
    "classifier = DK021.load('./data/dk021.csv')"
   ]
  },
  {
   "cell_type": "raw",
   "metadata": {},
   "source": [
    "full_df.items_classification_l1.value_counts()"
   ]
  },
  {
   "cell_type": "code",
   "execution_count": 9,
   "metadata": {},
   "outputs": [
    {
     "data": {
      "text/plain": [
       "economy        132597677057\n",
       "est_economy    546155392707\n",
       "dtype: int64"
      ]
     },
     "execution_count": 9,
     "metadata": {},
     "output_type": "execute_result"
    }
   ],
   "source": [
    "(\n",
    "    full_df[(full_df.status=='complete') & (full_df.awards_status == 'active')]\n",
    "    [['id', 'lots_id', 'numberOfBids','value_amount', 'awards_value_amount']]\n",
    "    .groupby(by=['id', 'lots_id'])\n",
    "    .agg(min)\n",
    "    .reset_index()\n",
    "    .assign(\n",
    "        economy = lambda d: d.value_amount - d.awards_value_amount,\n",
    "        est_economy = lambda d: d.value_amount - d.value_amount*0.65\n",
    "    )\n",
    ")[['economy', 'est_economy']].astype(np.int64).sum()"
   ]
  },
  {
   "cell_type": "code",
   "execution_count": 10,
   "metadata": {},
   "outputs": [
    {
     "data": {
      "text/html": [
       "<div>\n",
       "<style scoped>\n",
       "    .dataframe tbody tr th:only-of-type {\n",
       "        vertical-align: middle;\n",
       "    }\n",
       "\n",
       "    .dataframe tbody tr th {\n",
       "        vertical-align: top;\n",
       "    }\n",
       "\n",
       "    .dataframe thead th {\n",
       "        text-align: right;\n",
       "    }\n",
       "</style>\n",
       "<table border=\"1\" class=\"dataframe\">\n",
       "  <thead>\n",
       "    <tr style=\"text-align: right;\">\n",
       "      <th></th>\n",
       "      <th>numberOfBids</th>\n",
       "      <th>cnt</th>\n",
       "      <th>economy</th>\n",
       "      <th>value_amount</th>\n",
       "      <th>awards_value_amount</th>\n",
       "      <th>count_log</th>\n",
       "    </tr>\n",
       "  </thead>\n",
       "  <tbody>\n",
       "    <tr>\n",
       "      <th>0</th>\n",
       "      <td>1</td>\n",
       "      <td>272064</td>\n",
       "      <td>4.818293</td>\n",
       "      <td>5.545546e+10</td>\n",
       "      <td>5.364767e+10</td>\n",
       "      <td>270.803798</td>\n",
       "    </tr>\n",
       "    <tr>\n",
       "      <th>1</th>\n",
       "      <td>2</td>\n",
       "      <td>300337</td>\n",
       "      <td>10.025346</td>\n",
       "      <td>8.612403e+11</td>\n",
       "      <td>8.116753e+11</td>\n",
       "      <td>272.943340</td>\n",
       "    </tr>\n",
       "    <tr>\n",
       "      <th>2</th>\n",
       "      <td>3</td>\n",
       "      <td>120906</td>\n",
       "      <td>18.662282</td>\n",
       "      <td>3.106225e+11</td>\n",
       "      <td>2.792178e+11</td>\n",
       "      <td>253.252895</td>\n",
       "    </tr>\n",
       "    <tr>\n",
       "      <th>3</th>\n",
       "      <td>4</td>\n",
       "      <td>59413</td>\n",
       "      <td>23.539578</td>\n",
       "      <td>1.292211e+11</td>\n",
       "      <td>1.112743e+11</td>\n",
       "      <td>237.877365</td>\n",
       "    </tr>\n",
       "    <tr>\n",
       "      <th>4</th>\n",
       "      <td>5</td>\n",
       "      <td>28961</td>\n",
       "      <td>28.048722</td>\n",
       "      <td>7.365568e+10</td>\n",
       "      <td>6.141915e+10</td>\n",
       "      <td>222.327357</td>\n",
       "    </tr>\n",
       "    <tr>\n",
       "      <th>5</th>\n",
       "      <td>6</td>\n",
       "      <td>14807</td>\n",
       "      <td>30.416978</td>\n",
       "      <td>2.792069e+10</td>\n",
       "      <td>2.291922e+10</td>\n",
       "      <td>207.809876</td>\n",
       "    </tr>\n",
       "    <tr>\n",
       "      <th>6</th>\n",
       "      <td>7</td>\n",
       "      <td>7794</td>\n",
       "      <td>33.004112</td>\n",
       "      <td>2.568979e+10</td>\n",
       "      <td>2.031637e+10</td>\n",
       "      <td>193.922223</td>\n",
       "    </tr>\n",
       "    <tr>\n",
       "      <th>7</th>\n",
       "      <td>8</td>\n",
       "      <td>4498</td>\n",
       "      <td>33.923021</td>\n",
       "      <td>2.605870e+10</td>\n",
       "      <td>2.308378e+10</td>\n",
       "      <td>182.026019</td>\n",
       "    </tr>\n",
       "    <tr>\n",
       "      <th>8</th>\n",
       "      <td>9</td>\n",
       "      <td>2469</td>\n",
       "      <td>35.615195</td>\n",
       "      <td>8.148888e+09</td>\n",
       "      <td>6.866796e+09</td>\n",
       "      <td>169.045667</td>\n",
       "    </tr>\n",
       "    <tr>\n",
       "      <th>9</th>\n",
       "      <td>10</td>\n",
       "      <td>1461</td>\n",
       "      <td>36.696603</td>\n",
       "      <td>8.343116e+09</td>\n",
       "      <td>7.052200e+09</td>\n",
       "      <td>157.691107</td>\n",
       "    </tr>\n",
       "  </tbody>\n",
       "</table>\n",
       "</div>"
      ],
      "text/plain": [
       "   numberOfBids     cnt    economy  value_amount  awards_value_amount  \\\n",
       "0             1  272064   4.818293  5.545546e+10         5.364767e+10   \n",
       "1             2  300337  10.025346  8.612403e+11         8.116753e+11   \n",
       "2             3  120906  18.662282  3.106225e+11         2.792178e+11   \n",
       "3             4   59413  23.539578  1.292211e+11         1.112743e+11   \n",
       "4             5   28961  28.048722  7.365568e+10         6.141915e+10   \n",
       "5             6   14807  30.416978  2.792069e+10         2.291922e+10   \n",
       "6             7    7794  33.004112  2.568979e+10         2.031637e+10   \n",
       "7             8    4498  33.923021  2.605870e+10         2.308378e+10   \n",
       "8             9    2469  35.615195  8.148888e+09         6.866796e+09   \n",
       "9            10    1461  36.696603  8.343116e+09         7.052200e+09   \n",
       "\n",
       "    count_log  \n",
       "0  270.803798  \n",
       "1  272.943340  \n",
       "2  253.252895  \n",
       "3  237.877365  \n",
       "4  222.327357  \n",
       "5  207.809876  \n",
       "6  193.922223  \n",
       "7  182.026019  \n",
       "8  169.045667  \n",
       "9  157.691107  "
      ]
     },
     "execution_count": 10,
     "metadata": {},
     "output_type": "execute_result"
    }
   ],
   "source": [
    "cnt_eco=(\n",
    "    full_df[(full_df.status=='complete') & (full_df.awards_status == 'active')]\n",
    "    [['id', 'lots_id', 'numberOfBids','value_amount', 'awards_value_amount']]\n",
    "    .query('numberOfBids>0')\n",
    "    .groupby(by=['id', 'lots_id'])\n",
    "    .agg(min)\n",
    "    .reset_index()\n",
    "    .groupby(by=['id'])\n",
    "    .agg({\n",
    "        'numberOfBids': min,\n",
    "        'value_amount': sum,\n",
    "        'awards_value_amount': sum\n",
    "    })\n",
    "    .reset_index()\n",
    "    .assign(\n",
    "        economy = lambda d: 100*(d.value_amount - d.awards_value_amount) /d.value_amount\n",
    "    )\n",
    "    .groupby(by=['numberOfBids'])\n",
    "    .agg({\n",
    "        'id': 'count',\n",
    "        'economy': 'mean',\n",
    "        'value_amount': sum,\n",
    "        'awards_value_amount': sum\n",
    "    })\n",
    "    .reset_index()\n",
    "    .rename(columns={'id':'cnt'})\n",
    "    .query('cnt>1000')\n",
    "    .sort_values(by='numberOfBids')\n",
    "    .assign(\n",
    "        count_log = lambda d: np.log2(d.cnt)*15\n",
    "    )\n",
    ")\n",
    "cnt_eco"
   ]
  },
  {
   "cell_type": "code",
   "execution_count": 11,
   "metadata": {},
   "outputs": [
    {
     "data": {
      "text/plain": [
       "8.443876365284083"
      ]
     },
     "execution_count": 11,
     "metadata": {},
     "output_type": "execute_result"
    }
   ],
   "source": [
    "avg_eco = 100*(cnt_eco.value_amount.sum() - cnt_eco.awards_value_amount.sum()) / cnt_eco.value_amount.sum()\n",
    "avg_eco"
   ]
  },
  {
   "cell_type": "code",
   "execution_count": 14,
   "metadata": {},
   "outputs": [
    {
     "data": {
      "text/plain": [
       "28.048721521108288"
      ]
     },
     "execution_count": 14,
     "metadata": {},
     "output_type": "execute_result"
    }
   ],
   "source": [
    "avg_eco_at_5 = cnt_eco[cnt_eco.numberOfBids == 5].economy.iloc[0]\n",
    "avg_eco_at_5"
   ]
  },
  {
   "cell_type": "code",
   "execution_count": 15,
   "metadata": {},
   "outputs": [
    {
     "data": {
      "image/png": "[encoded data removed]",
      "text/plain": [
       "<Figure size 720x432 with 1 Axes>"
      ]
     },
     "metadata": {
      "needs_background": "light"
     },
     "output_type": "display_data"
    }
   ],
   "source": [
    "import matplotlib.pyplot as plt\n",
    "import seaborn as sns\n",
    "\n",
    "fig, ax = plt.subplots(figsize=(10,6))\n",
    "ax.axhline(avg_eco, ls='--', color='red')\n",
    "ax.axhline(avg_eco_at_5, ls='--', color='green')\n",
    "ax = sns.scatterplot(ax=ax, data=cnt_eco, x=\"numberOfBids\", palette=\"deep\", y=\"economy\", size='count_log', legend=False)\n",
    "ax.set_xlabel('# of bids per tender')\n",
    "ax.set_ylabel('Relative economy, %')\n",
    "ax.set_xticks(cnt_eco.numberOfBids.to_list());"
   ]
  },
  {
   "cell_type": "code",
   "execution_count": null,
   "metadata": {},
   "outputs": [],
   "source": []
  },
  {
   "cell_type": "code",
   "execution_count": null,
   "metadata": {},
   "outputs": [],
   "source": []
  },
  {
   "cell_type": "code",
   "execution_count": null,
   "metadata": {},
   "outputs": [],
   "source": []
  }
 ],
 "metadata": {
  "kernelspec": {
   "display_name": "Python 3",
   "language": "python",
   "name": "python3"
  },
  "language_info": {
   "codemirror_mode": {
    "name": "ipython",
    "version": 3
   },
   "file_extension": ".py",
   "mimetype": "text/x-python",
   "name": "python",
   "nbconvert_exporter": "python",
   "pygments_lexer": "ipython3",
   "version": "3.7.7"
  }
 },
 "nbformat": 4,
 "nbformat_minor": 4
}
