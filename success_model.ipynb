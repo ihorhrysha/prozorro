{
 "cells": [
  {
   "cell_type": "code",
   "execution_count": 1,
   "metadata": {},
   "outputs": [],
   "source": [
    "import pandas as pd \n",
    "import numpy as np\n",
    "from functools import partial\n",
    "from glob import glob\n",
    "import matplotlib.pyplot as plt\n",
    "from pymongo import MongoClient\n",
    "\n",
    "from utils.misc import read_mongo, batch\n",
    "from utils.geolocation import CachedGeolocator, region_fixer, locality_fixer, countryName_fixer, address_to_location\n",
    "from utils.dk021 import DK021\n",
    "from utils.etl import transform_dataset\n",
    "\n",
    "\n",
    "%matplotlib inline"
   ]
  },
  {
   "cell_type": "code",
   "execution_count": 2,
   "metadata": {},
   "outputs": [],
   "source": [
    "from utils.misc import mem_usg\n",
    "\n",
    "full_df = pd.read_parquet('full.parquet.gzip')\n",
    "# mem_usg(full_df)/(1024*1024)"
   ]
  },
  {
   "cell_type": "code",
   "execution_count": 3,
   "metadata": {},
   "outputs": [
    {
     "name": "stderr",
     "output_type": "stream",
     "text": [
      "/tmp/ipykernel_3480/1801142023.py:2: FutureWarning: Series.dt.weekofyear and Series.dt.week have been deprecated.  Please use Series.dt.isocalendar().week instead.\n",
      "  full_df['week_start']=full_df['date'].dt.week.astype('object')\n"
     ]
    }
   ],
   "source": [
    "full_df['month_start']=full_df['date'].dt.month.astype('object')\n",
    "full_df['week_start']=full_df['date'].dt.week.astype('object')\n",
    "full_df['year_start']=full_df['date'].dt.year.astype('object')\n",
    "full_df['dayofweek']=full_df['date'].dt.dayofweek.astype('object')\n",
    "full_df['dayofmonth']=full_df['date'].dt.day.astype('object')\n",
    "full_df['quarter']=full_df['date'].dt.quarter.astype('object')"
   ]
  },
  {
   "cell_type": "code",
   "execution_count": 4,
   "metadata": {},
   "outputs": [],
   "source": [
    "df_complete = full_df.loc[full_df['status'].isin(['complete','unsuccessful'])]\n",
    "\n",
    "df_complete=df_complete[['id','month_start','week_start',\n",
    "                            'year_start', 'dayofweek','dayofmonth','quarter', \n",
    "       'owner','value_valueAddedTaxIncluded',\n",
    "       'procuringEntity_kind','status','procuringEntity_address',\n",
    "                        'mainProcurementCategory','procurementMethod',\n",
    "                        'procurementMethodType']]\n",
    "\n",
    "df_complete['procuringEntity_address']=df_complete['procuringEntity_address'].apply(lambda x:x['locality'])\n",
    "df_complete=df_complete.drop_duplicates()\n",
    "\n",
    "df_complete.loc[(df_complete['procuringEntity_address'].isnull()),\n",
    "                'procuringEntity_address']='not_indicated'\n",
    "kiev_cond=(df_complete['procuringEntity_address'].str.contains('Киев|Київ'))\n",
    "dnipro_cond=(df_complete['procuringEntity_address'].str.contains('Дніпро|Днепр'))\n",
    "kharkiv_cond=(df_complete['procuringEntity_address'].str.contains('Харків|Харьков'))\n",
    "lviv_cond=(df_complete['procuringEntity_address'].str.contains('Львів|Львов'))\n",
    "odesa_cond=(df_complete['procuringEntity_address'].str.contains('Одеса|Одесса'))\n",
    "marik_cond=(df_complete['procuringEntity_address'].str.contains('Маріуполь|Мариуполь'))\n",
    "\n",
    "df_complete.loc[((kiev_cond)),'procuringEntity_address'] = 'Київ'\n",
    "df_complete.loc[((dnipro_cond)),'procuringEntity_address'] = 'Дніпро'\n",
    "df_complete.loc[((kharkiv_cond)),'procuringEntity_address'] = 'Харків'\n",
    "df_complete.loc[((lviv_cond)),'procuringEntity_address'] = 'Львів'\n",
    "df_complete.loc[((odesa_cond)),'procuringEntity_address'] = 'Одеса'\n",
    "df_complete.loc[((marik_cond)),'procuringEntity_address'] = 'Маріуполь'\n",
    "df_complete.loc[~((kiev_cond)|(dnipro_cond)|(kharkiv_cond)|\n",
    "     (lviv_cond)|(odesa_cond)|(marik_cond)),'procuringEntity_address'] = 'Інші'"
   ]
  },
  {
   "cell_type": "code",
   "execution_count": 5,
   "metadata": {},
   "outputs": [],
   "source": [
    "df_complete['status'] = df_complete['status'].map({'complete':1,'unsuccessful':0})"
   ]
  },
  {
   "cell_type": "code",
   "execution_count": 6,
   "metadata": {},
   "outputs": [],
   "source": [
    "new = df_complete.sample(frac=0.5)"
   ]
  },
  {
   "cell_type": "code",
   "execution_count": 7,
   "metadata": {},
   "outputs": [],
   "source": [
    "X=new.drop(['status'],axis=1).copy()\n",
    "y=new['status'].copy()"
   ]
  },
  {
   "cell_type": "code",
   "execution_count": 8,
   "metadata": {},
   "outputs": [],
   "source": [
    "import pandas as pd\n",
    "import numpy as np\n",
    "import matplotlib.pyplot as plt\n",
    "from sklearn.ensemble import RandomForestRegressor, RandomForestClassifier\n",
    "from sklearn.model_selection import train_test_split\n",
    "from sklearn.preprocessing import StandardScaler\n",
    "from sklearn.linear_model import LogisticRegression, LinearRegression\n",
    "from sklearn.pipeline import Pipeline\n",
    "from sklearn.preprocessing import OneHotEncoder\n",
    "from sklearn.metrics import classification_report\n",
    "from sklearn.model_selection import cross_val_score\n",
    "from sklearn.metrics import mean_squared_error, r2_score, mean_absolute_error, roc_auc_score, accuracy_score, f1_score, precision_score, balanced_accuracy_score"
   ]
  },
  {
   "cell_type": "code",
   "execution_count": 9,
   "metadata": {},
   "outputs": [],
   "source": [
    "med_val=full_df.groupby('id')['value_amount'].median().reset_index().rename({'value_amount':'med'},axis='columns')\n",
    "max_val=full_df.groupby('id')['value_amount'].max().reset_index().rename({'value_amount':'max'},axis='columns')\n",
    "min_val=full_df.groupby('id')['value_amount'].min().reset_index().rename({'value_amount':'min'},axis='columns')\n",
    "lot_val=full_df.groupby('id')['lots_id'].count().reset_index().rename({'lots_id':'lot_count'},axis='columns')\n",
    "l1_val=full_df.groupby('id')['items_classification_l1'].count().reset_index().rename({'items_classification_l1':'count_l1'},axis='columns')\n",
    "l2_val=full_df.groupby('id')['items_classification_l2'].count().reset_index().rename({'items_classification_l2':'count_l2'},axis='columns')\n",
    "l3_val=full_df.groupby('id')['items_classification_l3'].count().reset_index().rename({'items_classification_l3':'count_l3'},axis='columns')"
   ]
  },
  {
   "cell_type": "code",
   "execution_count": 10,
   "metadata": {
    "tags": []
   },
   "outputs": [],
   "source": [
    "doo=full_df.groupby('id')['items_classification_l1'].agg(pd.Series.mode)\n",
    "doo = doo.reset_index()"
   ]
  },
  {
   "cell_type": "code",
   "execution_count": 11,
   "metadata": {
    "tags": []
   },
   "outputs": [],
   "source": [
    "doo2=full_df.groupby('id')['items_classification_l2'].agg(pd.Series.mode)\n",
    "doo2=doo2.reset_index()"
   ]
  },
  {
   "cell_type": "code",
   "execution_count": 85,
   "metadata": {
    "jupyter": {
     "source_hidden": true
    },
    "tags": []
   },
   "outputs": [],
   "source": [
    "doo3=full_df.groupby('id')['items_classification_l3'].agg(pd.Series.mode)\n",
    "doo3=doo3.reset_index()"
   ]
  },
  {
   "cell_type": "code",
   "execution_count": 12,
   "metadata": {
    "tags": []
   },
   "outputs": [],
   "source": [
    "X = X.merge(med_val,on='id',how='inner')\n",
    "X = X.merge(max_val,on='id',how='inner')\n",
    "X = X.merge(min_val,on='id',how='inner')\n",
    "X = X.merge(lot_val,on='id',how='inner')\n",
    "X = X.merge(l1_val,on='id',how='inner')\n",
    "X = X.merge(l2_val,on='id',how='inner')\n",
    "X = X.merge(l3_val,on='id',how='inner')"
   ]
  },
  {
   "cell_type": "code",
   "execution_count": 13,
   "metadata": {},
   "outputs": [],
   "source": [
    "X = X.merge(doo,on='id',how='inner')\n",
    "X = X.merge(doo2,on='id',how='inner')"
   ]
  },
  {
   "cell_type": "code",
   "execution_count": 14,
   "metadata": {
    "tags": []
   },
   "outputs": [],
   "source": [
    "X['owner'] = X['owner'].astype('object') \n",
    "X['procuringEntity_kind'] = X['procuringEntity_kind'].astype('object') \n",
    "X['procuringEntity_address'] = X['procuringEntity_address'].astype('object') \n",
    "X['mainProcurementCategory'] = X['mainProcurementCategory'].astype('object') \n",
    "X['procurementMethod'] = X['procurementMethod'].astype('object') \n",
    "X['procurementMethodType'] = X['procurementMethodType'].astype('object') \n",
    "# X['items_classification_l3'] = X['items_classification_l3'].astype('object') "
   ]
  },
  {
   "cell_type": "code",
   "execution_count": 15,
   "metadata": {
    "tags": []
   },
   "outputs": [],
   "source": [
    "X = X.drop('id',axis=1)"
   ]
  },
  {
   "cell_type": "code",
   "execution_count": 17,
   "metadata": {
    "collapsed": true,
    "jupyter": {
     "outputs_hidden": true
    },
    "tags": []
   },
   "outputs": [
    {
     "data": {
      "text/html": [
       "<div>\n",
       "<style scoped>\n",
       "    .dataframe tbody tr th:only-of-type {\n",
       "        vertical-align: middle;\n",
       "    }\n",
       "\n",
       "    .dataframe tbody tr th {\n",
       "        vertical-align: top;\n",
       "    }\n",
       "\n",
       "    .dataframe thead th {\n",
       "        text-align: right;\n",
       "    }\n",
       "</style>\n",
       "<table border=\"1\" class=\"dataframe\">\n",
       "  <thead>\n",
       "    <tr style=\"text-align: right;\">\n",
       "      <th></th>\n",
       "      <th>month_start</th>\n",
       "      <th>week_start</th>\n",
       "      <th>year_start</th>\n",
       "      <th>dayofweek</th>\n",
       "      <th>dayofmonth</th>\n",
       "      <th>quarter</th>\n",
       "      <th>owner</th>\n",
       "      <th>value_valueAddedTaxIncluded</th>\n",
       "      <th>procuringEntity_kind</th>\n",
       "      <th>procuringEntity_address</th>\n",
       "      <th>...</th>\n",
       "      <th>procurementMethodType</th>\n",
       "      <th>med</th>\n",
       "      <th>max</th>\n",
       "      <th>min</th>\n",
       "      <th>lot_count</th>\n",
       "      <th>count_l1</th>\n",
       "      <th>count_l2</th>\n",
       "      <th>count_l3</th>\n",
       "      <th>items_classification_l1</th>\n",
       "      <th>items_classification_l2</th>\n",
       "    </tr>\n",
       "  </thead>\n",
       "  <tbody>\n",
       "    <tr>\n",
       "      <th>0</th>\n",
       "      <td>8.0</td>\n",
       "      <td>33.0</td>\n",
       "      <td>2021.0</td>\n",
       "      <td>2.0</td>\n",
       "      <td>18.0</td>\n",
       "      <td>3.0</td>\n",
       "      <td>it.ua</td>\n",
       "      <td>True</td>\n",
       "      <td>special</td>\n",
       "      <td>Київ</td>\n",
       "      <td>...</td>\n",
       "      <td>belowThreshold</td>\n",
       "      <td>124716.0</td>\n",
       "      <td>124716.0</td>\n",
       "      <td>124716.0</td>\n",
       "      <td>2</td>\n",
       "      <td>2</td>\n",
       "      <td>2</td>\n",
       "      <td>2</td>\n",
       "      <td>18000000-9</td>\n",
       "      <td>18300000-2</td>\n",
       "    </tr>\n",
       "    <tr>\n",
       "      <th>1</th>\n",
       "      <td>3.0</td>\n",
       "      <td>12.0</td>\n",
       "      <td>2021.0</td>\n",
       "      <td>1.0</td>\n",
       "      <td>23.0</td>\n",
       "      <td>1.0</td>\n",
       "      <td>netcast.com.ua</td>\n",
       "      <td>True</td>\n",
       "      <td>general</td>\n",
       "      <td>Київ</td>\n",
       "      <td>...</td>\n",
       "      <td>aboveThresholdEU</td>\n",
       "      <td>7500000.0</td>\n",
       "      <td>7500000.0</td>\n",
       "      <td>7500000.0</td>\n",
       "      <td>4</td>\n",
       "      <td>4</td>\n",
       "      <td>4</td>\n",
       "      <td>4</td>\n",
       "      <td>31000000-6</td>\n",
       "      <td>31600000-2</td>\n",
       "    </tr>\n",
       "    <tr>\n",
       "      <th>2</th>\n",
       "      <td>10.0</td>\n",
       "      <td>43.0</td>\n",
       "      <td>2021.0</td>\n",
       "      <td>0.0</td>\n",
       "      <td>25.0</td>\n",
       "      <td>4.0</td>\n",
       "      <td>netcast.com.ua</td>\n",
       "      <td>True</td>\n",
       "      <td>general</td>\n",
       "      <td>Інші</td>\n",
       "      <td>...</td>\n",
       "      <td>aboveThresholdUA</td>\n",
       "      <td>486000.0</td>\n",
       "      <td>486000.0</td>\n",
       "      <td>486000.0</td>\n",
       "      <td>2</td>\n",
       "      <td>2</td>\n",
       "      <td>2</td>\n",
       "      <td>2</td>\n",
       "      <td>30000000-9</td>\n",
       "      <td>30200000-1</td>\n",
       "    </tr>\n",
       "    <tr>\n",
       "      <th>3</th>\n",
       "      <td>7.0</td>\n",
       "      <td>26.0</td>\n",
       "      <td>2021.0</td>\n",
       "      <td>4.0</td>\n",
       "      <td>2.0</td>\n",
       "      <td>3.0</td>\n",
       "      <td>it.ua</td>\n",
       "      <td>False</td>\n",
       "      <td>special</td>\n",
       "      <td>Київ</td>\n",
       "      <td>...</td>\n",
       "      <td>aboveThresholdUA</td>\n",
       "      <td>486150.0</td>\n",
       "      <td>486150.0</td>\n",
       "      <td>486150.0</td>\n",
       "      <td>3</td>\n",
       "      <td>3</td>\n",
       "      <td>3</td>\n",
       "      <td>3</td>\n",
       "      <td>77000000-0</td>\n",
       "      <td>77300000-3</td>\n",
       "    </tr>\n",
       "    <tr>\n",
       "      <th>4</th>\n",
       "      <td>4.0</td>\n",
       "      <td>15.0</td>\n",
       "      <td>2021.0</td>\n",
       "      <td>2.0</td>\n",
       "      <td>14.0</td>\n",
       "      <td>2.0</td>\n",
       "      <td>e-tender.biz</td>\n",
       "      <td>True</td>\n",
       "      <td>general</td>\n",
       "      <td>Львів</td>\n",
       "      <td>...</td>\n",
       "      <td>belowThreshold</td>\n",
       "      <td>150010.8</td>\n",
       "      <td>150010.8</td>\n",
       "      <td>150010.8</td>\n",
       "      <td>2</td>\n",
       "      <td>2</td>\n",
       "      <td>2</td>\n",
       "      <td>2</td>\n",
       "      <td>15000000-8</td>\n",
       "      <td>15800000-6</td>\n",
       "    </tr>\n",
       "  </tbody>\n",
       "</table>\n",
       "<p>5 rows × 22 columns</p>\n",
       "</div>"
      ],
      "text/plain": [
       "  month_start week_start year_start dayofweek dayofmonth quarter  \\\n",
       "0         8.0       33.0     2021.0       2.0       18.0     3.0   \n",
       "1         3.0       12.0     2021.0       1.0       23.0     1.0   \n",
       "2        10.0       43.0     2021.0       0.0       25.0     4.0   \n",
       "3         7.0       26.0     2021.0       4.0        2.0     3.0   \n",
       "4         4.0       15.0     2021.0       2.0       14.0     2.0   \n",
       "\n",
       "            owner  value_valueAddedTaxIncluded procuringEntity_kind  \\\n",
       "0           it.ua                         True              special   \n",
       "1  netcast.com.ua                         True              general   \n",
       "2  netcast.com.ua                         True              general   \n",
       "3           it.ua                        False              special   \n",
       "4    e-tender.biz                         True              general   \n",
       "\n",
       "  procuringEntity_address  ... procurementMethodType        med        max  \\\n",
       "0                    Київ  ...        belowThreshold   124716.0   124716.0   \n",
       "1                    Київ  ...      aboveThresholdEU  7500000.0  7500000.0   \n",
       "2                    Інші  ...      aboveThresholdUA   486000.0   486000.0   \n",
       "3                    Київ  ...      aboveThresholdUA   486150.0   486150.0   \n",
       "4                   Львів  ...        belowThreshold   150010.8   150010.8   \n",
       "\n",
       "         min  lot_count  count_l1  count_l2  count_l3  \\\n",
       "0   124716.0          2         2         2         2   \n",
       "1  7500000.0          4         4         4         4   \n",
       "2   486000.0          2         2         2         2   \n",
       "3   486150.0          3         3         3         3   \n",
       "4   150010.8          2         2         2         2   \n",
       "\n",
       "   items_classification_l1  items_classification_l2  \n",
       "0               18000000-9               18300000-2  \n",
       "1               31000000-6               31600000-2  \n",
       "2               30000000-9               30200000-1  \n",
       "3               77000000-0               77300000-3  \n",
       "4               15000000-8               15800000-6  \n",
       "\n",
       "[5 rows x 22 columns]"
      ]
     },
     "execution_count": 17,
     "metadata": {},
     "output_type": "execute_result"
    }
   ],
   "source": [
    "X.head()"
   ]
  },
  {
   "cell_type": "code",
   "execution_count": 22,
   "metadata": {},
   "outputs": [],
   "source": [
    "X.to_parquet('X.parquet.gzip',compression='gzip') "
   ]
  },
  {
   "cell_type": "code",
   "execution_count": 16,
   "metadata": {},
   "outputs": [],
   "source": [
    "y.to_frame().to_parquet('y.parquet.gzip',compression='gzip') "
   ]
  },
  {
   "cell_type": "code",
   "execution_count": 3,
   "metadata": {},
   "outputs": [],
   "source": [
    "X = pd.read_parquet('X.parquet.gzip')"
   ]
  },
  {
   "cell_type": "code",
   "execution_count": 7,
   "metadata": {},
   "outputs": [],
   "source": [
    "y = pd.read_parquet('y.parquet.gzip')"
   ]
  },
  {
   "cell_type": "code",
   "execution_count": 16,
   "metadata": {
    "tags": []
   },
   "outputs": [],
   "source": [
    "X = pd.get_dummies(X,drop_first=True,sparse=True)"
   ]
  },
  {
   "cell_type": "code",
   "execution_count": 17,
   "metadata": {},
   "outputs": [],
   "source": [
    "X_train, X_test, y_train, y_test = train_test_split(X, y, test_size=0.3, random_state=42,stratify=y)"
   ]
  },
  {
   "cell_type": "code",
   "execution_count": 19,
   "metadata": {},
   "outputs": [
    {
     "name": "stderr",
     "output_type": "stream",
     "text": [
      "/tmp/ipykernel_3480/2814977569.py:2: PerformanceWarning: DataFrame is highly fragmented.  This is usually the result of calling `frame.insert` many times, which has poor performance.  Consider joining all columns at once using pd.concat(axis=1) instead.  To get a de-fragmented frame, use `newframe = frame.copy()`\n",
      "  copy_X_train['y']=y_train.values\n",
      "/tmp/ipykernel_3480/2814977569.py:4: PerformanceWarning: DataFrame is highly fragmented.  This is usually the result of calling `frame.insert` many times, which has poor performance.  Consider joining all columns at once using pd.concat(axis=1) instead.  To get a de-fragmented frame, use `newframe = frame.copy()`\n",
      "  copy_X_test['y']=y_test.values\n"
     ]
    }
   ],
   "source": [
    "copy_X_train=X_train.copy()\n",
    "copy_X_train['y']=y_train.values\n",
    "copy_X_test=X_test.copy()\n",
    "copy_X_test['y']=y_test.values"
   ]
  },
  {
   "cell_type": "code",
   "execution_count": 24,
   "metadata": {},
   "outputs": [],
   "source": [
    "import pandas as pd"
   ]
  },
  {
   "cell_type": "code",
   "execution_count": 34,
   "metadata": {},
   "outputs": [],
   "source": [
    "model = RandomForestClassifier(n_estimators=150,random_state=42,\n",
    "                               n_jobs=-1,max_depth=20)"
   ]
  },
  {
   "cell_type": "code",
   "execution_count": 35,
   "metadata": {},
   "outputs": [
    {
     "name": "stderr",
     "output_type": "stream",
     "text": [
      "/home/nalexus/dsrl2/prozorro/venv/lib/python3.8/site-packages/sklearn/utils/validation.py:624: UserWarning: pandas.DataFrame with sparse columns found.It will be converted to a dense numpy array.\n",
      "  warnings.warn(\n"
     ]
    },
    {
     "data": {
      "text/plain": [
       "RandomForestClassifier(max_depth=20, n_estimators=150, n_jobs=-1,\n",
       "                       random_state=42)"
      ]
     },
     "execution_count": 35,
     "metadata": {},
     "output_type": "execute_result"
    }
   ],
   "source": [
    "# pipeline = Pipeline([('reg', model)])\n",
    "model.fit(X_train,y_train)"
   ]
  },
  {
   "cell_type": "code",
   "execution_count": 43,
   "metadata": {},
   "outputs": [],
   "source": [
    "import pickle"
   ]
  },
  {
   "cell_type": "code",
   "execution_count": 44,
   "metadata": {},
   "outputs": [],
   "source": [
    "filename = 'finalized_model.sav'\n",
    "pickle.dump(model, open(filename, 'wb'))"
   ]
  },
  {
   "cell_type": "code",
   "execution_count": 36,
   "metadata": {},
   "outputs": [
    {
     "name": "stderr",
     "output_type": "stream",
     "text": [
      "/home/nalexus/dsrl2/prozorro/venv/lib/python3.8/site-packages/sklearn/utils/validation.py:624: UserWarning: pandas.DataFrame with sparse columns found.It will be converted to a dense numpy array.\n",
      "  warnings.warn(\n"
     ]
    }
   ],
   "source": [
    "y_pred = model.predict(X_test)"
   ]
  },
  {
   "cell_type": "code",
   "execution_count": 37,
   "metadata": {},
   "outputs": [
    {
     "name": "stdout",
     "output_type": "stream",
     "text": [
      "true:\n",
      "1.0    0.661893\n",
      "0.0    0.338107\n",
      "Name: status, dtype: float64\n",
      "pred:\n",
      "1.0    0.775194\n",
      "0.0    0.224806\n",
      "dtype: float64\n"
     ]
    }
   ],
   "source": [
    "print('true:')\n",
    "print(y_test.value_counts(normalize=True))\n",
    "print('pred:')\n",
    "print(pd.Series(y_pred).value_counts(normalize=True))"
   ]
  },
  {
   "cell_type": "code",
   "execution_count": 38,
   "metadata": {},
   "outputs": [
    {
     "data": {
      "text/plain": [
       "0.8421465855190488"
      ]
     },
     "execution_count": 38,
     "metadata": {},
     "output_type": "execute_result"
    }
   ],
   "source": [
    "accuracy_score(y_test,y_pred)"
   ]
  },
  {
   "cell_type": "code",
   "execution_count": 39,
   "metadata": {},
   "outputs": [
    {
     "data": {
      "text/plain": [
       "0.7826777339984139"
      ]
     },
     "execution_count": 39,
     "metadata": {},
     "output_type": "execute_result"
    }
   ],
   "source": [
    "balanced_accuracy_score(y_test,y_pred)"
   ]
  },
  {
   "cell_type": "code",
   "execution_count": 40,
   "metadata": {},
   "outputs": [
    {
     "data": {
      "text/plain": [
       "0.8901573809281594"
      ]
     },
     "execution_count": 40,
     "metadata": {},
     "output_type": "execute_result"
    }
   ],
   "source": [
    "f1_score(y_test,y_pred)"
   ]
  },
  {
   "cell_type": "code",
   "execution_count": 41,
   "metadata": {},
   "outputs": [
    {
     "data": {
      "text/plain": [
       "0.8251051227246693"
      ]
     },
     "execution_count": 41,
     "metadata": {},
     "output_type": "execute_result"
    }
   ],
   "source": [
    "precision_score(y_test,y_pred)"
   ]
  },
  {
   "cell_type": "code",
   "execution_count": 42,
   "metadata": {},
   "outputs": [
    {
     "data": {
      "image/png": "[encoded data removed]",
      "text/plain": [
       "<Figure size 432x288 with 2 Axes>"
      ]
     },
     "metadata": {
      "needs_background": "light"
     },
     "output_type": "display_data"
    }
   ],
   "source": [
    "from sklearn.metrics import confusion_matrix\n",
    "from sklearn.metrics import ConfusionMatrixDisplay\n",
    "\n",
    "cm = confusion_matrix(y_test, y_pred,normalize='true')\n",
    "\n",
    "cm_display = ConfusionMatrixDisplay(cm).plot()"
   ]
  },
  {
   "cell_type": "markdown",
   "metadata": {},
   "source": [
    "This is from unconstrained max depth:"
   ]
  },
  {
   "cell_type": "code",
   "execution_count": 37,
   "metadata": {
    "jupyter": {
     "source_hidden": true
    },
    "tags": []
   },
   "outputs": [
    {
     "data": {
      "image/png": "[encoded data removed]",
      "text/plain": [
       "<Figure size 432x288 with 2 Axes>"
      ]
     },
     "metadata": {
      "needs_background": "light"
     },
     "output_type": "display_data"
    }
   ],
   "source": [
    "from sklearn.metrics import confusion_matrix\n",
    "from sklearn.metrics import ConfusionMatrixDisplay\n",
    "\n",
    "cm = confusion_matrix(y_test, y_pred,normalize='true')\n",
    "\n",
    "cm_display = ConfusionMatrixDisplay(cm).plot()"
   ]
  },
  {
   "cell_type": "code",
   "execution_count": 47,
   "metadata": {},
   "outputs": [
    {
     "name": "stderr",
     "output_type": "stream",
     "text": [
      "/home/nalexus/dsrl2/prozorro/venv/lib/python3.8/site-packages/sklearn/utils/validation.py:624: UserWarning: pandas.DataFrame with sparse columns found.It will be converted to a dense numpy array.\n",
      "  warnings.warn(\n"
     ]
    }
   ],
   "source": [
    "y_pred = model.predict_proba(X_test)"
   ]
  },
  {
   "cell_type": "code",
   "execution_count": 39,
   "metadata": {},
   "outputs": [
    {
     "data": {
      "text/plain": [
       "0.9158296214139963"
      ]
     },
     "execution_count": 39,
     "metadata": {},
     "output_type": "execute_result"
    }
   ],
   "source": [
    "roc_auc_score(y_test, y_pred[:,1])"
   ]
  },
  {
   "cell_type": "code",
   "execution_count": 63,
   "metadata": {},
   "outputs": [],
   "source": [
    "feature_names = [col for col in X_train.columns]"
   ]
  },
  {
   "cell_type": "code",
   "execution_count": 65,
   "metadata": {},
   "outputs": [],
   "source": [
    "importances=model.feature_importances_"
   ]
  },
  {
   "cell_type": "code",
   "execution_count": 66,
   "metadata": {},
   "outputs": [],
   "source": [
    "forest_importances = pd.Series(importances, index=feature_names)"
   ]
  },
  {
   "cell_type": "code",
   "execution_count": 73,
   "metadata": {},
   "outputs": [
    {
     "data": {
      "image/png": "[encoded data removed]",
      "text/plain": [
       "<Figure size 432x288 with 1 Axes>"
      ]
     },
     "metadata": {
      "needs_background": "light"
     },
     "output_type": "display_data"
    }
   ],
   "source": [
    "forest_importances.round(5).sort_values(ascending=False)[:20].plot(kind='bar')\n",
    "plt.show()"
   ]
  },
  {
   "cell_type": "code",
   "execution_count": 35,
   "metadata": {},
   "outputs": [],
   "source": [
    "from sklearn.inspection import PartialDependenceDisplay"
   ]
  },
  {
   "cell_type": "code",
   "execution_count": 49,
   "metadata": {
    "jupyter": {
     "source_hidden": true
    },
    "tags": []
   },
   "outputs": [],
   "source": [
    "# X_train.sample(1000).to_csv('train.csv',index=False)"
   ]
  },
  {
   "cell_type": "code",
   "execution_count": 61,
   "metadata": {
    "collapsed": true,
    "jupyter": {
     "outputs_hidden": true,
     "source_hidden": true
    },
    "tags": []
   },
   "outputs": [
    {
     "data": {
      "text/plain": [
       "Index(['value_valueAddedTaxIncluded', 'med', 'max', 'min', 'lot_count',\n",
       "       'count_l1', 'count_l2', 'count_l3', 'month_start_2.0',\n",
       "       'month_start_3.0',\n",
       "       ...\n",
       "       'items_classification_l2_92300000-4',\n",
       "       'items_classification_l2_92400000-5',\n",
       "       'items_classification_l2_92500000-6',\n",
       "       'items_classification_l2_92600000-7',\n",
       "       'items_classification_l2_98000000-3',\n",
       "       'items_classification_l2_98100000-4',\n",
       "       'items_classification_l2_98300000-6',\n",
       "       'items_classification_l2_98500000-8',\n",
       "       'items_classification_l2_98900000-2',\n",
       "       'items_classification_l2_99999999-9'],\n",
       "      dtype='object', length=501)"
      ]
     },
     "execution_count": 61,
     "metadata": {},
     "output_type": "execute_result"
    }
   ],
   "source": [
    "# X_train.columns"
   ]
  },
  {
   "cell_type": "code",
   "execution_count": 79,
   "metadata": {},
   "outputs": [],
   "source": [
    "import warnings\n",
    "warnings.filterwarnings(\"ignore\")"
   ]
  },
  {
   "cell_type": "code",
   "execution_count": 90,
   "metadata": {
    "tags": []
   },
   "outputs": [],
   "source": [
    "import matplotlib.pyplot as plt\n",
    "from sklearn.inspection import partial_dependence\n",
    "from sklearn.inspection import PartialDependenceDisplay"
   ]
  },
  {
   "cell_type": "code",
   "execution_count": 91,
   "metadata": {},
   "outputs": [
    {
     "name": "stdout",
     "output_type": "stream",
     "text": [
      "Computing partial dependence plots...\n"
     ]
    },
    {
     "data": {
      "image/png": "[encoded data removed]",
      "text/plain": [
       "<Figure size 432x288 with 2 Axes>"
      ]
     },
     "metadata": {
      "needs_background": "light"
     },
     "output_type": "display_data"
    }
   ],
   "source": [
    "\n",
    "print(\"Computing partial dependence plots...\")\n",
    "features = ['lot_count']\n",
    "display = PartialDependenceDisplay.from_estimator(\n",
    "    model,\n",
    "    X_train.sample(1000),\n",
    "    features,\n",
    "    kind=\"average\",\n",
    "    subsample=100,\n",
    "    n_jobs=1,\n",
    "    random_state=0\n",
    ")\n",
    "\n",
    "display.figure_.suptitle(\n",
    "    \"Partial dependence of amount of lots in action on success of auction\"\n",
    ")\n",
    "display.figure_.subplots_adjust(hspace=0.3)\n",
    "plt.show()"
   ]
  },
  {
   "cell_type": "code",
   "execution_count": 92,
   "metadata": {},
   "outputs": [
    {
     "name": "stdout",
     "output_type": "stream",
     "text": [
      "Computing partial dependence plots...\n"
     ]
    },
    {
     "data": {
      "image/png": "[encoded data removed]",
      "text/plain": [
       "<Figure size 432x288 with 2 Axes>"
      ]
     },
     "metadata": {
      "needs_background": "light"
     },
     "output_type": "display_data"
    }
   ],
   "source": [
    "\n",
    "print(\"Computing partial dependence plots...\")\n",
    "features = ['count_l3']\n",
    "display = PartialDependenceDisplay.from_estimator(\n",
    "    model,\n",
    "    X_train.sample(1000),\n",
    "    features,\n",
    "    kind=\"average\",\n",
    "    subsample=100,\n",
    "    n_jobs=1,\n",
    "    random_state=0\n",
    ")\n",
    "\n",
    "display.figure_.suptitle(\n",
    "    \"Partial dependence of number of auction item types on success of auction\"\n",
    ")\n",
    "display.figure_.subplots_adjust(hspace=0.3)\n",
    "plt.show()"
   ]
  },
  {
   "cell_type": "code",
   "execution_count": 94,
   "metadata": {},
   "outputs": [
    {
     "name": "stdout",
     "output_type": "stream",
     "text": [
      "Computing partial dependence plots...\n"
     ]
    },
    {
     "data": {
      "image/png": "[encoded data removed]",
      "text/plain": [
       "<Figure size 432x288 with 2 Axes>"
      ]
     },
     "metadata": {
      "needs_background": "light"
     },
     "output_type": "display_data"
    }
   ],
   "source": [
    "print(\"Computing partial dependence plots...\")\n",
    "features = ['min']\n",
    "display = PartialDependenceDisplay.from_estimator(\n",
    "    model,\n",
    "    X_train.sample(1000),\n",
    "    features,\n",
    "    kind=\"average\",\n",
    "    subsample=100,\n",
    "    n_jobs=1,\n",
    "    random_state=0\n",
    ")\n",
    "\n",
    "display.figure_.suptitle(\n",
    "    \"Partial dependence of number of min value of lot on success of auction\"\n",
    ")\n",
    "display.figure_.subplots_adjust(hspace=0.3)\n",
    "plt.show()"
   ]
  },
  {
   "cell_type": "markdown",
   "metadata": {},
   "source": [
    "**Conclusion**:\n",
    "\n",
    "- The bigger is the minimal lot value in auction the bigger is chance of its success, but after some point this effect does not continue\n",
    "\n",
    "- The bigger is amount of variation of item types in acution the bigger is chance of its success , but after some point this effect does not continue.\n",
    "\n",
    "- The bigger is amount of lots in acution the bigger is chance of its success , but after some point this effect does not continue."
   ]
  }
 ],
 "metadata": {
  "interpreter": {
   "hash": "8b793f5bcb65162c203a8f7ab5f10da95fa3f746ebbc21691ed336cc34611f1b"
  },
  "kernelspec": {
   "display_name": "Python 3 (ipykernel)",
   "language": "python",
   "name": "python3"
  },
  "language_info": {
   "codemirror_mode": {
    "name": "ipython",
    "version": 3
   },
   "file_extension": ".py",
   "mimetype": "text/x-python",
   "name": "python",
   "nbconvert_exporter": "python",
   "pygments_lexer": "ipython3",
   "version": "3.8.10"
  }
 },
 "nbformat": 4,
 "nbformat_minor": 4
}
