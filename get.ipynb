{
 "cells": [
  {
   "cell_type": "code",
   "execution_count": 84,
   "metadata": {},
   "outputs": [
    {
     "name": "stdout",
     "output_type": "stream",
     "text": [
      "Requirement already satisfied: seaborn in /opt/anaconda3/envs/env/lib/python3.8/site-packages (0.11.2)\n",
      "Requirement already satisfied: matplotlib>=2.2 in /opt/anaconda3/envs/env/lib/python3.8/site-packages (from seaborn) (3.4.3)\n",
      "Requirement already satisfied: scipy>=1.0 in /opt/anaconda3/envs/env/lib/python3.8/site-packages (from seaborn) (1.7.1)\n",
      "Requirement already satisfied: pandas>=0.23 in /opt/anaconda3/envs/env/lib/python3.8/site-packages (from seaborn) (1.2.4)\n",
      "Requirement already satisfied: numpy>=1.15 in /opt/anaconda3/envs/env/lib/python3.8/site-packages (from seaborn) (1.20.1)\n",
      "Requirement already satisfied: kiwisolver>=1.0.1 in /opt/anaconda3/envs/env/lib/python3.8/site-packages (from matplotlib>=2.2->seaborn) (1.3.2)\n",
      "Requirement already satisfied: python-dateutil>=2.7 in /opt/anaconda3/envs/env/lib/python3.8/site-packages (from matplotlib>=2.2->seaborn) (2.8.1)\n",
      "Requirement already satisfied: pillow>=6.2.0 in /opt/anaconda3/envs/env/lib/python3.8/site-packages (from matplotlib>=2.2->seaborn) (8.4.0)\n",
      "Requirement already satisfied: cycler>=0.10 in /opt/anaconda3/envs/env/lib/python3.8/site-packages (from matplotlib>=2.2->seaborn) (0.11.0)\n",
      "Requirement already satisfied: pyparsing>=2.2.1 in /opt/anaconda3/envs/env/lib/python3.8/site-packages (from matplotlib>=2.2->seaborn) (2.4.7)\n",
      "Requirement already satisfied: pytz>=2017.3 in /opt/anaconda3/envs/env/lib/python3.8/site-packages (from pandas>=0.23->seaborn) (2021.1)\n",
      "Requirement already satisfied: six>=1.5 in /opt/anaconda3/envs/env/lib/python3.8/site-packages (from python-dateutil>=2.7->matplotlib>=2.2->seaborn) (1.15.0)\n",
      "\u001b[33mWARNING: You are using pip version 21.1.2; however, version 21.3.1 is available.\n",
      "You should consider upgrading via the '/opt/anaconda3/envs/env/bin/python -m pip install --upgrade pip' command.\u001b[0m\n"
     ]
    }
   ],
   "source": [
    "!pip install seaborn"
   ]
  },
  {
   "cell_type": "code",
   "execution_count": 1,
   "metadata": {},
   "outputs": [],
   "source": [
    "import requests \n",
    "from pprint import pprint as pp\n",
    "import pandas as pd \n",
    "from tqdm import tqdm \n",
    "from datetime import date \n",
    "import seaborn as sns\n",
    "import matplotlib.pyplot as plt\n",
    "\n",
    "import os\n",
    "import numpy as np\n",
    "\n",
    "from pymongo import MongoClient\n",
    "from IPython.display import clear_output \n",
    "\n",
    "%matplotlib inline"
   ]
  },
  {
   "cell_type": "markdown",
   "metadata": {},
   "source": [
    "[tender Schema](https://gist.github.com/imaginal/bf19e659b34b6acd7ee002f6b88dbf81)\n",
    "\n",
    "[interesting example, lots, multiple awards ect](https://public.api.openprocurement.org/api/2.5/tenders/98d54c150056474fbedb5420f8aad0d9)"
   ]
  },
  {
   "cell_type": "markdown",
   "metadata": {},
   "source": [
    "## Download data from API\n",
    "\n",
    "Depricated: Use scrapy"
   ]
  },
  {
   "cell_type": "code",
   "execution_count": 3,
   "metadata": {},
   "outputs": [
    {
     "data": {
      "text/plain": [
       "datetime.datetime(2021, 9, 1, 0, 0)"
      ]
     },
     "execution_count": 3,
     "metadata": {},
     "output_type": "execute_result"
    }
   ],
   "source": [
    "import datetime\n",
    "\n",
    "\n",
    "datetime.datetime.fromisoformat('2021-10-01') - datetime.timedelta(days=30)"
   ]
  },
  {
   "cell_type": "code",
   "execution_count": 4,
   "metadata": {},
   "outputs": [],
   "source": [
    "from urllib.parse import urlparse, parse_qsl, urljoin\n",
    "import datetime\n",
    "\n",
    "tz = datetime.timezone(datetime.timedelta(seconds=10800))\n",
    "start_date = datetime.datetime(2021,1,1,tzinfo=tz)\n",
    "end_date = datetime.datetime(2021,10,1,tzinfo=tz)\n",
    "\n",
    "api_path = \"https://public.api.openprocurement.org/api/2.5/\"\n",
    "\n",
    "next_page_url = urljoin(api_path,f\"tenders?offset={start_date.isoformat()}\")\n",
    "offset_date = start_date\n",
    "\n",
    "tender_ids = []\n",
    "\n",
    "while offset_date<end_date:\n",
    "\n",
    "    clear_output()\n",
    "    print(f'Date {offset_date} tender ids {len(tender_ids) }')\n",
    "\n",
    "    page = requests.get(next_page_url).json()\n",
    "    \n",
    "    # new next page\n",
    "    next_page_url = page[\"next_page\"][\"uri\"]    \n",
    "\n",
    "    tender_ids += [tender[\"id\"] for tender in page[\"data\"]]\n",
    "\n",
    "    qs = dict(\n",
    "        parse_qsl(\n",
    "            urlparse(next_page_url).query\n",
    "            )\n",
    "        )\n",
    "\n",
    "    # to compare with end date\n",
    "    offset_date = datetime.datetime.fromisoformat(qs['offset'])\n",
    "\n",
    "# unique\n",
    "tender_ids = list(set(tender_ids))"
   ]
  },
  {
   "cell_type": "code",
   "execution_count": null,
   "metadata": {},
   "outputs": [],
   "source": [
    "with open('./scraper/tender_ids.txt', 'w') as f:\n",
    "    f.writelines(s + '\\n' for s in tender_ids)"
   ]
  },
  {
   "cell_type": "code",
   "execution_count": 163,
   "metadata": {},
   "outputs": [
    {
     "data": {
      "text/plain": [
       "476400"
      ]
     },
     "execution_count": 163,
     "metadata": {},
     "output_type": "execute_result"
    }
   ],
   "source": [
    "with open('./scraper/tender_ids.txt', 'r') as f:\n",
    "    tender_ids = [line.strip() for line in f.readlines()]\n",
    "\n",
    "len(tender_ids)"
   ]
  },
  {
   "cell_type": "code",
   "execution_count": 19,
   "metadata": {},
   "outputs": [],
   "source": [
    "client = MongoClient()\n",
    "db = client['prozorro']\n",
    "tenders_collection = db['tenders']\n",
    "\n",
    "# USE SPIDER - work faster and has outothrottle mechanism\n",
    "def get_tender(tender_id):\n",
    "    response = requests.get(\n",
    "        urljoin(api_path+'tenders/', tender_id)\n",
    "    ).json()\n",
    "\n",
    "    tender = response[\"data\"]\n",
    "\n",
    "    del tender['id']\n",
    "    \n",
    "    update_info = tenders_collection.update({'_id':tender_id}, tender, upsert=True)\n",
    "    return update_info\n",
    "\n",
    "# slow\n",
    "for tender_id in tqdm(tender_ids):\n",
    "    \n",
    "    get_tender(tender_id)\n"
   ]
  },
  {
   "cell_type": "code",
   "execution_count": 172,
   "metadata": {},
   "outputs": [],
   "source": [
    "import concurrent.futures\n",
    "\n",
    "# faster\n",
    "\n",
    "# with concurrent.futures.ThreadPoolExecutor() as executor:\n",
    "#     for tender_id, prime in zip(tender_ids, executor.map(get_tender, tender_ids)):\n",
    "#         clear_output()\n",
    "#         print('Tender %s is acknowledged: %s' % (tender_id, prime))"
   ]
  },
  {
   "cell_type": "markdown",
   "metadata": {},
   "source": [
    "## Get data from local Mongo DB"
   ]
  },
  {
   "cell_type": "markdown",
   "metadata": {},
   "source": [
    "### Read mongo"
   ]
  },
  {
   "cell_type": "code",
   "execution_count": 2,
   "metadata": {},
   "outputs": [],
   "source": [
    "client = MongoClient()\n",
    "db = client['prozorro']\n",
    "tenders_collection = db['tenders']"
   ]
  },
  {
   "cell_type": "code",
   "execution_count": 3,
   "metadata": {},
   "outputs": [],
   "source": [
    "# https://docs.mongodb.com/manual/tutorial/project-fields-from-query-results/#return-specific-fields-in-embedded-documents\n",
    "\n",
    "def read_mongo(db, collection, query={}, fields=None, id_to_index=False, limit: int = 0):\n",
    "    \"\"\" Read from Mongo and Store into DataFrame \"\"\"\n",
    "\n",
    "    # Make a query to the specific DB and Collection\n",
    "    \n",
    "    # filter fields\n",
    "    _fields = None\n",
    "    if fields is not None:\n",
    "        _fields = fields if isinstance(fields, dict) else {field:1 for field in fields}\n",
    "\n",
    "    cursor = db[collection].find(query, _fields)\n",
    "\n",
    "    if limit:\n",
    "        cursor.limit(limit)\n",
    "\n",
    "    # Expand the cursor and construct the DataFrame\n",
    "    df =  pd.DataFrame(list(cursor)).rename(columns={'_id':'id'})\n",
    "\n",
    "    # Delete the _id\n",
    "    if id_to_index:\n",
    "        df.set_index('id')\n",
    "\n",
    "    return df\n",
    "\n",
    "# You can put filter here or later in pandas dataset\n",
    "# equvalent to\n",
    "# SELECT fields\n",
    "#   FROM collection\n",
    "#   WHERE query\n",
    "# df = read_mongo(db, collection='tenders', query={'status':'complete'}, fields=['status', 'items'])\n"
   ]
  },
  {
   "cell_type": "code",
   "execution_count": 13,
   "metadata": {},
   "outputs": [],
   "source": [
    "df = read_mongo(db, collection='tenders', query={'status':'complete'}, fields=['status', 'awards', 'bids'], limit=10000)"
   ]
  },
  {
   "cell_type": "markdown",
   "metadata": {},
   "source": [
    "### Nested collection to separate dataframe"
   ]
  },
  {
   "cell_type": "code",
   "execution_count": 14,
   "metadata": {},
   "outputs": [],
   "source": [
    "# subcollection to df\n",
    "items = []\n",
    "\n",
    "for row in df.itertuples():\n",
    "    for itm in row.items:\n",
    "        items.append({\n",
    "            **itm,\n",
    "            'tender_id':row.id})\n",
    "        \n",
    "items_df = pd.DataFrame(items)\n",
    "del items"
   ]
  },
  {
   "cell_type": "code",
   "execution_count": 15,
   "metadata": {},
   "outputs": [],
   "source": [
    "items_df['classification_scheme'] = items_df.classification.apply(lambda x: x['scheme'])\n",
    "items_df['classification_code'] = items_df.classification.apply(lambda x: x.get('id',None))\n",
    "items_df['classification_description'] = items_df.classification.apply(lambda x: x.get('description',None))\n"
   ]
  },
  {
   "cell_type": "code",
   "execution_count": 16,
   "metadata": {},
   "outputs": [
    {
     "data": {
      "text/html": [
       "<div>\n",
       "<style scoped>\n",
       "    .dataframe tbody tr th:only-of-type {\n",
       "        vertical-align: middle;\n",
       "    }\n",
       "\n",
       "    .dataframe tbody tr th {\n",
       "        vertical-align: top;\n",
       "    }\n",
       "\n",
       "    .dataframe thead th {\n",
       "        text-align: right;\n",
       "    }\n",
       "</style>\n",
       "<table border=\"1\" class=\"dataframe\">\n",
       "  <thead>\n",
       "    <tr style=\"text-align: right;\">\n",
       "      <th></th>\n",
       "      <th>id</th>\n",
       "      <th>description</th>\n",
       "      <th>quantity</th>\n",
       "      <th>classification</th>\n",
       "      <th>unit</th>\n",
       "      <th>deliveryDate</th>\n",
       "      <th>deliveryAddress</th>\n",
       "      <th>tender_id</th>\n",
       "      <th>additionalClassifications</th>\n",
       "      <th>deliveryLocation</th>\n",
       "      <th>relatedLot</th>\n",
       "      <th>description_en</th>\n",
       "      <th>classification_scheme</th>\n",
       "      <th>classification_code</th>\n",
       "      <th>classification_description</th>\n",
       "    </tr>\n",
       "  </thead>\n",
       "  <tbody>\n",
       "    <tr>\n",
       "      <th>0</th>\n",
       "      <td>9a63616c7ce84a26a8743d974eee647e</td>\n",
       "      <td>Електрична енергія з оплатою розподілу через п...</td>\n",
       "      <td>194000.0</td>\n",
       "      <td>{'description': 'Електрична енергія', 'scheme'...</td>\n",
       "      <td>{'name': 'кВт⋅год', 'code': 'KWH'}</td>\n",
       "      <td>{'startDate': '2021-01-01T00:00:00+02:00', 'en...</td>\n",
       "      <td>{'streetAddress': 'Курчатова 11', 'locality': ...</td>\n",
       "      <td>fb1e3124a4084c619c28c9a01c8a7bad</td>\n",
       "      <td>NaN</td>\n",
       "      <td>NaN</td>\n",
       "      <td>NaN</td>\n",
       "      <td>NaN</td>\n",
       "      <td>ДК021</td>\n",
       "      <td>09310000-5</td>\n",
       "      <td>Електрична енергія</td>\n",
       "    </tr>\n",
       "    <tr>\n",
       "      <th>1</th>\n",
       "      <td>e9309354b5994fca8962019ad36c0856</td>\n",
       "      <td>Електрична енергія з оплатою розподілу через п...</td>\n",
       "      <td>435000.0</td>\n",
       "      <td>{'description': 'Електрична енергія', 'scheme'...</td>\n",
       "      <td>{'name': 'кВт⋅год', 'code': 'KWH'}</td>\n",
       "      <td>{'startDate': '2021-01-01T00:00:00+02:00', 'en...</td>\n",
       "      <td>{'streetAddress': 'Геофізиків, 10', 'locality'...</td>\n",
       "      <td>911611564c4240e7b77ee5a5a5f7f05d</td>\n",
       "      <td>NaN</td>\n",
       "      <td>NaN</td>\n",
       "      <td>NaN</td>\n",
       "      <td>NaN</td>\n",
       "      <td>ДК021</td>\n",
       "      <td>09310000-5</td>\n",
       "      <td>Електрична енергія</td>\n",
       "    </tr>\n",
       "    <tr>\n",
       "      <th>2</th>\n",
       "      <td>131afb8d63b4bc56c9adcbb1872b2249</td>\n",
       "      <td>бюлетні</td>\n",
       "      <td>326.0</td>\n",
       "      <td>{'description': 'Бланки', 'scheme': 'ДК021', '...</td>\n",
       "      <td>{'name': 'шт', 'code': 'H87', 'value': {'amoun...</td>\n",
       "      <td>{'startDate': '2020-12-29T10:01:46+02:00', 'en...</td>\n",
       "      <td>{'streetAddress': 'вул. Завгороднього, 9', 'lo...</td>\n",
       "      <td>dc220e19c3b042078f6c25867e4e5550</td>\n",
       "      <td>NaN</td>\n",
       "      <td>NaN</td>\n",
       "      <td>NaN</td>\n",
       "      <td>NaN</td>\n",
       "      <td>ДК021</td>\n",
       "      <td>22820000-4</td>\n",
       "      <td>Бланки</td>\n",
       "    </tr>\n",
       "    <tr>\n",
       "      <th>3</th>\n",
       "      <td>5d9d6faedfed69264968b4ac1676bbba</td>\n",
       "      <td>протоколи</td>\n",
       "      <td>20.0</td>\n",
       "      <td>{'description': 'Бланки', 'scheme': 'ДК021', '...</td>\n",
       "      <td>{'name': 'шт', 'code': 'H87', 'value': {'amoun...</td>\n",
       "      <td>{'startDate': '2020-12-29T10:01:46+02:00', 'en...</td>\n",
       "      <td>{'streetAddress': 'вул. Завгороднього, 9', 'lo...</td>\n",
       "      <td>dc220e19c3b042078f6c25867e4e5550</td>\n",
       "      <td>NaN</td>\n",
       "      <td>NaN</td>\n",
       "      <td>NaN</td>\n",
       "      <td>NaN</td>\n",
       "      <td>ДК021</td>\n",
       "      <td>22820000-4</td>\n",
       "      <td>Бланки</td>\n",
       "    </tr>\n",
       "    <tr>\n",
       "      <th>4</th>\n",
       "      <td>af6856d348cf4ca694924fbbf8b74edb</td>\n",
       "      <td>Експертиза робочого проекту \"Капітальний ремон...</td>\n",
       "      <td>1.0</td>\n",
       "      <td>{'description': 'Експертні послуги', 'scheme':...</td>\n",
       "      <td>{'name': 'послуга', 'code': 'E48'}</td>\n",
       "      <td>{'endDate': '2020-12-31T00:00:00+02:00'}</td>\n",
       "      <td>{'streetAddress': '1 Травня ,7а', 'locality': ...</td>\n",
       "      <td>ef81bc6bc5044f4e91df4dc288f9ac4b</td>\n",
       "      <td>NaN</td>\n",
       "      <td>NaN</td>\n",
       "      <td>NaN</td>\n",
       "      <td>NaN</td>\n",
       "      <td>ДК021</td>\n",
       "      <td>71319000-7</td>\n",
       "      <td>Експертні послуги</td>\n",
       "    </tr>\n",
       "  </tbody>\n",
       "</table>\n",
       "</div>"
      ],
      "text/plain": [
       "                                 id  \\\n",
       "0  9a63616c7ce84a26a8743d974eee647e   \n",
       "1  e9309354b5994fca8962019ad36c0856   \n",
       "2  131afb8d63b4bc56c9adcbb1872b2249   \n",
       "3  5d9d6faedfed69264968b4ac1676bbba   \n",
       "4  af6856d348cf4ca694924fbbf8b74edb   \n",
       "\n",
       "                                         description  quantity  \\\n",
       "0  Електрична енергія з оплатою розподілу через п...  194000.0   \n",
       "1  Електрична енергія з оплатою розподілу через п...  435000.0   \n",
       "2                                            бюлетні     326.0   \n",
       "3                                          протоколи      20.0   \n",
       "4  Експертиза робочого проекту \"Капітальний ремон...       1.0   \n",
       "\n",
       "                                      classification  \\\n",
       "0  {'description': 'Електрична енергія', 'scheme'...   \n",
       "1  {'description': 'Електрична енергія', 'scheme'...   \n",
       "2  {'description': 'Бланки', 'scheme': 'ДК021', '...   \n",
       "3  {'description': 'Бланки', 'scheme': 'ДК021', '...   \n",
       "4  {'description': 'Експертні послуги', 'scheme':...   \n",
       "\n",
       "                                                unit  \\\n",
       "0                 {'name': 'кВт⋅год', 'code': 'KWH'}   \n",
       "1                 {'name': 'кВт⋅год', 'code': 'KWH'}   \n",
       "2  {'name': 'шт', 'code': 'H87', 'value': {'amoun...   \n",
       "3  {'name': 'шт', 'code': 'H87', 'value': {'amoun...   \n",
       "4                 {'name': 'послуга', 'code': 'E48'}   \n",
       "\n",
       "                                        deliveryDate  \\\n",
       "0  {'startDate': '2021-01-01T00:00:00+02:00', 'en...   \n",
       "1  {'startDate': '2021-01-01T00:00:00+02:00', 'en...   \n",
       "2  {'startDate': '2020-12-29T10:01:46+02:00', 'en...   \n",
       "3  {'startDate': '2020-12-29T10:01:46+02:00', 'en...   \n",
       "4           {'endDate': '2020-12-31T00:00:00+02:00'}   \n",
       "\n",
       "                                     deliveryAddress  \\\n",
       "0  {'streetAddress': 'Курчатова 11', 'locality': ...   \n",
       "1  {'streetAddress': 'Геофізиків, 10', 'locality'...   \n",
       "2  {'streetAddress': 'вул. Завгороднього, 9', 'lo...   \n",
       "3  {'streetAddress': 'вул. Завгороднього, 9', 'lo...   \n",
       "4  {'streetAddress': '1 Травня ,7а', 'locality': ...   \n",
       "\n",
       "                          tender_id additionalClassifications  \\\n",
       "0  fb1e3124a4084c619c28c9a01c8a7bad                       NaN   \n",
       "1  911611564c4240e7b77ee5a5a5f7f05d                       NaN   \n",
       "2  dc220e19c3b042078f6c25867e4e5550                       NaN   \n",
       "3  dc220e19c3b042078f6c25867e4e5550                       NaN   \n",
       "4  ef81bc6bc5044f4e91df4dc288f9ac4b                       NaN   \n",
       "\n",
       "  deliveryLocation relatedLot description_en classification_scheme  \\\n",
       "0              NaN        NaN            NaN                 ДК021   \n",
       "1              NaN        NaN            NaN                 ДК021   \n",
       "2              NaN        NaN            NaN                 ДК021   \n",
       "3              NaN        NaN            NaN                 ДК021   \n",
       "4              NaN        NaN            NaN                 ДК021   \n",
       "\n",
       "  classification_code classification_description  \n",
       "0          09310000-5         Електрична енергія  \n",
       "1          09310000-5         Електрична енергія  \n",
       "2          22820000-4                     Бланки  \n",
       "3          22820000-4                     Бланки  \n",
       "4          71319000-7          Експертні послуги  "
      ]
     },
     "execution_count": 16,
     "metadata": {},
     "output_type": "execute_result"
    }
   ],
   "source": [
    "items_df.head()"
   ]
  },
  {
   "cell_type": "markdown",
   "metadata": {},
   "source": [
    "## DK021 normalization "
   ]
  },
  {
   "cell_type": "code",
   "execution_count": 22,
   "metadata": {},
   "outputs": [],
   "source": [
    "from utils.dk021 import DK021\n",
    "\n",
    "classifier = DK021.load('./data/dk021.csv')\n",
    "\n",
    "items_df['code_l1'] = items_df.classification_code.apply(lambda code: classifier.get_level_category(code=code, level=1).description)"
   ]
  },
  {
   "cell_type": "code",
   "execution_count": 23,
   "metadata": {},
   "outputs": [
    {
     "data": {
      "text/plain": [
       "Продукти харчування, напої, тютюн та супутня продукція                                                                                        2203\n",
       "Медичне обладнання, фармацевтична продукція та засоби особистої гігієни                                                                       2100\n",
       "Нафтопродукти, паливо, електроенергія та інші джерела енергії                                                                                 1685\n",
       "Конструкції та конструкційні матеріали; допоміжна будівельна продукція (крім електроапаратури)                                                1066\n",
       "Комунальні послуги                                                                                                                             851\n",
       "Послуги з ремонту і технічного обслуговування                                                                                                  846\n",
       "Сільськогосподарська, фермерська продукція, продукція рибальства, лісівництва та супутня продукція                                             829\n",
       "Офісна та комп’ютерна техніка, устаткування та приладдя, крім меблів та пакетів програмного забезпечення                                       754\n",
       "Послуги у сфері інформаційних технологій: консультування, розробка програмного забезпечення, послуги мережі Інтернет і послуги з підтримки     683\n",
       "Послуги у сферах поводження зі стічними водами та сміттям, послуги у сферах санітарії та охорони довкілля                                      608\n",
       "Name: code_l1, dtype: int64"
      ]
     },
     "execution_count": 23,
     "metadata": {},
     "output_type": "execute_result"
    }
   ],
   "source": [
    "items_df['code_l1'].value_counts().head(10)"
   ]
  },
  {
   "cell_type": "markdown",
   "metadata": {},
   "source": [
    "## n bids to relative economy "
   ]
  },
  {
   "cell_type": "code",
   "execution_count": 4,
   "metadata": {},
   "outputs": [],
   "source": [
    "df = read_mongo(db, collection='tenders', query={'status':'complete', 'submissionMethod':'electronicAuction'}, fields=['status', 'awards', 'value', 'numberOfBids'])"
   ]
  },
  {
   "cell_type": "code",
   "execution_count": 5,
   "metadata": {},
   "outputs": [
    {
     "data": {
      "text/plain": [
       "(278072, 8)"
      ]
     },
     "execution_count": 5,
     "metadata": {},
     "output_type": "execute_result"
    }
   ],
   "source": [
    "df['award_amount'] = df.awards.apply(lambda awards: sum([award['value']['amount'] for award in awards]))\n",
    "df['value_amount'] = df.value.apply(lambda value: value['amount'])\n",
    "df['economy'] = 100*(df['value_amount'] - df['award_amount'])/df['value_amount']\n",
    "df['currency'] = df.value.apply(lambda value: value['currency'])\n",
    "df.shape"
   ]
  },
  {
   "cell_type": "code",
   "execution_count": 6,
   "metadata": {},
   "outputs": [
    {
     "data": {
      "text/html": [
       "<div>\n",
       "<style scoped>\n",
       "    .dataframe tbody tr th:only-of-type {\n",
       "        vertical-align: middle;\n",
       "    }\n",
       "\n",
       "    .dataframe tbody tr th {\n",
       "        vertical-align: top;\n",
       "    }\n",
       "\n",
       "    .dataframe thead th {\n",
       "        text-align: right;\n",
       "    }\n",
       "</style>\n",
       "<table border=\"1\" class=\"dataframe\">\n",
       "  <thead>\n",
       "    <tr style=\"text-align: right;\">\n",
       "      <th></th>\n",
       "      <th>id</th>\n",
       "      <th>numberOfBids</th>\n",
       "      <th>value_amount</th>\n",
       "      <th>award_amount</th>\n",
       "      <th>economy</th>\n",
       "    </tr>\n",
       "  </thead>\n",
       "  <tbody>\n",
       "    <tr>\n",
       "      <th>0</th>\n",
       "      <td>22cb88ebaac14ab2ac048cec40909ba6</td>\n",
       "      <td>4</td>\n",
       "      <td>1086180.00</td>\n",
       "      <td>591366.00</td>\n",
       "      <td>45.555433</td>\n",
       "    </tr>\n",
       "    <tr>\n",
       "      <th>1</th>\n",
       "      <td>d7ac4dfc5e394932b13f0ba7f50c7f47</td>\n",
       "      <td>2</td>\n",
       "      <td>4125000.00</td>\n",
       "      <td>4000000.00</td>\n",
       "      <td>3.030303</td>\n",
       "    </tr>\n",
       "    <tr>\n",
       "      <th>2</th>\n",
       "      <td>221a19eb687242e29ee270b156167e04</td>\n",
       "      <td>3</td>\n",
       "      <td>2368800.00</td>\n",
       "      <td>2723000.00</td>\n",
       "      <td>-14.952719</td>\n",
       "    </tr>\n",
       "    <tr>\n",
       "      <th>3</th>\n",
       "      <td>621e686f458648558b212c9d50d6b176</td>\n",
       "      <td>2</td>\n",
       "      <td>999600.00</td>\n",
       "      <td>976668.00</td>\n",
       "      <td>2.294118</td>\n",
       "    </tr>\n",
       "    <tr>\n",
       "      <th>4</th>\n",
       "      <td>f07499820f034dcd930138c290bcc54d</td>\n",
       "      <td>2</td>\n",
       "      <td>999600.00</td>\n",
       "      <td>934920.00</td>\n",
       "      <td>6.470588</td>\n",
       "    </tr>\n",
       "    <tr>\n",
       "      <th>5</th>\n",
       "      <td>a207915c730f4235b1995402c1cf39d0</td>\n",
       "      <td>3</td>\n",
       "      <td>892800.00</td>\n",
       "      <td>720000.00</td>\n",
       "      <td>19.354839</td>\n",
       "    </tr>\n",
       "    <tr>\n",
       "      <th>6</th>\n",
       "      <td>90d346e634154be78296a9856ac7f1a3</td>\n",
       "      <td>1</td>\n",
       "      <td>63700.00</td>\n",
       "      <td>44249.45</td>\n",
       "      <td>30.534615</td>\n",
       "    </tr>\n",
       "    <tr>\n",
       "      <th>7</th>\n",
       "      <td>5f66e464c0d94702be1219e1efd20f76</td>\n",
       "      <td>2</td>\n",
       "      <td>90000.00</td>\n",
       "      <td>83000.00</td>\n",
       "      <td>7.777778</td>\n",
       "    </tr>\n",
       "    <tr>\n",
       "      <th>8</th>\n",
       "      <td>a6e01d54b36a47cea22f52d5db0daa41</td>\n",
       "      <td>2</td>\n",
       "      <td>185450.00</td>\n",
       "      <td>343940.00</td>\n",
       "      <td>-85.462389</td>\n",
       "    </tr>\n",
       "    <tr>\n",
       "      <th>9</th>\n",
       "      <td>3efacc853bd64ddba49a6b94e84f442d</td>\n",
       "      <td>1</td>\n",
       "      <td>199998.76</td>\n",
       "      <td>199279.34</td>\n",
       "      <td>0.359712</td>\n",
       "    </tr>\n",
       "    <tr>\n",
       "      <th>10</th>\n",
       "      <td>cfd46b61e25b4032bef5fd63f4fed4aa</td>\n",
       "      <td>1</td>\n",
       "      <td>122739.00</td>\n",
       "      <td>122233.29</td>\n",
       "      <td>0.412021</td>\n",
       "    </tr>\n",
       "    <tr>\n",
       "      <th>11</th>\n",
       "      <td>4ac81dc5ce76440fa270eb3b84bf5a79</td>\n",
       "      <td>1</td>\n",
       "      <td>6500.00</td>\n",
       "      <td>3540.00</td>\n",
       "      <td>45.538462</td>\n",
       "    </tr>\n",
       "    <tr>\n",
       "      <th>12</th>\n",
       "      <td>7780d05e1e934db091633b72b637c6d7</td>\n",
       "      <td>2</td>\n",
       "      <td>18000.00</td>\n",
       "      <td>13555.90</td>\n",
       "      <td>24.689444</td>\n",
       "    </tr>\n",
       "    <tr>\n",
       "      <th>13</th>\n",
       "      <td>f9833507285342e5870a446059fd3919</td>\n",
       "      <td>6</td>\n",
       "      <td>89705.00</td>\n",
       "      <td>158980.00</td>\n",
       "      <td>-77.225350</td>\n",
       "    </tr>\n",
       "    <tr>\n",
       "      <th>14</th>\n",
       "      <td>9370cce71ea6482a8526549bd2e90c66</td>\n",
       "      <td>3</td>\n",
       "      <td>40000.00</td>\n",
       "      <td>28811.00</td>\n",
       "      <td>27.972500</td>\n",
       "    </tr>\n",
       "    <tr>\n",
       "      <th>15</th>\n",
       "      <td>8477fe7057a94f7a9706b8f4443ac463</td>\n",
       "      <td>1</td>\n",
       "      <td>21730.00</td>\n",
       "      <td>19440.00</td>\n",
       "      <td>10.538426</td>\n",
       "    </tr>\n",
       "    <tr>\n",
       "      <th>16</th>\n",
       "      <td>bc3de46974c74e5d8da11a524ed31ea4</td>\n",
       "      <td>1</td>\n",
       "      <td>75000.00</td>\n",
       "      <td>52650.00</td>\n",
       "      <td>29.800000</td>\n",
       "    </tr>\n",
       "    <tr>\n",
       "      <th>17</th>\n",
       "      <td>891227beaa87490aa0677df108df1116</td>\n",
       "      <td>2</td>\n",
       "      <td>284355.23</td>\n",
       "      <td>250465.86</td>\n",
       "      <td>11.917970</td>\n",
       "    </tr>\n",
       "    <tr>\n",
       "      <th>18</th>\n",
       "      <td>60c69569ac494ff6b283d57e234402ff</td>\n",
       "      <td>2</td>\n",
       "      <td>1651814.00</td>\n",
       "      <td>1298982.00</td>\n",
       "      <td>21.360274</td>\n",
       "    </tr>\n",
       "    <tr>\n",
       "      <th>19</th>\n",
       "      <td>171b8be976da4c8b86b028891f91c2ed</td>\n",
       "      <td>2</td>\n",
       "      <td>124800.00</td>\n",
       "      <td>103262.98</td>\n",
       "      <td>17.257228</td>\n",
       "    </tr>\n",
       "  </tbody>\n",
       "</table>\n",
       "</div>"
      ],
      "text/plain": [
       "                                  id  numberOfBids  value_amount  \\\n",
       "0   22cb88ebaac14ab2ac048cec40909ba6             4    1086180.00   \n",
       "1   d7ac4dfc5e394932b13f0ba7f50c7f47             2    4125000.00   \n",
       "2   221a19eb687242e29ee270b156167e04             3    2368800.00   \n",
       "3   621e686f458648558b212c9d50d6b176             2     999600.00   \n",
       "4   f07499820f034dcd930138c290bcc54d             2     999600.00   \n",
       "5   a207915c730f4235b1995402c1cf39d0             3     892800.00   \n",
       "6   90d346e634154be78296a9856ac7f1a3             1      63700.00   \n",
       "7   5f66e464c0d94702be1219e1efd20f76             2      90000.00   \n",
       "8   a6e01d54b36a47cea22f52d5db0daa41             2     185450.00   \n",
       "9   3efacc853bd64ddba49a6b94e84f442d             1     199998.76   \n",
       "10  cfd46b61e25b4032bef5fd63f4fed4aa             1     122739.00   \n",
       "11  4ac81dc5ce76440fa270eb3b84bf5a79             1       6500.00   \n",
       "12  7780d05e1e934db091633b72b637c6d7             2      18000.00   \n",
       "13  f9833507285342e5870a446059fd3919             6      89705.00   \n",
       "14  9370cce71ea6482a8526549bd2e90c66             3      40000.00   \n",
       "15  8477fe7057a94f7a9706b8f4443ac463             1      21730.00   \n",
       "16  bc3de46974c74e5d8da11a524ed31ea4             1      75000.00   \n",
       "17  891227beaa87490aa0677df108df1116             2     284355.23   \n",
       "18  60c69569ac494ff6b283d57e234402ff             2    1651814.00   \n",
       "19  171b8be976da4c8b86b028891f91c2ed             2     124800.00   \n",
       "\n",
       "    award_amount    economy  \n",
       "0      591366.00  45.555433  \n",
       "1     4000000.00   3.030303  \n",
       "2     2723000.00 -14.952719  \n",
       "3      976668.00   2.294118  \n",
       "4      934920.00   6.470588  \n",
       "5      720000.00  19.354839  \n",
       "6       44249.45  30.534615  \n",
       "7       83000.00   7.777778  \n",
       "8      343940.00 -85.462389  \n",
       "9      199279.34   0.359712  \n",
       "10     122233.29   0.412021  \n",
       "11       3540.00  45.538462  \n",
       "12      13555.90  24.689444  \n",
       "13     158980.00 -77.225350  \n",
       "14      28811.00  27.972500  \n",
       "15      19440.00  10.538426  \n",
       "16      52650.00  29.800000  \n",
       "17     250465.86  11.917970  \n",
       "18    1298982.00  21.360274  \n",
       "19     103262.98  17.257228  "
      ]
     },
     "execution_count": 6,
     "metadata": {},
     "output_type": "execute_result"
    }
   ],
   "source": [
    "df[['id','numberOfBids','value_amount','award_amount','economy']].head(20)"
   ]
  },
  {
   "cell_type": "code",
   "execution_count": 15,
   "metadata": {},
   "outputs": [
    {
     "data": {
      "text/plain": [
       "234741"
      ]
     },
     "execution_count": 15,
     "metadata": {},
     "output_type": "execute_result"
    }
   ],
   "source": [
    "# how is it possible to make bid > than value\n",
    "sum(df['economy']>=0)"
   ]
  },
  {
   "cell_type": "code",
   "execution_count": 30,
   "metadata": {},
   "outputs": [],
   "source": [
    "# for plot\n",
    "df_cleaned = df[df['economy']>=0]\n",
    "df_cleaned = df_cleaned[df_cleaned.currency==\"UAH\"]"
   ]
  },
  {
   "cell_type": "code",
   "execution_count": 31,
   "metadata": {},
   "outputs": [
    {
     "name": "stdout",
     "output_type": "stream",
     "text": [
      "0.3891689922034581\n",
      "0.45866875769753634\n"
     ]
    }
   ],
   "source": [
    "print(len(df[df['numberOfBids']==1])/len(df))\n",
    "print(len(df_cleaned[df_cleaned['numberOfBids']==1])/len(df_cleaned))"
   ]
  },
  {
   "cell_type": "code",
   "execution_count": 32,
   "metadata": {},
   "outputs": [],
   "source": [
    "df_cleaned['economy_value'] = df_cleaned['value_amount'] - df_cleaned['award_amount']\n",
    "df_cleaned['economy_theoretical_value'] = df_cleaned['value_amount']*0.35"
   ]
  },
  {
   "cell_type": "code",
   "execution_count": 33,
   "metadata": {},
   "outputs": [
    {
     "data": {
      "text/plain": [
       "137771780103.40866"
      ]
     },
     "execution_count": 33,
     "metadata": {},
     "output_type": "execute_result"
    }
   ],
   "source": [
    "sum(df_cleaned['economy_theoretical_value']-df_cleaned['economy_value'])"
   ]
  },
  {
   "cell_type": "code",
   "execution_count": null,
   "metadata": {},
   "outputs": [],
   "source": [
    "137 771 780 103"
   ]
  },
  {
   "cell_type": "code",
   "execution_count": 65,
   "metadata": {},
   "outputs": [
    {
     "data": {
      "text/html": [
       "<div>\n",
       "<style scoped>\n",
       "    .dataframe tbody tr th:only-of-type {\n",
       "        vertical-align: middle;\n",
       "    }\n",
       "\n",
       "    .dataframe tbody tr th {\n",
       "        vertical-align: top;\n",
       "    }\n",
       "\n",
       "    .dataframe thead th {\n",
       "        text-align: right;\n",
       "    }\n",
       "</style>\n",
       "<table border=\"1\" class=\"dataframe\">\n",
       "  <thead>\n",
       "    <tr style=\"text-align: right;\">\n",
       "      <th></th>\n",
       "      <th>numberOfBids</th>\n",
       "      <th>economy</th>\n",
       "      <th>id</th>\n",
       "    </tr>\n",
       "  </thead>\n",
       "  <tbody>\n",
       "    <tr>\n",
       "      <th>0</th>\n",
       "      <td>1</td>\n",
       "      <td>4.800473</td>\n",
       "      <td>107679</td>\n",
       "    </tr>\n",
       "    <tr>\n",
       "      <th>1</th>\n",
       "      <td>2</td>\n",
       "      <td>10.860571</td>\n",
       "      <td>81188</td>\n",
       "    </tr>\n",
       "    <tr>\n",
       "      <th>2</th>\n",
       "      <td>3</td>\n",
       "      <td>23.626125</td>\n",
       "      <td>24162</td>\n",
       "    </tr>\n",
       "    <tr>\n",
       "      <th>3</th>\n",
       "      <td>4</td>\n",
       "      <td>28.324201</td>\n",
       "      <td>10795</td>\n",
       "    </tr>\n",
       "    <tr>\n",
       "      <th>4</th>\n",
       "      <td>5</td>\n",
       "      <td>32.766239</td>\n",
       "      <td>4991</td>\n",
       "    </tr>\n",
       "    <tr>\n",
       "      <th>5</th>\n",
       "      <td>6</td>\n",
       "      <td>34.591814</td>\n",
       "      <td>2556</td>\n",
       "    </tr>\n",
       "    <tr>\n",
       "      <th>6</th>\n",
       "      <td>7</td>\n",
       "      <td>37.504290</td>\n",
       "      <td>1382</td>\n",
       "    </tr>\n",
       "    <tr>\n",
       "      <th>7</th>\n",
       "      <td>8</td>\n",
       "      <td>35.692054</td>\n",
       "      <td>816</td>\n",
       "    </tr>\n",
       "    <tr>\n",
       "      <th>8</th>\n",
       "      <td>9</td>\n",
       "      <td>38.987253</td>\n",
       "      <td>432</td>\n",
       "    </tr>\n",
       "    <tr>\n",
       "      <th>9</th>\n",
       "      <td>10</td>\n",
       "      <td>41.161189</td>\n",
       "      <td>271</td>\n",
       "    </tr>\n",
       "  </tbody>\n",
       "</table>\n",
       "</div>"
      ],
      "text/plain": [
       "   numberOfBids    economy      id\n",
       "0             1   4.800473  107679\n",
       "1             2  10.860571   81188\n",
       "2             3  23.626125   24162\n",
       "3             4  28.324201   10795\n",
       "4             5  32.766239    4991\n",
       "5             6  34.591814    2556\n",
       "6             7  37.504290    1382\n",
       "7             8  35.692054     816\n",
       "8             9  38.987253     432\n",
       "9            10  41.161189     271"
      ]
     },
     "execution_count": 65,
     "metadata": {},
     "output_type": "execute_result"
    }
   ],
   "source": [
    "df_grouped = df_cleaned.groupby(by='numberOfBids').agg({'economy':'mean', 'id':'count'}).reset_index()\n",
    "df_grouped.head(10)"
   ]
  },
  {
   "cell_type": "code",
   "execution_count": 68,
   "metadata": {},
   "outputs": [],
   "source": [
    "# outliers\n",
    "df_grouped = df_grouped[df_grouped.id>10]"
   ]
  },
  {
   "cell_type": "code",
   "execution_count": 84,
   "metadata": {},
   "outputs": [],
   "source": [
    "df_grouped['count_log'] = np.log2(df_grouped.id).astype(int)*15"
   ]
  },
  {
   "cell_type": "code",
   "execution_count": 111,
   "metadata": {},
   "outputs": [
    {
     "data": {
      "image/png": "[encoded data removed]",
      "text/plain": [
       "<Figure size 720x432 with 1 Axes>"
      ]
     },
     "metadata": {},
     "output_type": "display_data"
    }
   ],
   "source": [
    "fig, ax = plt.subplots(figsize=(10,6))\n",
    "ax.axhline(34, ls='--', color='red')\n",
    "ax = sns.scatterplot(ax=ax, data=df_grouped, x=\"numberOfBids\", palette=\"deep\", y=\"economy\", size='count_log', legend=False)\n",
    "ax.set_xlabel('# of bids per tender')\n",
    "ax.set_ylabel('Relative economy, %')\n",
    "ax.set_xticks(df_grouped.numberOfBids.to_list());\n",
    "\n",
    "# Relation between the received offers of bidders and the underbid Ukraine"
   ]
  },
  {
   "cell_type": "code",
   "execution_count": 109,
   "metadata": {},
   "outputs": [
    {
     "data": {
      "text/plain": [
       "34.75799198929757"
      ]
     },
     "execution_count": 109,
     "metadata": {},
     "output_type": "execute_result"
    }
   ],
   "source": [
    "df_grouped.economy.mean()"
   ]
  },
  {
   "cell_type": "markdown",
   "metadata": {},
   "source": [
    "## geocoding"
   ]
  },
  {
   "cell_type": "code",
   "execution_count": 35,
   "metadata": {},
   "outputs": [],
   "source": [
    "df = read_mongo(db, collection='tenders', query={'status':'complete'}, fields=['status', 'procuringEntity', 'bids'], limit=50000)"
   ]
  },
  {
   "cell_type": "code",
   "execution_count": 2,
   "metadata": {},
   "outputs": [],
   "source": [
    "# geocode buyer\n",
    "\n",
    "from utils.geolocation import CachedGeolocator, location_fixer # Проблема 6 Некоректні регіони + місто\n",
    "geolocator = CachedGeolocator(cache_dir='./data/geo_cache', verbose=False)"
   ]
  },
  {
   "cell_type": "code",
   "execution_count": 37,
   "metadata": {},
   "outputs": [
    {
     "name": "stdout",
     "output_type": "stream",
     "text": [
      "!!!Not found маріуполь старий крим донецька область україна\n",
      "!!!Not found маріуполь старий крим донецька область україна\n",
      "!!!Not found малижено харківська область україна\n",
      "!!!Not found селеще божківське полтавська область україна\n",
      "!!!Not found чернівц чернівецька область україна\n",
      "!!!Not found сіло мигія миколаївська область україна\n",
      "!!!Not found мімто борислав львівська область україна\n",
      "!!!Not found кам'янець-подільский хмельницька область україна\n",
      "!!!Not found херсон антонівка херсонська область україна\n",
      "!!!Not found камьянське дніпропетровська область україна\n",
      "!!!Not found сhernigiv чернігівська область україна\n",
      "!!!Not found чернівц чернівецька область україна\n",
      "!!!Not found херсон антонівка херсонська область україна\n",
      "!!!Not found чернівц чернівецька область україна\n",
      "!!!Not found черноморськ одеська область україна\n",
      "!!!Not found місьго типу дубляни львівська область україна\n",
      "!!!Not found новаушиця хмельницька область україна\n",
      "!!!Not found камянка черкаська область україна\n",
      "!!!Not found с-ще інженерне (жовтневе) херсонська область україна\n",
      "!!!Not found сільрада новоолександрівська дніпропетровська область україна\n",
      "!!!Not found черноморськ одеська область україна\n",
      "!!!Not found бовари київська область україна\n",
      "!!!Not found бовари київська область україна\n",
      "!!!Not found бовари київська область україна\n",
      "!!!Not found бовари київська область україна\n",
      "!!!Not found бовари київська область україна\n",
      "!!!Not found довжоцька/с довжок вінницька область україна\n",
      "!!!Not found мімто борислав львівська область україна\n",
      "!!!Not found камянка черкаська область україна\n",
      "!!!Not found черкаська обл білозір’я черкаська область україна\n",
      "!!!Not found кам’янське карнаухівка дніпропетровська область україна\n",
      "!!!Not found слов'янск донецька область україна\n",
      "!!!Not found кам’янське карнаухівка дніпропетровська область україна\n",
      "!!!Not found кам’янське карнаухівка дніпропетровська область україна\n",
      "!!!Not found кам’янське карнаухівка дніпропетровська область україна\n",
      "!!!Not found кам’янське карнаухівка дніпропетровська область україна\n",
      "!!!Not found кам’янське карнаухівка дніпропетровська область україна\n",
      "!!!Not found кам’янське карнаухівка дніпропетровська область україна\n",
      "!!!Not found дніпропетровська обл тернівка дніпропетровська область україна\n",
      "!!!Not found камянка черкаська область україна\n",
      "!!!Not found рівненська/с рівне волинська область україна\n",
      "!!!Not found бовари київська область україна\n",
      "!!!Not found львів-рудно львівська область україна\n",
      "!!!Not found бовари київська область україна\n",
      "!!!Not found бовари київська область україна\n",
      "!!!Not found камянка черкаська область україна\n",
      "!!!Not found cуми сумська область україна\n",
      "!!!Not found бовари київська область україна\n",
      "!!!Not found бовари київська область україна\n",
      "!!!Not found бовари київська область україна\n",
      "!!!Not found бовари київська область україна\n",
      "!!!Not found бовари київська область україна\n",
      "!!!Not found бовари київська область україна\n",
      "!!!Not found бовари київська область україна\n",
      "!!!Not found кам’янське карнаухівка дніпропетровська область україна\n",
      "!!!Not found кам’янське карнаухівка дніпропетровська область україна\n",
      "!!!Not found кам’янське карнаухівка дніпропетровська область україна\n",
      "!!!Not found чернівц чернівецька область україна\n",
      "!!!Not found рівненська/с рівне волинська область україна\n",
      "!!!Not found кам’янське карнаухівка дніпропетровська область україна\n",
      "!!!Not found кам’янське карнаухівка дніпропетровська область україна\n",
      "!!!Not found лисичанськ новодружеськ луганська область україна\n",
      "!!!Not found крижанівкан одеська область україна\n",
      "!!!Not found мішково-погорілово миколаївська область україна\n",
      "!!!Not found зазим'є київська область україна\n",
      "!!!Not found білгород-дністрвський одеська область україна\n",
      "!!!Not found кам’яні потоки кременчук полтавська область україна\n",
      "!!!Not found хижанська/с хижа закарпатська область україна\n",
      "!!!Not found доброппілля донецька область україна\n",
      "!!!Not found селища міського типу підпорядковані дніпровській райраді херсона херсонська область україна\n",
      "!!!Not found мирноград (димитрів) донецька область україна\n",
      "!!!Not found с-ще ланна полтавська область україна\n",
      "!!!Not found камянка черкаська область україна\n",
      "!!!Not found селидове гірник донецька область україна\n",
      "!!!Not found шев’якіно дніпропетровська область україна\n",
      "!!!Not found с-ще опитне донецька область україна\n",
      "!!!Not found херсон приозерне херсонська область україна\n",
      "!!!Not found торецьк новгородське (пн) донецька область україна\n",
      "!!!Not found селища міського типу підпорядковані дніпровській райраді херсона херсонська область україна\n",
      "!!!Not found чернівц чернівецька область україна\n",
      "!!!Not found старокостянтитнів хмельницька область україна\n",
      "!!!Not found торецьк новгородське (пн) донецька область україна\n",
      "!!!Not found зазим'є київська область україна\n",
      "!!!Not found херсон антонівка херсонська область україна\n",
      "!!!Not found торецьк новгородське (пн) донецька область україна\n",
      "!!!Not found міста обласного підпорядкування луганської області луганська область україна\n",
      "!!!Not found торецьк новгородське (пн) донецька область україна\n",
      "!!!Not found шпанівська сільська рада рівненська область україна\n",
      "!!!Not found сільрада бузька миколаївська область україна\n",
      "!!!Not found сільрада бузька миколаївська область україна\n",
      "!!!Not found сhernigiv чернігівська область україна\n",
      "!!!Not found кам’яні потоки кременчук полтавська область україна\n",
      "!!!Not found сільрада бузька миколаївська область україна\n",
      "!!!Not found селища міського типу підпорядковані дніпровській райраді херсона херсонська область україна\n",
      "!!!Not found краматорськ малотаранівка донецька область україна\n",
      "!!!Not found міста обласного підпорядкування луганської області луганська область україна\n",
      "!!!Not found торецьк новгородське (пн) донецька область україна\n",
      "!!!Not found камянка черкаська область україна\n",
      "!!!Not found черноморськ одеська область україна\n",
      "!!!Not found cолоне дніпропетровська область україна\n",
      "!!!Not found олександрівка (олександрівська с/р) одеська область україна\n",
      "!!!Not found cуми сумська область україна\n",
      "!!!Not found cуми сумська область україна\n",
      "!!!Not found чернівц чернівецька область україна\n",
      "!!!Not found камянка черкаська область україна\n",
      "!!!Not found білгород-дністрвський одеська область україна\n",
      "!!!Not found львів-рудно львівська область україна\n",
      "!!!Not found шпанівська сільська рада рівненська область україна\n",
      "!!!Not found старокостянтитнів хмельницька область україна\n",
      "!!!Not found рівненська обл острог рівненська область україна\n",
      "!!!Not found с-ще ланна полтавська область україна\n",
      "!!!Not found селише міського типу вигода івано-франківська область україна\n",
      "!!!Not found старокостянтитнів хмельницька область україна\n",
      "!!!Not found львів-рудно львівська область україна\n",
      "!!!Not found cело воздвижівка запорізька область україна\n",
      "!!!Not found херсон антонівка херсонська область україна\n",
      "!!!Not found львівська обл погірці львівська область україна\n",
      "!!!Not found велика білозерка (частина села) запорізька область україна\n",
      "!!!Not found с-ще інженерне (жовтневе) херсонська область україна\n",
      "!!!Not found с-ще девладове дніпропетровська область україна\n",
      "!!!Not found сел васильківка дніпропетровська область україна\n",
      "!!!Not found сільрада новоолександрівська дніпропетровська область україна\n",
      "!!!Not found дніпропетровська обл тернівка дніпропетровська область україна\n",
      "!!!Not found с-ще інженерне (жовтневе) херсонська область україна\n",
      "!!!Not found краматорськ малотаранівка донецька область україна\n",
      "!!!Not found кропивницька область/м кропивницький кіровоградська область україна\n",
      "!!!Not found сhernigiv чернігівська область україна\n",
      "!!!Not found cарни рівненська область україна\n",
      "!!!Not found с-ще інженерне (жовтневе) херсонська область україна\n",
      "!!!Not found мішково-погорілово миколаївська область україна\n",
      "!!!Not found дніпропетровська обл тернівка дніпропетровська область україна\n",
      "!!!Not found червоногра львівська область україна\n",
      "!!!Not found червоногра львівська область україна\n",
      "!!!Not found червоногра львівська область україна\n",
      "!!!Not found полтавська обл лубни полтавська область україна\n",
      "!!!Not found полтавська обл лубни полтавська область україна\n",
      "!!!Not found полтавська обл лубни полтавська область україна\n",
      "!!!Not found мелітопольський район/м мелітополь запорізька область україна\n",
      "!!!Not found сел васильківка дніпропетровська область україна\n",
      "!!!Not found смткороп чернігівська область україна\n",
      "!!!Not found черноморськ одеська область україна\n",
      "!!!Not found дніпропетровська обл тернівка дніпропетровська область україна\n",
      "!!!Not found полтавської області микільське полтавська область україна\n",
      "!!!Not found містот глухів сумська область україна\n",
      "!!!Not found містот глухів сумська область україна\n",
      "!!!Not found смт запорізька область україна\n",
      "!!!Not found дніпродзержинськ карнаухівка дніпропетровська область україна\n",
      "!!!Not found полтавська обл лубни полтавська область україна\n",
      "!!!Not found селища міського типу підпорядковані дніпровській райраді херсона херсонська область україна\n",
      "!!!Not found полтавська обл лубни полтавська область україна\n",
      "!!!Not found с-ще девладове дніпропетровська область україна\n",
      "!!!Not found с-ще девладове дніпропетровська область україна\n",
      "!!!Not found с-ще новодмитрівка донецька область україна\n",
      "!!!Not found слов'янск донецька область україна\n",
      "!!!Not found містот глухів сумська область україна\n",
      "!!!Not found судилківська сільська рада хмельницька область україна\n",
      "!!!Not found крижанівкан одеська область україна\n",
      "!!!Not found камянка бузька львівська область україна\n",
      "!!!Not found мирноград (димитрів) донецька область україна\n",
      "!!!Not found судилківська сільська рада хмельницька область україна\n",
      "!!!Not found судилківська сільська рада хмельницька область україна\n",
      "!!!Not found с-ще інженерне (жовтневе) херсонська область україна\n",
      "!!!Not found черноморськ одеська область україна\n",
      "!!!Not found черноморськ одеська область україна\n",
      "!!!Not found судилківська сільська рада хмельницька область україна\n",
      "!!!Not found старобільський район/м старобільськ луганська область україна\n",
      "!!!Not found білгород-дністрвський одеська область україна\n",
      "!!!Not found зазим'є київська область україна\n",
      "!!!Not found дніпродзержинськ карнаухівка дніпропетровська область україна\n",
      "!!!Not found селише міського типу вигода івано-франківська область україна\n",
      "!!!Not found селише міського типу вигода івано-франківська область україна\n",
      "!!!Not found селише міського типу вигода івано-франківська область україна\n",
      "!!!Not found селише міського типу вигода івано-франківська область україна\n",
      "!!!Not found селише міського типу вигода івано-франківська область україна\n",
      "!!!Not found селише міського типу вигода івано-франківська область україна\n",
      "!!!Not found селише міського типу вигода івано-франківська область україна\n",
      "!!!Not found с-ще ланна полтавська область україна\n",
      "!!!Not found містот глухів сумська область україна\n",
      "!!!Not found лисичанськ новодружеськ луганська область україна\n",
      "!!!Not found судилківська сільська рада хмельницька область україна\n",
      "!!!Not found доброппілля донецька область україна\n",
      "!!!Not found черноморськ одеська область україна\n",
      "!!!Not found маріуполь старий крим донецька область україна\n",
      "!!!Not found с-ще верховина івано-франківська область україна\n",
      "!!!Not found ужгор закарпатська область україна\n",
      "!!!Not found доброппілля донецька область україна\n",
      "!!!Not found доброппілля донецька область україна\n",
      "!!!Not found смт запорізька область україна\n",
      "!!!Not found черкаська обл білозір’я черкаська область україна\n",
      "!!!Not found сел дружелюбівка запорізька область україна\n",
      "!!!Not found cмт нова ушиця хмельницька область україна\n",
      "!!!Not found полтавської області микільське полтавська область україна\n",
      "!!!Not found смт запорізька область україна\n",
      "!!!Not found плоска чернігівська область україна\n",
      "!!!Not found полтавської області микільське полтавська область україна\n",
      "!!!Not found любомльський район/м любомль волинська область україна\n",
      "!!!Not found с-ще верховина івано-франківська область україна\n",
      "!!!Not found с-ще приозерне херсонська область україна\n",
      "!!!Not found с-ще зелений під херсонська область україна\n",
      "!!!Not found кам’яні потоки кременчук полтавська область україна\n",
      "!!!Not found івано-франківськ угорники івано-франківська область україна\n",
      "!!!Not found рожищенський район/м рожище волинська область україна\n",
      "!!!Not found велика білозерка (частина села) запорізька область україна\n",
      "!!!Not found cміла черкаська область україна\n",
      "!!!Not found рівненська обл острог рівненська область україна\n",
      "!!!Not found cміла черкаська область україна\n",
      "!!!Not found сел мирове дніпропетровська область україна\n",
      "!!!Not found судилківська сільська рада хмельницька область україна\n",
      "!!!Not found доброппілля донецька область україна\n",
      "!!!Not found сільрада новоолександрівська дніпропетровська область україна\n",
      "!!!Not found судилківська сільська рада хмельницька область україна\n",
      "!!!Not found селише міського типу вигода івано-франківська область україна\n",
      "!!!Not found новотроїцьк херсонська область україна\n",
      "!!!Not found селише міського типу вигода івано-франківська область україна\n",
      "!!!Not found новотроїцьк херсонська область україна\n",
      "!!!Not found любомльський район/м любомль волинська область україна\n",
      "!!!Not found горішні плавні дмитрівка полтавська область україна\n",
      "!!!Not found кам’янське карнаухівка дніпропетровська область україна\n",
      "!!!Not found смткороп чернігівська область україна\n",
      "!!!Not found кототоп сумська область україна\n",
      "!!!Not found с-ще степне полтавська область україна\n",
      "!!!Not found черноморськ одеська область україна\n",
      "!!!Not found малинський район/м малин житомирська область україна\n",
      "!!!Not found город орджоникидзе дніпропетровська область україна\n",
      "!!!Not found камянка черкаська область україна\n",
      "!!!Not found кам'янець-подільский хмельницька область україна\n",
      "!!!Not found івано-франківськ угорники івано-франківська область україна\n",
      "!!!Not found с-ще верховина івано-франківська область україна\n",
      "!!!Not found івано-франківськ угорники івано-франківська область україна\n",
      "!!!Not found містот глухів сумська область україна\n",
      "!!!Not found івано-франківськ угорники івано-франківська область україна\n",
      "!!!Not found cуми сумська область україна\n",
      "!!!Not found cуми сумська область україна\n",
      "!!!Not found шпанівська сільська рада рівненська область україна\n",
      "!!!Not found с-ще новодмитрівка донецька область україна\n",
      "!!!Not found камянське закарпатська область україна\n",
      "!!!Not found cміла черкаська область україна\n",
      "!!!Not found велика білозерка (частина села) запорізька область україна\n",
      "!!!Not found cміла черкаська область україна\n",
      "!!!Not found cміла черкаська область україна\n",
      "!!!Not found рівненська/с рівне волинська область україна\n",
      "!!!Not found cміла черкаська область україна\n",
      "!!!Not found клавдієве тарасове київська область україна\n",
      "!!!Not found с-ще девладове дніпропетровська область україна\n",
      "!!!Not found рожищенський район/м рожище волинська область україна\n",
      "!!!Not found кам'янець-подільский хмельницька область україна\n",
      "!!!Not found горішні плавні дмитрівка полтавська область україна\n",
      "!!!Not found полтавська обл лубни полтавська область україна\n",
      "!!!Not found ужгор закарпатська область україна\n",
      "!!!Not found чернівц чернівецька область україна\n",
      "!!!Not found горішні плавні дмитрівка полтавська область україна\n"
     ]
    }
   ],
   "source": [
    "not_located = []\n",
    "located = []\n",
    "\n",
    "def address_to_location(address):\n",
    "    address_info = [\n",
    "        location_fixer(address['locality']) if 'locality' in address else '', \n",
    "        address.get('region', '').lower().strip(), \n",
    "        address.get('countryName', '').lower().strip()\n",
    "    ]\n",
    "\n",
    "    query = ' '.join(address_info)\n",
    "\n",
    "    # kyiv fix \n",
    "    query = query.replace('м. ', '')\n",
    "    query = query.replace('місто ', '')\n",
    "    \n",
    "    point = geolocator(query)\n",
    "    # for statictics\n",
    "    if point is None:\n",
    "        not_located.append(query)\n",
    "    return point\n",
    "\n",
    "\n",
    "# df['location'] = df.procuringEntity.apply(lambda pe: address_to_location(pe['address']))\n",
    "\n",
    "for row in df.itertuples():\n",
    "\n",
    "    address = row.procuringEntity['address']\n",
    "\n",
    "    located.append(address_to_location(address))\n",
    "    "
   ]
  },
  {
   "cell_type": "code",
   "execution_count": 30,
   "metadata": {},
   "outputs": [
    {
     "name": "stdout",
     "output_type": "stream",
     "text": [
      "Errors 110\n",
      "located 20000\n"
     ]
    }
   ],
   "source": [
    "print(f'Errors {len([lctd for lctd in located if lctd is None])}')\n",
    "print(f'located {len(located)}')\n",
    "geolocator.close()"
   ]
  },
  {
   "cell_type": "code",
   "execution_count": 39,
   "metadata": {},
   "outputs": [
    {
     "name": "stdout",
     "output_type": "stream",
     "text": [
      "Not found in 0.5 %\n"
     ]
    }
   ],
   "source": [
    "print(f'Not found in {100*250/50000} %')"
   ]
  }
 ],
 "metadata": {
  "interpreter": {
   "hash": "8b793f5bcb65162c203a8f7ab5f10da95fa3f746ebbc21691ed336cc34611f1b"
  },
  "kernelspec": {
   "display_name": "Python 3.8.8 64-bit ('env': conda)",
   "name": "python3"
  },
  "language_info": {
   "codemirror_mode": {
    "name": "ipython",
    "version": 3
   },
   "file_extension": ".py",
   "mimetype": "text/x-python",
   "name": "python",
   "nbconvert_exporter": "python",
   "pygments_lexer": "ipython3",
   "version": "3.8.8"
  },
  "orig_nbformat": 4
 },
 "nbformat": 4,
 "nbformat_minor": 2
}
